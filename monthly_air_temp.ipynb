{
 "cells": [
  {
   "cell_type": "markdown",
   "metadata": {},
   "source": [
    "## Extracting Monthly Temperature Data from Array\n",
    "\n",
    "### Author: Ryan Gan\n",
    "### Date: 2018-05-28\n",
    "\n",
    "Extracting gridded temperature values to North American region. First attempt with Python."
   ]
  },
  {
   "cell_type": "code",
   "execution_count": 52,
   "metadata": {},
   "outputs": [],
   "source": [
    "# import dataset from netCDF as nc_open; array storage system\n",
    "import netCDF4 as nc\n",
    "from netCDF4 import Dataset as nc_open\n",
    "# import numpy as np; for working with array data\n",
    "import numpy as np\n",
    "# import pandas as pd; working with data.frames\n",
    "import pandas as pd\n",
    "# Matplotlib for additional customization\n",
    "from matplotlib import pyplot as plt \n",
    "%matplotlib inline\n",
    "#import mpl_toolkits # i'd like basemap but doesn't seem to be available for py3\n",
    "# Seaborn for plotting and styling\n",
    "import seaborn as sns"
   ]
  },
  {
   "cell_type": "markdown",
   "metadata": {},
   "source": [
    "Open connection to monthly temperature netCDF file."
   ]
  },
  {
   "cell_type": "code",
   "execution_count": 5,
   "metadata": {},
   "outputs": [],
   "source": [
    "temp_nc = nc_open(\"./data/air.mon.mean.nc\")"
   ]
  },
  {
   "cell_type": "markdown",
   "metadata": {},
   "source": [
    "Print out summary of temperature NetCDF file. It looks like x/lon = 144, y/lat = 73, and 843 months."
   ]
  },
  {
   "cell_type": "code",
   "execution_count": 6,
   "metadata": {},
   "outputs": [
    {
     "name": "stdout",
     "output_type": "stream",
     "text": [
      "<class 'netCDF4._netCDF4.Dataset'>\n",
      "root group (NETCDF4_CLASSIC data model, file format HDF5):\n",
      "    description: Data from NCEP initialized reanalysis (4x/day).  These are the 0.9950 sigma level values\n",
      "    platform: Model\n",
      "    Conventions: COARDS\n",
      "    NCO: 20121012\n",
      "    history: Thu May  4 20:11:16 2000: ncrcat -d time,0,623 /Datasets/ncep.reanalysis.derived/surface/air.mon.mean.nc air.mon.mean.nc\n",
      "Thu May  4 18:11:50 2000: ncrcat -d time,0,622 /Datasets/ncep.reanalysis.derived/surface/air.mon.mean.nc ./surface/air.mon.mean.nc\n",
      "Mon Jul  5 23:47:18 1999: ncrcat ./air.mon.mean.nc /Datasets/ncep.reanalysis.derived/surface/air.mon.mean.nc /dm/dmwork/nmc.rean.ingest/combinedMMs/surface/air.mon.mean.nc\n",
      "/home/hoop/crdc/cpreanjuke2farm/cpreanjuke2farm Mon Oct 23 21:04:20 1995 from air.sfc.gauss.85.nc\n",
      "created 95/03/13 by Hoop (netCDF2.3)\n",
      "Converted to chunked, deflated non-packed NetCDF4 2014/09\n",
      "    title: monthly mean air.sig995 from the NCEP Reanalysis\n",
      "    References: http://www.esrl.noaa.gov/psd/data/gridded/data.ncep.reanalysis.derived.html\n",
      "    dataset_title: NCEP-NCAR Reanalysis 1\n",
      "    dimensions(sizes): lat(73), lon(144), time(843)\n",
      "    variables(dimensions): float32 \u001b[4mlat\u001b[0m(lat), float32 \u001b[4mlon\u001b[0m(lon), float64 \u001b[4mtime\u001b[0m(time), float32 \u001b[4mair\u001b[0m(time,lat,lon)\n",
      "    groups: \n",
      "\n",
      "<class 'netCDF4._netCDF4.Variable'>\n",
      "float32 lat(lat)\n",
      "    units: degrees_north\n",
      "    actual_range: [ 90. -90.]\n",
      "    long_name: Latitude\n",
      "    standard_name: latitude\n",
      "    axis: Y\n",
      "unlimited dimensions: \n",
      "current shape = (73,)\n",
      "filling on, default _FillValue of 9.969209968386869e+36 used\n",
      "\n",
      "<class 'netCDF4._netCDF4.Variable'>\n",
      "float32 lon(lon)\n",
      "    units: degrees_east\n",
      "    long_name: Longitude\n",
      "    actual_range: [  0.  357.5]\n",
      "    standard_name: longitude\n",
      "    axis: X\n",
      "unlimited dimensions: \n",
      "current shape = (144,)\n",
      "filling on, default _FillValue of 9.969209968386869e+36 used\n",
      "\n",
      "<class 'netCDF4._netCDF4.Variable'>\n",
      "float64 time(time)\n",
      "    long_name: Time\n",
      "    delta_t: 0000-01-00 00:00:00\n",
      "    avg_period: 0000-01-00 00:00:00\n",
      "    prev_avg_period: 0000-00-01 00:00:00\n",
      "    standard_name: time\n",
      "    axis: T\n",
      "    units: hours since 1800-01-01 00:00:0.0\n",
      "    actual_range: [1297320. 1912368.]\n",
      "unlimited dimensions: time\n",
      "current shape = (843,)\n",
      "filling on, default _FillValue of 9.969209968386869e+36 used\n",
      "\n",
      "<class 'netCDF4._netCDF4.Variable'>\n",
      "float32 air(time, lat, lon)\n",
      "    long_name: Monthly Mean Air Temperature at sigma level 0.995\n",
      "    valid_range: [-2000.  2000.]\n",
      "    units: degC\n",
      "    add_offset: 0.0\n",
      "    scale_factor: 1.0\n",
      "    missing_value: -9.96921e+36\n",
      "    precision: 1\n",
      "    least_significant_digit: 0\n",
      "    var_desc: Air Temperature\n",
      "    level_desc: Surface\n",
      "    statistic: Mean\n",
      "    parent_stat: Individual Obs\n",
      "    dataset: NCEP Reanalysis Derived Products\n",
      "    actual_range: [-73.78001  42.14595]\n",
      "unlimited dimensions: time\n",
      "current shape = (843, 73, 144)\n",
      "filling on, default _FillValue of 9.969209968386869e+36 used\n",
      "\n"
     ]
    }
   ],
   "source": [
    "print(temp_nc)\n",
    "# print out details of each variable\n",
    "for v in temp_nc.variables:\n",
    "    print(temp_nc.variables[v])"
   ]
  },
  {
   "cell_type": "markdown",
   "metadata": {},
   "source": [
    "### Extracting Grid Locations of Temperature Grid\n",
    "\n",
    "I'm going to see if I can output the grid locations and plot it."
   ]
  },
  {
   "cell_type": "code",
   "execution_count": 7,
   "metadata": {},
   "outputs": [
    {
     "data": {
      "text/plain": [
       "(73, 144)"
      ]
     },
     "execution_count": 7,
     "metadata": {},
     "output_type": "execute_result"
    }
   ],
   "source": [
    "# extract latitude\n",
    "lat = temp_nc.variables['lat'][:]\n",
    "# extract longitude\n",
    "lon = temp_nc.variables['lon'][:]\n",
    "# extract time\n",
    "time = temp_nc.variables['time'][:]\n",
    "# 1st temperature values\n",
    "temp = temp_nc.variables['air'][1,:,:]\n",
    "# check dimension of shape\n",
    "np.shape(temp)"
   ]
  },
  {
   "cell_type": "markdown",
   "metadata": {},
   "source": [
    "Print out min, mean, max of temperature vector."
   ]
  },
  {
   "cell_type": "code",
   "execution_count": 8,
   "metadata": {},
   "outputs": [
    {
     "name": "stdout",
     "output_type": "stream",
     "text": [
      "-44.23103 2.1757680582310694 35.399654\n"
     ]
    }
   ],
   "source": [
    "print(np.min(temp), np.mean(temp), np.max(temp))"
   ]
  },
  {
   "cell_type": "markdown",
   "metadata": {},
   "source": [
    "Using Seaborn to print out a heatmap the first matrix of temperature. I notice the outline of the continents based on the temperature. You can see the Rocky mountains and the Andes mountains running down the left side of the Americas. The Poles are much colder. The Australian outback looks hot too."
   ]
  },
  {
   "cell_type": "code",
   "execution_count": 9,
   "metadata": {},
   "outputs": [
    {
     "data": {
      "text/plain": [
       "<matplotlib.axes._subplots.AxesSubplot at 0x1a15349198>"
      ]
     },
     "execution_count": 9,
     "metadata": {},
     "output_type": "execute_result"
    },
    {
     "data": {
      "image/png": "[encoded data removed]",
      "text/plain": [
       "<Figure size 432x288 with 2 Axes>"
      ]
     },
     "metadata": {},
     "output_type": "display_data"
    }
   ],
   "source": [
    "sns.heatmap(temp)"
   ]
  },
  {
   "cell_type": "markdown",
   "metadata": {},
   "source": [
    "I want to subset the array to the spatial extent of the continental United States.  The longitude bounds should be  -124.848974 to -66.885444. I will need to add 180 degrees to these degrees west to match the convert from degrees east of the nc file. The latitude bounds should be 24.396308 to 49.384358."
   ]
  },
  {
   "cell_type": "code",
   "execution_count": 10,
   "metadata": {},
   "outputs": [
    {
     "name": "stdout",
     "output_type": "stream",
     "text": [
      "16 26 94 117\n"
     ]
    }
   ],
   "source": [
    "# lat and lon bounds\n",
    "latbounds = [24.4, 49.4]\n",
    "# lon bounds need to be converted from easterling to westerling to get US\n",
    "lonbounds = [-124.8 + 360, -66.9 + 360]\n",
    "\n",
    "# latitude lower and upper bounds\n",
    "lat_ui = np.argmin(np.abs(lat - latbounds[0]))\n",
    "lat_li = np.argmin(np.abs(lat - latbounds[1]))\n",
    "\n",
    "# longitude lower and upper boudns\n",
    "lon_li = np.argmin(np.abs(lon - lonbounds[0]))\n",
    "lon_ui = np.argmin(np.abs(lon - lonbounds[1]))\n",
    "# print index\n",
    "print(lat_li, lat_ui, lon_li, lon_ui)"
   ]
  },
  {
   "cell_type": "markdown",
   "metadata": {},
   "source": [
    "Subset latitude and longitude grid points."
   ]
  },
  {
   "cell_type": "code",
   "execution_count": 11,
   "metadata": {},
   "outputs": [
    {
     "name": "stdout",
     "output_type": "stream",
     "text": [
      "-125.0 -70.0 27.5 50.0\n"
     ]
    }
   ],
   "source": [
    "# subset us lon\n",
    "lon_us = lon[lon_li:lon_ui]-360\n",
    "# subset us lat\n",
    "lat_us = lat[lat_li:lat_ui]\n",
    "# print dimensions\n",
    "print(np.min(lon_us), np.max(lon_us), np.min(lat_us), np.max(lat_us))"
   ]
  },
  {
   "cell_type": "markdown",
   "metadata": {},
   "source": [
    "Print points over US."
   ]
  },
  {
   "cell_type": "code",
   "execution_count": 12,
   "metadata": {},
   "outputs": [
    {
     "data": {
      "image/png": "[encoded data removed]",
      "text/plain": [
       "<Figure size 432x288 with 1 Axes>"
      ]
     },
     "metadata": {},
     "output_type": "display_data"
    }
   ],
   "source": [
    "# extract lonlat grid\n",
    "lons, lats = np.meshgrid(lon_us, lat_us)\n",
    "# plot\n",
    "plt.plot(lons, lats, marker='.', color='k', linestyle='none')\n",
    "plt.show()"
   ]
  },
  {
   "cell_type": "code",
   "execution_count": 13,
   "metadata": {},
   "outputs": [
    {
     "data": {
      "text/plain": [
       "(10, 23)"
      ]
     },
     "execution_count": 13,
     "metadata": {},
     "output_type": "execute_result"
    }
   ],
   "source": [
    "# subset temp to us\n",
    "temp_us = temp_nc.variables['air'][1, lat_li:lat_ui, lon_li:lon_ui]\n",
    "np.shape(temp_us)"
   ]
  },
  {
   "cell_type": "markdown",
   "metadata": {},
   "source": [
    "Plot heatmap of US temperature to make sure subset looks right."
   ]
  },
  {
   "cell_type": "code",
   "execution_count": 15,
   "metadata": {},
   "outputs": [
    {
     "data": {
      "text/plain": [
       "<matplotlib.axes._subplots.AxesSubplot at 0x1a20a04c50>"
      ]
     },
     "execution_count": 15,
     "metadata": {},
     "output_type": "execute_result"
    },
    {
     "data": {
      "image/png": "[encoded data removed]",
      "text/plain": [
       "<Figure size 432x288 with 2 Axes>"
      ]
     },
     "metadata": {},
     "output_type": "display_data"
    }
   ],
   "source": [
    "sns.heatmap(temp_us)"
   ]
  },
  {
   "cell_type": "markdown",
   "metadata": {},
   "source": [
    "Attempt to extract lat-lon grid."
   ]
  },
  {
   "cell_type": "code",
   "execution_count": 26,
   "metadata": {},
   "outputs": [
    {
     "data": {
      "text/plain": [
       "(230, 2)"
      ]
     },
     "execution_count": 26,
     "metadata": {},
     "output_type": "execute_result"
    }
   ],
   "source": [
    "# coordinates to a 2 dimension array\n",
    "us_grid = np.array(np.meshgrid(lon_us, lat_us)).reshape(2, 230).T\n",
    "# check dimensions\n",
    "np.shape(us_grid)"
   ]
  },
  {
   "cell_type": "code",
   "execution_count": 65,
   "metadata": {},
   "outputs": [
    {
     "data": {
      "text/plain": [
       "(230, 843)"
      ]
     },
     "execution_count": 65,
     "metadata": {},
     "output_type": "execute_result"
    }
   ],
   "source": [
    "# extract temp grid as a 230 by n matrix\n",
    "us_temp = np.array(temp_nc.variables['air']\n",
    "    [:, lat_li:lat_ui, lon_li:lon_ui]).reshape(843,230).T #.T is for transpose\n",
    "np.shape(us_temp)"
   ]
  },
  {
   "cell_type": "markdown",
   "metadata": {},
   "source": [
    "Creating data frame of us temp and coordinates using pandas. I'm going to create a sequential numeric vector to indicate grid cell id."
   ]
  },
  {
   "cell_type": "code",
   "execution_count": 114,
   "metadata": {},
   "outputs": [
    {
     "name": "stdout",
     "output_type": "stream",
     "text": [
      "  grid_id\n",
      "0       1\n",
      "1       2\n",
      "2       3\n",
      "3       4\n",
      "4       5     grid_id\n",
      "225     226\n",
      "226     227\n",
      "227     228\n",
      "228     229\n",
      "229     230\n"
     ]
    }
   ],
   "source": [
    "# create grid id 1 to 230 and save as type string\n",
    "grid_id = pd.DataFrame(data = np.arange(1, 231, 1).T).astype('str')\n",
    "grid_id.columns = ['grid_id'] \n",
    "# head and tail\n",
    "print(grid_id.head(), grid_id.tail())"
   ]
  },
  {
   "cell_type": "markdown",
   "metadata": {},
   "source": [
    "Binding/concatenating grid id variable with lon and lat coordinates."
   ]
  },
  {
   "cell_type": "code",
   "execution_count": 116,
   "metadata": {},
   "outputs": [
    {
     "data": {
      "text/html": [
       "<div>\n",
       "<style scoped>\n",
       "    .dataframe tbody tr th:only-of-type {\n",
       "        vertical-align: middle;\n",
       "    }\n",
       "\n",
       "    .dataframe tbody tr th {\n",
       "        vertical-align: top;\n",
       "    }\n",
       "\n",
       "    .dataframe thead th {\n",
       "        text-align: right;\n",
       "    }\n",
       "</style>\n",
       "<table border=\"1\" class=\"dataframe\">\n",
       "  <thead>\n",
       "    <tr style=\"text-align: right;\">\n",
       "      <th></th>\n",
       "      <th>grid_id</th>\n",
       "      <th>lon</th>\n",
       "      <th>lat</th>\n",
       "    </tr>\n",
       "  </thead>\n",
       "  <tbody>\n",
       "    <tr>\n",
       "      <th>0</th>\n",
       "      <td>1</td>\n",
       "      <td>-125.0</td>\n",
       "      <td>50.0</td>\n",
       "    </tr>\n",
       "    <tr>\n",
       "      <th>1</th>\n",
       "      <td>2</td>\n",
       "      <td>-122.5</td>\n",
       "      <td>50.0</td>\n",
       "    </tr>\n",
       "    <tr>\n",
       "      <th>2</th>\n",
       "      <td>3</td>\n",
       "      <td>-120.0</td>\n",
       "      <td>50.0</td>\n",
       "    </tr>\n",
       "    <tr>\n",
       "      <th>3</th>\n",
       "      <td>4</td>\n",
       "      <td>-117.5</td>\n",
       "      <td>50.0</td>\n",
       "    </tr>\n",
       "    <tr>\n",
       "      <th>4</th>\n",
       "      <td>5</td>\n",
       "      <td>-115.0</td>\n",
       "      <td>50.0</td>\n",
       "    </tr>\n",
       "  </tbody>\n",
       "</table>\n",
       "</div>"
      ],
      "text/plain": [
       "  grid_id    lon   lat\n",
       "0       1 -125.0  50.0\n",
       "1       2 -122.5  50.0\n",
       "2       3 -120.0  50.0\n",
       "3       4 -117.5  50.0\n",
       "4       5 -115.0  50.0"
      ]
     },
     "execution_count": 116,
     "metadata": {},
     "output_type": "execute_result"
    }
   ],
   "source": [
    "# create grid dataframe from coordinate array\n",
    "grid_df = pd.DataFrame(data = us_grid)\n",
    "# name columns\n",
    "grid_df.columns = ['lon', 'lat']\n",
    "# concat dataframes\n",
    "grid_df = pd.concat([grid_id, grid_df], axis=1)\n",
    "# view first rows\n",
    "grid_df.head()"
   ]
  },
  {
   "cell_type": "markdown",
   "metadata": {},
   "source": [
    "Assigning year and month as column header for temperature values."
   ]
  },
  {
   "cell_type": "code",
   "execution_count": 117,
   "metadata": {},
   "outputs": [
    {
     "data": {
      "text/plain": [
       "1948-01-01   1948-01-01\n",
       "1948-02-01   1948-02-01\n",
       "1948-03-01   1948-03-01\n",
       "1948-04-01   1948-04-01\n",
       "1948-05-01   1948-05-01\n",
       "dtype: datetime64[ns]"
      ]
     },
     "execution_count": 117,
     "metadata": {},
     "output_type": "execute_result"
    }
   ],
   "source": [
    "from datetime import datetime\n",
    "# extract date times from nc file; define units\n",
    "date = nc.num2date(time, 'hours since 1800-01-01 00:00:0.0')\n",
    "# ts\n",
    "ts = pd.Series(date, index = date)\n",
    "# view first couple observations\n",
    "ts.head()"
   ]
  },
  {
   "cell_type": "markdown",
   "metadata": {},
   "source": [
    "Convert temperature array to dataframe."
   ]
  },
  {
   "cell_type": "code",
   "execution_count": 118,
   "metadata": {},
   "outputs": [
    {
     "name": "stdout",
     "output_type": "stream",
     "text": [
      "(230, 843)\n"
     ]
    },
    {
     "data": {
      "text/html": [
       "<div>\n",
       "<style scoped>\n",
       "    .dataframe tbody tr th:only-of-type {\n",
       "        vertical-align: middle;\n",
       "    }\n",
       "\n",
       "    .dataframe tbody tr th {\n",
       "        vertical-align: top;\n",
       "    }\n",
       "\n",
       "    .dataframe thead th {\n",
       "        text-align: right;\n",
       "    }\n",
       "</style>\n",
       "<table border=\"1\" class=\"dataframe\">\n",
       "  <thead>\n",
       "    <tr style=\"text-align: right;\">\n",
       "      <th></th>\n",
       "      <th>1948-01-01</th>\n",
       "      <th>1948-02-01</th>\n",
       "      <th>1948-03-01</th>\n",
       "      <th>1948-04-01</th>\n",
       "      <th>1948-05-01</th>\n",
       "      <th>1948-06-01</th>\n",
       "      <th>1948-07-01</th>\n",
       "      <th>1948-08-01</th>\n",
       "      <th>1948-09-01</th>\n",
       "      <th>1948-10-01</th>\n",
       "      <th>...</th>\n",
       "      <th>2017-06-01</th>\n",
       "      <th>2017-07-01</th>\n",
       "      <th>2017-08-01</th>\n",
       "      <th>2017-09-01</th>\n",
       "      <th>2017-10-01</th>\n",
       "      <th>2017-11-01</th>\n",
       "      <th>2017-12-01</th>\n",
       "      <th>2018-01-01</th>\n",
       "      <th>2018-02-01</th>\n",
       "      <th>2018-03-01</th>\n",
       "    </tr>\n",
       "  </thead>\n",
       "  <tbody>\n",
       "    <tr>\n",
       "      <th>0</th>\n",
       "      <td>-0.177099</td>\n",
       "      <td>-2.077586</td>\n",
       "      <td>-0.239029</td>\n",
       "      <td>2.191003</td>\n",
       "      <td>7.611294</td>\n",
       "      <td>13.192339</td>\n",
       "      <td>12.858393</td>\n",
       "      <td>12.739360</td>\n",
       "      <td>9.911337</td>\n",
       "      <td>6.384842</td>\n",
       "      <td>...</td>\n",
       "      <td>10.256660</td>\n",
       "      <td>11.999190</td>\n",
       "      <td>14.542734</td>\n",
       "      <td>12.675834</td>\n",
       "      <td>7.008055</td>\n",
       "      <td>2.904991</td>\n",
       "      <td>0.984665</td>\n",
       "      <td>2.214507</td>\n",
       "      <td>-0.944651</td>\n",
       "      <td>1.861282</td>\n",
       "    </tr>\n",
       "    <tr>\n",
       "      <th>1</th>\n",
       "      <td>-4.285485</td>\n",
       "      <td>-6.013789</td>\n",
       "      <td>-3.848709</td>\n",
       "      <td>-0.130663</td>\n",
       "      <td>6.882905</td>\n",
       "      <td>13.428675</td>\n",
       "      <td>12.796779</td>\n",
       "      <td>12.160331</td>\n",
       "      <td>8.692340</td>\n",
       "      <td>4.326452</td>\n",
       "      <td>...</td>\n",
       "      <td>10.352497</td>\n",
       "      <td>13.210485</td>\n",
       "      <td>16.020155</td>\n",
       "      <td>11.941668</td>\n",
       "      <td>4.152406</td>\n",
       "      <td>-0.133345</td>\n",
       "      <td>-3.661304</td>\n",
       "      <td>-0.604847</td>\n",
       "      <td>-5.032155</td>\n",
       "      <td>-0.858074</td>\n",
       "    </tr>\n",
       "    <tr>\n",
       "      <th>2</th>\n",
       "      <td>-7.342901</td>\n",
       "      <td>-8.820339</td>\n",
       "      <td>-6.651283</td>\n",
       "      <td>-1.801997</td>\n",
       "      <td>5.973875</td>\n",
       "      <td>12.425673</td>\n",
       "      <td>12.284524</td>\n",
       "      <td>11.207426</td>\n",
       "      <td>8.276340</td>\n",
       "      <td>3.340968</td>\n",
       "      <td>...</td>\n",
       "      <td>10.314163</td>\n",
       "      <td>15.175801</td>\n",
       "      <td>17.268545</td>\n",
       "      <td>11.426662</td>\n",
       "      <td>2.589507</td>\n",
       "      <td>-2.077511</td>\n",
       "      <td>-6.795979</td>\n",
       "      <td>-2.487108</td>\n",
       "      <td>-7.716079</td>\n",
       "      <td>-2.565335</td>\n",
       "    </tr>\n",
       "    <tr>\n",
       "      <th>3</th>\n",
       "      <td>-9.044832</td>\n",
       "      <td>-10.528955</td>\n",
       "      <td>-8.717089</td>\n",
       "      <td>-2.501661</td>\n",
       "      <td>5.455161</td>\n",
       "      <td>11.236004</td>\n",
       "      <td>11.800975</td>\n",
       "      <td>10.851940</td>\n",
       "      <td>8.617005</td>\n",
       "      <td>3.287746</td>\n",
       "      <td>...</td>\n",
       "      <td>10.444163</td>\n",
       "      <td>16.929836</td>\n",
       "      <td>17.392738</td>\n",
       "      <td>10.997497</td>\n",
       "      <td>2.364503</td>\n",
       "      <td>-3.157513</td>\n",
       "      <td>-8.650819</td>\n",
       "      <td>-3.749209</td>\n",
       "      <td>-9.770546</td>\n",
       "      <td>-3.425822</td>\n",
       "    </tr>\n",
       "    <tr>\n",
       "      <th>4</th>\n",
       "      <td>-8.838060</td>\n",
       "      <td>-10.780340</td>\n",
       "      <td>-9.229991</td>\n",
       "      <td>-1.438334</td>\n",
       "      <td>6.389682</td>\n",
       "      <td>11.545676</td>\n",
       "      <td>12.848073</td>\n",
       "      <td>12.675164</td>\n",
       "      <td>10.066670</td>\n",
       "      <td>4.328714</td>\n",
       "      <td>...</td>\n",
       "      <td>11.933335</td>\n",
       "      <td>18.716932</td>\n",
       "      <td>17.437092</td>\n",
       "      <td>11.281663</td>\n",
       "      <td>3.429020</td>\n",
       "      <td>-3.200013</td>\n",
       "      <td>-9.183882</td>\n",
       "      <td>-4.375815</td>\n",
       "      <td>-11.399117</td>\n",
       "      <td>-3.526622</td>\n",
       "    </tr>\n",
       "  </tbody>\n",
       "</table>\n",
       "<p>5 rows × 843 columns</p>\n",
       "</div>"
      ],
      "text/plain": [
       "   1948-01-01  1948-02-01  1948-03-01  1948-04-01  1948-05-01  1948-06-01  \\\n",
       "0   -0.177099   -2.077586   -0.239029    2.191003    7.611294   13.192339   \n",
       "1   -4.285485   -6.013789   -3.848709   -0.130663    6.882905   13.428675   \n",
       "2   -7.342901   -8.820339   -6.651283   -1.801997    5.973875   12.425673   \n",
       "3   -9.044832  -10.528955   -8.717089   -2.501661    5.455161   11.236004   \n",
       "4   -8.838060  -10.780340   -9.229991   -1.438334    6.389682   11.545676   \n",
       "\n",
       "   1948-07-01  1948-08-01  1948-09-01  1948-10-01     ...      2017-06-01  \\\n",
       "0   12.858393   12.739360    9.911337    6.384842     ...       10.256660   \n",
       "1   12.796779   12.160331    8.692340    4.326452     ...       10.352497   \n",
       "2   12.284524   11.207426    8.276340    3.340968     ...       10.314163   \n",
       "3   11.800975   10.851940    8.617005    3.287746     ...       10.444163   \n",
       "4   12.848073   12.675164   10.066670    4.328714     ...       11.933335   \n",
       "\n",
       "   2017-07-01  2017-08-01  2017-09-01  2017-10-01  2017-11-01  2017-12-01  \\\n",
       "0   11.999190   14.542734   12.675834    7.008055    2.904991    0.984665   \n",
       "1   13.210485   16.020155   11.941668    4.152406   -0.133345   -3.661304   \n",
       "2   15.175801   17.268545   11.426662    2.589507   -2.077511   -6.795979   \n",
       "3   16.929836   17.392738   10.997497    2.364503   -3.157513   -8.650819   \n",
       "4   18.716932   17.437092   11.281663    3.429020   -3.200013   -9.183882   \n",
       "\n",
       "   2018-01-01  2018-02-01  2018-03-01  \n",
       "0    2.214507   -0.944651    1.861282  \n",
       "1   -0.604847   -5.032155   -0.858074  \n",
       "2   -2.487108   -7.716079   -2.565335  \n",
       "3   -3.749209   -9.770546   -3.425822  \n",
       "4   -4.375815  -11.399117   -3.526622  \n",
       "\n",
       "[5 rows x 843 columns]"
      ]
     },
     "execution_count": 118,
     "metadata": {},
     "output_type": "execute_result"
    }
   ],
   "source": [
    "# array to dataframe\n",
    "temp_df = pd.DataFrame(data = us_temp)\n",
    "# dim of temp dataframe\n",
    "print(temp_df.shape)\n",
    "# add name\n",
    "temp_df.columns = ts.dt.date\n",
    "temp_df.head()"
   ]
  },
  {
   "cell_type": "markdown",
   "metadata": {},
   "source": [
    "Bind temperature values to coordinate and grid id and then melt/gather columns to row."
   ]
  },
  {
   "cell_type": "code",
   "execution_count": 119,
   "metadata": {},
   "outputs": [
    {
     "data": {
      "text/html": [
       "<div>\n",
       "<style scoped>\n",
       "    .dataframe tbody tr th:only-of-type {\n",
       "        vertical-align: middle;\n",
       "    }\n",
       "\n",
       "    .dataframe tbody tr th {\n",
       "        vertical-align: top;\n",
       "    }\n",
       "\n",
       "    .dataframe thead th {\n",
       "        text-align: right;\n",
       "    }\n",
       "</style>\n",
       "<table border=\"1\" class=\"dataframe\">\n",
       "  <thead>\n",
       "    <tr style=\"text-align: right;\">\n",
       "      <th></th>\n",
       "      <th>grid_id</th>\n",
       "      <th>lon</th>\n",
       "      <th>lat</th>\n",
       "      <th>1948-01-01</th>\n",
       "      <th>1948-02-01</th>\n",
       "      <th>1948-03-01</th>\n",
       "      <th>1948-04-01</th>\n",
       "      <th>1948-05-01</th>\n",
       "      <th>1948-06-01</th>\n",
       "      <th>1948-07-01</th>\n",
       "      <th>...</th>\n",
       "      <th>2017-06-01</th>\n",
       "      <th>2017-07-01</th>\n",
       "      <th>2017-08-01</th>\n",
       "      <th>2017-09-01</th>\n",
       "      <th>2017-10-01</th>\n",
       "      <th>2017-11-01</th>\n",
       "      <th>2017-12-01</th>\n",
       "      <th>2018-01-01</th>\n",
       "      <th>2018-02-01</th>\n",
       "      <th>2018-03-01</th>\n",
       "    </tr>\n",
       "  </thead>\n",
       "  <tbody>\n",
       "    <tr>\n",
       "      <th>0</th>\n",
       "      <td>1</td>\n",
       "      <td>-125.0</td>\n",
       "      <td>50.0</td>\n",
       "      <td>-0.177099</td>\n",
       "      <td>-2.077586</td>\n",
       "      <td>-0.239029</td>\n",
       "      <td>2.191003</td>\n",
       "      <td>7.611294</td>\n",
       "      <td>13.192339</td>\n",
       "      <td>12.858393</td>\n",
       "      <td>...</td>\n",
       "      <td>10.256660</td>\n",
       "      <td>11.999190</td>\n",
       "      <td>14.542734</td>\n",
       "      <td>12.675834</td>\n",
       "      <td>7.008055</td>\n",
       "      <td>2.904991</td>\n",
       "      <td>0.984665</td>\n",
       "      <td>2.214507</td>\n",
       "      <td>-0.944651</td>\n",
       "      <td>1.861282</td>\n",
       "    </tr>\n",
       "    <tr>\n",
       "      <th>1</th>\n",
       "      <td>2</td>\n",
       "      <td>-122.5</td>\n",
       "      <td>50.0</td>\n",
       "      <td>-4.285485</td>\n",
       "      <td>-6.013789</td>\n",
       "      <td>-3.848709</td>\n",
       "      <td>-0.130663</td>\n",
       "      <td>6.882905</td>\n",
       "      <td>13.428675</td>\n",
       "      <td>12.796779</td>\n",
       "      <td>...</td>\n",
       "      <td>10.352497</td>\n",
       "      <td>13.210485</td>\n",
       "      <td>16.020155</td>\n",
       "      <td>11.941668</td>\n",
       "      <td>4.152406</td>\n",
       "      <td>-0.133345</td>\n",
       "      <td>-3.661304</td>\n",
       "      <td>-0.604847</td>\n",
       "      <td>-5.032155</td>\n",
       "      <td>-0.858074</td>\n",
       "    </tr>\n",
       "    <tr>\n",
       "      <th>2</th>\n",
       "      <td>3</td>\n",
       "      <td>-120.0</td>\n",
       "      <td>50.0</td>\n",
       "      <td>-7.342901</td>\n",
       "      <td>-8.820339</td>\n",
       "      <td>-6.651283</td>\n",
       "      <td>-1.801997</td>\n",
       "      <td>5.973875</td>\n",
       "      <td>12.425673</td>\n",
       "      <td>12.284524</td>\n",
       "      <td>...</td>\n",
       "      <td>10.314163</td>\n",
       "      <td>15.175801</td>\n",
       "      <td>17.268545</td>\n",
       "      <td>11.426662</td>\n",
       "      <td>2.589507</td>\n",
       "      <td>-2.077511</td>\n",
       "      <td>-6.795979</td>\n",
       "      <td>-2.487108</td>\n",
       "      <td>-7.716079</td>\n",
       "      <td>-2.565335</td>\n",
       "    </tr>\n",
       "    <tr>\n",
       "      <th>3</th>\n",
       "      <td>4</td>\n",
       "      <td>-117.5</td>\n",
       "      <td>50.0</td>\n",
       "      <td>-9.044832</td>\n",
       "      <td>-10.528955</td>\n",
       "      <td>-8.717089</td>\n",
       "      <td>-2.501661</td>\n",
       "      <td>5.455161</td>\n",
       "      <td>11.236004</td>\n",
       "      <td>11.800975</td>\n",
       "      <td>...</td>\n",
       "      <td>10.444163</td>\n",
       "      <td>16.929836</td>\n",
       "      <td>17.392738</td>\n",
       "      <td>10.997497</td>\n",
       "      <td>2.364503</td>\n",
       "      <td>-3.157513</td>\n",
       "      <td>-8.650819</td>\n",
       "      <td>-3.749209</td>\n",
       "      <td>-9.770546</td>\n",
       "      <td>-3.425822</td>\n",
       "    </tr>\n",
       "    <tr>\n",
       "      <th>4</th>\n",
       "      <td>5</td>\n",
       "      <td>-115.0</td>\n",
       "      <td>50.0</td>\n",
       "      <td>-8.838060</td>\n",
       "      <td>-10.780340</td>\n",
       "      <td>-9.229991</td>\n",
       "      <td>-1.438334</td>\n",
       "      <td>6.389682</td>\n",
       "      <td>11.545676</td>\n",
       "      <td>12.848073</td>\n",
       "      <td>...</td>\n",
       "      <td>11.933335</td>\n",
       "      <td>18.716932</td>\n",
       "      <td>17.437092</td>\n",
       "      <td>11.281663</td>\n",
       "      <td>3.429020</td>\n",
       "      <td>-3.200013</td>\n",
       "      <td>-9.183882</td>\n",
       "      <td>-4.375815</td>\n",
       "      <td>-11.399117</td>\n",
       "      <td>-3.526622</td>\n",
       "    </tr>\n",
       "  </tbody>\n",
       "</table>\n",
       "<p>5 rows × 846 columns</p>\n",
       "</div>"
      ],
      "text/plain": [
       "  grid_id    lon   lat  1948-01-01  1948-02-01  1948-03-01  1948-04-01  \\\n",
       "0       1 -125.0  50.0   -0.177099   -2.077586   -0.239029    2.191003   \n",
       "1       2 -122.5  50.0   -4.285485   -6.013789   -3.848709   -0.130663   \n",
       "2       3 -120.0  50.0   -7.342901   -8.820339   -6.651283   -1.801997   \n",
       "3       4 -117.5  50.0   -9.044832  -10.528955   -8.717089   -2.501661   \n",
       "4       5 -115.0  50.0   -8.838060  -10.780340   -9.229991   -1.438334   \n",
       "\n",
       "   1948-05-01  1948-06-01  1948-07-01     ...      2017-06-01  2017-07-01  \\\n",
       "0    7.611294   13.192339   12.858393     ...       10.256660   11.999190   \n",
       "1    6.882905   13.428675   12.796779     ...       10.352497   13.210485   \n",
       "2    5.973875   12.425673   12.284524     ...       10.314163   15.175801   \n",
       "3    5.455161   11.236004   11.800975     ...       10.444163   16.929836   \n",
       "4    6.389682   11.545676   12.848073     ...       11.933335   18.716932   \n",
       "\n",
       "   2017-08-01  2017-09-01  2017-10-01  2017-11-01  2017-12-01  2018-01-01  \\\n",
       "0   14.542734   12.675834    7.008055    2.904991    0.984665    2.214507   \n",
       "1   16.020155   11.941668    4.152406   -0.133345   -3.661304   -0.604847   \n",
       "2   17.268545   11.426662    2.589507   -2.077511   -6.795979   -2.487108   \n",
       "3   17.392738   10.997497    2.364503   -3.157513   -8.650819   -3.749209   \n",
       "4   17.437092   11.281663    3.429020   -3.200013   -9.183882   -4.375815   \n",
       "\n",
       "   2018-02-01  2018-03-01  \n",
       "0   -0.944651    1.861282  \n",
       "1   -5.032155   -0.858074  \n",
       "2   -7.716079   -2.565335  \n",
       "3   -9.770546   -3.425822  \n",
       "4  -11.399117   -3.526622  \n",
       "\n",
       "[5 rows x 846 columns]"
      ]
     },
     "execution_count": 119,
     "metadata": {},
     "output_type": "execute_result"
    }
   ],
   "source": [
    "# concat grid id and temp\n",
    "temp_wide_df = pd.concat([grid_df, temp_df], axis = 1)\n",
    "temp_wide_df.head()"
   ]
  },
  {
   "cell_type": "code",
   "execution_count": 121,
   "metadata": {},
   "outputs": [
    {
     "data": {
      "text/html": [
       "<div>\n",
       "<style scoped>\n",
       "    .dataframe tbody tr th:only-of-type {\n",
       "        vertical-align: middle;\n",
       "    }\n",
       "\n",
       "    .dataframe tbody tr th {\n",
       "        vertical-align: top;\n",
       "    }\n",
       "\n",
       "    .dataframe thead th {\n",
       "        text-align: right;\n",
       "    }\n",
       "</style>\n",
       "<table border=\"1\" class=\"dataframe\">\n",
       "  <thead>\n",
       "    <tr style=\"text-align: right;\">\n",
       "      <th></th>\n",
       "      <th>grid_id</th>\n",
       "      <th>lon</th>\n",
       "      <th>lat</th>\n",
       "      <th>date</th>\n",
       "      <th>temp_c</th>\n",
       "    </tr>\n",
       "  </thead>\n",
       "  <tbody>\n",
       "    <tr>\n",
       "      <th>0</th>\n",
       "      <td>1</td>\n",
       "      <td>-125.0</td>\n",
       "      <td>50.0</td>\n",
       "      <td>1948-01-01</td>\n",
       "      <td>-0.177099</td>\n",
       "    </tr>\n",
       "    <tr>\n",
       "      <th>1</th>\n",
       "      <td>2</td>\n",
       "      <td>-122.5</td>\n",
       "      <td>50.0</td>\n",
       "      <td>1948-01-01</td>\n",
       "      <td>-4.285485</td>\n",
       "    </tr>\n",
       "    <tr>\n",
       "      <th>2</th>\n",
       "      <td>3</td>\n",
       "      <td>-120.0</td>\n",
       "      <td>50.0</td>\n",
       "      <td>1948-01-01</td>\n",
       "      <td>-7.342901</td>\n",
       "    </tr>\n",
       "    <tr>\n",
       "      <th>3</th>\n",
       "      <td>4</td>\n",
       "      <td>-117.5</td>\n",
       "      <td>50.0</td>\n",
       "      <td>1948-01-01</td>\n",
       "      <td>-9.044832</td>\n",
       "    </tr>\n",
       "    <tr>\n",
       "      <th>4</th>\n",
       "      <td>5</td>\n",
       "      <td>-115.0</td>\n",
       "      <td>50.0</td>\n",
       "      <td>1948-01-01</td>\n",
       "      <td>-8.838060</td>\n",
       "    </tr>\n",
       "  </tbody>\n",
       "</table>\n",
       "</div>"
      ],
      "text/plain": [
       "  grid_id    lon   lat        date    temp_c\n",
       "0       1 -125.0  50.0  1948-01-01 -0.177099\n",
       "1       2 -122.5  50.0  1948-01-01 -4.285485\n",
       "2       3 -120.0  50.0  1948-01-01 -7.342901\n",
       "3       4 -117.5  50.0  1948-01-01 -9.044832\n",
       "4       5 -115.0  50.0  1948-01-01 -8.838060"
      ]
     },
     "execution_count": 121,
     "metadata": {},
     "output_type": "execute_result"
    }
   ],
   "source": [
    "# wide to long\n",
    "temp_long_df = pd.melt(temp_wide_df, id_vars = ['grid_id', 'lon', 'lat'],\n",
    "                      var_name = \"date\", value_name = \"temp_c\")\n",
    "# view head of final row-wise dataset\n",
    "temp_long_df.head()"
   ]
  }
 ],
 "metadata": {
  "kernelspec": {
   "display_name": "Python 3",
   "language": "python",
   "name": "python3"
  }
 },
 "nbformat": 4,
 "nbformat_minor": 2
}
