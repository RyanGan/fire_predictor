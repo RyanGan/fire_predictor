{
 "cells": [
  {
   "cell_type": "markdown",
   "metadata": {},
   "source": [
    "## Climate Predictor and Wildfires Join\n",
    "\n",
    "#### Author: Ryan Gan\n",
    "\n",
    "#### Date: 2018-07-01\n",
    "\n",
    "Joining climate predictors with wildfire data. Also planning to lag the climate predictors. Think about normalizing each variable."
   ]
  },
  {
   "cell_type": "code",
   "execution_count": 39,
   "metadata": {
    "ExecuteTime": {
     "end_time": "2018-07-01T22:26:45.783326Z",
     "start_time": "2018-07-01T22:26:45.779800Z"
    },
    "collapsed": true
   },
   "outputs": [],
   "source": [
    "import pandas as pd\n",
    "import numpy as np"
   ]
  },
  {
   "cell_type": "markdown",
   "metadata": {},
   "source": [
    "### Temperature\n",
    "\n",
    "Importing temperature data."
   ]
  },
  {
   "cell_type": "code",
   "execution_count": 10,
   "metadata": {
    "ExecuteTime": {
     "end_time": "2018-07-01T21:37:38.486628Z",
     "start_time": "2018-07-01T21:37:37.421354Z"
    }
   },
   "outputs": [
    {
     "name": "stderr",
     "output_type": "stream",
     "text": [
      "/opt/conda/envs/py3/lib/python3.6/site-packages/numpy/lib/arraysetops.py:472: FutureWarning: elementwise comparison failed; returning scalar instead, but in the future will perform elementwise comparison\n",
      "  mask |= (ar1 == a)\n"
     ]
    }
   ],
   "source": [
    "# read temp\n",
    "temp = pd.read_csv('../data/model_data/1948-2018_mon_temp_us.csv', index_col=0)"
   ]
  },
  {
   "cell_type": "markdown",
   "metadata": {},
   "source": [
    "Lagging monthly temperature data for a year and filter to dates I have fire data."
   ]
  },
  {
   "cell_type": "code",
   "execution_count": 11,
   "metadata": {
    "ExecuteTime": {
     "end_time": "2018-07-01T21:37:39.336113Z",
     "start_time": "2018-07-01T21:37:38.489696Z"
    },
    "collapsed": true
   },
   "outputs": [],
   "source": [
    "# lag for a year\n",
    "number_lags = 12\n",
    "\n",
    "for lag in range(1, number_lags + 1):\n",
    "    temp['temp_c_lag' + str(lag)] = temp.groupby('grid_id')['temp_c'].shift(lag)"
   ]
  },
  {
   "cell_type": "code",
   "execution_count": 12,
   "metadata": {
    "ExecuteTime": {
     "end_time": "2018-07-01T21:37:39.716946Z",
     "start_time": "2018-07-01T21:37:39.338507Z"
    }
   },
   "outputs": [
    {
     "name": "stdout",
     "output_type": "stream",
     "text": [
      "1979-01-01 00:00:00 2016-12-01 00:00:00\n"
     ]
    }
   ],
   "source": [
    "# convert date from string to datetime\n",
    "temp['date'] = pd.to_datetime(temp['date'])\n",
    "# filter to 1979 to 2016 for years I have fire data\n",
    "temp = temp[(temp['date'] >= '1979-01-01') & (temp['date'] <= '2016-12-01')]\n",
    "# print date range to make sure filter worked\n",
    "print(temp['date'].min(), temp['date'].max())"
   ]
  },
  {
   "cell_type": "markdown",
   "metadata": {},
   "source": [
    "### Humidity\n",
    "\n",
    "Importing humidity."
   ]
  },
  {
   "cell_type": "code",
   "execution_count": 13,
   "metadata": {
    "ExecuteTime": {
     "end_time": "2018-07-01T21:37:40.728515Z",
     "start_time": "2018-07-01T21:37:39.719182Z"
    }
   },
   "outputs": [
    {
     "name": "stderr",
     "output_type": "stream",
     "text": [
      "/opt/conda/envs/py3/lib/python3.6/site-packages/numpy/lib/arraysetops.py:472: FutureWarning: elementwise comparison failed; returning scalar instead, but in the future will perform elementwise comparison\n",
      "  mask |= (ar1 == a)\n"
     ]
    }
   ],
   "source": [
    "# read rhum\n",
    "rhum = pd.read_csv('../data/model_data/1948-2018_mon_rhum_us.csv', index_col=0)"
   ]
  },
  {
   "cell_type": "code",
   "execution_count": 14,
   "metadata": {
    "ExecuteTime": {
     "end_time": "2018-07-01T21:37:41.562292Z",
     "start_time": "2018-07-01T21:37:40.730763Z"
    },
    "collapsed": true
   },
   "outputs": [],
   "source": [
    "# lag for a year\n",
    "number_lags = 12\n",
    "\n",
    "for lag in range(1, number_lags + 1):\n",
    "    rhum['rhum_perc_lag' + str(lag)] = rhum.groupby('grid_id')['rhum_perc'].shift(lag)"
   ]
  },
  {
   "cell_type": "code",
   "execution_count": 15,
   "metadata": {
    "ExecuteTime": {
     "end_time": "2018-07-01T21:37:41.933504Z",
     "start_time": "2018-07-01T21:37:41.565254Z"
    }
   },
   "outputs": [
    {
     "name": "stdout",
     "output_type": "stream",
     "text": [
      "1979-01-01 00:00:00 2016-12-01 00:00:00\n"
     ]
    }
   ],
   "source": [
    "# convert date from string to datetime\n",
    "rhum['date'] = pd.to_datetime(rhum['date'])\n",
    "# filter to 1979 to 2016 for years I have fire data\n",
    "rhum = rhum[(rhum['date'] >= '1979-01-01') & (rhum['date'] <= '2016-12-01')]\n",
    "# print date range to make sure filter worked\n",
    "print(rhum['date'].min(), rhum['date'].max())"
   ]
  },
  {
   "cell_type": "markdown",
   "metadata": {},
   "source": [
    "### Precipitation\n",
    "\n",
    "Loading precipitation."
   ]
  },
  {
   "cell_type": "code",
   "execution_count": 16,
   "metadata": {
    "ExecuteTime": {
     "end_time": "2018-07-01T21:37:42.972959Z",
     "start_time": "2018-07-01T21:37:41.936752Z"
    }
   },
   "outputs": [
    {
     "name": "stderr",
     "output_type": "stream",
     "text": [
      "/opt/conda/envs/py3/lib/python3.6/site-packages/numpy/lib/arraysetops.py:472: FutureWarning: elementwise comparison failed; returning scalar instead, but in the future will perform elementwise comparison\n",
      "  mask |= (ar1 == a)\n"
     ]
    }
   ],
   "source": [
    "# read rhum\n",
    "prec = pd.read_csv('../data/model_data/1948-2018_mon_pr_wtr_us.csv', index_col=0)"
   ]
  },
  {
   "cell_type": "code",
   "execution_count": 17,
   "metadata": {
    "ExecuteTime": {
     "end_time": "2018-07-01T21:37:43.830014Z",
     "start_time": "2018-07-01T21:37:42.975078Z"
    },
    "collapsed": true
   },
   "outputs": [],
   "source": [
    "# lag for a year\n",
    "number_lags = 12\n",
    "\n",
    "for lag in range(1, number_lags + 1):\n",
    "    prec['prec_kgm2_lag' + str(lag)] = prec.groupby('grid_id')['prec_kgm2'].shift(lag)"
   ]
  },
  {
   "cell_type": "code",
   "execution_count": 18,
   "metadata": {
    "ExecuteTime": {
     "end_time": "2018-07-01T21:37:44.218531Z",
     "start_time": "2018-07-01T21:37:43.832088Z"
    }
   },
   "outputs": [
    {
     "name": "stdout",
     "output_type": "stream",
     "text": [
      "1979-01-01 00:00:00 2016-12-01 00:00:00\n"
     ]
    }
   ],
   "source": [
    "# convert date from string to datetime\n",
    "prec['date'] = pd.to_datetime(prec['date'])\n",
    "# filter to 1979 to 2016 for years I have fire data\n",
    "prec = prec[(prec['date'] >= '1979-01-01') & (prec['date'] <= '2016-12-01')]\n",
    "# print date range to make sure filter worked\n",
    "print(prec['date'].min(), prec['date'].max())"
   ]
  },
  {
   "cell_type": "markdown",
   "metadata": {},
   "source": [
    "### State Indicator\n",
    "\n",
    "Loading in the indicator of what state the grid ID is in. I plan to only model fires for events in the US since that's where my fire data is from and it's an easy way to only estimate in the states (i.e. not water or Canada)."
   ]
  },
  {
   "cell_type": "code",
   "execution_count": 19,
   "metadata": {
    "ExecuteTime": {
     "end_time": "2018-07-01T21:37:44.229789Z",
     "start_time": "2018-07-01T21:37:44.220636Z"
    },
    "collapsed": true
   },
   "outputs": [],
   "source": [
    "# load grid state\n",
    "grid_state = pd.read_csv('../data/model_data/grid_state.csv', index_col=0)\n",
    "# conver to factor\n",
    "grid_state[\"state\"] = grid_state[\"state\"].astype('category')"
   ]
  },
  {
   "cell_type": "code",
   "execution_count": 20,
   "metadata": {
    "ExecuteTime": {
     "end_time": "2018-07-01T21:37:44.243999Z",
     "start_time": "2018-07-01T21:37:44.232957Z"
    },
    "scrolled": true
   },
   "outputs": [
    {
     "data": {
      "text/plain": [
       "count       819\n",
       "unique       46\n",
       "top       Texas\n",
       "freq         65\n",
       "Name: state, dtype: object"
      ]
     },
     "execution_count": 20,
     "metadata": {},
     "output_type": "execute_result"
    }
   ],
   "source": [
    "grid_state['state'].describe()"
   ]
  },
  {
   "cell_type": "markdown",
   "metadata": {},
   "source": [
    "### Joining Climate Predictors"
   ]
  },
  {
   "cell_type": "code",
   "execution_count": 21,
   "metadata": {
    "ExecuteTime": {
     "end_time": "2018-07-01T21:37:44.980162Z",
     "start_time": "2018-07-01T21:37:44.246309Z"
    },
    "collapsed": true
   },
   "outputs": [],
   "source": [
    "# merge temp and precip\n",
    "climate = temp.merge(prec, left_on=['grid_id', 'glon', 'glat','date'], \n",
    "                     right_on=['grid_id', 'glon', 'glat','date'], how = 'left')"
   ]
  },
  {
   "cell_type": "code",
   "execution_count": 23,
   "metadata": {
    "ExecuteTime": {
     "end_time": "2018-07-01T21:39:04.833911Z",
     "start_time": "2018-07-01T21:39:03.989130Z"
    },
    "collapsed": true
   },
   "outputs": [],
   "source": [
    "# merge climate to humidity\n",
    "climate = climate.merge(rhum, left_on=['grid_id', 'glon', 'glat','date'], \n",
    "                     right_on=['grid_id', 'glon', 'glat','date'], how = 'left')"
   ]
  },
  {
   "cell_type": "code",
   "execution_count": 26,
   "metadata": {
    "ExecuteTime": {
     "end_time": "2018-07-01T21:42:04.414284Z",
     "start_time": "2018-07-01T21:42:04.051867Z"
    },
    "collapsed": true
   },
   "outputs": [],
   "source": [
    "# merge states in; leaving NaNs as is\n",
    "climate = climate.merge(grid_state, left_on=['grid_id', 'glon', 'glat'], \n",
    "                     right_on=['grid_id', 'glon', 'glat'], how = 'left')"
   ]
  },
  {
   "cell_type": "code",
   "execution_count": 27,
   "metadata": {
    "ExecuteTime": {
     "end_time": "2018-07-01T21:42:06.022628Z",
     "start_time": "2018-07-01T21:42:06.017365Z"
    }
   },
   "outputs": [
    {
     "data": {
      "text/plain": [
       "grid_id                     int64\n",
       "glon                      float64\n",
       "glat                      float64\n",
       "date               datetime64[ns]\n",
       "temp_c                    float64\n",
       "temp_c_lag1               float64\n",
       "temp_c_lag2               float64\n",
       "temp_c_lag3               float64\n",
       "temp_c_lag4               float64\n",
       "temp_c_lag5               float64\n",
       "temp_c_lag6               float64\n",
       "temp_c_lag7               float64\n",
       "temp_c_lag8               float64\n",
       "temp_c_lag9               float64\n",
       "temp_c_lag10              float64\n",
       "temp_c_lag11              float64\n",
       "temp_c_lag12              float64\n",
       "prec_kgm2                 float64\n",
       "prec_kgm2_lag1            float64\n",
       "prec_kgm2_lag2            float64\n",
       "prec_kgm2_lag3            float64\n",
       "prec_kgm2_lag4            float64\n",
       "prec_kgm2_lag5            float64\n",
       "prec_kgm2_lag6            float64\n",
       "prec_kgm2_lag7            float64\n",
       "prec_kgm2_lag8            float64\n",
       "prec_kgm2_lag9            float64\n",
       "prec_kgm2_lag10           float64\n",
       "prec_kgm2_lag11           float64\n",
       "prec_kgm2_lag12           float64\n",
       "rhum_perc                 float64\n",
       "rhum_perc_lag1            float64\n",
       "rhum_perc_lag2            float64\n",
       "rhum_perc_lag3            float64\n",
       "rhum_perc_lag4            float64\n",
       "rhum_perc_lag5            float64\n",
       "rhum_perc_lag6            float64\n",
       "rhum_perc_lag7            float64\n",
       "rhum_perc_lag8            float64\n",
       "rhum_perc_lag9            float64\n",
       "rhum_perc_lag10           float64\n",
       "rhum_perc_lag11           float64\n",
       "rhum_perc_lag12           float64\n",
       "state                    category\n",
       "dtype: object"
      ]
     },
     "execution_count": 27,
     "metadata": {},
     "output_type": "execute_result"
    }
   ],
   "source": [
    "climate.dtypes"
   ]
  },
  {
   "cell_type": "markdown",
   "metadata": {},
   "source": [
    "### Wildfire Events\n",
    "\n",
    "Loading the wildfire class and fire 1, 0 variable. Making dataset to estimate wildfire likelihood for a given location."
   ]
  },
  {
   "cell_type": "markdown",
   "metadata": {},
   "source": [
    "Import cleaned and prepared wildfire data."
   ]
  },
  {
   "cell_type": "code",
   "execution_count": 87,
   "metadata": {
    "ExecuteTime": {
     "end_time": "2018-07-01T23:05:54.008914Z",
     "start_time": "2018-07-01T23:05:53.935085Z"
    },
    "collapsed": true
   },
   "outputs": [],
   "source": [
    "# load fires count and indicator\n",
    "fires = pd.read_csv('../data/model_data/1979-2016_wildfire_grid.csv', index_col=0)\n",
    "# convert date to datetime\n",
    "fires['date'] = pd.to_datetime(fires['date'])"
   ]
  },
  {
   "cell_type": "code",
   "execution_count": 93,
   "metadata": {
    "ExecuteTime": {
     "end_time": "2018-07-01T23:06:32.914650Z",
     "start_time": "2018-07-01T23:06:32.397684Z"
    },
    "collapsed": true
   },
   "outputs": [],
   "source": [
    "# join fires with climate data\n",
    "fire_climate = climate.merge(fires, left_on=['grid_id', 'date'], \n",
    "                     right_on=['grid_id', 'date'], how = 'left')\n",
    "\n",
    "# filter to only states\n",
    "fire_climate = fire_climate[fire_climate.state.notna()]"
   ]
  },
  {
   "cell_type": "code",
   "execution_count": 96,
   "metadata": {
    "ExecuteTime": {
     "end_time": "2018-07-01T23:07:00.559862Z",
     "start_time": "2018-07-01T23:07:00.553267Z"
    },
    "collapsed": true,
    "scrolled": true
   },
   "outputs": [],
   "source": [
    "# conditional set fire to 0 if state is not NaN and fire is NaN\n",
    "fire_climate['fire'].fillna(0, inplace = True)\n",
    "# make seasons variable\n",
    "fire_climate['month'] = fire_climate.date.map(lambda x: x.month).astype('category')"
   ]
  },
  {
   "cell_type": "code",
   "execution_count": 108,
   "metadata": {
    "ExecuteTime": {
     "end_time": "2018-07-01T23:19:44.903103Z",
     "start_time": "2018-07-01T23:19:44.896775Z"
    },
    "collapsed": true
   },
   "outputs": [
    {
     "data": {
      "text/plain": [
       "grid_id                     int64\n",
       "glon                      float64\n",
       "glat                      float64\n",
       "date               datetime64[ns]\n",
       "temp_c                    float64\n",
       "temp_c_lag1               float64\n",
       "temp_c_lag2               float64\n",
       "temp_c_lag3               float64\n",
       "temp_c_lag4               float64\n",
       "temp_c_lag5               float64\n",
       "temp_c_lag6               float64\n",
       "temp_c_lag7               float64\n",
       "temp_c_lag8               float64\n",
       "temp_c_lag9               float64\n",
       "temp_c_lag10              float64\n",
       "temp_c_lag11              float64\n",
       "temp_c_lag12              float64\n",
       "prec_kgm2                 float64\n",
       "prec_kgm2_lag1            float64\n",
       "prec_kgm2_lag2            float64\n",
       "prec_kgm2_lag3            float64\n",
       "prec_kgm2_lag4            float64\n",
       "prec_kgm2_lag5            float64\n",
       "prec_kgm2_lag6            float64\n",
       "prec_kgm2_lag7            float64\n",
       "prec_kgm2_lag8            float64\n",
       "prec_kgm2_lag9            float64\n",
       "prec_kgm2_lag10           float64\n",
       "prec_kgm2_lag11           float64\n",
       "prec_kgm2_lag12           float64\n",
       "rhum_perc                 float64\n",
       "rhum_perc_lag1            float64\n",
       "rhum_perc_lag2            float64\n",
       "rhum_perc_lag3            float64\n",
       "rhum_perc_lag4            float64\n",
       "rhum_perc_lag5            float64\n",
       "rhum_perc_lag6            float64\n",
       "rhum_perc_lag7            float64\n",
       "rhum_perc_lag8            float64\n",
       "rhum_perc_lag9            float64\n",
       "rhum_perc_lag10           float64\n",
       "rhum_perc_lag11           float64\n",
       "rhum_perc_lag12           float64\n",
       "state                    category\n",
       "A                         float64\n",
       "B                         float64\n",
       "C                         float64\n",
       "D                         float64\n",
       "E                         float64\n",
       "F                         float64\n",
       "G                         float64\n",
       "fire                      float64\n",
       "month                    category\n",
       "dtype: object"
      ]
     },
     "execution_count": 108,
     "metadata": {},
     "output_type": "execute_result"
    }
   ],
   "source": [
    "# view types\n",
    "fire_climate.dtypes"
   ]
  },
  {
   "cell_type": "code",
   "execution_count": 109,
   "metadata": {
    "ExecuteTime": {
     "end_time": "2018-07-01T23:21:24.944651Z",
     "start_time": "2018-07-01T23:20:52.565134Z"
    },
    "collapsed": true
   },
   "outputs": [],
   "source": [
    "# save file for analysis\n",
    "#fire_climate.to_csv('../data/model_data/1979-2016_fire_likelihood.csv')"
   ]
  },
  {
   "cell_type": "markdown",
   "metadata": {},
   "source": [
    "### Wildfire Acres and Class\n",
    "\n",
    "Making a second dataset that uses the same climate predictors to estimate the fire class and acres based on climate predictors."
   ]
  },
  {
   "cell_type": "code",
   "execution_count": 112,
   "metadata": {
    "ExecuteTime": {
     "end_time": "2018-07-01T23:23:15.799403Z",
     "start_time": "2018-07-01T23:23:13.198351Z"
    },
    "collapsed": true
   },
   "outputs": [],
   "source": [
    "fire_class = pd.read_csv('../data/model_data/1979-2016_wildfire_info_us.csv', index_col=0)"
   ]
  },
  {
   "cell_type": "code",
   "execution_count": 124,
   "metadata": {
    "ExecuteTime": {
     "end_time": "2018-07-01T23:39:49.965968Z",
     "start_time": "2018-07-01T23:39:49.829306Z"
    }
   },
   "outputs": [
    {
     "name": "stderr",
     "output_type": "stream",
     "text": [
      "/opt/conda/envs/py3/lib/python3.6/site-packages/ipykernel_launcher.py:6: SettingWithCopyWarning: \n",
      "A value is trying to be set on a copy of a slice from a DataFrame.\n",
      "Try using .loc[row_indexer,col_indexer] = value instead\n",
      "\n",
      "See the caveats in the documentation: http://pandas.pydata.org/pandas-docs/stable/indexing.html#indexing-view-versus-copy\n",
      "  \n"
     ]
    }
   ],
   "source": [
    "# subset certain fire variables\n",
    "fire_size = fire_class[['CAUSE', 'SPECCAUSE', 'SIZECLASS', 'STATE', \n",
    "                        'TOTALACRES','lat', 'lon', 'grid_id','date']]\n",
    "\n",
    "# convert to date\n",
    "fire_size['date'] = pd.to_datetime(fire_size['date'])"
   ]
  },
  {
   "cell_type": "code",
   "execution_count": 125,
   "metadata": {
    "ExecuteTime": {
     "end_time": "2018-07-01T23:39:54.450883Z",
     "start_time": "2018-07-01T23:39:54.013774Z"
    },
    "collapsed": true
   },
   "outputs": [],
   "source": [
    "fire_size = fire_size.merge(climate, left_on=['grid_id', 'date'], \n",
    "                     right_on=['grid_id', 'date'], how = 'left')"
   ]
  },
  {
   "cell_type": "code",
   "execution_count": 127,
   "metadata": {
    "ExecuteTime": {
     "end_time": "2018-07-01T23:40:50.965622Z",
     "start_time": "2018-07-01T23:40:50.843930Z"
    },
    "collapsed": true
   },
   "outputs": [],
   "source": [
    "# check grid lon and lat to fire lat and lon\n",
    "coord_check = fire_size[['lat', 'lon', 'glat', 'glon']]"
   ]
  },
  {
   "cell_type": "markdown",
   "metadata": {},
   "source": [
    "Checking fire coordinates to grid coordinates."
   ]
  },
  {
   "cell_type": "code",
   "execution_count": 128,
   "metadata": {
    "ExecuteTime": {
     "end_time": "2018-07-01T23:41:02.100595Z",
     "start_time": "2018-07-01T23:41:02.089395Z"
    },
    "scrolled": true
   },
   "outputs": [
    {
     "data": {
      "text/html": [
       "<div>\n",
       "<style scoped>\n",
       "    .dataframe tbody tr th:only-of-type {\n",
       "        vertical-align: middle;\n",
       "    }\n",
       "\n",
       "    .dataframe tbody tr th {\n",
       "        vertical-align: top;\n",
       "    }\n",
       "\n",
       "    .dataframe thead th {\n",
       "        text-align: right;\n",
       "    }\n",
       "</style>\n",
       "<table border=\"1\" class=\"dataframe\">\n",
       "  <thead>\n",
       "    <tr style=\"text-align: right;\">\n",
       "      <th></th>\n",
       "      <th>lat</th>\n",
       "      <th>lon</th>\n",
       "      <th>glat</th>\n",
       "      <th>glon</th>\n",
       "    </tr>\n",
       "  </thead>\n",
       "  <tbody>\n",
       "    <tr>\n",
       "      <th>0</th>\n",
       "      <td>44.741389</td>\n",
       "      <td>-117.934167</td>\n",
       "      <td>45.0</td>\n",
       "      <td>-118.0</td>\n",
       "    </tr>\n",
       "    <tr>\n",
       "      <th>1</th>\n",
       "      <td>42.397222</td>\n",
       "      <td>-122.190000</td>\n",
       "      <td>42.0</td>\n",
       "      <td>-122.0</td>\n",
       "    </tr>\n",
       "    <tr>\n",
       "      <th>2</th>\n",
       "      <td>34.756944</td>\n",
       "      <td>-93.436111</td>\n",
       "      <td>35.0</td>\n",
       "      <td>-93.0</td>\n",
       "    </tr>\n",
       "    <tr>\n",
       "      <th>3</th>\n",
       "      <td>36.373611</td>\n",
       "      <td>-112.333056</td>\n",
       "      <td>36.0</td>\n",
       "      <td>-112.0</td>\n",
       "    </tr>\n",
       "    <tr>\n",
       "      <th>4</th>\n",
       "      <td>45.821667</td>\n",
       "      <td>-102.401667</td>\n",
       "      <td>46.0</td>\n",
       "      <td>-102.0</td>\n",
       "    </tr>\n",
       "  </tbody>\n",
       "</table>\n",
       "</div>"
      ],
      "text/plain": [
       "         lat         lon  glat   glon\n",
       "0  44.741389 -117.934167  45.0 -118.0\n",
       "1  42.397222 -122.190000  42.0 -122.0\n",
       "2  34.756944  -93.436111  35.0  -93.0\n",
       "3  36.373611 -112.333056  36.0 -112.0\n",
       "4  45.821667 -102.401667  46.0 -102.0"
      ]
     },
     "execution_count": 128,
     "metadata": {},
     "output_type": "execute_result"
    }
   ],
   "source": [
    "coord_check.head()"
   ]
  },
  {
   "cell_type": "code",
   "execution_count": 129,
   "metadata": {
    "ExecuteTime": {
     "end_time": "2018-07-01T23:41:20.198450Z",
     "start_time": "2018-07-01T23:41:20.187309Z"
    },
    "scrolled": true
   },
   "outputs": [
    {
     "data": {
      "text/html": [
       "<div>\n",
       "<style scoped>\n",
       "    .dataframe tbody tr th:only-of-type {\n",
       "        vertical-align: middle;\n",
       "    }\n",
       "\n",
       "    .dataframe tbody tr th {\n",
       "        vertical-align: top;\n",
       "    }\n",
       "\n",
       "    .dataframe thead th {\n",
       "        text-align: right;\n",
       "    }\n",
       "</style>\n",
       "<table border=\"1\" class=\"dataframe\">\n",
       "  <thead>\n",
       "    <tr style=\"text-align: right;\">\n",
       "      <th></th>\n",
       "      <th>lat</th>\n",
       "      <th>lon</th>\n",
       "      <th>glat</th>\n",
       "      <th>glon</th>\n",
       "    </tr>\n",
       "  </thead>\n",
       "  <tbody>\n",
       "    <tr>\n",
       "      <th>298220</th>\n",
       "      <td>48.999444</td>\n",
       "      <td>-114.994722</td>\n",
       "      <td>49.0</td>\n",
       "      <td>-115.0</td>\n",
       "    </tr>\n",
       "    <tr>\n",
       "      <th>298221</th>\n",
       "      <td>48.999722</td>\n",
       "      <td>-117.438333</td>\n",
       "      <td>49.0</td>\n",
       "      <td>-117.0</td>\n",
       "    </tr>\n",
       "    <tr>\n",
       "      <th>298222</th>\n",
       "      <td>49.000000</td>\n",
       "      <td>-120.582222</td>\n",
       "      <td>49.0</td>\n",
       "      <td>-121.0</td>\n",
       "    </tr>\n",
       "    <tr>\n",
       "      <th>298223</th>\n",
       "      <td>37.363889</td>\n",
       "      <td>-84.129722</td>\n",
       "      <td>37.0</td>\n",
       "      <td>-84.0</td>\n",
       "    </tr>\n",
       "    <tr>\n",
       "      <th>298224</th>\n",
       "      <td>49.000000</td>\n",
       "      <td>-118.683333</td>\n",
       "      <td>49.0</td>\n",
       "      <td>-119.0</td>\n",
       "    </tr>\n",
       "  </tbody>\n",
       "</table>\n",
       "</div>"
      ],
      "text/plain": [
       "              lat         lon  glat   glon\n",
       "298220  48.999444 -114.994722  49.0 -115.0\n",
       "298221  48.999722 -117.438333  49.0 -117.0\n",
       "298222  49.000000 -120.582222  49.0 -121.0\n",
       "298223  37.363889  -84.129722  37.0  -84.0\n",
       "298224  49.000000 -118.683333  49.0 -119.0"
      ]
     },
     "execution_count": 129,
     "metadata": {},
     "output_type": "execute_result"
    }
   ],
   "source": [
    "coord_check.tail()"
   ]
  },
  {
   "cell_type": "code",
   "execution_count": 130,
   "metadata": {
    "ExecuteTime": {
     "end_time": "2018-07-01T23:48:40.131870Z",
     "start_time": "2018-07-01T23:48:14.748330Z"
    },
    "collapsed": true
   },
   "outputs": [],
   "source": [
    "# write fire size file\n",
    "#fire_size.to_csv('../data/model_data/1979-2016_fire_size.csv')"
   ]
  }
 ],
 "metadata": {
  "kernelspec": {
   "display_name": "py3",
   "language": "python",
   "name": "py3"
  },
  "language_info": {
   "codemirror_mode": {
    "name": "ipython",
    "version": 3
   },
   "file_extension": ".py",
   "mimetype": "text/x-python",
   "name": "python",
   "nbconvert_exporter": "python",
   "pygments_lexer": "ipython3",
   "version": "3.6.2"
  },
  "latex_envs": {
   "LaTeX_envs_menu_present": true,
   "autoclose": false,
   "autocomplete": true,
   "bibliofile": "biblio.bib",
   "cite_by": "apalike",
   "current_citInitial": 1,
   "eqLabelWithNumbers": true,
   "eqNumInitial": 1,
   "hotkeys": {
    "equation": "Ctrl-E",
    "itemize": "Ctrl-I"
   },
   "labels_anchors": false,
   "latex_user_defs": false,
   "report_style_numbering": false,
   "user_envs_cfg": false
  },
  "varInspector": {
   "cols": {
    "lenName": 16,
    "lenType": 16,
    "lenVar": 40
   },
   "kernels_config": {
    "python": {
     "delete_cmd_postfix": "",
     "delete_cmd_prefix": "del ",
     "library": "var_list.py",
     "varRefreshCmd": "print(var_dic_list())"
    },
    "r": {
     "delete_cmd_postfix": ") ",
     "delete_cmd_prefix": "rm(",
     "library": "var_list.r",
     "varRefreshCmd": "cat(var_dic_list()) "
    }
   },
   "types_to_exclude": [
    "module",
    "function",
    "builtin_function_or_method",
    "instance",
    "_Feature"
   ],
   "window_display": false
  }
 },
 "nbformat": 4,
 "nbformat_minor": 2
}
