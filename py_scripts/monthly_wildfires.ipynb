{
 "cells": [
  {
   "cell_type": "markdown",
   "metadata": {},
   "source": [
    "## Reading in Historic Wildfire Data\n",
    "\n",
    "### Author: Ryan Gan\n",
    "### Date Created: 2018-06-30\n",
    "\n",
    "Reading in fire shapefile."
   ]
  },
  {
   "cell_type": "code",
   "execution_count": 1,
   "metadata": {
    "ExecuteTime": {
     "end_time": "2018-06-30T20:39:37.897499Z",
     "start_time": "2018-06-30T20:39:36.075922Z"
    },
    "scrolled": true
   },
   "outputs": [],
   "source": [
    "# import geopandas, looks like it's similar to simple featurs\n",
    "import geopandas as gp # geopandas brings in shapefiles as dataframe with spatial information\n",
    "import pandas as pd # pandas dataframe\n",
    "\n",
    "# offset month\n",
    "from pandas.tseries.offsets import MonthBegin\n",
    "\n",
    "import numpy as np # numpy to create new array\n",
    "# interpolate griddate\n",
    "from scipy import interpolate\n",
    "# plots\n",
    "# set figure size\n",
    "from matplotlib import pyplot as plt \n",
    "%matplotlib inline\n",
    "# plot size\n",
    "plt.rcParams['figure.figsize'] = (10,8)\n",
    "#import mpl_toolkits # i'd like basemap but doesn't seem to be available for py3\n",
    "# Seaborn for plotting and styling\n",
    "import seaborn as sns"
   ]
  },
  {
   "cell_type": "markdown",
   "metadata": {},
   "source": [
    "Read in 1980 to 2016 wildfire data."
   ]
  },
  {
   "cell_type": "code",
   "execution_count": 2,
   "metadata": {
    "ExecuteTime": {
     "end_time": "2018-06-30T20:40:07.063876Z",
     "start_time": "2018-06-30T20:39:37.899428Z"
    },
    "collapsed": true
   },
   "outputs": [],
   "source": [
    "fires = gp.read_file('../data/wf_usfs_1980_2016/wf_usfs_1980_2016.shp')"
   ]
  },
  {
   "cell_type": "markdown",
   "metadata": {},
   "source": [
    "View head of fires geopandas dataframe."
   ]
  },
  {
   "cell_type": "code",
   "execution_count": 3,
   "metadata": {
    "ExecuteTime": {
     "end_time": "2018-06-30T20:40:07.104958Z",
     "start_time": "2018-06-30T20:40:07.065733Z"
    }
   },
   "outputs": [
    {
     "data": {
      "text/html": [
       "<div>\n",
       "<style scoped>\n",
       "    .dataframe tbody tr th:only-of-type {\n",
       "        vertical-align: middle;\n",
       "    }\n",
       "\n",
       "    .dataframe tbody tr th {\n",
       "        vertical-align: top;\n",
       "    }\n",
       "\n",
       "    .dataframe thead th {\n",
       "        text-align: right;\n",
       "    }\n",
       "</style>\n",
       "<table border=\"1\" class=\"dataframe\">\n",
       "  <thead>\n",
       "    <tr style=\"text-align: right;\">\n",
       "      <th></th>\n",
       "      <th>ORGANIZATI</th>\n",
       "      <th>UNIT</th>\n",
       "      <th>SUBUNIT</th>\n",
       "      <th>SUBUNIT2</th>\n",
       "      <th>FIREID</th>\n",
       "      <th>FIRENAME</th>\n",
       "      <th>FIRENUMBER</th>\n",
       "      <th>FIRECODE</th>\n",
       "      <th>CAUSE</th>\n",
       "      <th>SPECCAUSE</th>\n",
       "      <th>...</th>\n",
       "      <th>DLONGITUDE</th>\n",
       "      <th>TOTALACRES</th>\n",
       "      <th>TRPGENCAUS</th>\n",
       "      <th>TRPSPECCAU</th>\n",
       "      <th>Cat_Field</th>\n",
       "      <th>DuplicateF</th>\n",
       "      <th>FireName_A</th>\n",
       "      <th>Keep</th>\n",
       "      <th>Duplicate_</th>\n",
       "      <th>geometry</th>\n",
       "    </tr>\n",
       "  </thead>\n",
       "  <tbody>\n",
       "    <tr>\n",
       "      <th>0</th>\n",
       "      <td>FS</td>\n",
       "      <td>06</td>\n",
       "      <td>0616</td>\n",
       "      <td>Wallowa-Whitman National Forest</td>\n",
       "      <td>6752594</td>\n",
       "      <td>Elk Creek</td>\n",
       "      <td>056</td>\n",
       "      <td>EK2N</td>\n",
       "      <td>Human</td>\n",
       "      <td>9</td>\n",
       "      <td>...</td>\n",
       "      <td>-117.934167</td>\n",
       "      <td>0.3</td>\n",
       "      <td>8</td>\n",
       "      <td>9</td>\n",
       "      <td>EK2N/2016/Oregon/ELK CREEK</td>\n",
       "      <td>EK2N</td>\n",
       "      <td>ELK CREEK</td>\n",
       "      <td>None</td>\n",
       "      <td>0</td>\n",
       "      <td>POINT (-117.9341666698559 44.74138889038505)</td>\n",
       "    </tr>\n",
       "    <tr>\n",
       "      <th>1</th>\n",
       "      <td>FS</td>\n",
       "      <td>06</td>\n",
       "      <td>0602</td>\n",
       "      <td>Fremont-Winema National Forest</td>\n",
       "      <td>6770108</td>\n",
       "      <td>Indian</td>\n",
       "      <td>028</td>\n",
       "      <td>KMG9</td>\n",
       "      <td>Human</td>\n",
       "      <td>9</td>\n",
       "      <td>...</td>\n",
       "      <td>-122.190000</td>\n",
       "      <td>0.1</td>\n",
       "      <td>8</td>\n",
       "      <td>9</td>\n",
       "      <td>KMG9/2016/Oregon/INDIAN</td>\n",
       "      <td>None</td>\n",
       "      <td>INDIAN</td>\n",
       "      <td>None</td>\n",
       "      <td>0</td>\n",
       "      <td>POINT (-122.1899999996003 42.39722221982964)</td>\n",
       "    </tr>\n",
       "    <tr>\n",
       "      <th>2</th>\n",
       "      <td>FS</td>\n",
       "      <td>08</td>\n",
       "      <td>0809</td>\n",
       "      <td>Ouachita National Forest</td>\n",
       "      <td>6757702</td>\n",
       "      <td>Sweetwater</td>\n",
       "      <td>067</td>\n",
       "      <td>KHE1</td>\n",
       "      <td>Natural</td>\n",
       "      <td>1</td>\n",
       "      <td>...</td>\n",
       "      <td>-93.436111</td>\n",
       "      <td>315.0</td>\n",
       "      <td>0</td>\n",
       "      <td>1</td>\n",
       "      <td>KHE1/2016/Arkansas/SWEETWATER</td>\n",
       "      <td>None</td>\n",
       "      <td>SWEETWATER</td>\n",
       "      <td>None</td>\n",
       "      <td>0</td>\n",
       "      <td>POINT (-93.4361111097399 34.75694443973418)</td>\n",
       "    </tr>\n",
       "    <tr>\n",
       "      <th>3</th>\n",
       "      <td>FS</td>\n",
       "      <td>03</td>\n",
       "      <td>0307</td>\n",
       "      <td>Kaibab National Forest</td>\n",
       "      <td>6768482</td>\n",
       "      <td>STINA</td>\n",
       "      <td>042</td>\n",
       "      <td>EKV6</td>\n",
       "      <td>Natural</td>\n",
       "      <td>1</td>\n",
       "      <td>...</td>\n",
       "      <td>-112.333056</td>\n",
       "      <td>0.5</td>\n",
       "      <td>0</td>\n",
       "      <td>1</td>\n",
       "      <td>EKV6/2016/Arizona/STINA</td>\n",
       "      <td>EKV6</td>\n",
       "      <td>STINA</td>\n",
       "      <td>None</td>\n",
       "      <td>0</td>\n",
       "      <td>POINT (-112.3330555596663 36.37361110976497)</td>\n",
       "    </tr>\n",
       "    <tr>\n",
       "      <th>4</th>\n",
       "      <td>FS</td>\n",
       "      <td>01</td>\n",
       "      <td>0118</td>\n",
       "      <td>Dakota Prairie Grasslands</td>\n",
       "      <td>6775526</td>\n",
       "      <td>5A</td>\n",
       "      <td>015</td>\n",
       "      <td>EKT6</td>\n",
       "      <td>Natural</td>\n",
       "      <td>1</td>\n",
       "      <td>...</td>\n",
       "      <td>-102.401667</td>\n",
       "      <td>2.5</td>\n",
       "      <td>0</td>\n",
       "      <td>1</td>\n",
       "      <td>EKT6/2016/South Dakota/5A</td>\n",
       "      <td>EKT6</td>\n",
       "      <td>5A</td>\n",
       "      <td>None</td>\n",
       "      <td>0</td>\n",
       "      <td>POINT (-102.4016666697809 45.82166667028065)</td>\n",
       "    </tr>\n",
       "  </tbody>\n",
       "</table>\n",
       "<p>5 rows × 37 columns</p>\n",
       "</div>"
      ],
      "text/plain": [
       "  ORGANIZATI UNIT SUBUNIT                         SUBUNIT2   FIREID  \\\n",
       "0         FS   06    0616  Wallowa-Whitman National Forest  6752594   \n",
       "1         FS   06    0602   Fremont-Winema National Forest  6770108   \n",
       "2         FS   08    0809         Ouachita National Forest  6757702   \n",
       "3         FS   03    0307           Kaibab National Forest  6768482   \n",
       "4         FS   01    0118        Dakota Prairie Grasslands  6775526   \n",
       "\n",
       "     FIRENAME FIRENUMBER FIRECODE    CAUSE  SPECCAUSE  \\\n",
       "0   Elk Creek        056     EK2N    Human          9   \n",
       "1      Indian        028     KMG9    Human          9   \n",
       "2  Sweetwater        067     KHE1  Natural          1   \n",
       "3       STINA        042     EKV6  Natural          1   \n",
       "4          5A        015     EKT6  Natural          1   \n",
       "\n",
       "                       ...                       DLONGITUDE TOTALACRES  \\\n",
       "0                      ...                      -117.934167        0.3   \n",
       "1                      ...                      -122.190000        0.1   \n",
       "2                      ...                       -93.436111      315.0   \n",
       "3                      ...                      -112.333056        0.5   \n",
       "4                      ...                      -102.401667        2.5   \n",
       "\n",
       "   TRPGENCAUS TRPSPECCAU                      Cat_Field DuplicateF  \\\n",
       "0           8          9     EK2N/2016/Oregon/ELK CREEK       EK2N   \n",
       "1           8          9        KMG9/2016/Oregon/INDIAN       None   \n",
       "2           0          1  KHE1/2016/Arkansas/SWEETWATER       None   \n",
       "3           0          1        EKV6/2016/Arizona/STINA       EKV6   \n",
       "4           0          1      EKT6/2016/South Dakota/5A       EKT6   \n",
       "\n",
       "   FireName_A  Keep Duplicate_                                      geometry  \n",
       "0   ELK CREEK  None          0  POINT (-117.9341666698559 44.74138889038505)  \n",
       "1      INDIAN  None          0  POINT (-122.1899999996003 42.39722221982964)  \n",
       "2  SWEETWATER  None          0   POINT (-93.4361111097399 34.75694443973418)  \n",
       "3       STINA  None          0  POINT (-112.3330555596663 36.37361110976497)  \n",
       "4          5A  None          0  POINT (-102.4016666697809 45.82166667028065)  \n",
       "\n",
       "[5 rows x 37 columns]"
      ]
     },
     "execution_count": 3,
     "metadata": {},
     "output_type": "execute_result"
    }
   ],
   "source": [
    "fires.head()"
   ]
  },
  {
   "cell_type": "code",
   "execution_count": 4,
   "metadata": {
    "ExecuteTime": {
     "end_time": "2018-06-30T20:40:07.112612Z",
     "start_time": "2018-06-30T20:40:07.107017Z"
    },
    "scrolled": false
   },
   "outputs": [
    {
     "data": {
      "text/plain": [
       "ORGANIZATI     object\n",
       "UNIT           object\n",
       "SUBUNIT        object\n",
       "SUBUNIT2       object\n",
       "FIREID         object\n",
       "FIRENAME       object\n",
       "FIRENUMBER     object\n",
       "FIRECODE       object\n",
       "CAUSE          object\n",
       "SPECCAUSE       int64\n",
       "STATCAUSE       int64\n",
       "SIZECLASS      object\n",
       "SIZECLASSN    float64\n",
       "FIRETYPE       object\n",
       "PROTECTION     object\n",
       "FIREPROTTY     object\n",
       "YEAR_          object\n",
       "FiscalYear      int64\n",
       "STARTDATED     object\n",
       "CONTRDATED     object\n",
       "OUTDATED       object\n",
       "GACC           object\n",
       "DISPATCH       object\n",
       "STATE          object\n",
       "STATE_FIPS     object\n",
       "FIPS          float64\n",
       "DLATITUDE     float64\n",
       "DLONGITUDE    float64\n",
       "TOTALACRES    float64\n",
       "TRPGENCAUS      int64\n",
       "TRPSPECCAU      int64\n",
       "Cat_Field      object\n",
       "DuplicateF     object\n",
       "FireName_A     object\n",
       "Keep           object\n",
       "Duplicate_      int64\n",
       "geometry       object\n",
       "dtype: object"
      ]
     },
     "execution_count": 4,
     "metadata": {},
     "output_type": "execute_result"
    }
   ],
   "source": [
    "# view variable names\n",
    "fires.dtypes"
   ]
  },
  {
   "cell_type": "code",
   "execution_count": 5,
   "metadata": {
    "ExecuteTime": {
     "end_time": "2018-06-30T20:40:07.152234Z",
     "start_time": "2018-06-30T20:40:07.114617Z"
    },
    "scrolled": true
   },
   "outputs": [
    {
     "data": {
      "text/html": [
       "<div>\n",
       "<style scoped>\n",
       "    .dataframe tbody tr th:only-of-type {\n",
       "        vertical-align: middle;\n",
       "    }\n",
       "\n",
       "    .dataframe tbody tr th {\n",
       "        vertical-align: top;\n",
       "    }\n",
       "\n",
       "    .dataframe thead th {\n",
       "        text-align: right;\n",
       "    }\n",
       "</style>\n",
       "<table border=\"1\" class=\"dataframe\">\n",
       "  <thead>\n",
       "    <tr style=\"text-align: right;\">\n",
       "      <th></th>\n",
       "      <th>STARTDATED</th>\n",
       "      <th>CONTRDATED</th>\n",
       "      <th>OUTDATED</th>\n",
       "    </tr>\n",
       "  </thead>\n",
       "  <tbody>\n",
       "    <tr>\n",
       "      <th>0</th>\n",
       "      <td>2016-10-02</td>\n",
       "      <td>2016-10-04</td>\n",
       "      <td>2016-10-14</td>\n",
       "    </tr>\n",
       "    <tr>\n",
       "      <th>1</th>\n",
       "      <td>2016-08-17</td>\n",
       "      <td>2016-08-17</td>\n",
       "      <td>2016-08-17</td>\n",
       "    </tr>\n",
       "    <tr>\n",
       "      <th>2</th>\n",
       "      <td>2016-07-22</td>\n",
       "      <td>2016-08-16</td>\n",
       "      <td>2016-09-02</td>\n",
       "    </tr>\n",
       "    <tr>\n",
       "      <th>3</th>\n",
       "      <td>2016-07-19</td>\n",
       "      <td>2016-07-21</td>\n",
       "      <td>2016-07-25</td>\n",
       "    </tr>\n",
       "    <tr>\n",
       "      <th>4</th>\n",
       "      <td>2016-07-14</td>\n",
       "      <td>2016-07-22</td>\n",
       "      <td>2016-07-22</td>\n",
       "    </tr>\n",
       "  </tbody>\n",
       "</table>\n",
       "</div>"
      ],
      "text/plain": [
       "   STARTDATED  CONTRDATED    OUTDATED\n",
       "0  2016-10-02  2016-10-04  2016-10-14\n",
       "1  2016-08-17  2016-08-17  2016-08-17\n",
       "2  2016-07-22  2016-08-16  2016-09-02\n",
       "3  2016-07-19  2016-07-21  2016-07-25\n",
       "4  2016-07-14  2016-07-22  2016-07-22"
      ]
     },
     "execution_count": 5,
     "metadata": {},
     "output_type": "execute_result"
    }
   ],
   "source": [
    "# view first 5 dates\n",
    "fires[['STARTDATED', 'CONTRDATED', 'OUTDATED']][:5]"
   ]
  },
  {
   "cell_type": "markdown",
   "metadata": {},
   "source": [
    "Convert dates to datetime."
   ]
  },
  {
   "cell_type": "code",
   "execution_count": 6,
   "metadata": {
    "ExecuteTime": {
     "end_time": "2018-06-30T20:40:11.649806Z",
     "start_time": "2018-06-30T20:40:07.154760Z"
    },
    "collapsed": true,
    "scrolled": true
   },
   "outputs": [],
   "source": [
    "# convert date variables to date time\n",
    "fires[['STARTDATED', 'CONTRDATED', 'OUTDATED']] = (fires[['STARTDATED', 'CONTRDATED', 'OUTDATED']]\n",
    "                                                      .apply(pd.to_datetime, errors = 'coerce'))"
   ]
  },
  {
   "cell_type": "code",
   "execution_count": 7,
   "metadata": {
    "ExecuteTime": {
     "end_time": "2018-06-30T20:40:11.667815Z",
     "start_time": "2018-06-30T20:40:11.652320Z"
    },
    "scrolled": false
   },
   "outputs": [
    {
     "data": {
      "text/plain": [
       "STARTDATED    datetime64[ns]\n",
       "CONTRDATED    datetime64[ns]\n",
       "OUTDATED      datetime64[ns]\n",
       "dtype: object"
      ]
     },
     "execution_count": 7,
     "metadata": {},
     "output_type": "execute_result"
    }
   ],
   "source": [
    "# check to make sure it's now a date time\n",
    "fires[['STARTDATED', 'CONTRDATED', 'OUTDATED']].dtypes"
   ]
  },
  {
   "cell_type": "markdown",
   "metadata": {},
   "source": [
    "### Assigning Grid ID to Fire ID\n",
    "\n",
    "I want to extract the latitude and longitude of each fire and find what grid ID it's closest to and assign it that grid ID. This will allow me to join climate predictor features to the fire event."
   ]
  },
  {
   "cell_type": "code",
   "execution_count": 8,
   "metadata": {
    "ExecuteTime": {
     "end_time": "2018-06-30T20:40:11.673945Z",
     "start_time": "2018-06-30T20:40:11.670151Z"
    },
    "collapsed": true
   },
   "outputs": [],
   "source": [
    "# latitude and longitude values and fire ids\n",
    "f_lat = fires['DLATITUDE'].values\n",
    "f_lon = fires['DLONGITUDE'].values\n",
    "fire_ids = fires['FIREID'].values"
   ]
  },
  {
   "cell_type": "code",
   "execution_count": 9,
   "metadata": {
    "ExecuteTime": {
     "end_time": "2018-06-30T20:40:11.680840Z",
     "start_time": "2018-06-30T20:40:11.676335Z"
    },
    "scrolled": true
   },
   "outputs": [
    {
     "name": "stdout",
     "output_type": "stream",
     "text": [
      "[44.74138889 42.39722222 34.75694444 36.37361111 45.82166667]\n",
      "[-117.93416667 -122.19        -93.43611111 -112.33305556 -102.40166667]\n",
      "['6752594' '6770108' '6757702' ... '385060' '310380' '1452438']\n"
     ]
    }
   ],
   "source": [
    "# print first ids of lats lons and fires\n",
    "print(f_lat[:5])\n",
    "print(f_lon[:5])\n",
    "print(fire_ids)"
   ]
  },
  {
   "cell_type": "markdown",
   "metadata": {},
   "source": [
    "Make the same custom grid as my regrided climate data to assign values to."
   ]
  },
  {
   "cell_type": "code",
   "execution_count": 10,
   "metadata": {
    "ExecuteTime": {
     "end_time": "2018-06-30T20:40:11.687065Z",
     "start_time": "2018-06-30T20:40:11.683372Z"
    },
    "collapsed": true
   },
   "outputs": [],
   "source": [
    "# custom grids for every degree\n",
    "# vectors\n",
    "grid_lat = np.arange(24, 50.0, 1)\n",
    "grid_lon = np.arange(-125.0, -66, 1)\n",
    "# mesh grid arrayw\n",
    "glons, glats = np.meshgrid(grid_lon, grid_lat)"
   ]
  },
  {
   "cell_type": "markdown",
   "metadata": {},
   "source": [
    "Plot points to make sure grid looks right."
   ]
  },
  {
   "cell_type": "code",
   "execution_count": 11,
   "metadata": {
    "ExecuteTime": {
     "end_time": "2018-06-30T20:40:11.878577Z",
     "start_time": "2018-06-30T20:40:11.689184Z"
    },
    "scrolled": false
   },
   "outputs": [
    {
     "data": {
      "image/png": "[encoded data removed]",
      "text/plain": [
       "<Figure size 432x288 with 1 Axes>"
      ]
     },
     "metadata": {},
     "output_type": "display_data"
    }
   ],
   "source": [
    "# plot new grid\n",
    "plt.plot(glons, glats, marker='.', color='k', linestyle='none')\n",
    "plt.show()"
   ]
  },
  {
   "cell_type": "code",
   "execution_count": 12,
   "metadata": {
    "ExecuteTime": {
     "end_time": "2018-06-30T20:40:11.884009Z",
     "start_time": "2018-06-30T20:40:11.880679Z"
    },
    "scrolled": true
   },
   "outputs": [
    {
     "name": "stdout",
     "output_type": "stream",
     "text": [
      "(26, 59) (26, 59)\n"
     ]
    }
   ],
   "source": [
    "# shape of grid\n",
    "print(np.shape(glons), np.shape(glats))"
   ]
  },
  {
   "cell_type": "markdown",
   "metadata": {},
   "source": [
    "Use the new glons and glats coordinates to generate a sequential number of grid IDs."
   ]
  },
  {
   "cell_type": "code",
   "execution_count": 13,
   "metadata": {
    "ExecuteTime": {
     "end_time": "2018-06-30T20:40:11.889049Z",
     "start_time": "2018-06-30T20:40:11.886198Z"
    }
   },
   "outputs": [],
   "source": [
    "# grid id array; using reshape of sequential vector of ids, and giving shape of glons\n",
    "grid_id = np.arange(1, 1535,1)\n",
    "grid_id_array = np.reshape(grid_id, np.shape(glats))"
   ]
  },
  {
   "cell_type": "code",
   "execution_count": 14,
   "metadata": {
    "ExecuteTime": {
     "end_time": "2018-06-30T20:40:11.895727Z",
     "start_time": "2018-06-30T20:40:11.891270Z"
    }
   },
   "outputs": [
    {
     "data": {
      "text/plain": [
       "(26, 59)"
      ]
     },
     "execution_count": 14,
     "metadata": {},
     "output_type": "execute_result"
    }
   ],
   "source": [
    "np.shape(grid_id_array)"
   ]
  },
  {
   "cell_type": "code",
   "execution_count": 15,
   "metadata": {
    "ExecuteTime": {
     "end_time": "2018-06-30T20:40:11.903272Z",
     "start_time": "2018-06-30T20:40:11.898081Z"
    }
   },
   "outputs": [
    {
     "data": {
      "text/plain": [
       "(1534, 2)"
      ]
     },
     "execution_count": 15,
     "metadata": {},
     "output_type": "execute_result"
    }
   ],
   "source": [
    "# now I want to assign the grid ID based on the cell/point.\n",
    "us_grid = np.array(np.meshgrid(grid_lon, grid_lat)).reshape(2, -1).T\n",
    "# check dimensions\n",
    "np.shape(us_grid)"
   ]
  },
  {
   "cell_type": "markdown",
   "metadata": {},
   "source": [
    "Interpolate grid ID to fire coordinates based on nearest neighbor of grid id value."
   ]
  },
  {
   "cell_type": "code",
   "execution_count": 16,
   "metadata": {
    "ExecuteTime": {
     "end_time": "2018-06-30T20:40:11.909321Z",
     "start_time": "2018-06-30T20:40:11.905053Z"
    },
    "collapsed": true
   },
   "outputs": [],
   "source": [
    "# set up interpolate to nearest neighbor fuction\n",
    "near_interp = interpolate.NearestNDInterpolator(us_grid, grid_id)"
   ]
  },
  {
   "cell_type": "code",
   "execution_count": 17,
   "metadata": {
    "ExecuteTime": {
     "end_time": "2018-06-30T20:40:12.175792Z",
     "start_time": "2018-06-30T20:40:11.911194Z"
    },
    "collapsed": true
   },
   "outputs": [],
   "source": [
    "# apply near_interp to each fire id coordinate\n",
    "fire_grid_id = near_interp(f_lon, f_lat)"
   ]
  },
  {
   "cell_type": "code",
   "execution_count": 18,
   "metadata": {
    "ExecuteTime": {
     "end_time": "2018-06-30T20:40:12.449220Z",
     "start_time": "2018-06-30T20:40:12.177817Z"
    }
   },
   "outputs": [
    {
     "data": {
      "text/plain": [
       "<matplotlib.axes._subplots.AxesSubplot at 0x7f8a54dd4eb8>"
      ]
     },
     "execution_count": 18,
     "metadata": {},
     "output_type": "execute_result"
    },
    {
     "data": {
      "image/png": "[encoded data removed]",
      "text/plain": [
       "<Figure size 432x288 with 2 Axes>"
      ]
     },
     "metadata": {},
     "output_type": "display_data"
    }
   ],
   "source": [
    "# plotting grid id value array\n",
    "sns.heatmap(grid_id_array)"
   ]
  },
  {
   "cell_type": "code",
   "execution_count": 19,
   "metadata": {
    "ExecuteTime": {
     "end_time": "2018-06-30T20:40:12.455968Z",
     "start_time": "2018-06-30T20:40:12.451428Z"
    }
   },
   "outputs": [
    {
     "data": {
      "text/plain": [
       "array([1247, 1066,  682,  722, 1322,  833,  628,  629,  629,  629])"
      ]
     },
     "execution_count": 19,
     "metadata": {},
     "output_type": "execute_result"
    }
   ],
   "source": [
    "# check first couple ids\n",
    "fire_grid_id[:10]"
   ]
  },
  {
   "cell_type": "code",
   "execution_count": 20,
   "metadata": {
    "ExecuteTime": {
     "end_time": "2018-06-30T20:40:12.494719Z",
     "start_time": "2018-06-30T20:40:12.458115Z"
    },
    "collapsed": true
   },
   "outputs": [],
   "source": [
    "# create dataframe with coordinates, fireid, and gridid\n",
    "fire_grid = np.concatenate((fire_ids, f_lon, f_lat), axis=0)"
   ]
  },
  {
   "cell_type": "code",
   "execution_count": 21,
   "metadata": {
    "ExecuteTime": {
     "end_time": "2018-06-30T20:40:12.500891Z",
     "start_time": "2018-06-30T20:40:12.496814Z"
    }
   },
   "outputs": [
    {
     "data": {
      "text/plain": [
       "True"
      ]
     },
     "execution_count": 21,
     "metadata": {},
     "output_type": "execute_result"
    }
   ],
   "source": [
    "# check to make sure fire grid id and fire ids are same dimension\n",
    "np.shape(fire_grid_id) == np.shape(fire_ids)"
   ]
  },
  {
   "cell_type": "markdown",
   "metadata": {},
   "source": [
    "Create a dataframe of keys that links the grid id to the FIRE ID so I can know the grid the fire took place in."
   ]
  },
  {
   "cell_type": "code",
   "execution_count": 22,
   "metadata": {
    "ExecuteTime": {
     "end_time": "2018-06-30T20:40:12.547486Z",
     "start_time": "2018-06-30T20:40:12.502865Z"
    },
    "collapsed": true
   },
   "outputs": [],
   "source": [
    "fire_grid = pd.DataFrame(data = {'lat' : f_lat, 'lon' : f_lon,\n",
    "                                 'FIREID' : fire_ids, 'grid_id' : fire_grid_id})"
   ]
  },
  {
   "cell_type": "code",
   "execution_count": 23,
   "metadata": {
    "ExecuteTime": {
     "end_time": "2018-06-30T20:40:12.561244Z",
     "start_time": "2018-06-30T20:40:12.549540Z"
    },
    "scrolled": true
   },
   "outputs": [
    {
     "data": {
      "text/html": [
       "<div>\n",
       "<style scoped>\n",
       "    .dataframe tbody tr th:only-of-type {\n",
       "        vertical-align: middle;\n",
       "    }\n",
       "\n",
       "    .dataframe tbody tr th {\n",
       "        vertical-align: top;\n",
       "    }\n",
       "\n",
       "    .dataframe thead th {\n",
       "        text-align: right;\n",
       "    }\n",
       "</style>\n",
       "<table border=\"1\" class=\"dataframe\">\n",
       "  <thead>\n",
       "    <tr style=\"text-align: right;\">\n",
       "      <th></th>\n",
       "      <th>lat</th>\n",
       "      <th>lon</th>\n",
       "      <th>FIREID</th>\n",
       "      <th>grid_id</th>\n",
       "    </tr>\n",
       "  </thead>\n",
       "  <tbody>\n",
       "    <tr>\n",
       "      <th>0</th>\n",
       "      <td>44.741389</td>\n",
       "      <td>-117.934167</td>\n",
       "      <td>6752594</td>\n",
       "      <td>1247</td>\n",
       "    </tr>\n",
       "    <tr>\n",
       "      <th>1</th>\n",
       "      <td>42.397222</td>\n",
       "      <td>-122.190000</td>\n",
       "      <td>6770108</td>\n",
       "      <td>1066</td>\n",
       "    </tr>\n",
       "    <tr>\n",
       "      <th>2</th>\n",
       "      <td>34.756944</td>\n",
       "      <td>-93.436111</td>\n",
       "      <td>6757702</td>\n",
       "      <td>682</td>\n",
       "    </tr>\n",
       "    <tr>\n",
       "      <th>3</th>\n",
       "      <td>36.373611</td>\n",
       "      <td>-112.333056</td>\n",
       "      <td>6768482</td>\n",
       "      <td>722</td>\n",
       "    </tr>\n",
       "    <tr>\n",
       "      <th>4</th>\n",
       "      <td>45.821667</td>\n",
       "      <td>-102.401667</td>\n",
       "      <td>6775526</td>\n",
       "      <td>1322</td>\n",
       "    </tr>\n",
       "  </tbody>\n",
       "</table>\n",
       "</div>"
      ],
      "text/plain": [
       "         lat         lon   FIREID  grid_id\n",
       "0  44.741389 -117.934167  6752594     1247\n",
       "1  42.397222 -122.190000  6770108     1066\n",
       "2  34.756944  -93.436111  6757702      682\n",
       "3  36.373611 -112.333056  6768482      722\n",
       "4  45.821667 -102.401667  6775526     1322"
      ]
     },
     "execution_count": 23,
     "metadata": {},
     "output_type": "execute_result"
    }
   ],
   "source": [
    "# view first couple ids\n",
    "fire_grid.head()"
   ]
  },
  {
   "cell_type": "code",
   "execution_count": 24,
   "metadata": {
    "ExecuteTime": {
     "end_time": "2018-06-30T20:40:14.889237Z",
     "start_time": "2018-06-30T20:40:12.563078Z"
    },
    "collapsed": true
   },
   "outputs": [],
   "source": [
    "# join grid_id back in to fire geopandas dataframe; inner joining to exclude fires outside my grid like Alaska\n",
    "fires_w_grid = fires.merge(fire_grid, left_on = 'FIREID', right_on = 'FIREID', how = 'left')"
   ]
  },
  {
   "cell_type": "code",
   "execution_count": 25,
   "metadata": {
    "ExecuteTime": {
     "end_time": "2018-06-30T20:40:16.890958Z",
     "start_time": "2018-06-30T20:40:14.891109Z"
    }
   },
   "outputs": [],
   "source": [
    "# set grid_id to character and remove duplicates\n",
    "fires_w_grid['grid_id'] = fires_w_grid['grid_id'].astype(str)\n",
    "# remove duplicates\n",
    "fires_w_grid = fires_w_grid[(fires_w_grid['Duplicate_'] == 0) & \n",
    "                            (fires_w_grid['STATE'] != 'Alaska')]\n",
    "# add year-month \n",
    "fires_w_grid['date'] = fires_w_grid['STARTDATED'] + MonthBegin(-1) # needs -1 to set back month"
   ]
  },
  {
   "cell_type": "code",
   "execution_count": 26,
   "metadata": {
    "ExecuteTime": {
     "end_time": "2018-06-30T20:40:16.899172Z",
     "start_time": "2018-06-30T20:40:16.892843Z"
    },
    "scrolled": false
   },
   "outputs": [
    {
     "name": "stdout",
     "output_type": "stream",
     "text": [
      "0   2016-10-01\n",
      "1   2016-08-01\n",
      "2   2016-07-01\n",
      "3   2016-07-01\n",
      "4   2016-07-01\n",
      "Name: date, dtype: datetime64[ns]\n",
      "0   2016-10-02\n",
      "1   2016-08-17\n",
      "2   2016-07-22\n",
      "3   2016-07-19\n",
      "4   2016-07-14\n",
      "Name: STARTDATED, dtype: datetime64[ns]\n"
     ]
    }
   ],
   "source": [
    "# make sure date is the start of the month\n",
    "print(fires_w_grid['date'][:5])\n",
    "print(fires_w_grid['STARTDATED'][:5])\n",
    "#x.dt.floor(freq = 'MS')"
   ]
  },
  {
   "cell_type": "code",
   "execution_count": 27,
   "metadata": {
    "ExecuteTime": {
     "end_time": "2018-06-30T20:40:16.975890Z",
     "start_time": "2018-06-30T20:40:16.901223Z"
    }
   },
   "outputs": [
    {
     "data": {
      "text/plain": [
       "array(['Oregon', 'Arkansas', 'Arizona', 'South Dakota', 'California',\n",
       "       'Alabama', 'Colorado', 'Virginia', 'Georgia', 'Tennessee',\n",
       "       'Kentucky', 'Ohio', 'Texas', 'Idaho', 'North Carolina', 'Utah',\n",
       "       'Illinois', 'Wyoming', 'Minnesota', 'Montana', 'New Mexico',\n",
       "       'South Carolina', 'Florida', 'Missouri', 'Nevada', 'Washington',\n",
       "       'Vermont', 'Louisiana', 'Nebraska', 'New Hampshire',\n",
       "       'Pennsylvania', 'Michigan', 'Oklahoma', 'Wisconsin', 'Kansas',\n",
       "       'New York', 'North Dakota', 'West Virginia', 'Mississippi',\n",
       "       'Indiana', 'Maine'], dtype=object)"
      ]
     },
     "execution_count": 27,
     "metadata": {},
     "output_type": "execute_result"
    }
   ],
   "source": [
    "fires_w_grid['STATE'].unique()  "
   ]
  },
  {
   "cell_type": "code",
   "execution_count": 28,
   "metadata": {
    "ExecuteTime": {
     "end_time": "2018-06-30T20:40:16.982042Z",
     "start_time": "2018-06-30T20:40:16.977872Z"
    }
   },
   "outputs": [
    {
     "data": {
      "text/plain": [
       "(298225, 41)"
      ]
     },
     "execution_count": 28,
     "metadata": {},
     "output_type": "execute_result"
    }
   ],
   "source": [
    "fires_w_grid.shape"
   ]
  },
  {
   "cell_type": "code",
   "execution_count": 29,
   "metadata": {
    "ExecuteTime": {
     "end_time": "2018-06-30T20:40:17.012784Z",
     "start_time": "2018-06-30T20:40:16.983788Z"
    },
    "scrolled": true
   },
   "outputs": [
    {
     "data": {
      "text/html": [
       "<div>\n",
       "<style scoped>\n",
       "    .dataframe tbody tr th:only-of-type {\n",
       "        vertical-align: middle;\n",
       "    }\n",
       "\n",
       "    .dataframe tbody tr th {\n",
       "        vertical-align: top;\n",
       "    }\n",
       "\n",
       "    .dataframe thead th {\n",
       "        text-align: right;\n",
       "    }\n",
       "</style>\n",
       "<table border=\"1\" class=\"dataframe\">\n",
       "  <thead>\n",
       "    <tr style=\"text-align: right;\">\n",
       "      <th></th>\n",
       "      <th>ORGANIZATI</th>\n",
       "      <th>UNIT</th>\n",
       "      <th>SUBUNIT</th>\n",
       "      <th>SUBUNIT2</th>\n",
       "      <th>FIREID</th>\n",
       "      <th>FIRENAME</th>\n",
       "      <th>FIRENUMBER</th>\n",
       "      <th>FIRECODE</th>\n",
       "      <th>CAUSE</th>\n",
       "      <th>SPECCAUSE</th>\n",
       "      <th>...</th>\n",
       "      <th>Cat_Field</th>\n",
       "      <th>DuplicateF</th>\n",
       "      <th>FireName_A</th>\n",
       "      <th>Keep</th>\n",
       "      <th>Duplicate_</th>\n",
       "      <th>geometry</th>\n",
       "      <th>lat</th>\n",
       "      <th>lon</th>\n",
       "      <th>grid_id</th>\n",
       "      <th>date</th>\n",
       "    </tr>\n",
       "  </thead>\n",
       "  <tbody>\n",
       "    <tr>\n",
       "      <th>0</th>\n",
       "      <td>FS</td>\n",
       "      <td>06</td>\n",
       "      <td>0616</td>\n",
       "      <td>Wallowa-Whitman National Forest</td>\n",
       "      <td>6752594</td>\n",
       "      <td>Elk Creek</td>\n",
       "      <td>056</td>\n",
       "      <td>EK2N</td>\n",
       "      <td>Human</td>\n",
       "      <td>9</td>\n",
       "      <td>...</td>\n",
       "      <td>EK2N/2016/Oregon/ELK CREEK</td>\n",
       "      <td>EK2N</td>\n",
       "      <td>ELK CREEK</td>\n",
       "      <td>None</td>\n",
       "      <td>0</td>\n",
       "      <td>POINT (-117.9341666698559 44.74138889038505)</td>\n",
       "      <td>44.741389</td>\n",
       "      <td>-117.934167</td>\n",
       "      <td>1247</td>\n",
       "      <td>2016-10-01</td>\n",
       "    </tr>\n",
       "    <tr>\n",
       "      <th>1</th>\n",
       "      <td>FS</td>\n",
       "      <td>06</td>\n",
       "      <td>0602</td>\n",
       "      <td>Fremont-Winema National Forest</td>\n",
       "      <td>6770108</td>\n",
       "      <td>Indian</td>\n",
       "      <td>028</td>\n",
       "      <td>KMG9</td>\n",
       "      <td>Human</td>\n",
       "      <td>9</td>\n",
       "      <td>...</td>\n",
       "      <td>KMG9/2016/Oregon/INDIAN</td>\n",
       "      <td>None</td>\n",
       "      <td>INDIAN</td>\n",
       "      <td>None</td>\n",
       "      <td>0</td>\n",
       "      <td>POINT (-122.1899999996003 42.39722221982964)</td>\n",
       "      <td>42.397222</td>\n",
       "      <td>-122.190000</td>\n",
       "      <td>1066</td>\n",
       "      <td>2016-08-01</td>\n",
       "    </tr>\n",
       "    <tr>\n",
       "      <th>2</th>\n",
       "      <td>FS</td>\n",
       "      <td>08</td>\n",
       "      <td>0809</td>\n",
       "      <td>Ouachita National Forest</td>\n",
       "      <td>6757702</td>\n",
       "      <td>Sweetwater</td>\n",
       "      <td>067</td>\n",
       "      <td>KHE1</td>\n",
       "      <td>Natural</td>\n",
       "      <td>1</td>\n",
       "      <td>...</td>\n",
       "      <td>KHE1/2016/Arkansas/SWEETWATER</td>\n",
       "      <td>None</td>\n",
       "      <td>SWEETWATER</td>\n",
       "      <td>None</td>\n",
       "      <td>0</td>\n",
       "      <td>POINT (-93.4361111097399 34.75694443973418)</td>\n",
       "      <td>34.756944</td>\n",
       "      <td>-93.436111</td>\n",
       "      <td>682</td>\n",
       "      <td>2016-07-01</td>\n",
       "    </tr>\n",
       "    <tr>\n",
       "      <th>3</th>\n",
       "      <td>FS</td>\n",
       "      <td>03</td>\n",
       "      <td>0307</td>\n",
       "      <td>Kaibab National Forest</td>\n",
       "      <td>6768482</td>\n",
       "      <td>STINA</td>\n",
       "      <td>042</td>\n",
       "      <td>EKV6</td>\n",
       "      <td>Natural</td>\n",
       "      <td>1</td>\n",
       "      <td>...</td>\n",
       "      <td>EKV6/2016/Arizona/STINA</td>\n",
       "      <td>EKV6</td>\n",
       "      <td>STINA</td>\n",
       "      <td>None</td>\n",
       "      <td>0</td>\n",
       "      <td>POINT (-112.3330555596663 36.37361110976497)</td>\n",
       "      <td>36.373611</td>\n",
       "      <td>-112.333056</td>\n",
       "      <td>722</td>\n",
       "      <td>2016-07-01</td>\n",
       "    </tr>\n",
       "    <tr>\n",
       "      <th>4</th>\n",
       "      <td>FS</td>\n",
       "      <td>01</td>\n",
       "      <td>0118</td>\n",
       "      <td>Dakota Prairie Grasslands</td>\n",
       "      <td>6775526</td>\n",
       "      <td>5A</td>\n",
       "      <td>015</td>\n",
       "      <td>EKT6</td>\n",
       "      <td>Natural</td>\n",
       "      <td>1</td>\n",
       "      <td>...</td>\n",
       "      <td>EKT6/2016/South Dakota/5A</td>\n",
       "      <td>EKT6</td>\n",
       "      <td>5A</td>\n",
       "      <td>None</td>\n",
       "      <td>0</td>\n",
       "      <td>POINT (-102.4016666697809 45.82166667028065)</td>\n",
       "      <td>45.821667</td>\n",
       "      <td>-102.401667</td>\n",
       "      <td>1322</td>\n",
       "      <td>2016-07-01</td>\n",
       "    </tr>\n",
       "  </tbody>\n",
       "</table>\n",
       "<p>5 rows × 41 columns</p>\n",
       "</div>"
      ],
      "text/plain": [
       "  ORGANIZATI UNIT SUBUNIT                         SUBUNIT2   FIREID  \\\n",
       "0         FS   06    0616  Wallowa-Whitman National Forest  6752594   \n",
       "1         FS   06    0602   Fremont-Winema National Forest  6770108   \n",
       "2         FS   08    0809         Ouachita National Forest  6757702   \n",
       "3         FS   03    0307           Kaibab National Forest  6768482   \n",
       "4         FS   01    0118        Dakota Prairie Grasslands  6775526   \n",
       "\n",
       "     FIRENAME FIRENUMBER FIRECODE    CAUSE  SPECCAUSE    ...      \\\n",
       "0   Elk Creek        056     EK2N    Human          9    ...       \n",
       "1      Indian        028     KMG9    Human          9    ...       \n",
       "2  Sweetwater        067     KHE1  Natural          1    ...       \n",
       "3       STINA        042     EKV6  Natural          1    ...       \n",
       "4          5A        015     EKT6  Natural          1    ...       \n",
       "\n",
       "                       Cat_Field DuplicateF  FireName_A  Keep Duplicate_  \\\n",
       "0     EK2N/2016/Oregon/ELK CREEK       EK2N   ELK CREEK  None          0   \n",
       "1        KMG9/2016/Oregon/INDIAN       None      INDIAN  None          0   \n",
       "2  KHE1/2016/Arkansas/SWEETWATER       None  SWEETWATER  None          0   \n",
       "3        EKV6/2016/Arizona/STINA       EKV6       STINA  None          0   \n",
       "4      EKT6/2016/South Dakota/5A       EKT6          5A  None          0   \n",
       "\n",
       "                                       geometry        lat         lon  \\\n",
       "0  POINT (-117.9341666698559 44.74138889038505)  44.741389 -117.934167   \n",
       "1  POINT (-122.1899999996003 42.39722221982964)  42.397222 -122.190000   \n",
       "2   POINT (-93.4361111097399 34.75694443973418)  34.756944  -93.436111   \n",
       "3  POINT (-112.3330555596663 36.37361110976497)  36.373611 -112.333056   \n",
       "4  POINT (-102.4016666697809 45.82166667028065)  45.821667 -102.401667   \n",
       "\n",
       "  grid_id       date  \n",
       "0    1247 2016-10-01  \n",
       "1    1066 2016-08-01  \n",
       "2     682 2016-07-01  \n",
       "3     722 2016-07-01  \n",
       "4    1322 2016-07-01  \n",
       "\n",
       "[5 rows x 41 columns]"
      ]
     },
     "execution_count": 29,
     "metadata": {},
     "output_type": "execute_result"
    }
   ],
   "source": [
    "# shape of fires with grid\n",
    "fires_w_grid.head()"
   ]
  },
  {
   "cell_type": "markdown",
   "metadata": {},
   "source": [
    "## Map of Fire Locations\n",
    "\n",
    "Loading in State shapefile and plotting fire points."
   ]
  },
  {
   "cell_type": "code",
   "execution_count": 30,
   "metadata": {
    "ExecuteTime": {
     "end_time": "2018-06-30T20:40:17.031651Z",
     "start_time": "2018-06-30T20:40:17.014892Z"
    }
   },
   "outputs": [],
   "source": [
    "# load state shapes as geopandas\n",
    "states = gp.read_file('../data/cb_2017_us_state_20m/cb_2017_us_state_20m.shp')\n",
    "# get rid of alaska and hawaii\n",
    "states = states[~states.STUSPS.isin(['AK', 'HI', 'PR'])]"
   ]
  },
  {
   "cell_type": "code",
   "execution_count": 31,
   "metadata": {
    "ExecuteTime": {
     "end_time": "2018-06-30T20:40:30.014454Z",
     "start_time": "2018-06-30T20:40:17.033602Z"
    },
    "scrolled": false
   },
   "outputs": [
    {
     "data": {
      "image/png": "[encoded data removed]",
      "text/plain": [
       "<Figure size 432x288 with 1 Axes>"
      ]
     },
     "metadata": {},
     "output_type": "display_data"
    }
   ],
   "source": [
    "# plot of states\n",
    "base_map = states.plot(color = '#2c5364', edgecolor = '#ffffff')\n",
    "# fire points\n",
    "fires_w_grid.plot(ax=base_map, marker = 'o', color = '#ff00cc', markersize =5)\n",
    "# coords\n",
    "plt.plot(glons, glats, marker='.', color='#2193b0', linestyle='none')\n",
    "plt.show()"
   ]
  },
  {
   "cell_type": "code",
   "execution_count": 32,
   "metadata": {
    "ExecuteTime": {
     "end_time": "2018-06-30T20:40:30.096980Z",
     "start_time": "2018-06-30T20:40:30.016357Z"
    },
    "collapsed": true
   },
   "outputs": [],
   "source": [
    "# checking colorado fires match up with shape and grid ids\n",
    "co_fires = fires_w_grid[fires_w_grid['STATE'] == 'Colorado']\n",
    "# colorado shape\n",
    "colorado = states[states['STUSPS'] == 'CO']"
   ]
  },
  {
   "cell_type": "code",
   "execution_count": 33,
   "metadata": {
    "ExecuteTime": {
     "end_time": "2018-06-30T20:40:30.112073Z",
     "start_time": "2018-06-30T20:40:30.099372Z"
    }
   },
   "outputs": [
    {
     "data": {
      "text/html": [
       "<div>\n",
       "<style scoped>\n",
       "    .dataframe tbody tr th:only-of-type {\n",
       "        vertical-align: middle;\n",
       "    }\n",
       "\n",
       "    .dataframe tbody tr th {\n",
       "        vertical-align: top;\n",
       "    }\n",
       "\n",
       "    .dataframe thead th {\n",
       "        text-align: right;\n",
       "    }\n",
       "</style>\n",
       "<table border=\"1\" class=\"dataframe\">\n",
       "  <thead>\n",
       "    <tr style=\"text-align: right;\">\n",
       "      <th></th>\n",
       "      <th>minx</th>\n",
       "      <th>miny</th>\n",
       "      <th>maxx</th>\n",
       "      <th>maxy</th>\n",
       "    </tr>\n",
       "  </thead>\n",
       "  <tbody>\n",
       "    <tr>\n",
       "      <th>2</th>\n",
       "      <td>-109.060062</td>\n",
       "      <td>36.992426</td>\n",
       "      <td>-102.041876</td>\n",
       "      <td>41.003073</td>\n",
       "    </tr>\n",
       "  </tbody>\n",
       "</table>\n",
       "</div>"
      ],
      "text/plain": [
       "         minx       miny        maxx       maxy\n",
       "2 -109.060062  36.992426 -102.041876  41.003073"
      ]
     },
     "execution_count": 33,
     "metadata": {},
     "output_type": "execute_result"
    }
   ],
   "source": [
    "# bounding box of colorado\n",
    "co_bbox = colorado.bounds\n",
    "co_bbox"
   ]
  },
  {
   "cell_type": "code",
   "execution_count": 34,
   "metadata": {
    "ExecuteTime": {
     "end_time": "2018-06-30T20:40:30.121188Z",
     "start_time": "2018-06-30T20:40:30.114221Z"
    }
   },
   "outputs": [
    {
     "name": "stdout",
     "output_type": "stream",
     "text": [
      "12 18 16 23\n"
     ]
    }
   ],
   "source": [
    "# lat and lon bounds\n",
    "latbounds = [36.0, 42.0]\n",
    "lonbounds = [-109.1, -102.04]\n",
    "\n",
    "# latitude lower and upper bounds, i had to modify slightly since \n",
    "# it was giving the index of the cell\n",
    "lat_li = np.min(np.argmin(np.abs(glats - latbounds[0]), axis = 0))\n",
    "lat_ui = np.min(np.argmin(np.abs(glats - latbounds[1]), axis = 0))\n",
    "\n",
    "# longitude lower and upper boudns\n",
    "lon_li = np.argmin(np.abs(glons - lonbounds[0]))\n",
    "lon_ui = np.argmin(np.abs(glons - lonbounds[1]))\n",
    "# print index\n",
    "print(lat_li, lat_ui, lon_li, lon_ui)"
   ]
  },
  {
   "cell_type": "code",
   "execution_count": 35,
   "metadata": {
    "ExecuteTime": {
     "end_time": "2018-06-30T20:40:30.128789Z",
     "start_time": "2018-06-30T20:40:30.123391Z"
    }
   },
   "outputs": [
    {
     "name": "stdout",
     "output_type": "stream",
     "text": [
      "-109.0 -103.0 36.0 41.0\n"
     ]
    }
   ],
   "source": [
    "# subset us lon\n",
    "lon_co = glons[lat_li:lat_ui, lon_li:lon_ui]\n",
    "# subset us lat\n",
    "lat_co = glats[lat_li:lat_ui, lon_li:lon_ui]\n",
    "# subset grid id\n",
    "grid_co = grid_id_array[lat_li:lat_ui, lon_li:lon_ui]\n",
    "# print dimensions\n",
    "print(np.min(lon_co), np.max(lon_co), np.min(lat_co), np.max(lat_co))"
   ]
  },
  {
   "cell_type": "code",
   "execution_count": 51,
   "metadata": {
    "ExecuteTime": {
     "end_time": "2018-06-30T22:49:07.282155Z",
     "start_time": "2018-06-30T22:49:06.618448Z"
    },
    "scrolled": true
   },
   "outputs": [
    {
     "data": {
      "image/png": "[encoded data removed]",
      "text/plain": [
       "<Figure size 432x288 with 1 Axes>"
      ]
     },
     "metadata": {},
     "output_type": "display_data"
    }
   ],
   "source": [
    "# plot of states\n",
    "co_map = colorado.plot(color = '#2c5364', edgecolor = '#ffffff')\n",
    "# fire points\n",
    "co_fires.plot(ax=co_map, marker = 'o', color = '#ff00cc', markersize =5)\n",
    "# coords\n",
    "plt.plot(lon_co, lat_co, marker='.', color='#2193b0', linestyle='none')\n",
    "plt.show()"
   ]
  },
  {
   "cell_type": "code",
   "execution_count": 50,
   "metadata": {
    "ExecuteTime": {
     "end_time": "2018-06-30T22:47:14.883874Z",
     "start_time": "2018-06-30T22:47:14.874980Z"
    }
   },
   "outputs": [
    {
     "data": {
      "text/plain": [
       "array([[ 725,  726,  727,  728,  729,  730,  731],\n",
       "       [ 784,  785,  786,  787,  788,  789,  790],\n",
       "       [ 843,  844,  845,  846,  847,  848,  849],\n",
       "       [ 902,  903,  904,  905,  906,  907,  908],\n",
       "       [ 961,  962,  963,  964,  965,  966,  967],\n",
       "       [1020, 1021, 1022, 1023, 1024, 1025, 1026]])"
      ]
     },
     "execution_count": 50,
     "metadata": {},
     "output_type": "execute_result"
    }
   ],
   "source": [
    "grid_co"
   ]
  },
  {
   "cell_type": "code",
   "execution_count": 37,
   "metadata": {
    "ExecuteTime": {
     "end_time": "2018-06-30T20:40:30.840994Z",
     "start_time": "2018-06-30T20:40:30.836728Z"
    }
   },
   "outputs": [
    {
     "name": "stdout",
     "output_type": "stream",
     "text": [
      "725 1026\n"
     ]
    }
   ],
   "source": [
    "# view grid range\n",
    "print(np.min(grid_co), np.max(grid_co))"
   ]
  },
  {
   "cell_type": "code",
   "execution_count": 38,
   "metadata": {
    "ExecuteTime": {
     "end_time": "2018-06-30T20:40:30.851451Z",
     "start_time": "2018-06-30T20:40:30.843045Z"
    }
   },
   "outputs": [
    {
     "name": "stdout",
     "output_type": "stream",
     "text": [
      "965 1022\n"
     ]
    }
   ],
   "source": [
    "# view fire range\n",
    "print(co_fires.grid_id.max(), co_fires.grid_id.min())"
   ]
  },
  {
   "cell_type": "code",
   "execution_count": 59,
   "metadata": {
    "ExecuteTime": {
     "end_time": "2018-06-30T23:18:32.644925Z",
     "start_time": "2018-06-30T23:18:32.637228Z"
    }
   },
   "outputs": [],
   "source": [
    "# denver; should be none\n",
    "co_spr_fires = co_fires[co_fires['grid_id'] == '906']"
   ]
  },
  {
   "cell_type": "code",
   "execution_count": 61,
   "metadata": {
    "ExecuteTime": {
     "end_time": "2018-06-30T23:19:22.381586Z",
     "start_time": "2018-06-30T23:19:22.351750Z"
    }
   },
   "outputs": [
    {
     "data": {
      "text/html": [
       "<div>\n",
       "<style scoped>\n",
       "    .dataframe tbody tr th:only-of-type {\n",
       "        vertical-align: middle;\n",
       "    }\n",
       "\n",
       "    .dataframe tbody tr th {\n",
       "        vertical-align: top;\n",
       "    }\n",
       "\n",
       "    .dataframe thead th {\n",
       "        text-align: right;\n",
       "    }\n",
       "</style>\n",
       "<table border=\"1\" class=\"dataframe\">\n",
       "  <thead>\n",
       "    <tr style=\"text-align: right;\">\n",
       "      <th></th>\n",
       "      <th>ORGANIZATI</th>\n",
       "      <th>UNIT</th>\n",
       "      <th>SUBUNIT</th>\n",
       "      <th>SUBUNIT2</th>\n",
       "      <th>FIREID</th>\n",
       "      <th>FIRENAME</th>\n",
       "      <th>FIRENUMBER</th>\n",
       "      <th>FIRECODE</th>\n",
       "      <th>CAUSE</th>\n",
       "      <th>SPECCAUSE</th>\n",
       "      <th>...</th>\n",
       "      <th>Cat_Field</th>\n",
       "      <th>DuplicateF</th>\n",
       "      <th>FireName_A</th>\n",
       "      <th>Keep</th>\n",
       "      <th>Duplicate_</th>\n",
       "      <th>geometry</th>\n",
       "      <th>lat</th>\n",
       "      <th>lon</th>\n",
       "      <th>grid_id</th>\n",
       "      <th>date</th>\n",
       "    </tr>\n",
       "  </thead>\n",
       "  <tbody>\n",
       "    <tr>\n",
       "      <th>114</th>\n",
       "      <td>FS</td>\n",
       "      <td>02</td>\n",
       "      <td>0212</td>\n",
       "      <td>Pike and San Isabel National Forests</td>\n",
       "      <td>6771504</td>\n",
       "      <td>950</td>\n",
       "      <td>106</td>\n",
       "      <td>KRE4</td>\n",
       "      <td>Human</td>\n",
       "      <td>9</td>\n",
       "      <td>...</td>\n",
       "      <td>KRE4/2016/Colorado/950</td>\n",
       "      <td>None</td>\n",
       "      <td>950</td>\n",
       "      <td>None</td>\n",
       "      <td>0</td>\n",
       "      <td>POINT (-105.0113888898853 38.97944444010886)</td>\n",
       "      <td>38.979444</td>\n",
       "      <td>-105.011389</td>\n",
       "      <td>906</td>\n",
       "      <td>2016-09-01</td>\n",
       "    </tr>\n",
       "    <tr>\n",
       "      <th>115</th>\n",
       "      <td>FS</td>\n",
       "      <td>02</td>\n",
       "      <td>0212</td>\n",
       "      <td>Pike and San Isabel National Forests</td>\n",
       "      <td>6771511</td>\n",
       "      <td>ICE CAVE</td>\n",
       "      <td>115</td>\n",
       "      <td>KR57</td>\n",
       "      <td>Human</td>\n",
       "      <td>30</td>\n",
       "      <td>...</td>\n",
       "      <td>KR57/2016/Colorado/ICE CAVE</td>\n",
       "      <td>None</td>\n",
       "      <td>ICE CAVE</td>\n",
       "      <td>None</td>\n",
       "      <td>0</td>\n",
       "      <td>POINT (-105.0213888896855 39.10499999965032)</td>\n",
       "      <td>39.105000</td>\n",
       "      <td>-105.021389</td>\n",
       "      <td>906</td>\n",
       "      <td>2016-10-01</td>\n",
       "    </tr>\n",
       "    <tr>\n",
       "      <th>116</th>\n",
       "      <td>FS</td>\n",
       "      <td>02</td>\n",
       "      <td>0212</td>\n",
       "      <td>Pike and San Isabel National Forests</td>\n",
       "      <td>6771530</td>\n",
       "      <td>Talcott</td>\n",
       "      <td>120</td>\n",
       "      <td>KR91</td>\n",
       "      <td>Human</td>\n",
       "      <td>30</td>\n",
       "      <td>...</td>\n",
       "      <td>KR91/2016/Colorado/TALCOTT</td>\n",
       "      <td>None</td>\n",
       "      <td>TALCOTT</td>\n",
       "      <td>None</td>\n",
       "      <td>0</td>\n",
       "      <td>POINT (-105.0013888900852 38.96000000029983)</td>\n",
       "      <td>38.960000</td>\n",
       "      <td>-105.001389</td>\n",
       "      <td>906</td>\n",
       "      <td>2016-10-01</td>\n",
       "    </tr>\n",
       "    <tr>\n",
       "      <th>117</th>\n",
       "      <td>FS</td>\n",
       "      <td>02</td>\n",
       "      <td>0212</td>\n",
       "      <td>Pike and San Isabel National Forests</td>\n",
       "      <td>6771553</td>\n",
       "      <td>Barr Trail</td>\n",
       "      <td>122</td>\n",
       "      <td>KSN5</td>\n",
       "      <td>Human</td>\n",
       "      <td>30</td>\n",
       "      <td>...</td>\n",
       "      <td>KSN5/2016/Colorado/BARR TRAIL</td>\n",
       "      <td>None</td>\n",
       "      <td>BARR TRAIL</td>\n",
       "      <td>None</td>\n",
       "      <td>0</td>\n",
       "      <td>POINT (-104.98 38.85194444018384)</td>\n",
       "      <td>38.851944</td>\n",
       "      <td>-104.980000</td>\n",
       "      <td>906</td>\n",
       "      <td>2016-10-01</td>\n",
       "    </tr>\n",
       "    <tr>\n",
       "      <th>118</th>\n",
       "      <td>FS</td>\n",
       "      <td>02</td>\n",
       "      <td>0212</td>\n",
       "      <td>Pike and San Isabel National Forests</td>\n",
       "      <td>6771561</td>\n",
       "      <td>West Creek</td>\n",
       "      <td>123</td>\n",
       "      <td>KSN7</td>\n",
       "      <td>Human</td>\n",
       "      <td>30</td>\n",
       "      <td>...</td>\n",
       "      <td>KSN7/2016/Colorado/WEST CREEK</td>\n",
       "      <td>None</td>\n",
       "      <td>WEST CREEK</td>\n",
       "      <td>None</td>\n",
       "      <td>0</td>\n",
       "      <td>POINT (-105.1286111101146 39.13138889008525)</td>\n",
       "      <td>39.131389</td>\n",
       "      <td>-105.128611</td>\n",
       "      <td>906</td>\n",
       "      <td>2016-10-01</td>\n",
       "    </tr>\n",
       "  </tbody>\n",
       "</table>\n",
       "<p>5 rows × 41 columns</p>\n",
       "</div>"
      ],
      "text/plain": [
       "    ORGANIZATI UNIT SUBUNIT                              SUBUNIT2   FIREID  \\\n",
       "114         FS   02    0212  Pike and San Isabel National Forests  6771504   \n",
       "115         FS   02    0212  Pike and San Isabel National Forests  6771511   \n",
       "116         FS   02    0212  Pike and San Isabel National Forests  6771530   \n",
       "117         FS   02    0212  Pike and San Isabel National Forests  6771553   \n",
       "118         FS   02    0212  Pike and San Isabel National Forests  6771561   \n",
       "\n",
       "       FIRENAME FIRENUMBER FIRECODE  CAUSE  SPECCAUSE    ...      \\\n",
       "114         950        106     KRE4  Human          9    ...       \n",
       "115    ICE CAVE        115     KR57  Human         30    ...       \n",
       "116     Talcott        120     KR91  Human         30    ...       \n",
       "117  Barr Trail        122     KSN5  Human         30    ...       \n",
       "118  West Creek        123     KSN7  Human         30    ...       \n",
       "\n",
       "                         Cat_Field DuplicateF  FireName_A  Keep Duplicate_  \\\n",
       "114         KRE4/2016/Colorado/950       None         950  None          0   \n",
       "115    KR57/2016/Colorado/ICE CAVE       None    ICE CAVE  None          0   \n",
       "116     KR91/2016/Colorado/TALCOTT       None     TALCOTT  None          0   \n",
       "117  KSN5/2016/Colorado/BARR TRAIL       None  BARR TRAIL  None          0   \n",
       "118  KSN7/2016/Colorado/WEST CREEK       None  WEST CREEK  None          0   \n",
       "\n",
       "                                         geometry        lat         lon  \\\n",
       "114  POINT (-105.0113888898853 38.97944444010886)  38.979444 -105.011389   \n",
       "115  POINT (-105.0213888896855 39.10499999965032)  39.105000 -105.021389   \n",
       "116  POINT (-105.0013888900852 38.96000000029983)  38.960000 -105.001389   \n",
       "117             POINT (-104.98 38.85194444018384)  38.851944 -104.980000   \n",
       "118  POINT (-105.1286111101146 39.13138889008525)  39.131389 -105.128611   \n",
       "\n",
       "    grid_id       date  \n",
       "114     906 2016-09-01  \n",
       "115     906 2016-10-01  \n",
       "116     906 2016-10-01  \n",
       "117     906 2016-10-01  \n",
       "118     906 2016-10-01  \n",
       "\n",
       "[5 rows x 41 columns]"
      ]
     },
     "execution_count": 61,
     "metadata": {},
     "output_type": "execute_result"
    }
   ],
   "source": [
    "co_spr_fires.head()"
   ]
  },
  {
   "cell_type": "markdown",
   "metadata": {},
   "source": [
    "### Save Fire Information with Grid IDs and without Geometry  \n",
    "\n",
    "Saving as CSV."
   ]
  },
  {
   "cell_type": "code",
   "execution_count": 39,
   "metadata": {
    "ExecuteTime": {
     "end_time": "2018-06-30T20:40:30.856417Z",
     "start_time": "2018-06-30T20:40:30.853562Z"
    },
    "collapsed": true
   },
   "outputs": [],
   "source": [
    "# making fires df from geopandas df\n",
    "fires_info_df = pd.DataFrame(fires_w_grid)"
   ]
  },
  {
   "cell_type": "code",
   "execution_count": 41,
   "metadata": {
    "ExecuteTime": {
     "end_time": "2018-06-30T20:41:57.202402Z",
     "start_time": "2018-06-30T20:41:57.191722Z"
    }
   },
   "outputs": [
    {
     "name": "stdout",
     "output_type": "stream",
     "text": [
      "1979-12-01 00:00:00 2016-12-01 00:00:00\n"
     ]
    }
   ],
   "source": [
    "print(fires_info_df.date.min(),fires_info_df.date.max())"
   ]
  },
  {
   "cell_type": "code",
   "execution_count": null,
   "metadata": {
    "ExecuteTime": {
     "end_time": "2018-06-30T20:40:30.863351Z",
     "start_time": "2018-06-30T20:39:25.636Z"
    },
    "collapsed": true
   },
   "outputs": [],
   "source": [
    "# save\n",
    "#fires_info_df.to_csv('../data/model_data/1979-2016_wildfire_info_us.csv')"
   ]
  },
  {
   "cell_type": "markdown",
   "metadata": {},
   "source": [
    "### Save Fire Indicator and Counts by Grid ID and Month\n",
    "\n",
    "I want to group by date and grid id and count up any fires, and fire class type. I can use it later to make an indicator variable."
   ]
  },
  {
   "cell_type": "code",
   "execution_count": 42,
   "metadata": {
    "ExecuteTime": {
     "end_time": "2018-06-30T20:42:05.446673Z",
     "start_time": "2018-06-30T20:42:05.308463Z"
    }
   },
   "outputs": [],
   "source": [
    "fires_count = (fires_info_df[['SIZECLASS', 'date', 'grid_id']]\n",
    "               .groupby(['grid_id', 'date', 'SIZECLASS']).size()\n",
    "               .unstack().reset_index().fillna(0))"
   ]
  },
  {
   "cell_type": "code",
   "execution_count": 43,
   "metadata": {
    "ExecuteTime": {
     "end_time": "2018-06-30T20:42:33.317389Z",
     "start_time": "2018-06-30T20:42:33.308244Z"
    },
    "collapsed": true
   },
   "outputs": [],
   "source": [
    "# create an any fire variable\n",
    "fires_count['fire'] = np.where(((fires_count['A'] > 0) | (fires_count['B'] > 0) |\n",
    "                              (fires_count['C'] > 0) | (fires_count['D']) |\n",
    "                              (fires_count['E'] > 0) | (fires_count['F'] > 0) |\n",
    "                              (fires_count['G'] > 0)), 1, 0)"
   ]
  },
  {
   "cell_type": "code",
   "execution_count": 44,
   "metadata": {
    "ExecuteTime": {
     "end_time": "2018-06-30T20:43:08.941024Z",
     "start_time": "2018-06-30T20:43:00.872538Z"
    }
   },
   "outputs": [],
   "source": [
    "# fire lat lons\n",
    "fire_lat_lon = fires_info_df[['grid_id', 'lat', 'lon']]\n",
    "# join to fire counts\n",
    "fires_grid_id = fires_count.merge(fire_lat_lon, left_on='grid_id', \n",
    "                                right_on='grid_id', how='left')"
   ]
  },
  {
   "cell_type": "code",
   "execution_count": 45,
   "metadata": {
    "ExecuteTime": {
     "end_time": "2018-06-30T20:43:36.403627Z",
     "start_time": "2018-06-30T20:43:36.387236Z"
    },
    "scrolled": true
   },
   "outputs": [
    {
     "data": {
      "text/html": [
       "<div>\n",
       "<style scoped>\n",
       "    .dataframe tbody tr th:only-of-type {\n",
       "        vertical-align: middle;\n",
       "    }\n",
       "\n",
       "    .dataframe tbody tr th {\n",
       "        vertical-align: top;\n",
       "    }\n",
       "\n",
       "    .dataframe thead th {\n",
       "        text-align: right;\n",
       "    }\n",
       "</style>\n",
       "<table border=\"1\" class=\"dataframe\">\n",
       "  <thead>\n",
       "    <tr style=\"text-align: right;\">\n",
       "      <th>SIZECLASS</th>\n",
       "      <th>grid_id</th>\n",
       "      <th>date</th>\n",
       "      <th>A</th>\n",
       "      <th>B</th>\n",
       "      <th>C</th>\n",
       "      <th>D</th>\n",
       "      <th>E</th>\n",
       "      <th>F</th>\n",
       "      <th>G</th>\n",
       "      <th>fire</th>\n",
       "    </tr>\n",
       "  </thead>\n",
       "  <tbody>\n",
       "    <tr>\n",
       "      <th>0</th>\n",
       "      <td>1005</td>\n",
       "      <td>1980-05-01</td>\n",
       "      <td>1.0</td>\n",
       "      <td>1.0</td>\n",
       "      <td>0.0</td>\n",
       "      <td>0.0</td>\n",
       "      <td>0.0</td>\n",
       "      <td>0.0</td>\n",
       "      <td>0.0</td>\n",
       "      <td>1</td>\n",
       "    </tr>\n",
       "    <tr>\n",
       "      <th>1</th>\n",
       "      <td>1005</td>\n",
       "      <td>1980-06-01</td>\n",
       "      <td>1.0</td>\n",
       "      <td>0.0</td>\n",
       "      <td>0.0</td>\n",
       "      <td>0.0</td>\n",
       "      <td>0.0</td>\n",
       "      <td>0.0</td>\n",
       "      <td>0.0</td>\n",
       "      <td>1</td>\n",
       "    </tr>\n",
       "    <tr>\n",
       "      <th>2</th>\n",
       "      <td>1005</td>\n",
       "      <td>1980-07-01</td>\n",
       "      <td>4.0</td>\n",
       "      <td>1.0</td>\n",
       "      <td>0.0</td>\n",
       "      <td>0.0</td>\n",
       "      <td>0.0</td>\n",
       "      <td>0.0</td>\n",
       "      <td>0.0</td>\n",
       "      <td>1</td>\n",
       "    </tr>\n",
       "    <tr>\n",
       "      <th>3</th>\n",
       "      <td>1005</td>\n",
       "      <td>1980-08-01</td>\n",
       "      <td>6.0</td>\n",
       "      <td>1.0</td>\n",
       "      <td>0.0</td>\n",
       "      <td>0.0</td>\n",
       "      <td>0.0</td>\n",
       "      <td>0.0</td>\n",
       "      <td>0.0</td>\n",
       "      <td>1</td>\n",
       "    </tr>\n",
       "    <tr>\n",
       "      <th>4</th>\n",
       "      <td>1005</td>\n",
       "      <td>1980-09-01</td>\n",
       "      <td>4.0</td>\n",
       "      <td>3.0</td>\n",
       "      <td>0.0</td>\n",
       "      <td>0.0</td>\n",
       "      <td>0.0</td>\n",
       "      <td>0.0</td>\n",
       "      <td>0.0</td>\n",
       "      <td>1</td>\n",
       "    </tr>\n",
       "  </tbody>\n",
       "</table>\n",
       "</div>"
      ],
      "text/plain": [
       "SIZECLASS grid_id       date    A    B    C    D    E    F    G  fire\n",
       "0            1005 1980-05-01  1.0  1.0  0.0  0.0  0.0  0.0  0.0     1\n",
       "1            1005 1980-06-01  1.0  0.0  0.0  0.0  0.0  0.0  0.0     1\n",
       "2            1005 1980-07-01  4.0  1.0  0.0  0.0  0.0  0.0  0.0     1\n",
       "3            1005 1980-08-01  6.0  1.0  0.0  0.0  0.0  0.0  0.0     1\n",
       "4            1005 1980-09-01  4.0  3.0  0.0  0.0  0.0  0.0  0.0     1"
      ]
     },
     "execution_count": 45,
     "metadata": {},
     "output_type": "execute_result"
    }
   ],
   "source": [
    "# check; looks good\n",
    "fires_count.head()"
   ]
  },
  {
   "cell_type": "code",
   "execution_count": 46,
   "metadata": {
    "ExecuteTime": {
     "end_time": "2018-06-30T20:44:12.311074Z",
     "start_time": "2018-06-30T20:44:12.282679Z"
    },
    "scrolled": false
   },
   "outputs": [
    {
     "data": {
      "text/html": [
       "<div>\n",
       "<style scoped>\n",
       "    .dataframe tbody tr th:only-of-type {\n",
       "        vertical-align: middle;\n",
       "    }\n",
       "\n",
       "    .dataframe tbody tr th {\n",
       "        vertical-align: top;\n",
       "    }\n",
       "\n",
       "    .dataframe thead th {\n",
       "        text-align: right;\n",
       "    }\n",
       "</style>\n",
       "<table border=\"1\" class=\"dataframe\">\n",
       "  <thead>\n",
       "    <tr style=\"text-align: right;\">\n",
       "      <th>SIZECLASS</th>\n",
       "      <th>grid_id</th>\n",
       "      <th>date</th>\n",
       "      <th>A</th>\n",
       "      <th>B</th>\n",
       "      <th>C</th>\n",
       "      <th>D</th>\n",
       "      <th>E</th>\n",
       "      <th>F</th>\n",
       "      <th>G</th>\n",
       "      <th>fire</th>\n",
       "    </tr>\n",
       "  </thead>\n",
       "  <tbody>\n",
       "    <tr>\n",
       "      <th>52621</th>\n",
       "      <td>989</td>\n",
       "      <td>2001-03-01</td>\n",
       "      <td>0.0</td>\n",
       "      <td>1.0</td>\n",
       "      <td>0.0</td>\n",
       "      <td>0.0</td>\n",
       "      <td>0.0</td>\n",
       "      <td>0.0</td>\n",
       "      <td>0.0</td>\n",
       "      <td>1</td>\n",
       "    </tr>\n",
       "    <tr>\n",
       "      <th>52622</th>\n",
       "      <td>989</td>\n",
       "      <td>2001-11-01</td>\n",
       "      <td>0.0</td>\n",
       "      <td>1.0</td>\n",
       "      <td>0.0</td>\n",
       "      <td>0.0</td>\n",
       "      <td>0.0</td>\n",
       "      <td>0.0</td>\n",
       "      <td>0.0</td>\n",
       "      <td>1</td>\n",
       "    </tr>\n",
       "    <tr>\n",
       "      <th>52623</th>\n",
       "      <td>989</td>\n",
       "      <td>2006-01-01</td>\n",
       "      <td>0.0</td>\n",
       "      <td>0.0</td>\n",
       "      <td>1.0</td>\n",
       "      <td>0.0</td>\n",
       "      <td>0.0</td>\n",
       "      <td>0.0</td>\n",
       "      <td>0.0</td>\n",
       "      <td>1</td>\n",
       "    </tr>\n",
       "    <tr>\n",
       "      <th>52624</th>\n",
       "      <td>989</td>\n",
       "      <td>2013-11-01</td>\n",
       "      <td>0.0</td>\n",
       "      <td>1.0</td>\n",
       "      <td>0.0</td>\n",
       "      <td>0.0</td>\n",
       "      <td>0.0</td>\n",
       "      <td>0.0</td>\n",
       "      <td>0.0</td>\n",
       "      <td>1</td>\n",
       "    </tr>\n",
       "    <tr>\n",
       "      <th>52625</th>\n",
       "      <td>989</td>\n",
       "      <td>2015-03-01</td>\n",
       "      <td>0.0</td>\n",
       "      <td>2.0</td>\n",
       "      <td>0.0</td>\n",
       "      <td>0.0</td>\n",
       "      <td>0.0</td>\n",
       "      <td>0.0</td>\n",
       "      <td>0.0</td>\n",
       "      <td>1</td>\n",
       "    </tr>\n",
       "  </tbody>\n",
       "</table>\n",
       "</div>"
      ],
      "text/plain": [
       "SIZECLASS grid_id       date    A    B    C    D    E    F    G  fire\n",
       "52621         989 2001-03-01  0.0  1.0  0.0  0.0  0.0  0.0  0.0     1\n",
       "52622         989 2001-11-01  0.0  1.0  0.0  0.0  0.0  0.0  0.0     1\n",
       "52623         989 2006-01-01  0.0  0.0  1.0  0.0  0.0  0.0  0.0     1\n",
       "52624         989 2013-11-01  0.0  1.0  0.0  0.0  0.0  0.0  0.0     1\n",
       "52625         989 2015-03-01  0.0  2.0  0.0  0.0  0.0  0.0  0.0     1"
      ]
     },
     "execution_count": 46,
     "metadata": {},
     "output_type": "execute_result"
    }
   ],
   "source": [
    "fires_count.tail()"
   ]
  },
  {
   "cell_type": "code",
   "execution_count": 47,
   "metadata": {
    "ExecuteTime": {
     "end_time": "2018-06-30T20:44:39.839200Z",
     "start_time": "2018-06-30T20:44:39.833651Z"
    },
    "scrolled": true
   },
   "outputs": [
    {
     "data": {
      "text/plain": [
       "(52626, 10)"
      ]
     },
     "execution_count": 47,
     "metadata": {},
     "output_type": "execute_result"
    }
   ],
   "source": [
    "# check shape\n",
    "fires_count.shape"
   ]
  },
  {
   "cell_type": "code",
   "execution_count": 48,
   "metadata": {
    "ExecuteTime": {
     "end_time": "2018-06-30T20:46:38.993698Z",
     "start_time": "2018-06-30T20:46:38.355683Z"
    },
    "collapsed": true
   },
   "outputs": [],
   "source": [
    "# write fires\n",
    "#fires_count.to_csv('../data/model_data/1979-2016_wildfire_grid.csv')"
   ]
  },
  {
   "cell_type": "markdown",
   "metadata": {},
   "source": [
    "### Descriptives of Fires\n",
    "\n",
    "Counts of fire types."
   ]
  },
  {
   "cell_type": "code",
   "execution_count": null,
   "metadata": {
    "ExecuteTime": {
     "end_time": "2018-06-30T20:40:30.871571Z",
     "start_time": "2018-06-30T20:39:25.716Z"
    },
    "collapsed": true
   },
   "outputs": [],
   "source": [
    "# summarise number of fires; needs reset index\n",
    "fire_counts = (fires_w_grid[['SIZECLASS', 'TOTALACRES', 'FiscalYear']]\n",
    "               .groupby(['FiscalYear', 'SIZECLASS']).count().reset_index())\n",
    "\n",
    "# convert size class to category\n",
    "fire_counts['SIZECLASS'] = fire_counts['SIZECLASS'].astype('category')"
   ]
  },
  {
   "cell_type": "code",
   "execution_count": null,
   "metadata": {
    "ExecuteTime": {
     "end_time": "2018-06-30T20:40:30.872982Z",
     "start_time": "2018-06-30T20:39:25.720Z"
    },
    "scrolled": true
   },
   "outputs": [],
   "source": [
    "# view first couple\n",
    "fire_counts.head()"
   ]
  },
  {
   "cell_type": "code",
   "execution_count": null,
   "metadata": {
    "ExecuteTime": {
     "end_time": "2018-06-30T20:40:30.874003Z",
     "start_time": "2018-06-30T20:39:25.724Z"
    }
   },
   "outputs": [],
   "source": [
    "fire_counts.dtypes"
   ]
  },
  {
   "cell_type": "code",
   "execution_count": null,
   "metadata": {
    "ExecuteTime": {
     "end_time": "2018-06-30T20:40:30.875266Z",
     "start_time": "2018-06-30T20:39:25.727Z"
    },
    "scrolled": true
   },
   "outputs": [],
   "source": [
    "# number of fires by year over time\n",
    "sns.lmplot(x='FiscalYear', y='TOTALACRES', hue = 'SIZECLASS', fit_reg = False, data = fire_counts)"
   ]
  },
  {
   "cell_type": "code",
   "execution_count": null,
   "metadata": {
    "ExecuteTime": {
     "end_time": "2018-06-30T20:40:30.876355Z",
     "start_time": "2018-06-30T20:39:25.732Z"
    },
    "scrolled": true
   },
   "outputs": [],
   "source": [
    "# avg acres burned \n",
    "fire_acres = (fires_w_grid[['TOTALACRES', 'FiscalYear']]\n",
    "               .groupby(['FiscalYear']).mean().reset_index())\n",
    "\n",
    "# convert size class to category\n",
    "fire_acres.head()"
   ]
  },
  {
   "cell_type": "code",
   "execution_count": null,
   "metadata": {
    "ExecuteTime": {
     "end_time": "2018-06-30T20:40:30.877570Z",
     "start_time": "2018-06-30T20:39:25.735Z"
    }
   },
   "outputs": [],
   "source": [
    "# number of fires by year over time\n",
    "ax = sns.lmplot(x='FiscalYear', y='TOTALACRES', data = fire_acres)\n",
    "ax.set(xlabel = 'Year', ylabel = 'Average Acres Burned')"
   ]
  }
 ],
 "metadata": {
  "kernelspec": {
   "display_name": "py3",
   "language": "python",
   "name": "py3"
  },
  "language_info": {
   "codemirror_mode": {
    "name": "ipython",
    "version": 3
   },
   "file_extension": ".py",
   "mimetype": "text/x-python",
   "name": "python",
   "nbconvert_exporter": "python",
   "pygments_lexer": "ipython3",
   "version": "3.6.2"
  },
  "latex_envs": {
   "LaTeX_envs_menu_present": true,
   "autoclose": false,
   "autocomplete": true,
   "bibliofile": "biblio.bib",
   "cite_by": "apalike",
   "current_citInitial": 1,
   "eqLabelWithNumbers": true,
   "eqNumInitial": 1,
   "hotkeys": {
    "equation": "Ctrl-E",
    "itemize": "Ctrl-I"
   },
   "labels_anchors": false,
   "latex_user_defs": false,
   "report_style_numbering": false,
   "user_envs_cfg": false
  },
  "varInspector": {
   "cols": {
    "lenName": 16,
    "lenType": 16,
    "lenVar": 40
   },
   "kernels_config": {
    "python": {
     "delete_cmd_postfix": "",
     "delete_cmd_prefix": "del ",
     "library": "var_list.py",
     "varRefreshCmd": "print(var_dic_list())"
    },
    "r": {
     "delete_cmd_postfix": ") ",
     "delete_cmd_prefix": "rm(",
     "library": "var_list.r",
     "varRefreshCmd": "cat(var_dic_list()) "
    }
   },
   "types_to_exclude": [
    "module",
    "function",
    "builtin_function_or_method",
    "instance",
    "_Feature"
   ],
   "window_display": false
  }
 },
 "nbformat": 4,
 "nbformat_minor": 2
}
