{
 "cells": [
  {
   "cell_type": "markdown",
   "metadata": {},
   "source": [
    "### Reading in Historic Wildfire Data\n",
    "\n",
    "Reading in fire shapefile."
   ]
  },
  {
   "cell_type": "code",
   "execution_count": 108,
   "metadata": {
    "ExecuteTime": {
     "end_time": "2018-06-27T20:29:11.197952Z",
     "start_time": "2018-06-27T20:29:10.939263Z"
    },
    "scrolled": true
   },
   "outputs": [],
   "source": [
    "# import geopandas, looks like it's similar to simple featurs\n",
    "import geopandas as gp # geopandas brings in shapefiles as dataframe with spatial information\n",
    "import pandas as pd # pandas dataframe\n",
    "import numpy as np # numpy to create new array\n",
    "# interpolate griddate\n",
    "from scipy import interpolate\n",
    "# plots\n",
    "from matplotlib import pyplot as plt \n",
    "%matplotlib inline\n",
    "#import mpl_toolkits # i'd like basemap but doesn't seem to be available for py3\n",
    "# Seaborn for plotting and styling\n",
    "import seaborn as sns"
   ]
  },
  {
   "cell_type": "markdown",
   "metadata": {},
   "source": [
    "Read in 1980 to 2016 wildfire data."
   ]
  },
  {
   "cell_type": "code",
   "execution_count": 2,
   "metadata": {
    "ExecuteTime": {
     "end_time": "2018-06-27T18:13:42.919232Z",
     "start_time": "2018-06-27T18:13:00.256395Z"
    },
    "collapsed": true
   },
   "outputs": [],
   "source": [
    "fires = gp.read_file('../data/wf_usfs_1980_2016/wf_usfs_1980_2016.shp')"
   ]
  },
  {
   "cell_type": "markdown",
   "metadata": {},
   "source": [
    "View head of fires geopandas dataframe."
   ]
  },
  {
   "cell_type": "code",
   "execution_count": 3,
   "metadata": {
    "ExecuteTime": {
     "end_time": "2018-06-27T18:13:42.988348Z",
     "start_time": "2018-06-27T18:13:42.922601Z"
    }
   },
   "outputs": [
    {
     "data": {
      "text/html": [
       "<div>\n",
       "<style scoped>\n",
       "    .dataframe tbody tr th:only-of-type {\n",
       "        vertical-align: middle;\n",
       "    }\n",
       "\n",
       "    .dataframe tbody tr th {\n",
       "        vertical-align: top;\n",
       "    }\n",
       "\n",
       "    .dataframe thead th {\n",
       "        text-align: right;\n",
       "    }\n",
       "</style>\n",
       "<table border=\"1\" class=\"dataframe\">\n",
       "  <thead>\n",
       "    <tr style=\"text-align: right;\">\n",
       "      <th></th>\n",
       "      <th>ORGANIZATI</th>\n",
       "      <th>UNIT</th>\n",
       "      <th>SUBUNIT</th>\n",
       "      <th>SUBUNIT2</th>\n",
       "      <th>FIREID</th>\n",
       "      <th>FIRENAME</th>\n",
       "      <th>FIRENUMBER</th>\n",
       "      <th>FIRECODE</th>\n",
       "      <th>CAUSE</th>\n",
       "      <th>SPECCAUSE</th>\n",
       "      <th>...</th>\n",
       "      <th>DLONGITUDE</th>\n",
       "      <th>TOTALACRES</th>\n",
       "      <th>TRPGENCAUS</th>\n",
       "      <th>TRPSPECCAU</th>\n",
       "      <th>Cat_Field</th>\n",
       "      <th>DuplicateF</th>\n",
       "      <th>FireName_A</th>\n",
       "      <th>Keep</th>\n",
       "      <th>Duplicate_</th>\n",
       "      <th>geometry</th>\n",
       "    </tr>\n",
       "  </thead>\n",
       "  <tbody>\n",
       "    <tr>\n",
       "      <th>0</th>\n",
       "      <td>FS</td>\n",
       "      <td>06</td>\n",
       "      <td>0616</td>\n",
       "      <td>Wallowa-Whitman National Forest</td>\n",
       "      <td>6752594</td>\n",
       "      <td>Elk Creek</td>\n",
       "      <td>056</td>\n",
       "      <td>EK2N</td>\n",
       "      <td>Human</td>\n",
       "      <td>9</td>\n",
       "      <td>...</td>\n",
       "      <td>-117.934167</td>\n",
       "      <td>0.3</td>\n",
       "      <td>8</td>\n",
       "      <td>9</td>\n",
       "      <td>EK2N/2016/Oregon/ELK CREEK</td>\n",
       "      <td>EK2N</td>\n",
       "      <td>ELK CREEK</td>\n",
       "      <td>None</td>\n",
       "      <td>0</td>\n",
       "      <td>POINT (-117.9341666698559 44.74138889038505)</td>\n",
       "    </tr>\n",
       "    <tr>\n",
       "      <th>1</th>\n",
       "      <td>FS</td>\n",
       "      <td>06</td>\n",
       "      <td>0602</td>\n",
       "      <td>Fremont-Winema National Forest</td>\n",
       "      <td>6770108</td>\n",
       "      <td>Indian</td>\n",
       "      <td>028</td>\n",
       "      <td>KMG9</td>\n",
       "      <td>Human</td>\n",
       "      <td>9</td>\n",
       "      <td>...</td>\n",
       "      <td>-122.190000</td>\n",
       "      <td>0.1</td>\n",
       "      <td>8</td>\n",
       "      <td>9</td>\n",
       "      <td>KMG9/2016/Oregon/INDIAN</td>\n",
       "      <td>None</td>\n",
       "      <td>INDIAN</td>\n",
       "      <td>None</td>\n",
       "      <td>0</td>\n",
       "      <td>POINT (-122.1899999996003 42.39722221982964)</td>\n",
       "    </tr>\n",
       "    <tr>\n",
       "      <th>2</th>\n",
       "      <td>FS</td>\n",
       "      <td>08</td>\n",
       "      <td>0809</td>\n",
       "      <td>Ouachita National Forest</td>\n",
       "      <td>6757702</td>\n",
       "      <td>Sweetwater</td>\n",
       "      <td>067</td>\n",
       "      <td>KHE1</td>\n",
       "      <td>Natural</td>\n",
       "      <td>1</td>\n",
       "      <td>...</td>\n",
       "      <td>-93.436111</td>\n",
       "      <td>315.0</td>\n",
       "      <td>0</td>\n",
       "      <td>1</td>\n",
       "      <td>KHE1/2016/Arkansas/SWEETWATER</td>\n",
       "      <td>None</td>\n",
       "      <td>SWEETWATER</td>\n",
       "      <td>None</td>\n",
       "      <td>0</td>\n",
       "      <td>POINT (-93.4361111097399 34.75694443973418)</td>\n",
       "    </tr>\n",
       "    <tr>\n",
       "      <th>3</th>\n",
       "      <td>FS</td>\n",
       "      <td>03</td>\n",
       "      <td>0307</td>\n",
       "      <td>Kaibab National Forest</td>\n",
       "      <td>6768482</td>\n",
       "      <td>STINA</td>\n",
       "      <td>042</td>\n",
       "      <td>EKV6</td>\n",
       "      <td>Natural</td>\n",
       "      <td>1</td>\n",
       "      <td>...</td>\n",
       "      <td>-112.333056</td>\n",
       "      <td>0.5</td>\n",
       "      <td>0</td>\n",
       "      <td>1</td>\n",
       "      <td>EKV6/2016/Arizona/STINA</td>\n",
       "      <td>EKV6</td>\n",
       "      <td>STINA</td>\n",
       "      <td>None</td>\n",
       "      <td>0</td>\n",
       "      <td>POINT (-112.3330555596663 36.37361110976497)</td>\n",
       "    </tr>\n",
       "    <tr>\n",
       "      <th>4</th>\n",
       "      <td>FS</td>\n",
       "      <td>01</td>\n",
       "      <td>0118</td>\n",
       "      <td>Dakota Prairie Grasslands</td>\n",
       "      <td>6775526</td>\n",
       "      <td>5A</td>\n",
       "      <td>015</td>\n",
       "      <td>EKT6</td>\n",
       "      <td>Natural</td>\n",
       "      <td>1</td>\n",
       "      <td>...</td>\n",
       "      <td>-102.401667</td>\n",
       "      <td>2.5</td>\n",
       "      <td>0</td>\n",
       "      <td>1</td>\n",
       "      <td>EKT6/2016/South Dakota/5A</td>\n",
       "      <td>EKT6</td>\n",
       "      <td>5A</td>\n",
       "      <td>None</td>\n",
       "      <td>0</td>\n",
       "      <td>POINT (-102.4016666697809 45.82166667028065)</td>\n",
       "    </tr>\n",
       "  </tbody>\n",
       "</table>\n",
       "<p>5 rows × 37 columns</p>\n",
       "</div>"
      ],
      "text/plain": [
       "  ORGANIZATI UNIT SUBUNIT                         SUBUNIT2   FIREID  \\\n",
       "0         FS   06    0616  Wallowa-Whitman National Forest  6752594   \n",
       "1         FS   06    0602   Fremont-Winema National Forest  6770108   \n",
       "2         FS   08    0809         Ouachita National Forest  6757702   \n",
       "3         FS   03    0307           Kaibab National Forest  6768482   \n",
       "4         FS   01    0118        Dakota Prairie Grasslands  6775526   \n",
       "\n",
       "     FIRENAME FIRENUMBER FIRECODE    CAUSE  SPECCAUSE  \\\n",
       "0   Elk Creek        056     EK2N    Human          9   \n",
       "1      Indian        028     KMG9    Human          9   \n",
       "2  Sweetwater        067     KHE1  Natural          1   \n",
       "3       STINA        042     EKV6  Natural          1   \n",
       "4          5A        015     EKT6  Natural          1   \n",
       "\n",
       "                       ...                       DLONGITUDE TOTALACRES  \\\n",
       "0                      ...                      -117.934167        0.3   \n",
       "1                      ...                      -122.190000        0.1   \n",
       "2                      ...                       -93.436111      315.0   \n",
       "3                      ...                      -112.333056        0.5   \n",
       "4                      ...                      -102.401667        2.5   \n",
       "\n",
       "   TRPGENCAUS TRPSPECCAU                      Cat_Field DuplicateF  \\\n",
       "0           8          9     EK2N/2016/Oregon/ELK CREEK       EK2N   \n",
       "1           8          9        KMG9/2016/Oregon/INDIAN       None   \n",
       "2           0          1  KHE1/2016/Arkansas/SWEETWATER       None   \n",
       "3           0          1        EKV6/2016/Arizona/STINA       EKV6   \n",
       "4           0          1      EKT6/2016/South Dakota/5A       EKT6   \n",
       "\n",
       "   FireName_A  Keep Duplicate_                                      geometry  \n",
       "0   ELK CREEK  None          0  POINT (-117.9341666698559 44.74138889038505)  \n",
       "1      INDIAN  None          0  POINT (-122.1899999996003 42.39722221982964)  \n",
       "2  SWEETWATER  None          0   POINT (-93.4361111097399 34.75694443973418)  \n",
       "3       STINA  None          0  POINT (-112.3330555596663 36.37361110976497)  \n",
       "4          5A  None          0  POINT (-102.4016666697809 45.82166667028065)  \n",
       "\n",
       "[5 rows x 37 columns]"
      ]
     },
     "execution_count": 3,
     "metadata": {},
     "output_type": "execute_result"
    }
   ],
   "source": [
    "fires.head()"
   ]
  },
  {
   "cell_type": "code",
   "execution_count": 4,
   "metadata": {
    "ExecuteTime": {
     "end_time": "2018-06-27T18:13:43.003332Z",
     "start_time": "2018-06-27T18:13:42.991595Z"
    },
    "scrolled": false
   },
   "outputs": [
    {
     "data": {
      "text/plain": [
       "ORGANIZATI     object\n",
       "UNIT           object\n",
       "SUBUNIT        object\n",
       "SUBUNIT2       object\n",
       "FIREID         object\n",
       "FIRENAME       object\n",
       "FIRENUMBER     object\n",
       "FIRECODE       object\n",
       "CAUSE          object\n",
       "SPECCAUSE       int64\n",
       "STATCAUSE       int64\n",
       "SIZECLASS      object\n",
       "SIZECLASSN    float64\n",
       "FIRETYPE       object\n",
       "PROTECTION     object\n",
       "FIREPROTTY     object\n",
       "YEAR_          object\n",
       "FiscalYear      int64\n",
       "STARTDATED     object\n",
       "CONTRDATED     object\n",
       "OUTDATED       object\n",
       "GACC           object\n",
       "DISPATCH       object\n",
       "STATE          object\n",
       "STATE_FIPS     object\n",
       "FIPS          float64\n",
       "DLATITUDE     float64\n",
       "DLONGITUDE    float64\n",
       "TOTALACRES    float64\n",
       "TRPGENCAUS      int64\n",
       "TRPSPECCAU      int64\n",
       "Cat_Field      object\n",
       "DuplicateF     object\n",
       "FireName_A     object\n",
       "Keep           object\n",
       "Duplicate_      int64\n",
       "geometry       object\n",
       "dtype: object"
      ]
     },
     "execution_count": 4,
     "metadata": {},
     "output_type": "execute_result"
    }
   ],
   "source": [
    "# view variable names\n",
    "fires.dtypes"
   ]
  },
  {
   "cell_type": "code",
   "execution_count": 5,
   "metadata": {
    "ExecuteTime": {
     "end_time": "2018-06-27T18:13:43.055542Z",
     "start_time": "2018-06-27T18:13:43.006762Z"
    },
    "scrolled": true
   },
   "outputs": [
    {
     "data": {
      "text/html": [
       "<div>\n",
       "<style scoped>\n",
       "    .dataframe tbody tr th:only-of-type {\n",
       "        vertical-align: middle;\n",
       "    }\n",
       "\n",
       "    .dataframe tbody tr th {\n",
       "        vertical-align: top;\n",
       "    }\n",
       "\n",
       "    .dataframe thead th {\n",
       "        text-align: right;\n",
       "    }\n",
       "</style>\n",
       "<table border=\"1\" class=\"dataframe\">\n",
       "  <thead>\n",
       "    <tr style=\"text-align: right;\">\n",
       "      <th></th>\n",
       "      <th>STARTDATED</th>\n",
       "      <th>CONTRDATED</th>\n",
       "      <th>OUTDATED</th>\n",
       "    </tr>\n",
       "  </thead>\n",
       "  <tbody>\n",
       "    <tr>\n",
       "      <th>0</th>\n",
       "      <td>2016-10-02</td>\n",
       "      <td>2016-10-04</td>\n",
       "      <td>2016-10-14</td>\n",
       "    </tr>\n",
       "    <tr>\n",
       "      <th>1</th>\n",
       "      <td>2016-08-17</td>\n",
       "      <td>2016-08-17</td>\n",
       "      <td>2016-08-17</td>\n",
       "    </tr>\n",
       "    <tr>\n",
       "      <th>2</th>\n",
       "      <td>2016-07-22</td>\n",
       "      <td>2016-08-16</td>\n",
       "      <td>2016-09-02</td>\n",
       "    </tr>\n",
       "    <tr>\n",
       "      <th>3</th>\n",
       "      <td>2016-07-19</td>\n",
       "      <td>2016-07-21</td>\n",
       "      <td>2016-07-25</td>\n",
       "    </tr>\n",
       "    <tr>\n",
       "      <th>4</th>\n",
       "      <td>2016-07-14</td>\n",
       "      <td>2016-07-22</td>\n",
       "      <td>2016-07-22</td>\n",
       "    </tr>\n",
       "  </tbody>\n",
       "</table>\n",
       "</div>"
      ],
      "text/plain": [
       "   STARTDATED  CONTRDATED    OUTDATED\n",
       "0  2016-10-02  2016-10-04  2016-10-14\n",
       "1  2016-08-17  2016-08-17  2016-08-17\n",
       "2  2016-07-22  2016-08-16  2016-09-02\n",
       "3  2016-07-19  2016-07-21  2016-07-25\n",
       "4  2016-07-14  2016-07-22  2016-07-22"
      ]
     },
     "execution_count": 5,
     "metadata": {},
     "output_type": "execute_result"
    }
   ],
   "source": [
    "# view first 5 dates\n",
    "fires[['STARTDATED', 'CONTRDATED', 'OUTDATED']][:5]"
   ]
  },
  {
   "cell_type": "markdown",
   "metadata": {},
   "source": [
    "Convert dates to datetime."
   ]
  },
  {
   "cell_type": "code",
   "execution_count": 6,
   "metadata": {
    "ExecuteTime": {
     "end_time": "2018-06-27T18:13:49.206325Z",
     "start_time": "2018-06-27T18:13:43.058687Z"
    },
    "collapsed": true,
    "scrolled": true
   },
   "outputs": [],
   "source": [
    "# convert date variables to date time\n",
    "fires[['STARTDATED', 'CONTRDATED', 'OUTDATED']] = (fires[['STARTDATED', 'CONTRDATED', 'OUTDATED']]\n",
    "                                                      .apply(pd.to_datetime, errors = 'coerce'))"
   ]
  },
  {
   "cell_type": "code",
   "execution_count": 7,
   "metadata": {
    "ExecuteTime": {
     "end_time": "2018-06-27T18:13:49.267024Z",
     "start_time": "2018-06-27T18:13:49.210080Z"
    },
    "scrolled": false
   },
   "outputs": [
    {
     "data": {
      "text/plain": [
       "STARTDATED    datetime64[ns]\n",
       "CONTRDATED    datetime64[ns]\n",
       "OUTDATED      datetime64[ns]\n",
       "dtype: object"
      ]
     },
     "execution_count": 7,
     "metadata": {},
     "output_type": "execute_result"
    }
   ],
   "source": [
    "# check to make sure it's now a date time\n",
    "fires[['STARTDATED', 'CONTRDATED', 'OUTDATED']].dtypes"
   ]
  },
  {
   "cell_type": "markdown",
   "metadata": {},
   "source": [
    "### Assigning Grid ID to Fire ID\n",
    "\n",
    "I want to extract the latitude and longitude of each fire and find what grid ID it's closest to and assign it that grid ID. This will allow me to join climate predictor features to the fire event."
   ]
  },
  {
   "cell_type": "code",
   "execution_count": 58,
   "metadata": {
    "ExecuteTime": {
     "end_time": "2018-06-27T19:03:53.832612Z",
     "start_time": "2018-06-27T19:03:53.829650Z"
    }
   },
   "outputs": [],
   "source": [
    "# latitude and longitude values and fire ids\n",
    "f_lat = fires['DLATITUDE'].values\n",
    "f_lon = fires['DLONGITUDE'].values\n",
    "fire_ids = fires['FIREID'].values"
   ]
  },
  {
   "cell_type": "code",
   "execution_count": 59,
   "metadata": {
    "ExecuteTime": {
     "end_time": "2018-06-27T19:04:00.913146Z",
     "start_time": "2018-06-27T19:04:00.908429Z"
    },
    "scrolled": true
   },
   "outputs": [
    {
     "name": "stdout",
     "output_type": "stream",
     "text": [
      "[44.74138889 42.39722222 34.75694444 36.37361111 45.82166667]\n",
      "[-117.93416667 -122.19        -93.43611111 -112.33305556 -102.40166667]\n",
      "['6752594' '6770108' '6757702' ... '385060' '310380' '1452438']\n"
     ]
    }
   ],
   "source": [
    "# print first ids of lats lons and fires\n",
    "print(f_lat[:5])\n",
    "print(f_lon[:5])\n",
    "print(fire_ids)"
   ]
  },
  {
   "cell_type": "markdown",
   "metadata": {},
   "source": [
    "Make the same custom grid as my regrided climate data to assign values to."
   ]
  },
  {
   "cell_type": "code",
   "execution_count": 8,
   "metadata": {
    "ExecuteTime": {
     "end_time": "2018-06-27T18:13:49.274136Z",
     "start_time": "2018-06-27T18:13:49.270038Z"
    }
   },
   "outputs": [],
   "source": [
    "# custom grids for every degree\n",
    "# vectors\n",
    "grid_lat = np.arange(27.5, 50.0, 1)\n",
    "grid_lon = np.arange(-125.0, -70.0, 1)\n",
    "# mesh grid array\n",
    "glons, glats = np.meshgrid(grid_lon, grid_lat)"
   ]
  },
  {
   "cell_type": "markdown",
   "metadata": {},
   "source": [
    "Plot points to make sure grid looks right."
   ]
  },
  {
   "cell_type": "code",
   "execution_count": 11,
   "metadata": {
    "ExecuteTime": {
     "end_time": "2018-06-27T18:15:15.998421Z",
     "start_time": "2018-06-27T18:15:15.788234Z"
    },
    "scrolled": false
   },
   "outputs": [
    {
     "data": {
      "image/png": "[encoded data removed]",
      "text/plain": [
       "<Figure size 432x288 with 1 Axes>"
      ]
     },
     "metadata": {},
     "output_type": "display_data"
    }
   ],
   "source": [
    "# plot new grid\n",
    "plt.plot(glons, glats, marker='.', color='k', linestyle='none')\n",
    "plt.show()"
   ]
  },
  {
   "cell_type": "code",
   "execution_count": 14,
   "metadata": {
    "ExecuteTime": {
     "end_time": "2018-06-27T18:20:21.856307Z",
     "start_time": "2018-06-27T18:20:21.850782Z"
    },
    "scrolled": true
   },
   "outputs": [
    {
     "data": {
      "text/plain": [
       "(23, 55)"
      ]
     },
     "execution_count": 14,
     "metadata": {},
     "output_type": "execute_result"
    }
   ],
   "source": [
    "# shape of grid\n",
    "np.shape(glons)"
   ]
  },
  {
   "cell_type": "markdown",
   "metadata": {},
   "source": [
    "Use the new glons and glats coordinates to generate a sequential number of grid IDs."
   ]
  },
  {
   "cell_type": "code",
   "execution_count": 31,
   "metadata": {
    "ExecuteTime": {
     "end_time": "2018-06-27T18:48:05.170690Z",
     "start_time": "2018-06-27T18:48:05.167298Z"
    }
   },
   "outputs": [],
   "source": [
    "# grid id array; using reshape of sequential vector of ids, and giving shape of glons\n",
    "grid_id = np.arange(1, 1266,1)\n",
    "grid_id_array = np.reshape(grid_id, np.shape(glons))"
   ]
  },
  {
   "cell_type": "code",
   "execution_count": 32,
   "metadata": {
    "ExecuteTime": {
     "end_time": "2018-06-27T18:48:18.235116Z",
     "start_time": "2018-06-27T18:48:18.230048Z"
    }
   },
   "outputs": [
    {
     "data": {
      "text/plain": [
       "(23, 55)"
      ]
     },
     "execution_count": 32,
     "metadata": {},
     "output_type": "execute_result"
    }
   ],
   "source": [
    "np.shape(grid_id_array)"
   ]
  },
  {
   "cell_type": "code",
   "execution_count": 45,
   "metadata": {
    "ExecuteTime": {
     "end_time": "2018-06-27T18:54:59.396169Z",
     "start_time": "2018-06-27T18:54:59.389146Z"
    }
   },
   "outputs": [
    {
     "data": {
      "text/plain": [
       "(1265, 2)"
      ]
     },
     "execution_count": 45,
     "metadata": {},
     "output_type": "execute_result"
    }
   ],
   "source": [
    "# now I want to assign the grid ID based on the cell/point.\n",
    "us_grid = np.array(np.meshgrid(grid_lon, grid_lat)).reshape(2, -1).T\n",
    "# check dimensions\n",
    "np.shape(us_grid)"
   ]
  },
  {
   "cell_type": "markdown",
   "metadata": {},
   "source": [
    "Interpolate grid ID to fire coordinates based on nearest neighbor of grid id value."
   ]
  },
  {
   "cell_type": "code",
   "execution_count": 85,
   "metadata": {
    "ExecuteTime": {
     "end_time": "2018-06-27T20:20:17.532293Z",
     "start_time": "2018-06-27T20:20:17.526544Z"
    }
   },
   "outputs": [],
   "source": [
    "# set up interpolate to nearest neighbor fuction\n",
    "near_interp = interpolate.NearestNDInterpolator(us_grid, grid_id)"
   ]
  },
  {
   "cell_type": "code",
   "execution_count": 103,
   "metadata": {
    "ExecuteTime": {
     "end_time": "2018-06-27T20:26:48.369976Z",
     "start_time": "2018-06-27T20:26:48.074385Z"
    },
    "collapsed": true
   },
   "outputs": [],
   "source": [
    "# apply near_interp to each fire id coordinate\n",
    "fire_grid_id = near_interp(f_lon, f_lat)"
   ]
  },
  {
   "cell_type": "code",
   "execution_count": 110,
   "metadata": {
    "ExecuteTime": {
     "end_time": "2018-06-27T20:29:38.511984Z",
     "start_time": "2018-06-27T20:29:38.204325Z"
    }
   },
   "outputs": [
    {
     "data": {
      "text/plain": [
       "<matplotlib.axes._subplots.AxesSubplot at 0x7fabd0be0080>"
      ]
     },
     "execution_count": 110,
     "metadata": {},
     "output_type": "execute_result"
    },
    {
     "data": {
      "image/png": "[encoded data removed]",
      "text/plain": [
       "<Figure size 432x288 with 2 Axes>"
      ]
     },
     "metadata": {},
     "output_type": "display_data"
    }
   ],
   "source": [
    "# plotting grid id value array\n",
    "sns.heatmap(grid_id_array)"
   ]
  },
  {
   "cell_type": "code",
   "execution_count": 104,
   "metadata": {
    "ExecuteTime": {
     "end_time": "2018-06-27T20:26:55.266922Z",
     "start_time": "2018-06-27T20:26:55.262999Z"
    }
   },
   "outputs": [
    {
     "data": {
      "text/plain": [
       "array([ 943,  829,  418,  509, 1014,  557,  423,  424,  424,  424])"
      ]
     },
     "execution_count": 104,
     "metadata": {},
     "output_type": "execute_result"
    }
   ],
   "source": [
    "# check first couple ids\n",
    "fire_grid_id[:10]"
   ]
  },
  {
   "cell_type": "code",
   "execution_count": 113,
   "metadata": {
    "ExecuteTime": {
     "end_time": "2018-06-27T20:40:32.223996Z",
     "start_time": "2018-06-27T20:40:32.184882Z"
    }
   },
   "outputs": [],
   "source": [
    "# create dataframe with coordinates, fireid, and gridid\n",
    "fire_grid = np.concatenate((fire_ids, f_lon, f_lat), axis=0)"
   ]
  },
  {
   "cell_type": "code",
   "execution_count": 128,
   "metadata": {
    "ExecuteTime": {
     "end_time": "2018-06-27T20:48:04.126843Z",
     "start_time": "2018-06-27T20:48:04.121788Z"
    }
   },
   "outputs": [
    {
     "data": {
      "text/plain": [
       "True"
      ]
     },
     "execution_count": 128,
     "metadata": {},
     "output_type": "execute_result"
    }
   ],
   "source": [
    "# check to make sure fire grid id and fire ids are same dimension\n",
    "np.shape(fire_grid_id) == np.shape(fire_ids)"
   ]
  },
  {
   "cell_type": "markdown",
   "metadata": {},
   "source": [
    "Create a dataframe of keys that links the grid id to the FIRE ID so I can know the grid the fire took place in."
   ]
  },
  {
   "cell_type": "code",
   "execution_count": 130,
   "metadata": {
    "ExecuteTime": {
     "end_time": "2018-06-27T20:50:39.844750Z",
     "start_time": "2018-06-27T20:50:39.794767Z"
    }
   },
   "outputs": [],
   "source": [
    "fire_grid = pd.DataFrame(data = {'lat' : f_lat, 'lon' : f_lon, 'FIREID' : fire_ids, 'grid_id' : fire_grid_id})"
   ]
  },
  {
   "cell_type": "code",
   "execution_count": 132,
   "metadata": {
    "ExecuteTime": {
     "end_time": "2018-06-27T20:52:00.351242Z",
     "start_time": "2018-06-27T20:52:00.336483Z"
    },
    "scrolled": true
   },
   "outputs": [
    {
     "data": {
      "text/html": [
       "<div>\n",
       "<style scoped>\n",
       "    .dataframe tbody tr th:only-of-type {\n",
       "        vertical-align: middle;\n",
       "    }\n",
       "\n",
       "    .dataframe tbody tr th {\n",
       "        vertical-align: top;\n",
       "    }\n",
       "\n",
       "    .dataframe thead th {\n",
       "        text-align: right;\n",
       "    }\n",
       "</style>\n",
       "<table border=\"1\" class=\"dataframe\">\n",
       "  <thead>\n",
       "    <tr style=\"text-align: right;\">\n",
       "      <th></th>\n",
       "      <th>lat</th>\n",
       "      <th>lon</th>\n",
       "      <th>FIREID</th>\n",
       "      <th>grid_id</th>\n",
       "    </tr>\n",
       "  </thead>\n",
       "  <tbody>\n",
       "    <tr>\n",
       "      <th>0</th>\n",
       "      <td>44.741389</td>\n",
       "      <td>-117.934167</td>\n",
       "      <td>6752594</td>\n",
       "      <td>943</td>\n",
       "    </tr>\n",
       "    <tr>\n",
       "      <th>1</th>\n",
       "      <td>42.397222</td>\n",
       "      <td>-122.190000</td>\n",
       "      <td>6770108</td>\n",
       "      <td>829</td>\n",
       "    </tr>\n",
       "    <tr>\n",
       "      <th>2</th>\n",
       "      <td>34.756944</td>\n",
       "      <td>-93.436111</td>\n",
       "      <td>6757702</td>\n",
       "      <td>418</td>\n",
       "    </tr>\n",
       "    <tr>\n",
       "      <th>3</th>\n",
       "      <td>36.373611</td>\n",
       "      <td>-112.333056</td>\n",
       "      <td>6768482</td>\n",
       "      <td>509</td>\n",
       "    </tr>\n",
       "    <tr>\n",
       "      <th>4</th>\n",
       "      <td>45.821667</td>\n",
       "      <td>-102.401667</td>\n",
       "      <td>6775526</td>\n",
       "      <td>1014</td>\n",
       "    </tr>\n",
       "  </tbody>\n",
       "</table>\n",
       "</div>"
      ],
      "text/plain": [
       "         lat         lon   FIREID  grid_id\n",
       "0  44.741389 -117.934167  6752594      943\n",
       "1  42.397222 -122.190000  6770108      829\n",
       "2  34.756944  -93.436111  6757702      418\n",
       "3  36.373611 -112.333056  6768482      509\n",
       "4  45.821667 -102.401667  6775526     1014"
      ]
     },
     "execution_count": 132,
     "metadata": {},
     "output_type": "execute_result"
    }
   ],
   "source": [
    "# view first couple ids\n",
    "fire_grid.head()"
   ]
  },
  {
   "cell_type": "code",
   "execution_count": 142,
   "metadata": {
    "ExecuteTime": {
     "end_time": "2018-06-27T21:03:31.573701Z",
     "start_time": "2018-06-27T21:03:28.915571Z"
    },
    "collapsed": true
   },
   "outputs": [],
   "source": [
    "# join grid_id back in to fire geopandas dataframe; inner joining to exclude fires outside my grid like Alaska\n",
    "fires_w_grid = fires.merge(fire_grid, left_on = 'FIREID', right_on = 'FIREID', how = 'left')"
   ]
  },
  {
   "cell_type": "code",
   "execution_count": 156,
   "metadata": {
    "ExecuteTime": {
     "end_time": "2018-06-27T21:24:30.667177Z",
     "start_time": "2018-06-27T21:24:30.227638Z"
    }
   },
   "outputs": [],
   "source": [
    "# set grid_id to character and remove duplicates\n",
    "fires_w_grid['grid_id'] = fires_w_grid['grid_id'].astype(str)\n",
    "# remove duplicates\n",
    "fires_w_grid = fires_w_grid[(fires_w_grid.Duplicate_ == 0)]\n",
    "# add year-month # figure this out later\n",
    "#fires_w_grid['yrmon'] = fires_w_grid['STARTDATED'].map(lambda x: x.year + x.month)"
   ]
  },
  {
   "cell_type": "code",
   "execution_count": 150,
   "metadata": {
    "ExecuteTime": {
     "end_time": "2018-06-27T21:09:07.699404Z",
     "start_time": "2018-06-27T21:09:07.693796Z"
    }
   },
   "outputs": [
    {
     "data": {
      "text/plain": [
       "0     943\n",
       "1     829\n",
       "2     418\n",
       "3     509\n",
       "4    1014\n",
       "Name: grid_id, dtype: object"
      ]
     },
     "execution_count": 150,
     "metadata": {},
     "output_type": "execute_result"
    }
   ],
   "source": [
    "fires_w_grid['grid_id'][:5]"
   ]
  },
  {
   "cell_type": "code",
   "execution_count": 153,
   "metadata": {
    "ExecuteTime": {
     "end_time": "2018-06-27T21:15:35.064269Z",
     "start_time": "2018-06-27T21:15:35.059988Z"
    }
   },
   "outputs": [
    {
     "data": {
      "text/plain": [
       "(298835, 40)"
      ]
     },
     "execution_count": 153,
     "metadata": {},
     "output_type": "execute_result"
    }
   ],
   "source": [
    "fires_w_grid.shape"
   ]
  },
  {
   "cell_type": "code",
   "execution_count": 151,
   "metadata": {
    "ExecuteTime": {
     "end_time": "2018-06-27T21:09:57.315406Z",
     "start_time": "2018-06-27T21:09:57.285747Z"
    },
    "scrolled": true
   },
   "outputs": [
    {
     "data": {
      "text/html": [
       "<div>\n",
       "<style scoped>\n",
       "    .dataframe tbody tr th:only-of-type {\n",
       "        vertical-align: middle;\n",
       "    }\n",
       "\n",
       "    .dataframe tbody tr th {\n",
       "        vertical-align: top;\n",
       "    }\n",
       "\n",
       "    .dataframe thead th {\n",
       "        text-align: right;\n",
       "    }\n",
       "</style>\n",
       "<table border=\"1\" class=\"dataframe\">\n",
       "  <thead>\n",
       "    <tr style=\"text-align: right;\">\n",
       "      <th></th>\n",
       "      <th>ORGANIZATI</th>\n",
       "      <th>UNIT</th>\n",
       "      <th>SUBUNIT</th>\n",
       "      <th>SUBUNIT2</th>\n",
       "      <th>FIREID</th>\n",
       "      <th>FIRENAME</th>\n",
       "      <th>FIRENUMBER</th>\n",
       "      <th>FIRECODE</th>\n",
       "      <th>CAUSE</th>\n",
       "      <th>SPECCAUSE</th>\n",
       "      <th>...</th>\n",
       "      <th>TRPSPECCAU</th>\n",
       "      <th>Cat_Field</th>\n",
       "      <th>DuplicateF</th>\n",
       "      <th>FireName_A</th>\n",
       "      <th>Keep</th>\n",
       "      <th>Duplicate_</th>\n",
       "      <th>geometry</th>\n",
       "      <th>lat</th>\n",
       "      <th>lon</th>\n",
       "      <th>grid_id</th>\n",
       "    </tr>\n",
       "  </thead>\n",
       "  <tbody>\n",
       "    <tr>\n",
       "      <th>0</th>\n",
       "      <td>FS</td>\n",
       "      <td>06</td>\n",
       "      <td>0616</td>\n",
       "      <td>Wallowa-Whitman National Forest</td>\n",
       "      <td>6752594</td>\n",
       "      <td>Elk Creek</td>\n",
       "      <td>056</td>\n",
       "      <td>EK2N</td>\n",
       "      <td>Human</td>\n",
       "      <td>9</td>\n",
       "      <td>...</td>\n",
       "      <td>9</td>\n",
       "      <td>EK2N/2016/Oregon/ELK CREEK</td>\n",
       "      <td>EK2N</td>\n",
       "      <td>ELK CREEK</td>\n",
       "      <td>None</td>\n",
       "      <td>0</td>\n",
       "      <td>POINT (-117.9341666698559 44.74138889038505)</td>\n",
       "      <td>44.741389</td>\n",
       "      <td>-117.934167</td>\n",
       "      <td>943</td>\n",
       "    </tr>\n",
       "    <tr>\n",
       "      <th>1</th>\n",
       "      <td>FS</td>\n",
       "      <td>06</td>\n",
       "      <td>0602</td>\n",
       "      <td>Fremont-Winema National Forest</td>\n",
       "      <td>6770108</td>\n",
       "      <td>Indian</td>\n",
       "      <td>028</td>\n",
       "      <td>KMG9</td>\n",
       "      <td>Human</td>\n",
       "      <td>9</td>\n",
       "      <td>...</td>\n",
       "      <td>9</td>\n",
       "      <td>KMG9/2016/Oregon/INDIAN</td>\n",
       "      <td>None</td>\n",
       "      <td>INDIAN</td>\n",
       "      <td>None</td>\n",
       "      <td>0</td>\n",
       "      <td>POINT (-122.1899999996003 42.39722221982964)</td>\n",
       "      <td>42.397222</td>\n",
       "      <td>-122.190000</td>\n",
       "      <td>829</td>\n",
       "    </tr>\n",
       "    <tr>\n",
       "      <th>2</th>\n",
       "      <td>FS</td>\n",
       "      <td>08</td>\n",
       "      <td>0809</td>\n",
       "      <td>Ouachita National Forest</td>\n",
       "      <td>6757702</td>\n",
       "      <td>Sweetwater</td>\n",
       "      <td>067</td>\n",
       "      <td>KHE1</td>\n",
       "      <td>Natural</td>\n",
       "      <td>1</td>\n",
       "      <td>...</td>\n",
       "      <td>1</td>\n",
       "      <td>KHE1/2016/Arkansas/SWEETWATER</td>\n",
       "      <td>None</td>\n",
       "      <td>SWEETWATER</td>\n",
       "      <td>None</td>\n",
       "      <td>0</td>\n",
       "      <td>POINT (-93.4361111097399 34.75694443973418)</td>\n",
       "      <td>34.756944</td>\n",
       "      <td>-93.436111</td>\n",
       "      <td>418</td>\n",
       "    </tr>\n",
       "    <tr>\n",
       "      <th>3</th>\n",
       "      <td>FS</td>\n",
       "      <td>03</td>\n",
       "      <td>0307</td>\n",
       "      <td>Kaibab National Forest</td>\n",
       "      <td>6768482</td>\n",
       "      <td>STINA</td>\n",
       "      <td>042</td>\n",
       "      <td>EKV6</td>\n",
       "      <td>Natural</td>\n",
       "      <td>1</td>\n",
       "      <td>...</td>\n",
       "      <td>1</td>\n",
       "      <td>EKV6/2016/Arizona/STINA</td>\n",
       "      <td>EKV6</td>\n",
       "      <td>STINA</td>\n",
       "      <td>None</td>\n",
       "      <td>0</td>\n",
       "      <td>POINT (-112.3330555596663 36.37361110976497)</td>\n",
       "      <td>36.373611</td>\n",
       "      <td>-112.333056</td>\n",
       "      <td>509</td>\n",
       "    </tr>\n",
       "    <tr>\n",
       "      <th>4</th>\n",
       "      <td>FS</td>\n",
       "      <td>01</td>\n",
       "      <td>0118</td>\n",
       "      <td>Dakota Prairie Grasslands</td>\n",
       "      <td>6775526</td>\n",
       "      <td>5A</td>\n",
       "      <td>015</td>\n",
       "      <td>EKT6</td>\n",
       "      <td>Natural</td>\n",
       "      <td>1</td>\n",
       "      <td>...</td>\n",
       "      <td>1</td>\n",
       "      <td>EKT6/2016/South Dakota/5A</td>\n",
       "      <td>EKT6</td>\n",
       "      <td>5A</td>\n",
       "      <td>None</td>\n",
       "      <td>0</td>\n",
       "      <td>POINT (-102.4016666697809 45.82166667028065)</td>\n",
       "      <td>45.821667</td>\n",
       "      <td>-102.401667</td>\n",
       "      <td>1014</td>\n",
       "    </tr>\n",
       "  </tbody>\n",
       "</table>\n",
       "<p>5 rows × 40 columns</p>\n",
       "</div>"
      ],
      "text/plain": [
       "  ORGANIZATI UNIT SUBUNIT                         SUBUNIT2   FIREID  \\\n",
       "0         FS   06    0616  Wallowa-Whitman National Forest  6752594   \n",
       "1         FS   06    0602   Fremont-Winema National Forest  6770108   \n",
       "2         FS   08    0809         Ouachita National Forest  6757702   \n",
       "3         FS   03    0307           Kaibab National Forest  6768482   \n",
       "4         FS   01    0118        Dakota Prairie Grasslands  6775526   \n",
       "\n",
       "     FIRENAME FIRENUMBER FIRECODE    CAUSE  SPECCAUSE   ...    TRPSPECCAU  \\\n",
       "0   Elk Creek        056     EK2N    Human          9   ...             9   \n",
       "1      Indian        028     KMG9    Human          9   ...             9   \n",
       "2  Sweetwater        067     KHE1  Natural          1   ...             1   \n",
       "3       STINA        042     EKV6  Natural          1   ...             1   \n",
       "4          5A        015     EKT6  Natural          1   ...             1   \n",
       "\n",
       "                       Cat_Field  DuplicateF  FireName_A  Keep Duplicate_  \\\n",
       "0     EK2N/2016/Oregon/ELK CREEK        EK2N   ELK CREEK  None          0   \n",
       "1        KMG9/2016/Oregon/INDIAN        None      INDIAN  None          0   \n",
       "2  KHE1/2016/Arkansas/SWEETWATER        None  SWEETWATER  None          0   \n",
       "3        EKV6/2016/Arizona/STINA        EKV6       STINA  None          0   \n",
       "4      EKT6/2016/South Dakota/5A        EKT6          5A  None          0   \n",
       "\n",
       "                                       geometry        lat         lon grid_id  \n",
       "0  POINT (-117.9341666698559 44.74138889038505)  44.741389 -117.934167     943  \n",
       "1  POINT (-122.1899999996003 42.39722221982964)  42.397222 -122.190000     829  \n",
       "2   POINT (-93.4361111097399 34.75694443973418)  34.756944  -93.436111     418  \n",
       "3  POINT (-112.3330555596663 36.37361110976497)  36.373611 -112.333056     509  \n",
       "4  POINT (-102.4016666697809 45.82166667028065)  45.821667 -102.401667    1014  \n",
       "\n",
       "[5 rows x 40 columns]"
      ]
     },
     "execution_count": 151,
     "metadata": {},
     "output_type": "execute_result"
    }
   ],
   "source": [
    "# shape of fires with grid\n",
    "fires_w_grid.head()"
   ]
  },
  {
   "cell_type": "markdown",
   "metadata": {},
   "source": [
    "### Count of Fire Types"
   ]
  },
  {
   "cell_type": "code",
   "execution_count": 172,
   "metadata": {
    "ExecuteTime": {
     "end_time": "2018-06-27T21:38:10.878952Z",
     "start_time": "2018-06-27T21:38:10.872490Z"
    }
   },
   "outputs": [
    {
     "data": {
      "text/plain": [
       "TOTALACRES  count      int64\n",
       "            mean     float64\n",
       "dtype: object"
      ]
     },
     "execution_count": 172,
     "metadata": {},
     "output_type": "execute_result"
    }
   ],
   "source": [
    "fire_counts.dtypes"
   ]
  },
  {
   "cell_type": "code",
   "execution_count": 179,
   "metadata": {
    "ExecuteTime": {
     "end_time": "2018-06-27T21:44:43.813694Z",
     "start_time": "2018-06-27T21:44:43.767562Z"
    }
   },
   "outputs": [],
   "source": [
    "# summarise number of fires; needs reset index\n",
    "fire_counts = (fires_w_grid[['SIZECLASS', 'TOTALACRES', 'FiscalYear']]\n",
    "               .groupby(['FiscalYear', 'SIZECLASS']).count().reset_index())\n",
    "\n",
    "# convert size class to category\n",
    "fire_counts['SIZECLASS'] = fire_counts['SIZECLASS'].astype('category')"
   ]
  },
  {
   "cell_type": "code",
   "execution_count": 180,
   "metadata": {
    "ExecuteTime": {
     "end_time": "2018-06-27T21:44:58.211626Z",
     "start_time": "2018-06-27T21:44:58.202622Z"
    },
    "scrolled": true
   },
   "outputs": [
    {
     "data": {
      "text/html": [
       "<div>\n",
       "<style scoped>\n",
       "    .dataframe tbody tr th:only-of-type {\n",
       "        vertical-align: middle;\n",
       "    }\n",
       "\n",
       "    .dataframe tbody tr th {\n",
       "        vertical-align: top;\n",
       "    }\n",
       "\n",
       "    .dataframe thead th {\n",
       "        text-align: right;\n",
       "    }\n",
       "</style>\n",
       "<table border=\"1\" class=\"dataframe\">\n",
       "  <thead>\n",
       "    <tr style=\"text-align: right;\">\n",
       "      <th></th>\n",
       "      <th>FiscalYear</th>\n",
       "      <th>SIZECLASS</th>\n",
       "      <th>TOTALACRES</th>\n",
       "    </tr>\n",
       "  </thead>\n",
       "  <tbody>\n",
       "    <tr>\n",
       "      <th>0</th>\n",
       "      <td>1980</td>\n",
       "      <td>A</td>\n",
       "      <td>2379</td>\n",
       "    </tr>\n",
       "    <tr>\n",
       "      <th>1</th>\n",
       "      <td>1980</td>\n",
       "      <td>B</td>\n",
       "      <td>1195</td>\n",
       "    </tr>\n",
       "    <tr>\n",
       "      <th>2</th>\n",
       "      <td>1980</td>\n",
       "      <td>C</td>\n",
       "      <td>353</td>\n",
       "    </tr>\n",
       "    <tr>\n",
       "      <th>3</th>\n",
       "      <td>1980</td>\n",
       "      <td>D</td>\n",
       "      <td>50</td>\n",
       "    </tr>\n",
       "    <tr>\n",
       "      <th>4</th>\n",
       "      <td>1980</td>\n",
       "      <td>E</td>\n",
       "      <td>24</td>\n",
       "    </tr>\n",
       "  </tbody>\n",
       "</table>\n",
       "</div>"
      ],
      "text/plain": [
       "   FiscalYear SIZECLASS  TOTALACRES\n",
       "0        1980         A        2379\n",
       "1        1980         B        1195\n",
       "2        1980         C         353\n",
       "3        1980         D          50\n",
       "4        1980         E          24"
      ]
     },
     "execution_count": 180,
     "metadata": {},
     "output_type": "execute_result"
    }
   ],
   "source": [
    "# view first couple\n",
    "fire_counts.head()"
   ]
  },
  {
   "cell_type": "code",
   "execution_count": 177,
   "metadata": {
    "ExecuteTime": {
     "end_time": "2018-06-27T21:41:21.833701Z",
     "start_time": "2018-06-27T21:41:21.827551Z"
    }
   },
   "outputs": [
    {
     "data": {
      "text/plain": [
       "FiscalYear              int64\n",
       "SIZECLASS            category\n",
       "TOTALACRES  count       int64\n",
       "            mean      float64\n",
       "dtype: object"
      ]
     },
     "execution_count": 177,
     "metadata": {},
     "output_type": "execute_result"
    }
   ],
   "source": [
    "fire_counts.dtypes"
   ]
  },
  {
   "cell_type": "code",
   "execution_count": 186,
   "metadata": {
    "ExecuteTime": {
     "end_time": "2018-06-27T21:49:15.714336Z",
     "start_time": "2018-06-27T21:49:15.250058Z"
    },
    "scrolled": true
   },
   "outputs": [
    {
     "data": {
      "text/plain": [
       "<seaborn.axisgrid.FacetGrid at 0x7fabc0e7a0b8>"
      ]
     },
     "execution_count": 186,
     "metadata": {},
     "output_type": "execute_result"
    },
    {
     "data": {
      "image/png": "[encoded data removed]",
      "text/plain": [
       "<Figure size 422x360 with 1 Axes>"
      ]
     },
     "metadata": {},
     "output_type": "display_data"
    }
   ],
   "source": [
    "# number of fires by year over time\n",
    "\n",
    "sns.lmplot(x='FiscalYear', y='TOTALACRES', hue = 'SIZECLASS', fit_reg = False, data = fire_counts)"
   ]
  },
  {
   "cell_type": "code",
   "execution_count": 187,
   "metadata": {
    "ExecuteTime": {
     "end_time": "2018-06-27T21:50:22.795379Z",
     "start_time": "2018-06-27T21:50:22.774382Z"
    },
    "scrolled": true
   },
   "outputs": [
    {
     "data": {
      "text/html": [
       "<div>\n",
       "<style scoped>\n",
       "    .dataframe tbody tr th:only-of-type {\n",
       "        vertical-align: middle;\n",
       "    }\n",
       "\n",
       "    .dataframe tbody tr th {\n",
       "        vertical-align: top;\n",
       "    }\n",
       "\n",
       "    .dataframe thead th {\n",
       "        text-align: right;\n",
       "    }\n",
       "</style>\n",
       "<table border=\"1\" class=\"dataframe\">\n",
       "  <thead>\n",
       "    <tr style=\"text-align: right;\">\n",
       "      <th></th>\n",
       "      <th>FiscalYear</th>\n",
       "      <th>TOTALACRES</th>\n",
       "    </tr>\n",
       "  </thead>\n",
       "  <tbody>\n",
       "    <tr>\n",
       "      <th>0</th>\n",
       "      <td>1980</td>\n",
       "      <td>24.090394</td>\n",
       "    </tr>\n",
       "    <tr>\n",
       "      <th>1</th>\n",
       "      <td>1981</td>\n",
       "      <td>27.215509</td>\n",
       "    </tr>\n",
       "    <tr>\n",
       "      <th>2</th>\n",
       "      <td>1982</td>\n",
       "      <td>9.676165</td>\n",
       "    </tr>\n",
       "    <tr>\n",
       "      <th>3</th>\n",
       "      <td>1983</td>\n",
       "      <td>17.823582</td>\n",
       "    </tr>\n",
       "    <tr>\n",
       "      <th>4</th>\n",
       "      <td>1984</td>\n",
       "      <td>11.103539</td>\n",
       "    </tr>\n",
       "  </tbody>\n",
       "</table>\n",
       "</div>"
      ],
      "text/plain": [
       "   FiscalYear  TOTALACRES\n",
       "0        1980   24.090394\n",
       "1        1981   27.215509\n",
       "2        1982    9.676165\n",
       "3        1983   17.823582\n",
       "4        1984   11.103539"
      ]
     },
     "execution_count": 187,
     "metadata": {},
     "output_type": "execute_result"
    }
   ],
   "source": [
    "# avg acres burned \n",
    "fire_acres = (fires_w_grid[['TOTALACRES', 'FiscalYear']]\n",
    "               .groupby(['FiscalYear']).mean().reset_index())\n",
    "\n",
    "# convert size class to category\n",
    "fire_acres.head()"
   ]
  },
  {
   "cell_type": "code",
   "execution_count": 193,
   "metadata": {
    "ExecuteTime": {
     "end_time": "2018-06-27T21:56:33.086707Z",
     "start_time": "2018-06-27T21:56:32.725532Z"
    }
   },
   "outputs": [
    {
     "data": {
      "text/plain": [
       "<seaborn.axisgrid.FacetGrid at 0x7fabc0c2d550>"
      ]
     },
     "execution_count": 193,
     "metadata": {},
     "output_type": "execute_result"
    },
    {
     "data": {
      "image/png": "[encoded data removed]",
      "text/plain": [
       "<Figure size 360x360 with 1 Axes>"
      ]
     },
     "metadata": {},
     "output_type": "display_data"
    }
   ],
   "source": [
    "# number of fires by year over time\n",
    "ax = sns.lmplot(x='FiscalYear', y='TOTALACRES', data = fire_acres)\n",
    "ax.set(xlabel = 'Year', ylabel = 'Average Acres Burned')"
   ]
  }
 ],
 "metadata": {
  "kernelspec": {
   "display_name": "py3",
   "language": "python",
   "name": "py3"
  },
  "language_info": {
   "codemirror_mode": {
    "name": "ipython",
    "version": 3
   },
   "file_extension": ".py",
   "mimetype": "text/x-python",
   "name": "python",
   "nbconvert_exporter": "python",
   "pygments_lexer": "ipython3",
   "version": "3.6.2"
  },
  "latex_envs": {
   "LaTeX_envs_menu_present": true,
   "autoclose": false,
   "autocomplete": true,
   "bibliofile": "biblio.bib",
   "cite_by": "apalike",
   "current_citInitial": 1,
   "eqLabelWithNumbers": true,
   "eqNumInitial": 1,
   "hotkeys": {
    "equation": "Ctrl-E",
    "itemize": "Ctrl-I"
   },
   "labels_anchors": false,
   "latex_user_defs": false,
   "report_style_numbering": false,
   "user_envs_cfg": false
  },
  "varInspector": {
   "cols": {
    "lenName": 16,
    "lenType": 16,
    "lenVar": 40
   },
   "kernels_config": {
    "python": {
     "delete_cmd_postfix": "",
     "delete_cmd_prefix": "del ",
     "library": "var_list.py",
     "varRefreshCmd": "print(var_dic_list())"
    },
    "r": {
     "delete_cmd_postfix": ") ",
     "delete_cmd_prefix": "rm(",
     "library": "var_list.r",
     "varRefreshCmd": "cat(var_dic_list()) "
    }
   },
   "types_to_exclude": [
    "module",
    "function",
    "builtin_function_or_method",
    "instance",
    "_Feature"
   ],
   "window_display": false
  }
 },
 "nbformat": 4,
 "nbformat_minor": 2
}
