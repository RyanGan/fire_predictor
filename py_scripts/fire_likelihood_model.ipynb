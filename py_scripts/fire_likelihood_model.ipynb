{
 "cells": [
  {
   "cell_type": "markdown",
   "metadata": {},
   "source": [
    "## Fire Likelihood Model\n",
    "\n",
    "### Author: Ryan Gan\n",
    "\n",
    "### Date Created: 2018-07-02\n",
    "\n",
    "\n",
    "Running a prediction model to estimate the likelihood of a fire, given predictors.\n",
    "\n",
    "Loading pandas, numpy, and sci-kit learn."
   ]
  },
  {
   "cell_type": "code",
   "execution_count": 16,
   "metadata": {
    "ExecuteTime": {
     "end_time": "2018-07-03T01:12:22.378206Z",
     "start_time": "2018-07-03T01:12:22.286046Z"
    }
   },
   "outputs": [],
   "source": [
    "# import modules\n",
    "import pandas as pd\n",
    "import numpy as np\n",
    "# sklearn\n",
    "from sklearn.linear_model import LogisticRegression\n",
    "from sklearn import preprocessing\n",
    "from sklearn.model_selection import train_test_split\n",
    "from sklearn.utils import shuffle\n",
    "\n",
    "%matplotlib inline\n",
    "import matplotlib as plt\n",
    "import seaborn as sns"
   ]
  },
  {
   "cell_type": "markdown",
   "metadata": {},
   "source": [
    "Importing fire data and doing some transformations."
   ]
  },
  {
   "cell_type": "code",
   "execution_count": 3,
   "metadata": {
    "ExecuteTime": {
     "end_time": "2018-07-03T00:52:12.137562Z",
     "start_time": "2018-07-03T00:52:07.236759Z"
    },
    "collapsed": true
   },
   "outputs": [],
   "source": [
    "# import fire predictor\n",
    "fires = pd.read_csv('../data/model_data/1979-2016_fire_likelihood.csv', index_col=0)\n",
    "# change date to datetime\n",
    "fires['date'] = pd.to_datetime(fires['date'])\n",
    "# category types\n",
    "fires['state'] = fires['state'].astype('category')\n",
    "fires['month'] = fires['month'].astype('category')\n",
    "fires['grid_id'] = fires['grid_id'].astype('category')"
   ]
  },
  {
   "cell_type": "code",
   "execution_count": 11,
   "metadata": {
    "ExecuteTime": {
     "end_time": "2018-07-02T15:21:27.527121Z",
     "start_time": "2018-07-02T15:21:27.519258Z"
    }
   },
   "outputs": [
    {
     "data": {
      "text/plain": [
       "grid_id                     int64\n",
       "glon                      float64\n",
       "glat                      float64\n",
       "date               datetime64[ns]\n",
       "temp_c                    float64\n",
       "temp_c_lag1               float64\n",
       "temp_c_lag2               float64\n",
       "temp_c_lag3               float64\n",
       "temp_c_lag4               float64\n",
       "temp_c_lag5               float64\n",
       "temp_c_lag6               float64\n",
       "temp_c_lag7               float64\n",
       "temp_c_lag8               float64\n",
       "temp_c_lag9               float64\n",
       "temp_c_lag10              float64\n",
       "temp_c_lag11              float64\n",
       "temp_c_lag12              float64\n",
       "prec_kgm2                 float64\n",
       "prec_kgm2_lag1            float64\n",
       "prec_kgm2_lag2            float64\n",
       "prec_kgm2_lag3            float64\n",
       "prec_kgm2_lag4            float64\n",
       "prec_kgm2_lag5            float64\n",
       "prec_kgm2_lag6            float64\n",
       "prec_kgm2_lag7            float64\n",
       "prec_kgm2_lag8            float64\n",
       "prec_kgm2_lag9            float64\n",
       "prec_kgm2_lag10           float64\n",
       "prec_kgm2_lag11           float64\n",
       "prec_kgm2_lag12           float64\n",
       "rhum_perc                 float64\n",
       "rhum_perc_lag1            float64\n",
       "rhum_perc_lag2            float64\n",
       "rhum_perc_lag3            float64\n",
       "rhum_perc_lag4            float64\n",
       "rhum_perc_lag5            float64\n",
       "rhum_perc_lag6            float64\n",
       "rhum_perc_lag7            float64\n",
       "rhum_perc_lag8            float64\n",
       "rhum_perc_lag9            float64\n",
       "rhum_perc_lag10           float64\n",
       "rhum_perc_lag11           float64\n",
       "rhum_perc_lag12           float64\n",
       "state                    category\n",
       "A                         float64\n",
       "B                         float64\n",
       "C                         float64\n",
       "D                         float64\n",
       "E                         float64\n",
       "F                         float64\n",
       "G                         float64\n",
       "fire                      float64\n",
       "month                    category\n",
       "dtype: object"
      ]
     },
     "execution_count": 11,
     "metadata": {},
     "output_type": "execute_result"
    }
   ],
   "source": [
    "# check types\n",
    "fires.dtypes"
   ]
  },
  {
   "cell_type": "code",
   "execution_count": 36,
   "metadata": {
    "ExecuteTime": {
     "end_time": "2018-07-03T01:43:28.872893Z",
     "start_time": "2018-07-03T01:43:28.762041Z"
    }
   },
   "outputs": [],
   "source": [
    "# subset predictor X and y\n",
    "X = fires.loc[:, 'glon':'rhum_perc_lag12']\n",
    "X = X.drop(['date'], axis=1)\n",
    "y = fires['fire']"
   ]
  },
  {
   "cell_type": "code",
   "execution_count": 37,
   "metadata": {
    "ExecuteTime": {
     "end_time": "2018-07-03T01:43:30.639082Z",
     "start_time": "2018-07-03T01:43:30.613611Z"
    }
   },
   "outputs": [
    {
     "data": {
      "text/html": [
       "<div>\n",
       "<style scoped>\n",
       "    .dataframe tbody tr th:only-of-type {\n",
       "        vertical-align: middle;\n",
       "    }\n",
       "\n",
       "    .dataframe tbody tr th {\n",
       "        vertical-align: top;\n",
       "    }\n",
       "\n",
       "    .dataframe thead th {\n",
       "        text-align: right;\n",
       "    }\n",
       "</style>\n",
       "<table border=\"1\" class=\"dataframe\">\n",
       "  <thead>\n",
       "    <tr style=\"text-align: right;\">\n",
       "      <th></th>\n",
       "      <th>glon</th>\n",
       "      <th>glat</th>\n",
       "      <th>temp_c</th>\n",
       "      <th>temp_c_lag1</th>\n",
       "      <th>temp_c_lag2</th>\n",
       "      <th>temp_c_lag3</th>\n",
       "      <th>temp_c_lag4</th>\n",
       "      <th>temp_c_lag5</th>\n",
       "      <th>temp_c_lag6</th>\n",
       "      <th>temp_c_lag7</th>\n",
       "      <th>...</th>\n",
       "      <th>rhum_perc_lag3</th>\n",
       "      <th>rhum_perc_lag4</th>\n",
       "      <th>rhum_perc_lag5</th>\n",
       "      <th>rhum_perc_lag6</th>\n",
       "      <th>rhum_perc_lag7</th>\n",
       "      <th>rhum_perc_lag8</th>\n",
       "      <th>rhum_perc_lag9</th>\n",
       "      <th>rhum_perc_lag10</th>\n",
       "      <th>rhum_perc_lag11</th>\n",
       "      <th>rhum_perc_lag12</th>\n",
       "    </tr>\n",
       "  </thead>\n",
       "  <tbody>\n",
       "    <tr>\n",
       "      <th>162</th>\n",
       "      <td>-81.0</td>\n",
       "      <td>26.0</td>\n",
       "      <td>-18.788806</td>\n",
       "      <td>-16.159675</td>\n",
       "      <td>-7.296191</td>\n",
       "      <td>2.417532</td>\n",
       "      <td>8.361591</td>\n",
       "      <td>15.682034</td>\n",
       "      <td>16.000754</td>\n",
       "      <td>11.015319</td>\n",
       "      <td>...</td>\n",
       "      <td>90.753142</td>\n",
       "      <td>83.428592</td>\n",
       "      <td>75.072065</td>\n",
       "      <td>81.675348</td>\n",
       "      <td>89.171776</td>\n",
       "      <td>92.718176</td>\n",
       "      <td>87.274646</td>\n",
       "      <td>81.542242</td>\n",
       "      <td>82.219075</td>\n",
       "      <td>81.685162</td>\n",
       "    </tr>\n",
       "    <tr>\n",
       "      <th>203</th>\n",
       "      <td>-99.0</td>\n",
       "      <td>27.0</td>\n",
       "      <td>-20.508847</td>\n",
       "      <td>-13.985495</td>\n",
       "      <td>-8.053777</td>\n",
       "      <td>7.436029</td>\n",
       "      <td>14.670534</td>\n",
       "      <td>19.032485</td>\n",
       "      <td>19.820216</td>\n",
       "      <td>16.811469</td>\n",
       "      <td>...</td>\n",
       "      <td>75.026149</td>\n",
       "      <td>67.544186</td>\n",
       "      <td>58.876761</td>\n",
       "      <td>65.171682</td>\n",
       "      <td>70.389516</td>\n",
       "      <td>79.374292</td>\n",
       "      <td>90.496616</td>\n",
       "      <td>94.039756</td>\n",
       "      <td>96.459128</td>\n",
       "      <td>97.613157</td>\n",
       "    </tr>\n",
       "    <tr>\n",
       "      <th>204</th>\n",
       "      <td>-98.0</td>\n",
       "      <td>27.0</td>\n",
       "      <td>-20.521859</td>\n",
       "      <td>-14.407123</td>\n",
       "      <td>-8.072947</td>\n",
       "      <td>7.352575</td>\n",
       "      <td>14.725565</td>\n",
       "      <td>19.035636</td>\n",
       "      <td>19.757214</td>\n",
       "      <td>16.599985</td>\n",
       "      <td>...</td>\n",
       "      <td>76.887096</td>\n",
       "      <td>67.833977</td>\n",
       "      <td>60.324305</td>\n",
       "      <td>66.236394</td>\n",
       "      <td>71.497022</td>\n",
       "      <td>79.880936</td>\n",
       "      <td>91.262585</td>\n",
       "      <td>94.620598</td>\n",
       "      <td>97.272705</td>\n",
       "      <td>97.959056</td>\n",
       "    </tr>\n",
       "    <tr>\n",
       "      <th>220</th>\n",
       "      <td>-82.0</td>\n",
       "      <td>27.0</td>\n",
       "      <td>-18.885295</td>\n",
       "      <td>-16.361459</td>\n",
       "      <td>-7.539416</td>\n",
       "      <td>2.445251</td>\n",
       "      <td>8.592806</td>\n",
       "      <td>15.635160</td>\n",
       "      <td>16.022770</td>\n",
       "      <td>10.947775</td>\n",
       "      <td>...</td>\n",
       "      <td>91.153650</td>\n",
       "      <td>83.243989</td>\n",
       "      <td>75.582409</td>\n",
       "      <td>81.639409</td>\n",
       "      <td>89.299014</td>\n",
       "      <td>92.743060</td>\n",
       "      <td>87.588324</td>\n",
       "      <td>82.729815</td>\n",
       "      <td>82.547024</td>\n",
       "      <td>83.133142</td>\n",
       "    </tr>\n",
       "    <tr>\n",
       "      <th>221</th>\n",
       "      <td>-81.0</td>\n",
       "      <td>27.0</td>\n",
       "      <td>-18.788806</td>\n",
       "      <td>-16.159675</td>\n",
       "      <td>-7.296191</td>\n",
       "      <td>2.417532</td>\n",
       "      <td>8.361591</td>\n",
       "      <td>15.682034</td>\n",
       "      <td>16.000754</td>\n",
       "      <td>11.015319</td>\n",
       "      <td>...</td>\n",
       "      <td>90.753142</td>\n",
       "      <td>83.428592</td>\n",
       "      <td>75.072065</td>\n",
       "      <td>81.675348</td>\n",
       "      <td>89.171776</td>\n",
       "      <td>92.718176</td>\n",
       "      <td>87.274646</td>\n",
       "      <td>81.542242</td>\n",
       "      <td>82.219075</td>\n",
       "      <td>81.685162</td>\n",
       "    </tr>\n",
       "  </tbody>\n",
       "</table>\n",
       "<p>5 rows × 41 columns</p>\n",
       "</div>"
      ],
      "text/plain": [
       "     glon  glat     temp_c  temp_c_lag1  temp_c_lag2  temp_c_lag3  \\\n",
       "162 -81.0  26.0 -18.788806   -16.159675    -7.296191     2.417532   \n",
       "203 -99.0  27.0 -20.508847   -13.985495    -8.053777     7.436029   \n",
       "204 -98.0  27.0 -20.521859   -14.407123    -8.072947     7.352575   \n",
       "220 -82.0  27.0 -18.885295   -16.361459    -7.539416     2.445251   \n",
       "221 -81.0  27.0 -18.788806   -16.159675    -7.296191     2.417532   \n",
       "\n",
       "     temp_c_lag4  temp_c_lag5  temp_c_lag6  temp_c_lag7       ...         \\\n",
       "162     8.361591    15.682034    16.000754    11.015319       ...          \n",
       "203    14.670534    19.032485    19.820216    16.811469       ...          \n",
       "204    14.725565    19.035636    19.757214    16.599985       ...          \n",
       "220     8.592806    15.635160    16.022770    10.947775       ...          \n",
       "221     8.361591    15.682034    16.000754    11.015319       ...          \n",
       "\n",
       "     rhum_perc_lag3  rhum_perc_lag4  rhum_perc_lag5  rhum_perc_lag6  \\\n",
       "162       90.753142       83.428592       75.072065       81.675348   \n",
       "203       75.026149       67.544186       58.876761       65.171682   \n",
       "204       76.887096       67.833977       60.324305       66.236394   \n",
       "220       91.153650       83.243989       75.582409       81.639409   \n",
       "221       90.753142       83.428592       75.072065       81.675348   \n",
       "\n",
       "     rhum_perc_lag7  rhum_perc_lag8  rhum_perc_lag9  rhum_perc_lag10  \\\n",
       "162       89.171776       92.718176       87.274646        81.542242   \n",
       "203       70.389516       79.374292       90.496616        94.039756   \n",
       "204       71.497022       79.880936       91.262585        94.620598   \n",
       "220       89.299014       92.743060       87.588324        82.729815   \n",
       "221       89.171776       92.718176       87.274646        81.542242   \n",
       "\n",
       "     rhum_perc_lag11  rhum_perc_lag12  \n",
       "162        82.219075        81.685162  \n",
       "203        96.459128        97.613157  \n",
       "204        97.272705        97.959056  \n",
       "220        82.547024        83.133142  \n",
       "221        82.219075        81.685162  \n",
       "\n",
       "[5 rows x 41 columns]"
      ]
     },
     "execution_count": 37,
     "metadata": {},
     "output_type": "execute_result"
    }
   ],
   "source": [
    "X.head()"
   ]
  },
  {
   "cell_type": "markdown",
   "metadata": {},
   "source": [
    "### Distributions Summary Statistics\n",
    "\n",
    "Checking mean of fires. Since fires is a 1 (yes) / 0 (no) variable which should be the percentage of grid cells that had a fire over the season."
   ]
  },
  {
   "cell_type": "code",
   "execution_count": 38,
   "metadata": {
    "ExecuteTime": {
     "end_time": "2018-07-03T01:43:40.654952Z",
     "start_time": "2018-07-03T01:43:40.645556Z"
    }
   },
   "outputs": [
    {
     "data": {
      "text/plain": [
       "0.13658612342822868"
      ]
     },
     "execution_count": 38,
     "metadata": {},
     "output_type": "execute_result"
    }
   ],
   "source": [
    "# before I split I want to understand my distributions of my predictors\n",
    "y.mean()"
   ]
  },
  {
   "cell_type": "code",
   "execution_count": 26,
   "metadata": {
    "ExecuteTime": {
     "end_time": "2018-07-03T01:25:42.123555Z",
     "start_time": "2018-07-03T01:25:17.862737Z"
    },
    "scrolled": false
   },
   "outputs": [
    {
     "data": {
      "text/plain": [
       "array([[<matplotlib.axes._subplots.AxesSubplot object at 0x7fa0cac429b0>,\n",
       "        <matplotlib.axes._subplots.AxesSubplot object at 0x7fa0cac0c4e0>,\n",
       "        <matplotlib.axes._subplots.AxesSubplot object at 0x7fa0cabb1b70>]],\n",
       "      dtype=object)"
      ]
     },
     "execution_count": 26,
     "metadata": {},
     "output_type": "execute_result"
    },
    {
     "data": {
      "image/png": "[encoded data removed]",
      "text/plain": [
       "<Figure size 432x288 with 3 Axes>"
      ]
     },
     "metadata": {},
     "output_type": "display_data"
    }
   ],
   "source": [
    "# distribution plot of temp_celcius\n",
    "X[['temp_c', 'prec_kgm2', 'rhum_perc']].plot(kind='density', subplots = True,\n",
    "                                             layout = (1, 3), sharex = False)"
   ]
  },
  {
   "cell_type": "markdown",
   "metadata": {},
   "source": [
    "### Train / Test Split\n",
    "\n",
    "Shuffling and splitting X and Y in to test and train."
   ]
  },
  {
   "cell_type": "code",
   "execution_count": 39,
   "metadata": {
    "ExecuteTime": {
     "end_time": "2018-07-03T01:43:46.986363Z",
     "start_time": "2018-07-03T01:43:46.866041Z"
    },
    "collapsed": true
   },
   "outputs": [],
   "source": [
    "X, y = shuffle(X, y, random_state = 123)"
   ]
  },
  {
   "cell_type": "code",
   "execution_count": 40,
   "metadata": {
    "ExecuteTime": {
     "end_time": "2018-07-03T01:43:48.959476Z",
     "start_time": "2018-07-03T01:43:48.790115Z"
    },
    "collapsed": true
   },
   "outputs": [],
   "source": [
    "X_train, X_test, y_train, y_test = train_test_split(X, y, test_size=0.25, \n",
    "                                                    random_state = 321)"
   ]
  },
  {
   "cell_type": "markdown",
   "metadata": {},
   "source": [
    "Checking test/train y and predictors."
   ]
  },
  {
   "cell_type": "code",
   "execution_count": 41,
   "metadata": {
    "ExecuteTime": {
     "end_time": "2018-07-03T01:43:53.169468Z",
     "start_time": "2018-07-03T01:43:53.150786Z"
    },
    "scrolled": true
   },
   "outputs": [
    {
     "name": "stdout",
     "output_type": "stream",
     "text": [
      "0.13816592763961186 0.1360595220244343\n"
     ]
    }
   ],
   "source": [
    "# check y\n",
    "print(y_test.mean(), y_train.mean())"
   ]
  },
  {
   "cell_type": "code",
   "execution_count": 27,
   "metadata": {
    "ExecuteTime": {
     "end_time": "2018-07-03T01:26:16.787456Z",
     "start_time": "2018-07-03T01:25:59.526716Z"
    }
   },
   "outputs": [
    {
     "data": {
      "text/plain": [
       "array([[<matplotlib.axes._subplots.AxesSubplot object at 0x7fa0cab38be0>,\n",
       "        <matplotlib.axes._subplots.AxesSubplot object at 0x7fa0cab115c0>,\n",
       "        <matplotlib.axes._subplots.AxesSubplot object at 0x7fa0caab5c50>]],\n",
       "      dtype=object)"
      ]
     },
     "execution_count": 27,
     "metadata": {},
     "output_type": "execute_result"
    },
    {
     "data": {
      "image/png": "[encoded data removed]",
      "text/plain": [
       "<Figure size 432x288 with 3 Axes>"
      ]
     },
     "metadata": {},
     "output_type": "display_data"
    }
   ],
   "source": [
    "# check x distributions X train\n",
    "# distribution plot of temp_celcius\n",
    "X_train[['temp_c', 'prec_kgm2', 'rhum_perc']].plot(kind='density', subplots = True,\n",
    "                                             layout = (1, 3), sharex = False)"
   ]
  },
  {
   "cell_type": "code",
   "execution_count": 28,
   "metadata": {
    "ExecuteTime": {
     "end_time": "2018-07-03T01:26:26.409056Z",
     "start_time": "2018-07-03T01:26:20.674015Z"
    },
    "scrolled": true
   },
   "outputs": [
    {
     "data": {
      "text/plain": [
       "array([[<matplotlib.axes._subplots.AxesSubplot object at 0x7fa0cab4e0f0>,\n",
       "        <matplotlib.axes._subplots.AxesSubplot object at 0x7fa0ca992160>,\n",
       "        <matplotlib.axes._subplots.AxesSubplot object at 0x7fa0ca9b67f0>]],\n",
       "      dtype=object)"
      ]
     },
     "execution_count": 28,
     "metadata": {},
     "output_type": "execute_result"
    },
    {
     "data": {
      "image/png": "[encoded data removed]",
      "text/plain": [
       "<Figure size 432x288 with 3 Axes>"
      ]
     },
     "metadata": {},
     "output_type": "display_data"
    }
   ],
   "source": [
    "# distribution plot of X test\n",
    "X_test[['temp_c', 'prec_kgm2', 'rhum_perc']].plot(kind='density', subplots = True,\n",
    "                                             layout = (1, 3), sharex = False)"
   ]
  },
  {
   "cell_type": "markdown",
   "metadata": {},
   "source": [
    "Split looks good."
   ]
  },
  {
   "cell_type": "markdown",
   "metadata": {},
   "source": [
    "### Logistic on Train"
   ]
  },
  {
   "cell_type": "code",
   "execution_count": 42,
   "metadata": {
    "ExecuteTime": {
     "end_time": "2018-07-03T01:44:49.979849Z",
     "start_time": "2018-07-03T01:44:01.824350Z"
    },
    "scrolled": true
   },
   "outputs": [
    {
     "data": {
      "text/plain": [
       "LogisticRegression(C=1.0, class_weight=None, dual=False, fit_intercept=True,\n",
       "          intercept_scaling=1, max_iter=100, multi_class='ovr', n_jobs=1,\n",
       "          penalty='l2', random_state=None, solver='liblinear', tol=0.0001,\n",
       "          verbose=0, warm_start=False)"
      ]
     },
     "execution_count": 42,
     "metadata": {},
     "output_type": "execute_result"
    }
   ],
   "source": [
    "logreg = LogisticRegression()\n",
    "logreg.fit(X_train, y_train)"
   ]
  },
  {
   "cell_type": "code",
   "execution_count": 43,
   "metadata": {
    "ExecuteTime": {
     "end_time": "2018-07-03T01:45:45.060521Z",
     "start_time": "2018-07-03T01:45:45.027813Z"
    }
   },
   "outputs": [
    {
     "name": "stdout",
     "output_type": "stream",
     "text": [
      "Accuracy of logistic regression classifier on test set: 0.86\n"
     ]
    }
   ],
   "source": [
    "# predic y \n",
    "y_pred = logreg.predict(X_test)\n",
    "print('Accuracy of logistic regression classifier on test set: {:.2f}'.format(logreg.score(X_test, y_test)))"
   ]
  },
  {
   "cell_type": "code",
   "execution_count": 44,
   "metadata": {
    "ExecuteTime": {
     "end_time": "2018-07-03T01:48:21.085433Z",
     "start_time": "2018-07-03T01:48:21.067978Z"
    },
    "scrolled": true
   },
   "outputs": [
    {
     "data": {
      "text/plain": [
       "array([[0.99316012, 0.00683988],\n",
       "       [0.95210361, 0.04789639],\n",
       "       [0.9273675 , 0.0726325 ],\n",
       "       [0.75131884, 0.24868116],\n",
       "       [0.60840975, 0.39159025],\n",
       "       [0.9173669 , 0.0826331 ],\n",
       "       [0.92802674, 0.07197326],\n",
       "       [0.96668642, 0.03331358],\n",
       "       [0.95306292, 0.04693708],\n",
       "       [0.80494374, 0.19505626]])"
      ]
     },
     "execution_count": 44,
     "metadata": {},
     "output_type": "execute_result"
    }
   ],
   "source": [
    "logreg.predict_proba(X_test)[:10]"
   ]
  },
  {
   "cell_type": "code",
   "execution_count": 45,
   "metadata": {
    "ExecuteTime": {
     "end_time": "2018-07-03T01:49:14.263465Z",
     "start_time": "2018-07-03T01:49:14.255437Z"
    },
    "scrolled": true
   },
   "outputs": [
    {
     "data": {
      "text/plain": [
       "515039    0.0\n",
       "608279    0.0\n",
       "178619    0.0\n",
       "653975    0.0\n",
       "268114    1.0\n",
       "527091    0.0\n",
       "437584    0.0\n",
       "89888     0.0\n",
       "436819    0.0\n",
       "268175    0.0\n",
       "Name: fire, dtype: float64"
      ]
     },
     "execution_count": 45,
     "metadata": {},
     "output_type": "execute_result"
    }
   ],
   "source": [
    "y_test[:10]"
   ]
  },
  {
   "cell_type": "markdown",
   "metadata": {},
   "source": [
    "Accuracy not bad for a simple logistic model."
   ]
  }
 ],
 "metadata": {
  "kernelspec": {
   "display_name": "py3",
   "language": "python",
   "name": "py3"
  },
  "language_info": {
   "codemirror_mode": {
    "name": "ipython",
    "version": 3
   },
   "file_extension": ".py",
   "mimetype": "text/x-python",
   "name": "python",
   "nbconvert_exporter": "python",
   "pygments_lexer": "ipython3",
   "version": "3.6.2"
  },
  "latex_envs": {
   "LaTeX_envs_menu_present": true,
   "autoclose": false,
   "autocomplete": true,
   "bibliofile": "biblio.bib",
   "cite_by": "apalike",
   "current_citInitial": 1,
   "eqLabelWithNumbers": true,
   "eqNumInitial": 1,
   "hotkeys": {
    "equation": "Ctrl-E",
    "itemize": "Ctrl-I"
   },
   "labels_anchors": false,
   "latex_user_defs": false,
   "report_style_numbering": false,
   "user_envs_cfg": false
  },
  "varInspector": {
   "cols": {
    "lenName": 16,
    "lenType": 16,
    "lenVar": 40
   },
   "kernels_config": {
    "python": {
     "delete_cmd_postfix": "",
     "delete_cmd_prefix": "del ",
     "library": "var_list.py",
     "varRefreshCmd": "print(var_dic_list())"
    },
    "r": {
     "delete_cmd_postfix": ") ",
     "delete_cmd_prefix": "rm(",
     "library": "var_list.r",
     "varRefreshCmd": "cat(var_dic_list()) "
    }
   },
   "types_to_exclude": [
    "module",
    "function",
    "builtin_function_or_method",
    "instance",
    "_Feature"
   ],
   "window_display": false
  }
 },
 "nbformat": 4,
 "nbformat_minor": 2
}
