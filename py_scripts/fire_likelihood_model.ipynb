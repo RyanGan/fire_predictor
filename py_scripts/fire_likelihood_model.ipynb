{
 "cells": [
  {
   "cell_type": "markdown",
   "metadata": {},
   "source": [
    "## Fire Likelihood Model\n",
    "\n"
   ]
  },
  {
   "cell_type": "code",
   "execution_count": 4,
   "metadata": {
    "ExecuteTime": {
     "end_time": "2018-07-02T15:06:16.786286Z",
     "start_time": "2018-07-02T15:06:16.781515Z"
    }
   },
   "outputs": [],
   "source": [
    "# import modules\n",
    "import pandas as pd\n",
    "import numpy as np\n",
    "# sklearn\n",
    "from sklearn.linear_model import LogisticRegression\n",
    "from sklearn import preprocessing\n",
    "from sklearn.cross_validation import train_test_split"
   ]
  },
  {
   "cell_type": "code",
   "execution_count": 12,
   "metadata": {
    "ExecuteTime": {
     "end_time": "2018-07-02T17:50:14.924334Z",
     "start_time": "2018-07-02T17:50:10.329492Z"
    }
   },
   "outputs": [],
   "source": [
    "# import fire predictor\n",
    "fires = pd.read_csv('../data/model_data/1979-2016_fire_likelihood.csv', index_col=0)\n",
    "# change date to datetime\n",
    "fires['date'] = pd.to_datetime(fires['date'])\n",
    "# category types\n",
    "fires['state'] = fires['state'].astype('category')\n",
    "fires['month'] = fires['month'].astype('category')\n",
    "fires['grid_id'] = fires['grid_id'].astype('category')"
   ]
  },
  {
   "cell_type": "code",
   "execution_count": 11,
   "metadata": {
    "ExecuteTime": {
     "end_time": "2018-07-02T15:21:27.527121Z",
     "start_time": "2018-07-02T15:21:27.519258Z"
    }
   },
   "outputs": [
    {
     "data": {
      "text/plain": [
       "grid_id                     int64\n",
       "glon                      float64\n",
       "glat                      float64\n",
       "date               datetime64[ns]\n",
       "temp_c                    float64\n",
       "temp_c_lag1               float64\n",
       "temp_c_lag2               float64\n",
       "temp_c_lag3               float64\n",
       "temp_c_lag4               float64\n",
       "temp_c_lag5               float64\n",
       "temp_c_lag6               float64\n",
       "temp_c_lag7               float64\n",
       "temp_c_lag8               float64\n",
       "temp_c_lag9               float64\n",
       "temp_c_lag10              float64\n",
       "temp_c_lag11              float64\n",
       "temp_c_lag12              float64\n",
       "prec_kgm2                 float64\n",
       "prec_kgm2_lag1            float64\n",
       "prec_kgm2_lag2            float64\n",
       "prec_kgm2_lag3            float64\n",
       "prec_kgm2_lag4            float64\n",
       "prec_kgm2_lag5            float64\n",
       "prec_kgm2_lag6            float64\n",
       "prec_kgm2_lag7            float64\n",
       "prec_kgm2_lag8            float64\n",
       "prec_kgm2_lag9            float64\n",
       "prec_kgm2_lag10           float64\n",
       "prec_kgm2_lag11           float64\n",
       "prec_kgm2_lag12           float64\n",
       "rhum_perc                 float64\n",
       "rhum_perc_lag1            float64\n",
       "rhum_perc_lag2            float64\n",
       "rhum_perc_lag3            float64\n",
       "rhum_perc_lag4            float64\n",
       "rhum_perc_lag5            float64\n",
       "rhum_perc_lag6            float64\n",
       "rhum_perc_lag7            float64\n",
       "rhum_perc_lag8            float64\n",
       "rhum_perc_lag9            float64\n",
       "rhum_perc_lag10           float64\n",
       "rhum_perc_lag11           float64\n",
       "rhum_perc_lag12           float64\n",
       "state                    category\n",
       "A                         float64\n",
       "B                         float64\n",
       "C                         float64\n",
       "D                         float64\n",
       "E                         float64\n",
       "F                         float64\n",
       "G                         float64\n",
       "fire                      float64\n",
       "month                    category\n",
       "dtype: object"
      ]
     },
     "execution_count": 11,
     "metadata": {},
     "output_type": "execute_result"
    }
   ],
   "source": [
    "# check types\n",
    "fires.dtypes"
   ]
  }
 ],
 "metadata": {
  "kernelspec": {
   "display_name": "py3",
   "language": "python",
   "name": "py3"
  },
  "language_info": {
   "codemirror_mode": {
    "name": "ipython",
    "version": 3
   },
   "file_extension": ".py",
   "mimetype": "text/x-python",
   "name": "python",
   "nbconvert_exporter": "python",
   "pygments_lexer": "ipython3",
   "version": "3.6.2"
  },
  "latex_envs": {
   "LaTeX_envs_menu_present": true,
   "autoclose": false,
   "autocomplete": true,
   "bibliofile": "biblio.bib",
   "cite_by": "apalike",
   "current_citInitial": 1,
   "eqLabelWithNumbers": true,
   "eqNumInitial": 1,
   "hotkeys": {
    "equation": "Ctrl-E",
    "itemize": "Ctrl-I"
   },
   "labels_anchors": false,
   "latex_user_defs": false,
   "report_style_numbering": false,
   "user_envs_cfg": false
  },
  "varInspector": {
   "cols": {
    "lenName": 16,
    "lenType": 16,
    "lenVar": 40
   },
   "kernels_config": {
    "python": {
     "delete_cmd_postfix": "",
     "delete_cmd_prefix": "del ",
     "library": "var_list.py",
     "varRefreshCmd": "print(var_dic_list())"
    },
    "r": {
     "delete_cmd_postfix": ") ",
     "delete_cmd_prefix": "rm(",
     "library": "var_list.r",
     "varRefreshCmd": "cat(var_dic_list()) "
    }
   },
   "types_to_exclude": [
    "module",
    "function",
    "builtin_function_or_method",
    "instance",
    "_Feature"
   ],
   "window_display": false
  }
 },
 "nbformat": 4,
 "nbformat_minor": 2
}
