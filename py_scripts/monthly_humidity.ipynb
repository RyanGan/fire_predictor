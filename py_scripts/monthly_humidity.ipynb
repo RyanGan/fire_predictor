{
 "cells": [
  {
   "cell_type": "markdown",
   "metadata": {
    "collapsed": true
   },
   "source": [
    "## Extracting Monthly Humidity Data from Array\n",
    "\n",
    "#### Author: Ryan Gan\n",
    "#### Date: 2018-06-29\n",
    "\n",
    "Extracting gridded atmospheric humidity values to North American region and regriding to study area. Dates appear to be every from 1980 to 2018."
   ]
  },
  {
   "cell_type": "code",
   "execution_count": 2,
   "metadata": {
    "ExecuteTime": {
     "end_time": "2018-06-29T16:08:43.765173Z",
     "start_time": "2018-06-29T16:08:43.752280Z"
    },
    "collapsed": true,
    "scrolled": true
   },
   "outputs": [],
   "source": [
    "# import dataset from netCDF as nc_open; array storage system\n",
    "import netCDF4 as nc\n",
    "# import dataset\n",
    "from netCDF4 import Dataset \n",
    "# interpolate griddate\n",
    "from scipy import interpolate\n",
    "# import numpy as np; for working with array data\n",
    "import numpy as np\n",
    "# import pandas as pd; working with data.frames\n",
    "import pandas as pd\n",
    "# Matplotlib for additional customization\n",
    "from matplotlib import pyplot as plt \n",
    "%matplotlib inline\n",
    "#import mpl_toolkits # i'd like basemap but doesn't seem to be available for py3\n",
    "# Seaborn for plotting and styling\n",
    "import seaborn as sns"
   ]
  },
  {
   "cell_type": "markdown",
   "metadata": {},
   "source": [
    "Open connection to humidity netcdf."
   ]
  },
  {
   "cell_type": "code",
   "execution_count": 3,
   "metadata": {
    "ExecuteTime": {
     "end_time": "2018-06-29T16:18:58.180288Z",
     "start_time": "2018-06-29T16:18:58.174044Z"
    },
    "collapsed": true
   },
   "outputs": [],
   "source": [
    "# open r humidity nc\n",
    "rhum_nc = Dataset(\"../data/nc/rhum.mon.mean.nc\")"
   ]
  },
  {
   "cell_type": "markdown",
   "metadata": {},
   "source": [
    "Print out humidity variable information."
   ]
  },
  {
   "cell_type": "code",
   "execution_count": 4,
   "metadata": {
    "ExecuteTime": {
     "end_time": "2018-06-29T16:19:47.740268Z",
     "start_time": "2018-06-29T16:19:47.733628Z"
    }
   },
   "outputs": [
    {
     "name": "stdout",
     "output_type": "stream",
     "text": [
      "<class 'netCDF4._netCDF4.Dataset'>\n",
      "root group (NETCDF4_CLASSIC data model, file format HDF5):\n",
      "    description: Data from NCEP initialized reanalysis (4x/day).  These are the 0.9950 sigma level values\n",
      "    platform: Model\n",
      "    Conventions: COARDS\n",
      "    NCO: 20121012\n",
      "    history: Thu May  4 18:12:20 2000: ncrcat -d time,0,622 /Datasets/ncep.reanalysis.derived/surface/rhum.mon.mean.nc ./surface/rhum.mon.mean.nc\n",
      "Mon Jul  5 23:49:27 1999: ncrcat ./rhum.mon.mean.nc /Datasets/ncep.reanalysis.derived/surface/rhum.mon.mean.nc /dm/dmwork/nmc.rean.ingest/combinedMMs/surface/rhum.mon.mean.nc\n",
      "/home/hoop/crdc/cpreanjuke2farm/cpreanjuke2farm Thu Oct 26 23:42:16 1995 from pre.sig995.85.nc\n",
      "created 95/02/06 by Hoop (netCDF2.3)\n",
      "Converted to chunked, deflated non-packed NetCDF4 2014/09\n",
      "    title: monthly mean rhum.sig995 from the NCEP Reanalysis\n",
      "    References: http://www.esrl.noaa.gov/psd/data/gridded/data.ncep.reanalysis.derived.html\n",
      "    dataset_title: NCEP-NCAR Reanalysis 1\n",
      "    dimensions(sizes): lat(73), lon(144), time(844)\n",
      "    variables(dimensions): float32 \u001b[4mlat\u001b[0m(lat), float32 \u001b[4mlon\u001b[0m(lon), float64 \u001b[4mtime\u001b[0m(time), float32 \u001b[4mrhum\u001b[0m(time,lat,lon)\n",
      "    groups: \n",
      "\n",
      "<class 'netCDF4._netCDF4.Variable'>\n",
      "float32 lat(lat)\n",
      "    units: degrees_north\n",
      "    actual_range: [ 90. -90.]\n",
      "    long_name: Latitude\n",
      "    standard_name: latitude\n",
      "    axis: Y\n",
      "unlimited dimensions: \n",
      "current shape = (73,)\n",
      "filling on, default _FillValue of 9.969209968386869e+36 used\n",
      "\n",
      "<class 'netCDF4._netCDF4.Variable'>\n",
      "float32 lon(lon)\n",
      "    units: degrees_east\n",
      "    long_name: Longitude\n",
      "    actual_range: [  0.  357.5]\n",
      "    standard_name: longitude\n",
      "    axis: X\n",
      "unlimited dimensions: \n",
      "current shape = (144,)\n",
      "filling on, default _FillValue of 9.969209968386869e+36 used\n",
      "\n",
      "<class 'netCDF4._netCDF4.Variable'>\n",
      "float64 time(time)\n",
      "    long_name: Time\n",
      "    delta_t: 0000-01-00 00:00:00\n",
      "    prev_avg_period: 0000-00-01 00:00:00\n",
      "    standard_name: time\n",
      "    axis: T\n",
      "    units: hours since 1800-01-01 00:00:0.0\n",
      "    actual_range: [1297320. 1913112.]\n",
      "unlimited dimensions: time\n",
      "current shape = (844,)\n",
      "filling on, default _FillValue of 9.969209968386869e+36 used\n",
      "\n",
      "<class 'netCDF4._netCDF4.Variable'>\n",
      "float32 rhum(time, lat, lon)\n",
      "    long_name: Monthly Mean Relative Humidity at sigma level 0.995\n",
      "    valid_range: [-102.2  102.2]\n",
      "    units: %\n",
      "    add_offset: 0.0\n",
      "    scale_factor: 1.0\n",
      "    missing_value: -9.96921e+36\n",
      "    precision: 2\n",
      "    least_significant_digit: 1\n",
      "    var_desc: Relative Humidity\n",
      "    level_desc: Surface\n",
      "    statistic: Mean\n",
      "    parent_stat: Other\n",
      "    dataset: NCEP Reanalysis Derived Products\n",
      "    actual_range: [  0.   100.01]\n",
      "unlimited dimensions: time\n",
      "current shape = (844, 73, 144)\n",
      "filling on, default _FillValue of 9.969209968386869e+36 used\n",
      "\n"
     ]
    }
   ],
   "source": [
    "print(rhum_nc)\n",
    "# print out details of each variable\n",
    "for v in rhum_nc.variables:\n",
    "    print(rhum_nc.variables[v])"
   ]
  },
  {
   "cell_type": "markdown",
   "metadata": {},
   "source": [
    "### Extracting Grid Locations of Humidity Grid\n",
    "\n",
    "Extracting humidity global grid."
   ]
  },
  {
   "cell_type": "code",
   "execution_count": 6,
   "metadata": {
    "ExecuteTime": {
     "end_time": "2018-06-29T16:24:31.338368Z",
     "start_time": "2018-06-29T16:24:31.322700Z"
    }
   },
   "outputs": [
    {
     "data": {
      "text/plain": [
       "(73, 144)"
      ]
     },
     "execution_count": 6,
     "metadata": {},
     "output_type": "execute_result"
    }
   ],
   "source": [
    "# extract latitude\n",
    "lat = rhum_nc.variables['lat'][:]\n",
    "# extract longitude\n",
    "lon = rhum_nc.variables['lon'][:]\n",
    "# extract time\n",
    "time = rhum_nc.variables['time'][:]\n",
    "# 1st precipitation values\n",
    "rhum = rhum_nc.variables['rhum'][1,:,:]\n",
    "# check dimension of shape\n",
    "np.shape(rhum)"
   ]
  },
  {
   "cell_type": "markdown",
   "metadata": {},
   "source": [
    "Print out min, mean, max of humidity vector."
   ]
  },
  {
   "cell_type": "code",
   "execution_count": 7,
   "metadata": {
    "ExecuteTime": {
     "end_time": "2018-06-29T16:25:23.391694Z",
     "start_time": "2018-06-29T16:25:23.387727Z"
    }
   },
   "outputs": [
    {
     "name": "stdout",
     "output_type": "stream",
     "text": [
      "0.25 78.968025 99.82758\n"
     ]
    }
   ],
   "source": [
    "print(np.min(rhum), np.mean(rhum), np.max(rhum))"
   ]
  },
  {
   "cell_type": "markdown",
   "metadata": {},
   "source": [
    "Using Seaborn to print out a heatmap the first matrix of humidity. Look at all the dry areas in the desert and poles. Cool."
   ]
  },
  {
   "cell_type": "code",
   "execution_count": 8,
   "metadata": {
    "ExecuteTime": {
     "end_time": "2018-06-29T16:26:00.939516Z",
     "start_time": "2018-06-29T16:26:00.592769Z"
    },
    "scrolled": false
   },
   "outputs": [
    {
     "data": {
      "text/plain": [
       "<matplotlib.axes._subplots.AxesSubplot at 0x7f2c3fd68978>"
      ]
     },
     "execution_count": 8,
     "metadata": {},
     "output_type": "execute_result"
    },
    {
     "data": {
      "image/png": "[encoded data removed]",
      "text/plain": [
       "<Figure size 432x288 with 2 Axes>"
      ]
     },
     "metadata": {},
     "output_type": "display_data"
    }
   ],
   "source": [
    "sns.heatmap(rhum)"
   ]
  },
  {
   "cell_type": "markdown",
   "metadata": {},
   "source": [
    "I want to subset the array to the spatial extent of the continental United States.  The longitude bounds should be  -124.848974 to -66.885444. I will need to add 180 degrees to these degrees west to match the convert from degrees east of the nc file. The latitude bounds should be 24.396308 to 49.384358."
   ]
  },
  {
   "cell_type": "code",
   "execution_count": 9,
   "metadata": {
    "ExecuteTime": {
     "end_time": "2018-06-29T16:29:35.305618Z",
     "start_time": "2018-06-29T16:29:35.298735Z"
    }
   },
   "outputs": [
    {
     "name": "stdout",
     "output_type": "stream",
     "text": [
      "16 26 94 117\n"
     ]
    }
   ],
   "source": [
    "# lat and lon bounds\n",
    "latbounds = [24.4, 49.4]\n",
    "# lon bounds need to be converted from easterling to westerling to get US\n",
    "lonbounds = [-124.8 + 360, -66.9 + 360]\n",
    "\n",
    "# latitude lower and upper bounds\n",
    "lat_ui = np.argmin(np.abs(lat - latbounds[0]))\n",
    "lat_li = np.argmin(np.abs(lat - latbounds[1]))\n",
    "\n",
    "# longitude lower and upper boudns\n",
    "lon_li = np.argmin(np.abs(lon - lonbounds[0]))\n",
    "lon_ui = np.argmin(np.abs(lon - lonbounds[1]))\n",
    "# print index\n",
    "print(lat_li, lat_ui, lon_li, lon_ui)"
   ]
  },
  {
   "cell_type": "markdown",
   "metadata": {},
   "source": [
    "Subset latitude and longitude grid points."
   ]
  },
  {
   "cell_type": "code",
   "execution_count": 10,
   "metadata": {
    "ExecuteTime": {
     "end_time": "2018-06-29T16:29:54.914539Z",
     "start_time": "2018-06-29T16:29:54.908243Z"
    }
   },
   "outputs": [
    {
     "name": "stdout",
     "output_type": "stream",
     "text": [
      "-125.0 -70.0 27.5 50.0\n"
     ]
    }
   ],
   "source": [
    "# subset us lon\n",
    "lon_us = lon[lon_li:lon_ui]-360\n",
    "# subset us lat\n",
    "lat_us = lat[lat_li:lat_ui]\n",
    "# print dimensions\n",
    "print(np.min(lon_us), np.max(lon_us), np.min(lat_us), np.max(lat_us))"
   ]
  },
  {
   "cell_type": "markdown",
   "metadata": {},
   "source": [
    "Subset to US."
   ]
  },
  {
   "cell_type": "code",
   "execution_count": 11,
   "metadata": {
    "ExecuteTime": {
     "end_time": "2018-06-29T16:30:55.605410Z",
     "start_time": "2018-06-29T16:30:55.600415Z"
    }
   },
   "outputs": [
    {
     "data": {
      "text/plain": [
       "(10, 23)"
      ]
     },
     "execution_count": 11,
     "metadata": {},
     "output_type": "execute_result"
    }
   ],
   "source": [
    "# subset temp to us\n",
    "rhum_us = rhum_nc.variables['rhum'][1, lat_li:lat_ui, lon_li:lon_ui]\n",
    "np.shape(rhum_us)"
   ]
  },
  {
   "cell_type": "markdown",
   "metadata": {},
   "source": [
    "Plot heatmap of US relative humidity to make sure subset looks right."
   ]
  },
  {
   "cell_type": "code",
   "execution_count": 12,
   "metadata": {
    "ExecuteTime": {
     "end_time": "2018-06-29T16:31:58.507004Z",
     "start_time": "2018-06-29T16:31:58.268191Z"
    },
    "scrolled": true
   },
   "outputs": [
    {
     "data": {
      "text/plain": [
       "<matplotlib.axes._subplots.AxesSubplot at 0x7f2c3f9f2f98>"
      ]
     },
     "execution_count": 12,
     "metadata": {},
     "output_type": "execute_result"
    },
    {
     "data": {
      "image/png": "[encoded data removed]",
      "text/plain": [
       "<Figure size 432x288 with 2 Axes>"
      ]
     },
     "metadata": {},
     "output_type": "display_data"
    }
   ],
   "source": [
    "sns.heatmap(rhum_us)"
   ]
  },
  {
   "cell_type": "markdown",
   "metadata": {},
   "source": [
    "### Binary Interpolation of Humidity to Finer Grid Resolution\n",
    "\n",
    "Using interpolation to estimate humidity to a finer grid. Creating a 1x1 degree grid. I've done this before for other netcdf files and know it works so I'm going to go ahead and just interpolate for all grids."
   ]
  },
  {
   "cell_type": "code",
   "execution_count": 13,
   "metadata": {
    "ExecuteTime": {
     "end_time": "2018-06-29T16:38:36.125316Z",
     "start_time": "2018-06-29T16:38:36.121461Z"
    },
    "collapsed": true
   },
   "outputs": [],
   "source": [
    "# custom grids for every degree\n",
    "# vectors\n",
    "grid_lat = np.arange(np.min(lat_us), np.max(lat_us), 1)\n",
    "grid_lon = np.arange(np.min(lon_us), np.max(lon_us), 1)\n",
    "# mesh grid array\n",
    "glons, glats = np.meshgrid(grid_lon, grid_lat)"
   ]
  },
  {
   "cell_type": "markdown",
   "metadata": {},
   "source": [
    "Plotting new grid to check shape."
   ]
  },
  {
   "cell_type": "code",
   "execution_count": 14,
   "metadata": {
    "ExecuteTime": {
     "end_time": "2018-06-29T16:38:57.682475Z",
     "start_time": "2018-06-29T16:38:57.523683Z"
    }
   },
   "outputs": [
    {
     "data": {
      "image/png": "[encoded data removed]",
      "text/plain": [
       "<Figure size 432x288 with 1 Axes>"
      ]
     },
     "metadata": {},
     "output_type": "display_data"
    }
   ],
   "source": [
    "# plot new grid\n",
    "plt.plot(glons, glats, marker='.', color='k', linestyle='none')\n",
    "plt.show()"
   ]
  },
  {
   "cell_type": "markdown",
   "metadata": {},
   "source": [
    "Set up interpoloation spline using RectBivariateSpline, which is faster than interp2D if it's a regular grid (which it is). Lats and Lons need to be sorted and the dimensions need to match shape of value array."
   ]
  },
  {
   "cell_type": "code",
   "execution_count": 16,
   "metadata": {
    "ExecuteTime": {
     "end_time": "2018-06-29T17:11:15.429849Z",
     "start_time": "2018-06-29T17:11:15.161961Z"
    },
    "collapsed": true
   },
   "outputs": [],
   "source": [
    "# extract full monthly grid\n",
    "rhum_us_full = rhum_nc.variables['rhum'][:, lat_li:lat_ui, lon_li:lon_ui]"
   ]
  },
  {
   "cell_type": "code",
   "execution_count": 17,
   "metadata": {
    "ExecuteTime": {
     "end_time": "2018-06-29T17:11:31.352976Z",
     "start_time": "2018-06-29T17:11:31.348076Z"
    }
   },
   "outputs": [
    {
     "data": {
      "text/plain": [
       "(844, 10, 23)"
      ]
     },
     "execution_count": 17,
     "metadata": {},
     "output_type": "execute_result"
    }
   ],
   "source": [
    "# check shape\n",
    "np.shape(rhum_us_full)"
   ]
  },
  {
   "cell_type": "code",
   "execution_count": 18,
   "metadata": {
    "ExecuteTime": {
     "end_time": "2018-06-29T17:13:08.990484Z",
     "start_time": "2018-06-29T17:13:08.858492Z"
    },
    "collapsed": true
   },
   "outputs": [],
   "source": [
    "# create empty numpy array of 843 days and 23 lon by 55 lat \n",
    "rhum_fine = np.zeros((844, 23, 55))\n",
    "\n",
    "# interpolate for each month to new grid\n",
    "for i in range(844):\n",
    "    # extract prec element\n",
    "    rhum_mon = rhum_us_full[i]\n",
    "    # create interpolate \n",
    "    interp_spline = interpolate.RectBivariateSpline(sorted(lat_us), lon_us, rhum_mon)\n",
    "    # interpolate to new grid\n",
    "    rhum_fine[i] = interp_spline(grid_lat, grid_lon)"
   ]
  },
  {
   "cell_type": "code",
   "execution_count": 22,
   "metadata": {
    "ExecuteTime": {
     "end_time": "2018-06-29T18:29:56.506663Z",
     "start_time": "2018-06-29T18:29:56.501747Z"
    }
   },
   "outputs": [
    {
     "data": {
      "text/plain": [
       "(844, 23, 55)"
      ]
     },
     "execution_count": 22,
     "metadata": {},
     "output_type": "execute_result"
    }
   ],
   "source": [
    "# check shape\n",
    "np.shape(rhum_fine)"
   ]
  },
  {
   "cell_type": "code",
   "execution_count": 21,
   "metadata": {
    "ExecuteTime": {
     "end_time": "2018-06-29T17:20:05.069749Z",
     "start_time": "2018-06-29T17:20:04.833329Z"
    },
    "scrolled": false
   },
   "outputs": [
    {
     "data": {
      "text/plain": [
       "<matplotlib.axes._subplots.AxesSubplot at 0x7f2c3f86acc0>"
      ]
     },
     "execution_count": 21,
     "metadata": {},
     "output_type": "execute_result"
    },
    {
     "data": {
      "image/png": "[encoded data removed]",
      "text/plain": [
       "<Figure size 432x288 with 2 Axes>"
      ]
     },
     "metadata": {},
     "output_type": "display_data"
    }
   ],
   "source": [
    "# view regrid humidity\n",
    "check_rhum = rhum_fine[1]\n",
    "sns.heatmap(check_rhum)"
   ]
  },
  {
   "cell_type": "markdown",
   "metadata": {},
   "source": [
    "### Array to Dataframe\n",
    "\n",
    "Flattening array and converting to pandas dataframe."
   ]
  },
  {
   "cell_type": "code",
   "execution_count": 23,
   "metadata": {
    "ExecuteTime": {
     "end_time": "2018-06-29T18:31:13.964518Z",
     "start_time": "2018-06-29T18:31:13.959831Z"
    }
   },
   "outputs": [
    {
     "data": {
      "text/plain": [
       "(1265, 2)"
      ]
     },
     "execution_count": 23,
     "metadata": {},
     "output_type": "execute_result"
    }
   ],
   "source": [
    "# coordinates to a 2 dimension array\n",
    "us_grid = np.array(np.meshgrid(grid_lon, grid_lat)).reshape(2, -1).T\n",
    "# check dimensions\n",
    "np.shape(us_grid)"
   ]
  },
  {
   "cell_type": "code",
   "execution_count": 24,
   "metadata": {
    "ExecuteTime": {
     "end_time": "2018-06-29T18:31:55.736980Z",
     "start_time": "2018-06-29T18:31:55.732497Z"
    }
   },
   "outputs": [
    {
     "data": {
      "text/plain": [
       "(1265, 844)"
      ]
     },
     "execution_count": 24,
     "metadata": {},
     "output_type": "execute_result"
    }
   ],
   "source": [
    "# extract precip array\n",
    "us_rhum = rhum_fine.reshape(844,1265).T #.T is for transpose\n",
    "# check shape\n",
    "np.shape(us_rhum)"
   ]
  },
  {
   "cell_type": "code",
   "execution_count": 25,
   "metadata": {
    "ExecuteTime": {
     "end_time": "2018-06-29T18:33:38.001415Z",
     "start_time": "2018-06-29T18:33:37.991128Z"
    },
    "scrolled": true
   },
   "outputs": [
    {
     "name": "stdout",
     "output_type": "stream",
     "text": [
      "  grid_id\n",
      "0       1\n",
      "1       2\n",
      "2       3\n",
      "3       4\n",
      "4       5      grid_id\n",
      "1260    1261\n",
      "1261    1262\n",
      "1262    1263\n",
      "1263    1264\n",
      "1264    1265\n"
     ]
    }
   ],
   "source": [
    "# create grid id\n",
    "grid_id = pd.DataFrame(data = np.arange(1, 1266, 1).T).astype('str')\n",
    "grid_id.columns = ['grid_id'] \n",
    "# head and tail\n",
    "print(grid_id.head(), grid_id.tail())"
   ]
  },
  {
   "cell_type": "markdown",
   "metadata": {},
   "source": [
    "Binding/concatenating grid id variable with lon and lat coordinates."
   ]
  },
  {
   "cell_type": "code",
   "execution_count": 26,
   "metadata": {
    "ExecuteTime": {
     "end_time": "2018-06-29T18:45:04.115263Z",
     "start_time": "2018-06-29T18:45:04.103736Z"
    },
    "scrolled": true
   },
   "outputs": [
    {
     "data": {
      "text/html": [
       "<div>\n",
       "<style scoped>\n",
       "    .dataframe tbody tr th:only-of-type {\n",
       "        vertical-align: middle;\n",
       "    }\n",
       "\n",
       "    .dataframe tbody tr th {\n",
       "        vertical-align: top;\n",
       "    }\n",
       "\n",
       "    .dataframe thead th {\n",
       "        text-align: right;\n",
       "    }\n",
       "</style>\n",
       "<table border=\"1\" class=\"dataframe\">\n",
       "  <thead>\n",
       "    <tr style=\"text-align: right;\">\n",
       "      <th></th>\n",
       "      <th>grid_id</th>\n",
       "      <th>lon</th>\n",
       "      <th>lat</th>\n",
       "    </tr>\n",
       "  </thead>\n",
       "  <tbody>\n",
       "    <tr>\n",
       "      <th>0</th>\n",
       "      <td>1</td>\n",
       "      <td>-125.0</td>\n",
       "      <td>27.5</td>\n",
       "    </tr>\n",
       "    <tr>\n",
       "      <th>1</th>\n",
       "      <td>2</td>\n",
       "      <td>-124.0</td>\n",
       "      <td>27.5</td>\n",
       "    </tr>\n",
       "    <tr>\n",
       "      <th>2</th>\n",
       "      <td>3</td>\n",
       "      <td>-123.0</td>\n",
       "      <td>27.5</td>\n",
       "    </tr>\n",
       "    <tr>\n",
       "      <th>3</th>\n",
       "      <td>4</td>\n",
       "      <td>-122.0</td>\n",
       "      <td>27.5</td>\n",
       "    </tr>\n",
       "    <tr>\n",
       "      <th>4</th>\n",
       "      <td>5</td>\n",
       "      <td>-121.0</td>\n",
       "      <td>27.5</td>\n",
       "    </tr>\n",
       "  </tbody>\n",
       "</table>\n",
       "</div>"
      ],
      "text/plain": [
       "  grid_id    lon   lat\n",
       "0       1 -125.0  27.5\n",
       "1       2 -124.0  27.5\n",
       "2       3 -123.0  27.5\n",
       "3       4 -122.0  27.5\n",
       "4       5 -121.0  27.5"
      ]
     },
     "execution_count": 26,
     "metadata": {},
     "output_type": "execute_result"
    }
   ],
   "source": [
    "# create grid dataframe from coordinate array\n",
    "grid_df = pd.DataFrame(data = us_grid)\n",
    "# name columns\n",
    "grid_df.columns = ['lon', 'lat']\n",
    "# concat dataframes\n",
    "grid_df = pd.concat([grid_id, grid_df], axis=1)\n",
    "# view first rows\n",
    "grid_df.head()"
   ]
  },
  {
   "cell_type": "markdown",
   "metadata": {},
   "source": [
    "Assign Dates"
   ]
  },
  {
   "cell_type": "code",
   "execution_count": 27,
   "metadata": {
    "ExecuteTime": {
     "end_time": "2018-06-29T18:45:32.114746Z",
     "start_time": "2018-06-29T18:45:32.099889Z"
    },
    "scrolled": true
   },
   "outputs": [
    {
     "name": "stdout",
     "output_type": "stream",
     "text": [
      "1948-01-01   1948-01-01\n",
      "1948-02-01   1948-02-01\n",
      "1948-03-01   1948-03-01\n",
      "1948-04-01   1948-04-01\n",
      "1948-05-01   1948-05-01\n",
      "dtype: datetime64[ns] 2017-12-01   2017-12-01\n",
      "2018-01-01   2018-01-01\n",
      "2018-02-01   2018-02-01\n",
      "2018-03-01   2018-03-01\n",
      "2018-04-01   2018-04-01\n",
      "dtype: datetime64[ns]\n"
     ]
    }
   ],
   "source": [
    "from datetime import datetime\n",
    "# extract date times from nc file; define units\n",
    "date = nc.num2date(time, 'hours since 1800-01-01 00:00:0.0')\n",
    "# ts\n",
    "ts = pd.Series(date, index = date)\n",
    "# view first couple observations\n",
    "print(ts.head(), ts.tail())"
   ]
  },
  {
   "cell_type": "markdown",
   "metadata": {},
   "source": [
    "Convert humidity array to dataframe."
   ]
  },
  {
   "cell_type": "code",
   "execution_count": 31,
   "metadata": {
    "ExecuteTime": {
     "end_time": "2018-06-29T18:49:26.090116Z",
     "start_time": "2018-06-29T18:49:26.051921Z"
    },
    "scrolled": true
   },
   "outputs": [
    {
     "data": {
      "text/html": [
       "<div>\n",
       "<style scoped>\n",
       "    .dataframe tbody tr th:only-of-type {\n",
       "        vertical-align: middle;\n",
       "    }\n",
       "\n",
       "    .dataframe tbody tr th {\n",
       "        vertical-align: top;\n",
       "    }\n",
       "\n",
       "    .dataframe thead th {\n",
       "        text-align: right;\n",
       "    }\n",
       "</style>\n",
       "<table border=\"1\" class=\"dataframe\">\n",
       "  <thead>\n",
       "    <tr style=\"text-align: right;\">\n",
       "      <th></th>\n",
       "      <th>grid_id</th>\n",
       "      <th>lon</th>\n",
       "      <th>lat</th>\n",
       "      <th>1948-01-01</th>\n",
       "      <th>1948-02-01</th>\n",
       "      <th>1948-03-01</th>\n",
       "      <th>1948-04-01</th>\n",
       "      <th>1948-05-01</th>\n",
       "      <th>1948-06-01</th>\n",
       "      <th>1948-07-01</th>\n",
       "      <th>...</th>\n",
       "      <th>2017-07-01</th>\n",
       "      <th>2017-08-01</th>\n",
       "      <th>2017-09-01</th>\n",
       "      <th>2017-10-01</th>\n",
       "      <th>2017-11-01</th>\n",
       "      <th>2017-12-01</th>\n",
       "      <th>2018-01-01</th>\n",
       "      <th>2018-02-01</th>\n",
       "      <th>2018-03-01</th>\n",
       "      <th>2018-04-01</th>\n",
       "    </tr>\n",
       "  </thead>\n",
       "  <tbody>\n",
       "    <tr>\n",
       "      <th>0</th>\n",
       "      <td>1</td>\n",
       "      <td>-125.0</td>\n",
       "      <td>27.5</td>\n",
       "      <td>97.338707</td>\n",
       "      <td>96.431038</td>\n",
       "      <td>95.483871</td>\n",
       "      <td>90.783333</td>\n",
       "      <td>91.145164</td>\n",
       "      <td>82.824333</td>\n",
       "      <td>85.096771</td>\n",
       "      <td>...</td>\n",
       "      <td>86.741936</td>\n",
       "      <td>82.370964</td>\n",
       "      <td>84.775002</td>\n",
       "      <td>90.048386</td>\n",
       "      <td>94.316666</td>\n",
       "      <td>91.782257</td>\n",
       "      <td>95.104836</td>\n",
       "      <td>90.080360</td>\n",
       "      <td>91.564514</td>\n",
       "      <td>91.166664</td>\n",
       "    </tr>\n",
       "    <tr>\n",
       "      <th>1</th>\n",
       "      <td>2</td>\n",
       "      <td>-124.0</td>\n",
       "      <td>27.5</td>\n",
       "      <td>98.211021</td>\n",
       "      <td>97.238527</td>\n",
       "      <td>96.234506</td>\n",
       "      <td>92.785824</td>\n",
       "      <td>91.548058</td>\n",
       "      <td>80.568577</td>\n",
       "      <td>81.774171</td>\n",
       "      <td>...</td>\n",
       "      <td>80.743154</td>\n",
       "      <td>74.755898</td>\n",
       "      <td>81.585779</td>\n",
       "      <td>90.768646</td>\n",
       "      <td>95.582047</td>\n",
       "      <td>94.013215</td>\n",
       "      <td>95.877072</td>\n",
       "      <td>91.514776</td>\n",
       "      <td>93.179626</td>\n",
       "      <td>91.436066</td>\n",
       "    </tr>\n",
       "    <tr>\n",
       "      <th>2</th>\n",
       "      <td>3</td>\n",
       "      <td>-123.0</td>\n",
       "      <td>27.5</td>\n",
       "      <td>97.709057</td>\n",
       "      <td>96.699276</td>\n",
       "      <td>96.257903</td>\n",
       "      <td>94.248077</td>\n",
       "      <td>92.000642</td>\n",
       "      <td>79.775199</td>\n",
       "      <td>78.980273</td>\n",
       "      <td>...</td>\n",
       "      <td>73.968836</td>\n",
       "      <td>67.271499</td>\n",
       "      <td>77.972554</td>\n",
       "      <td>90.720289</td>\n",
       "      <td>96.037858</td>\n",
       "      <td>95.296767</td>\n",
       "      <td>95.905474</td>\n",
       "      <td>92.224707</td>\n",
       "      <td>94.106103</td>\n",
       "      <td>91.379532</td>\n",
       "    </tr>\n",
       "    <tr>\n",
       "      <th>3</th>\n",
       "      <td>4</td>\n",
       "      <td>-122.0</td>\n",
       "      <td>27.5</td>\n",
       "      <td>96.325776</td>\n",
       "      <td>95.330348</td>\n",
       "      <td>95.796273</td>\n",
       "      <td>95.218251</td>\n",
       "      <td>92.439682</td>\n",
       "      <td>80.224767</td>\n",
       "      <td>76.767805</td>\n",
       "      <td>...</td>\n",
       "      <td>66.985037</td>\n",
       "      <td>60.312375</td>\n",
       "      <td>74.153107</td>\n",
       "      <td>89.785188</td>\n",
       "      <td>95.778479</td>\n",
       "      <td>95.624519</td>\n",
       "      <td>95.281628</td>\n",
       "      <td>92.167430</td>\n",
       "      <td>94.251637</td>\n",
       "      <td>90.984131</td>\n",
       "    </tr>\n",
       "    <tr>\n",
       "      <th>4</th>\n",
       "      <td>5</td>\n",
       "      <td>-121.0</td>\n",
       "      <td>27.5</td>\n",
       "      <td>94.554136</td>\n",
       "      <td>93.648808</td>\n",
       "      <td>95.091826</td>\n",
       "      <td>95.744506</td>\n",
       "      <td>92.801944</td>\n",
       "      <td>81.697845</td>\n",
       "      <td>75.189493</td>\n",
       "      <td>...</td>\n",
       "      <td>60.357815</td>\n",
       "      <td>54.273135</td>\n",
       "      <td>70.345219</td>\n",
       "      <td>87.845219</td>\n",
       "      <td>94.898290</td>\n",
       "      <td>94.988073</td>\n",
       "      <td>94.097124</td>\n",
       "      <td>91.300222</td>\n",
       "      <td>93.523919</td>\n",
       "      <td>90.236931</td>\n",
       "    </tr>\n",
       "  </tbody>\n",
       "</table>\n",
       "<p>5 rows × 847 columns</p>\n",
       "</div>"
      ],
      "text/plain": [
       "  grid_id    lon   lat  1948-01-01  1948-02-01  1948-03-01  1948-04-01  \\\n",
       "0       1 -125.0  27.5   97.338707   96.431038   95.483871   90.783333   \n",
       "1       2 -124.0  27.5   98.211021   97.238527   96.234506   92.785824   \n",
       "2       3 -123.0  27.5   97.709057   96.699276   96.257903   94.248077   \n",
       "3       4 -122.0  27.5   96.325776   95.330348   95.796273   95.218251   \n",
       "4       5 -121.0  27.5   94.554136   93.648808   95.091826   95.744506   \n",
       "\n",
       "   1948-05-01  1948-06-01  1948-07-01     ...      2017-07-01  2017-08-01  \\\n",
       "0   91.145164   82.824333   85.096771     ...       86.741936   82.370964   \n",
       "1   91.548058   80.568577   81.774171     ...       80.743154   74.755898   \n",
       "2   92.000642   79.775199   78.980273     ...       73.968836   67.271499   \n",
       "3   92.439682   80.224767   76.767805     ...       66.985037   60.312375   \n",
       "4   92.801944   81.697845   75.189493     ...       60.357815   54.273135   \n",
       "\n",
       "   2017-09-01  2017-10-01  2017-11-01  2017-12-01  2018-01-01  2018-02-01  \\\n",
       "0   84.775002   90.048386   94.316666   91.782257   95.104836   90.080360   \n",
       "1   81.585779   90.768646   95.582047   94.013215   95.877072   91.514776   \n",
       "2   77.972554   90.720289   96.037858   95.296767   95.905474   92.224707   \n",
       "3   74.153107   89.785188   95.778479   95.624519   95.281628   92.167430   \n",
       "4   70.345219   87.845219   94.898290   94.988073   94.097124   91.300222   \n",
       "\n",
       "   2018-03-01  2018-04-01  \n",
       "0   91.564514   91.166664  \n",
       "1   93.179626   91.436066  \n",
       "2   94.106103   91.379532  \n",
       "3   94.251637   90.984131  \n",
       "4   93.523919   90.236931  \n",
       "\n",
       "[5 rows x 847 columns]"
      ]
     },
     "execution_count": 31,
     "metadata": {},
     "output_type": "execute_result"
    }
   ],
   "source": [
    "# array to dataframe\n",
    "rhum_df = pd.DataFrame(data = us_rhum)\n",
    "# add name\n",
    "rhum_df.columns = ts.dt.date\n",
    "# concat grid id and temp\n",
    "rhum_wide_df = pd.concat([grid_df, rhum_df], axis = 1)\n",
    "rhum_wide_df.head()"
   ]
  },
  {
   "cell_type": "code",
   "execution_count": 32,
   "metadata": {
    "ExecuteTime": {
     "end_time": "2018-06-29T18:51:18.411355Z",
     "start_time": "2018-06-29T18:51:18.255651Z"
    }
   },
   "outputs": [
    {
     "data": {
      "text/html": [
       "<div>\n",
       "<style scoped>\n",
       "    .dataframe tbody tr th:only-of-type {\n",
       "        vertical-align: middle;\n",
       "    }\n",
       "\n",
       "    .dataframe tbody tr th {\n",
       "        vertical-align: top;\n",
       "    }\n",
       "\n",
       "    .dataframe thead th {\n",
       "        text-align: right;\n",
       "    }\n",
       "</style>\n",
       "<table border=\"1\" class=\"dataframe\">\n",
       "  <thead>\n",
       "    <tr style=\"text-align: right;\">\n",
       "      <th></th>\n",
       "      <th>grid_id</th>\n",
       "      <th>lon</th>\n",
       "      <th>lat</th>\n",
       "      <th>date</th>\n",
       "      <th>rhum_perc</th>\n",
       "    </tr>\n",
       "  </thead>\n",
       "  <tbody>\n",
       "    <tr>\n",
       "      <th>0</th>\n",
       "      <td>1</td>\n",
       "      <td>-125.0</td>\n",
       "      <td>27.5</td>\n",
       "      <td>1948-01-01</td>\n",
       "      <td>97.338707</td>\n",
       "    </tr>\n",
       "    <tr>\n",
       "      <th>1</th>\n",
       "      <td>2</td>\n",
       "      <td>-124.0</td>\n",
       "      <td>27.5</td>\n",
       "      <td>1948-01-01</td>\n",
       "      <td>98.211021</td>\n",
       "    </tr>\n",
       "    <tr>\n",
       "      <th>2</th>\n",
       "      <td>3</td>\n",
       "      <td>-123.0</td>\n",
       "      <td>27.5</td>\n",
       "      <td>1948-01-01</td>\n",
       "      <td>97.709057</td>\n",
       "    </tr>\n",
       "    <tr>\n",
       "      <th>3</th>\n",
       "      <td>4</td>\n",
       "      <td>-122.0</td>\n",
       "      <td>27.5</td>\n",
       "      <td>1948-01-01</td>\n",
       "      <td>96.325776</td>\n",
       "    </tr>\n",
       "    <tr>\n",
       "      <th>4</th>\n",
       "      <td>5</td>\n",
       "      <td>-121.0</td>\n",
       "      <td>27.5</td>\n",
       "      <td>1948-01-01</td>\n",
       "      <td>94.554136</td>\n",
       "    </tr>\n",
       "  </tbody>\n",
       "</table>\n",
       "</div>"
      ],
      "text/plain": [
       "  grid_id    lon   lat        date  rhum_perc\n",
       "0       1 -125.0  27.5  1948-01-01  97.338707\n",
       "1       2 -124.0  27.5  1948-01-01  98.211021\n",
       "2       3 -123.0  27.5  1948-01-01  97.709057\n",
       "3       4 -122.0  27.5  1948-01-01  96.325776\n",
       "4       5 -121.0  27.5  1948-01-01  94.554136"
      ]
     },
     "execution_count": 32,
     "metadata": {},
     "output_type": "execute_result"
    }
   ],
   "source": [
    "# wide to long\n",
    "rhum_long_df = pd.melt(rhum_wide_df, id_vars = ['grid_id', 'lon', 'lat'],\n",
    "                      var_name = \"date\", value_name = \"rhum_perc\")\n",
    "# view head of final row-wise dataset\n",
    "rhum_long_df.head()"
   ]
  },
  {
   "cell_type": "code",
   "execution_count": 33,
   "metadata": {
    "ExecuteTime": {
     "end_time": "2018-06-29T18:51:45.797869Z",
     "start_time": "2018-06-29T18:51:45.610215Z"
    }
   },
   "outputs": [
    {
     "name": "stdout",
     "output_type": "stream",
     "text": [
      "1948-01-01 2018-04-01\n"
     ]
    }
   ],
   "source": [
    "# print min and max date\n",
    "print(rhum_long_df['date'].min(), rhum_long_df['date'].max())"
   ]
  },
  {
   "cell_type": "markdown",
   "metadata": {},
   "source": [
    "Saving long monthly relative humidity for regrided US grid to csv."
   ]
  },
  {
   "cell_type": "code",
   "execution_count": 34,
   "metadata": {
    "ExecuteTime": {
     "end_time": "2018-06-29T18:52:48.069661Z",
     "start_time": "2018-06-29T18:52:41.510256Z"
    },
    "collapsed": true
   },
   "outputs": [],
   "source": [
    "# commented out to not write again\n",
    "#rhum_long_df.to_csv('../data/1948-2018_mon_rhum_us.csv')"
   ]
  }
 ],
 "metadata": {
  "kernelspec": {
   "display_name": "py3",
   "language": "python",
   "name": "py3"
  },
  "language_info": {
   "codemirror_mode": {
    "name": "ipython",
    "version": 3
   },
   "file_extension": ".py",
   "mimetype": "text/x-python",
   "name": "python",
   "nbconvert_exporter": "python",
   "pygments_lexer": "ipython3",
   "version": "3.6.2"
  },
  "latex_envs": {
   "LaTeX_envs_menu_present": true,
   "autoclose": false,
   "autocomplete": true,
   "bibliofile": "biblio.bib",
   "cite_by": "apalike",
   "current_citInitial": 1,
   "eqLabelWithNumbers": true,
   "eqNumInitial": 1,
   "hotkeys": {
    "equation": "Ctrl-E",
    "itemize": "Ctrl-I"
   },
   "labels_anchors": false,
   "latex_user_defs": false,
   "report_style_numbering": false,
   "user_envs_cfg": false
  },
  "varInspector": {
   "cols": {
    "lenName": 16,
    "lenType": 16,
    "lenVar": 40
   },
   "kernels_config": {
    "python": {
     "delete_cmd_postfix": "",
     "delete_cmd_prefix": "del ",
     "library": "var_list.py",
     "varRefreshCmd": "print(var_dic_list())"
    },
    "r": {
     "delete_cmd_postfix": ") ",
     "delete_cmd_prefix": "rm(",
     "library": "var_list.r",
     "varRefreshCmd": "cat(var_dic_list()) "
    }
   },
   "types_to_exclude": [
    "module",
    "function",
    "builtin_function_or_method",
    "instance",
    "_Feature"
   ],
   "window_display": false
  }
 },
 "nbformat": 4,
 "nbformat_minor": 2
}
