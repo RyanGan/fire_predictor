{
 "cells": [
  {
   "cell_type": "markdown",
   "metadata": {
    "collapsed": true
   },
   "source": [
    "## Extracting Monthly Temperature Data from Array\n",
    "\n",
    "#### Author: Ryan Gan\n",
    "#### Date: 2018-05-28\n",
    "\n",
    "Extracting gridded atmospheric precipitation values to North American region and regriding to study area. First attempt with Python. Dates appear to be every from 1980 to 2018."
   ]
  },
  {
   "cell_type": "code",
   "execution_count": 1,
   "metadata": {
    "ExecuteTime": {
     "end_time": "2018-06-26T00:15:01.975310Z",
     "start_time": "2018-06-26T00:15:01.206366Z"
    },
    "collapsed": true
   },
   "outputs": [],
   "source": [
    "# import dataset from netCDF as nc_open; array storage system\n",
    "import netCDF4 as nc\n",
    "# import dataset\n",
    "from netCDF4 import Dataset \n",
    "# interpolate griddate\n",
    "from scipy import interpolate\n",
    "# import numpy as np; for working with array data\n",
    "import numpy as np\n",
    "# import pandas as pd; working with data.frames\n",
    "import pandas as pd\n",
    "# Matplotlib for additional customization\n",
    "from matplotlib import pyplot as plt \n",
    "%matplotlib inline\n",
    "#import mpl_toolkits # i'd like basemap but doesn't seem to be available for py3\n",
    "# Seaborn for plotting and styling\n",
    "import seaborn as sns"
   ]
  },
  {
   "cell_type": "markdown",
   "metadata": {},
   "source": [
    "Open connection to monthly temperature netCDF file."
   ]
  },
  {
   "cell_type": "code",
   "execution_count": 2,
   "metadata": {
    "ExecuteTime": {
     "end_time": "2018-06-26T00:16:03.187113Z",
     "start_time": "2018-06-26T00:16:03.180175Z"
    },
    "collapsed": true
   },
   "outputs": [],
   "source": [
    "# open precip nc\n",
    "prec_nc = Dataset(\"../data/nc/pr_wtr.mon.mean.nc\")"
   ]
  },
  {
   "cell_type": "markdown",
   "metadata": {
    "ExecuteTime": {
     "end_time": "2018-06-26T00:16:23.019288Z",
     "start_time": "2018-06-26T00:16:23.013386Z"
    }
   },
   "source": [
    "Print out summary of temperature NetCDF file. It looks like x/lon = 144, y/lat = 73, and 843 months."
   ]
  },
  {
   "cell_type": "code",
   "execution_count": 4,
   "metadata": {
    "ExecuteTime": {
     "end_time": "2018-06-26T00:17:16.492938Z",
     "start_time": "2018-06-26T00:17:16.477259Z"
    }
   },
   "outputs": [
    {
     "name": "stdout",
     "output_type": "stream",
     "text": [
      "<type 'netCDF4._netCDF4.Dataset'>\n",
      "root group (NETCDF4_CLASSIC data model, file format HDF5):\n",
      "    description: Data from NCEP initialized reanalysis (4x/day).  These are the 0.9950 sigma level values\n",
      "    platform: Model\n",
      "    Conventions: COARDS\n",
      "    NCO: 20121012\n",
      "    history: Mon Jul  5 23:18:21 1999: ncrcat pr_wtr.mon.mean.nc /Datasets/ncep.reanalysis.derived/surface/pr_wtr.mon.mean.nc /dm/dmwork/nmc.rean.ingest/combinedMMs/pr_wtr.mon.mean.nc\n",
      "renamevars Tue May  4 19:30:25 1999 from prwtr.mon.mean.nc\n",
      "/home/hoop/crdc/cpreanjuke2farm/cpreanjuke2farm Thu Oct 26 23:42:16 1995 from pre.sig995.85.nc\n",
      "created 95/02/06 by Hoop (netCDF2.3)\n",
      "Converted to chunked, deflated non-packed NetCDF4 2014/09\n",
      "    title: monthly mean pr_wtr.eatm from the NCEP Reanalysis\n",
      "    References: http://www.esrl.noaa.gov/psd/data/gridded/data.ncep.reanalysis.derived.html\n",
      "    dataset_title: NCEP-NCAR Reanalysis 1\n",
      "    dimensions(sizes): lat(73), lon(144), time(844)\n",
      "    variables(dimensions): float32 \u001b[4mlat\u001b[0m(lat), float32 \u001b[4mlon\u001b[0m(lon), float64 \u001b[4mtime\u001b[0m(time), float32 \u001b[4mpr_wtr\u001b[0m(time,lat,lon)\n",
      "    groups: \n",
      "\n",
      "<type 'netCDF4._netCDF4.Variable'>\n",
      "float32 lat(lat)\n",
      "    units: degrees_north\n",
      "    actual_range: [ 90. -90.]\n",
      "    long_name: Latitude\n",
      "    standard_name: latitude\n",
      "    axis: Y\n",
      "unlimited dimensions: \n",
      "current shape = (73,)\n",
      "filling on, default _FillValue of 9.96920996839e+36 used\n",
      "\n",
      "<type 'netCDF4._netCDF4.Variable'>\n",
      "float32 lon(lon)\n",
      "    units: degrees_east\n",
      "    long_name: Longitude\n",
      "    actual_range: [   0.   357.5]\n",
      "    standard_name: longitude\n",
      "    axis: X\n",
      "unlimited dimensions: \n",
      "current shape = (144,)\n",
      "filling on, default _FillValue of 9.96920996839e+36 used\n",
      "\n",
      "<type 'netCDF4._netCDF4.Variable'>\n",
      "float64 time(time)\n",
      "    long_name: Time\n",
      "    delta_t: 0000-01-00 00:00:00\n",
      "    avg_period: 0000-01-00 00:00:00\n",
      "    prev_avg_period: 0000-00-01 00:00:00\n",
      "    standard_name: time\n",
      "    axis: T\n",
      "    units: hours since 1800-01-01 00:00:0.0\n",
      "    actual_range: [ 1297320.  1913112.]\n",
      "unlimited dimensions: time\n",
      "current shape = (844,)\n",
      "filling on, default _FillValue of 9.96920996839e+36 used\n",
      "\n",
      "<type 'netCDF4._netCDF4.Variable'>\n",
      "float32 pr_wtr(time, lat, lon)\n",
      "    long_name: Monthly Mean of Precipitable Water Content\n",
      "    valid_range: [-102.19999695  102.19999695]\n",
      "    units: kg/m^2\n",
      "    add_offset: 0.0\n",
      "    scale_factor: 1.0\n",
      "    missing_value: -9.96921e+36\n",
      "    precision: 2\n",
      "    least_significant_digit: 1\n",
      "    var_desc: Precipitable Water Content\n",
      "    level_desc: Surface\n",
      "    statistic: Mean\n",
      "    parent_stat: Other\n",
      "    dataset: NCEP Reanalysis Derived Products\n",
      "    actual_range: [ -3.9719367   69.06580353]\n",
      "unlimited dimensions: time\n",
      "current shape = (844, 73, 144)\n",
      "filling on, default _FillValue of 9.96920996839e+36 used\n",
      "\n"
     ]
    }
   ],
   "source": [
    "print(prec_nc)\n",
    "# print out details of each variable\n",
    "for v in prec_nc.variables:\n",
    "    print(prec_nc.variables[v])"
   ]
  },
  {
   "cell_type": "markdown",
   "metadata": {},
   "source": [
    "### Extracting Grid Locations of Precipitation Grid\n",
    "\n",
    "Extracting precipitation global grid."
   ]
  },
  {
   "cell_type": "code",
   "execution_count": 7,
   "metadata": {
    "ExecuteTime": {
     "end_time": "2018-06-26T00:20:39.528527Z",
     "start_time": "2018-06-26T00:20:39.507095Z"
    }
   },
   "outputs": [
    {
     "data": {
      "text/plain": [
       "(73, 144)"
      ]
     },
     "execution_count": 7,
     "metadata": {},
     "output_type": "execute_result"
    }
   ],
   "source": [
    "# extract latitude\n",
    "lat = prec_nc.variables['lat'][:]\n",
    "# extract longitude\n",
    "lon = prec_nc.variables['lon'][:]\n",
    "# extract time\n",
    "time = prec_nc.variables['time'][:]\n",
    "# 1st temperature values\n",
    "prec = prec_nc.variables['pr_wtr'][1,:,:]\n",
    "# check dimension of shape\n",
    "np.shape(prec)"
   ]
  },
  {
   "cell_type": "markdown",
   "metadata": {},
   "source": [
    "Print out min, mean, max of temperature vector."
   ]
  },
  {
   "cell_type": "code",
   "execution_count": 8,
   "metadata": {
    "ExecuteTime": {
     "end_time": "2018-06-26T00:22:22.832848Z",
     "start_time": "2018-06-26T00:22:22.826793Z"
    }
   },
   "outputs": [
    {
     "name": "stdout",
     "output_type": "stream",
     "text": [
      "(-1.5334514, 17.098173, 52.456203)\n"
     ]
    }
   ],
   "source": [
    "print(np.min(prec), np.mean(prec), np.max(prec))"
   ]
  },
  {
   "cell_type": "markdown",
   "metadata": {},
   "source": [
    "Using Seaborn to print out a heatmap the first matrix of precipitation. Looks like most precipitation occurs in the tropics."
   ]
  },
  {
   "cell_type": "code",
   "execution_count": 9,
   "metadata": {
    "ExecuteTime": {
     "end_time": "2018-06-26T00:25:01.928784Z",
     "start_time": "2018-06-26T00:25:01.451027Z"
    },
    "scrolled": true
   },
   "outputs": [
    {
     "data": {
      "text/plain": [
       "<matplotlib.axes._subplots.AxesSubplot at 0x7fec1ec1d290>"
      ]
     },
     "execution_count": 9,
     "metadata": {},
     "output_type": "execute_result"
    },
    {
     "data": {
      "image/png": "[encoded data removed]",
      "text/plain": [
       "<matplotlib.figure.Figure at 0x7fec1eef5bd0>"
      ]
     },
     "metadata": {},
     "output_type": "display_data"
    }
   ],
   "source": [
    "sns.heatmap(prec)"
   ]
  },
  {
   "cell_type": "markdown",
   "metadata": {},
   "source": [
    "I want to subset the array to the spatial extent of the continental United States.  The longitude bounds should be  -124.848974 to -66.885444. I will need to add 180 degrees to these degrees west to match the convert from degrees east of the nc file. The latitude bounds should be 24.396308 to 49.384358."
   ]
  },
  {
   "cell_type": "code",
   "execution_count": 10,
   "metadata": {
    "ExecuteTime": {
     "end_time": "2018-06-26T00:26:31.378956Z",
     "start_time": "2018-06-26T00:26:31.369857Z"
    }
   },
   "outputs": [
    {
     "name": "stdout",
     "output_type": "stream",
     "text": [
      "(16, 26, 94, 117)\n"
     ]
    }
   ],
   "source": [
    "# lat and lon bounds\n",
    "latbounds = [24.4, 49.4]\n",
    "# lon bounds need to be converted from easterling to westerling to get US\n",
    "lonbounds = [-124.8 + 360, -66.9 + 360]\n",
    "\n",
    "# latitude lower and upper bounds\n",
    "lat_ui = np.argmin(np.abs(lat - latbounds[0]))\n",
    "lat_li = np.argmin(np.abs(lat - latbounds[1]))\n",
    "\n",
    "# longitude lower and upper boudns\n",
    "lon_li = np.argmin(np.abs(lon - lonbounds[0]))\n",
    "lon_ui = np.argmin(np.abs(lon - lonbounds[1]))\n",
    "# print index\n",
    "print(lat_li, lat_ui, lon_li, lon_ui)"
   ]
  },
  {
   "cell_type": "markdown",
   "metadata": {},
   "source": [
    "Subset latitude and longitude grid points."
   ]
  },
  {
   "cell_type": "code",
   "execution_count": 11,
   "metadata": {
    "ExecuteTime": {
     "end_time": "2018-06-26T00:27:22.168881Z",
     "start_time": "2018-06-26T00:27:22.162124Z"
    }
   },
   "outputs": [
    {
     "name": "stdout",
     "output_type": "stream",
     "text": [
      "(-125.0, -70.0, 27.5, 50.0)\n"
     ]
    }
   ],
   "source": [
    "# subset us lon\n",
    "lon_us = lon[lon_li:lon_ui]-360\n",
    "# subset us lat\n",
    "lat_us = lat[lat_li:lat_ui]\n",
    "# print dimensions\n",
    "print(np.min(lon_us), np.max(lon_us), np.min(lat_us), np.max(lat_us))"
   ]
  },
  {
   "cell_type": "markdown",
   "metadata": {},
   "source": [
    "Print points over US."
   ]
  },
  {
   "cell_type": "code",
   "execution_count": 12,
   "metadata": {
    "ExecuteTime": {
     "end_time": "2018-06-26T00:27:43.090675Z",
     "start_time": "2018-06-26T00:27:42.926133Z"
    },
    "scrolled": true
   },
   "outputs": [
    {
     "data": {
      "image/png": "[encoded data removed]",
      "text/plain": [
       "<matplotlib.figure.Figure at 0x7fec1b72dd50>"
      ]
     },
     "metadata": {},
     "output_type": "display_data"
    }
   ],
   "source": [
    "# extract lonlat grid\n",
    "lons, lats = np.meshgrid(lon_us, lat_us)\n",
    "# plot\n",
    "plt.plot(lons, lats, marker='.', color='k', linestyle='none')\n",
    "plt.show()"
   ]
  },
  {
   "cell_type": "code",
   "execution_count": 14,
   "metadata": {
    "ExecuteTime": {
     "end_time": "2018-06-26T00:28:22.681309Z",
     "start_time": "2018-06-26T00:28:22.675843Z"
    }
   },
   "outputs": [
    {
     "data": {
      "text/plain": [
       "(10, 23)"
      ]
     },
     "execution_count": 14,
     "metadata": {},
     "output_type": "execute_result"
    }
   ],
   "source": [
    "# subset temp to us\n",
    "prec_us = prec_nc.variables['pr_wtr'][1, lat_li:lat_ui, lon_li:lon_ui]\n",
    "np.shape(prec_us)"
   ]
  },
  {
   "cell_type": "markdown",
   "metadata": {},
   "source": [
    "Plot heatmap of US precipitation to make sure subset looks right."
   ]
  },
  {
   "cell_type": "code",
   "execution_count": 15,
   "metadata": {
    "ExecuteTime": {
     "end_time": "2018-06-26T00:29:20.533373Z",
     "start_time": "2018-06-26T00:29:20.090020Z"
    },
    "scrolled": true
   },
   "outputs": [
    {
     "data": {
      "text/plain": [
       "<matplotlib.axes._subplots.AxesSubplot at 0x7fec1ec04dd0>"
      ]
     },
     "execution_count": 15,
     "metadata": {},
     "output_type": "execute_result"
    },
    {
     "data": {
      "image/png": "[encoded data removed]",
      "text/plain": [
       "<matplotlib.figure.Figure at 0x7fec1ec048d0>"
      ]
     },
     "metadata": {},
     "output_type": "display_data"
    }
   ],
   "source": [
    "sns.heatmap(prec_us)"
   ]
  },
  {
   "cell_type": "markdown",
   "metadata": {},
   "source": [
    "### Binary Interpolation of Precipitation to Finer Grid Resolution\n",
    "\n",
    "Using interpolation to estimate precipitation to a finer grid. Testing out with one array first. Creating a 1x1 degree grid."
   ]
  },
  {
   "cell_type": "code",
   "execution_count": 16,
   "metadata": {
    "ExecuteTime": {
     "end_time": "2018-06-26T00:30:13.482287Z",
     "start_time": "2018-06-26T00:30:13.472191Z"
    },
    "collapsed": true
   },
   "outputs": [],
   "source": [
    "# custom grids for every degree\n",
    "# vectors\n",
    "grid_lat = np.arange(np.min(lat_us), np.max(lat_us), 1)\n",
    "grid_lon = np.arange(np.min(lon_us), np.max(lon_us), 1)\n",
    "# mesh grid array\n",
    "glons, glats = np.meshgrid(grid_lon, grid_lat)"
   ]
  },
  {
   "cell_type": "markdown",
   "metadata": {},
   "source": [
    "Plotting new grid to check shape."
   ]
  },
  {
   "cell_type": "code",
   "execution_count": 17,
   "metadata": {
    "ExecuteTime": {
     "end_time": "2018-06-26T00:30:28.604517Z",
     "start_time": "2018-06-26T00:30:28.378555Z"
    }
   },
   "outputs": [
    {
     "data": {
      "image/png": "[encoded data removed]",
      "text/plain": [
       "<matplotlib.figure.Figure at 0x7fec1b4f52d0>"
      ]
     },
     "metadata": {},
     "output_type": "display_data"
    }
   ],
   "source": [
    "# plot new grid\n",
    "plt.plot(glons, glats, marker='.', color='k', linestyle='none')\n",
    "plt.show()"
   ]
  },
  {
   "cell_type": "markdown",
   "metadata": {},
   "source": [
    "Set up interpoloation spline using RectBivariateSpline, which is faster than interp2D if it's a regular grid (which it is). Lats and Lons need to be sorted and the dimensions need to match shape of value array (ndvi)."
   ]
  },
  {
   "cell_type": "code",
   "execution_count": 18,
   "metadata": {
    "ExecuteTime": {
     "end_time": "2018-06-26T00:30:51.112915Z",
     "start_time": "2018-06-26T00:30:51.106213Z"
    },
    "collapsed": true
   },
   "outputs": [],
   "source": [
    "# set up interp spline, coordinates need to be 1D arrays, and match the shape of the 3d array.\n",
    "interp_spline = interpolate.RectBivariateSpline(sorted(lat_us), lon_us, prec_us)"
   ]
  },
  {
   "cell_type": "markdown",
   "metadata": {},
   "source": [
    "Interpolate the precipitation values from the find grid to coarse grid."
   ]
  },
  {
   "cell_type": "code",
   "execution_count": 19,
   "metadata": {
    "ExecuteTime": {
     "end_time": "2018-06-26T00:33:04.021324Z",
     "start_time": "2018-06-26T00:33:04.014560Z"
    },
    "collapsed": true
   },
   "outputs": [],
   "source": [
    "# interpolate to new grid\n",
    "prec_fine = interp_spline(grid_lat, grid_lon)"
   ]
  },
  {
   "cell_type": "markdown",
   "metadata": {},
   "source": [
    "Check shape of new coarse grid."
   ]
  },
  {
   "cell_type": "code",
   "execution_count": 20,
   "metadata": {
    "ExecuteTime": {
     "end_time": "2018-06-26T00:33:30.830365Z",
     "start_time": "2018-06-26T00:33:30.818895Z"
    }
   },
   "outputs": [
    {
     "data": {
      "text/plain": [
       "(23, 55)"
      ]
     },
     "execution_count": 20,
     "metadata": {},
     "output_type": "execute_result"
    }
   ],
   "source": [
    "# shape of coarse grid\n",
    "np.shape(prec_fine)"
   ]
  },
  {
   "cell_type": "markdown",
   "metadata": {},
   "source": [
    "Plot the new heatmap of the reshaped grid."
   ]
  },
  {
   "cell_type": "code",
   "execution_count": 21,
   "metadata": {
    "ExecuteTime": {
     "end_time": "2018-06-26T00:33:50.680655Z",
     "start_time": "2018-06-26T00:33:50.324050Z"
    }
   },
   "outputs": [
    {
     "data": {
      "text/plain": [
       "<matplotlib.axes._subplots.AxesSubplot at 0x7fec1b32c090>"
      ]
     },
     "execution_count": 21,
     "metadata": {},
     "output_type": "execute_result"
    },
    {
     "data": {
      "image/png": "[encoded data removed]",
      "text/plain": [
       "<matplotlib.figure.Figure at 0x7fec1b603710>"
      ]
     },
     "metadata": {},
     "output_type": "display_data"
    }
   ],
   "source": [
    "sns.heatmap(prec_fine)"
   ]
  },
  {
   "cell_type": "markdown",
   "metadata": {},
   "source": [
    "Create custom function to interpolate over each date of array."
   ]
  },
  {
   "cell_type": "code",
   "execution_count": 22,
   "metadata": {
    "ExecuteTime": {
     "end_time": "2018-06-26T00:34:30.160167Z",
     "start_time": "2018-06-26T00:34:29.928025Z"
    },
    "collapsed": true
   },
   "outputs": [],
   "source": [
    "# extract full monthly grid\n",
    "prec_us_full = prec_nc.variables['pr_wtr'][:, lat_li:lat_ui, lon_li:lon_ui]"
   ]
  },
  {
   "cell_type": "code",
   "execution_count": 23,
   "metadata": {
    "ExecuteTime": {
     "end_time": "2018-06-26T00:34:41.427333Z",
     "start_time": "2018-06-26T00:34:41.418537Z"
    }
   },
   "outputs": [
    {
     "data": {
      "text/plain": [
       "(844, 10, 23)"
      ]
     },
     "execution_count": 23,
     "metadata": {},
     "output_type": "execute_result"
    }
   ],
   "source": [
    "# check shape\n",
    "np.shape(prec_us_full)"
   ]
  },
  {
   "cell_type": "code",
   "execution_count": 24,
   "metadata": {
    "ExecuteTime": {
     "end_time": "2018-06-26T00:35:33.490123Z",
     "start_time": "2018-06-26T00:35:33.377817Z"
    },
    "collapsed": true
   },
   "outputs": [],
   "source": [
    "# create empty numpy array of 843 days and 23 lon by 55 lat \n",
    "prec_fine = np.zeros((844, 23, 55))\n",
    "\n",
    "# interpolate for each month to new grid\n",
    "for i in range(844):\n",
    "    # extract prec element\n",
    "    prec_mon = prec_us_full[i]\n",
    "    # create interpolate \n",
    "    interp_spline = interpolate.RectBivariateSpline(sorted(lat_us), lon_us, prec_mon)\n",
    "    # interpolate to new grid\n",
    "    prec_fine[i] = interp_spline(grid_lat, grid_lon)"
   ]
  },
  {
   "cell_type": "code",
   "execution_count": 25,
   "metadata": {
    "ExecuteTime": {
     "end_time": "2018-06-26T00:35:45.769464Z",
     "start_time": "2018-06-26T00:35:45.764111Z"
    }
   },
   "outputs": [
    {
     "data": {
      "text/plain": [
       "(844, 23, 55)"
      ]
     },
     "execution_count": 25,
     "metadata": {},
     "output_type": "execute_result"
    }
   ],
   "source": [
    "# check shape of empty grid\n",
    "np.shape(prec_fine)"
   ]
  },
  {
   "cell_type": "markdown",
   "metadata": {},
   "source": [
    "#### Flatten Regrided Array"
   ]
  },
  {
   "cell_type": "code",
   "execution_count": 26,
   "metadata": {
    "ExecuteTime": {
     "end_time": "2018-06-26T00:36:22.731224Z",
     "start_time": "2018-06-26T00:36:22.720311Z"
    }
   },
   "outputs": [
    {
     "data": {
      "text/plain": [
       "(1265, 2)"
      ]
     },
     "execution_count": 26,
     "metadata": {},
     "output_type": "execute_result"
    }
   ],
   "source": [
    "# coordinates to a 2 dimension array\n",
    "us_grid = np.array(np.meshgrid(grid_lon, grid_lat)).reshape(2, -1).T\n",
    "# check dimensions\n",
    "np.shape(us_grid)"
   ]
  },
  {
   "cell_type": "code",
   "execution_count": 27,
   "metadata": {
    "ExecuteTime": {
     "end_time": "2018-06-26T00:36:55.984878Z",
     "start_time": "2018-06-26T00:36:55.974931Z"
    }
   },
   "outputs": [
    {
     "data": {
      "text/plain": [
       "(1265, 844)"
      ]
     },
     "execution_count": 27,
     "metadata": {},
     "output_type": "execute_result"
    }
   ],
   "source": [
    "# extract precip array\n",
    "us_prec = prec_fine.reshape(844,1265).T #.T is for transpose\n",
    "# check shape\n",
    "np.shape(us_prec)"
   ]
  },
  {
   "cell_type": "markdown",
   "metadata": {},
   "source": [
    "Creating data frame of us temp and coordinates using pandas. I'm going to create a sequential numeric vector to indicate grid cell id."
   ]
  },
  {
   "cell_type": "code",
   "execution_count": 28,
   "metadata": {
    "ExecuteTime": {
     "end_time": "2018-06-26T00:37:23.914530Z",
     "start_time": "2018-06-26T00:37:23.892293Z"
    },
    "scrolled": true
   },
   "outputs": [
    {
     "name": "stdout",
     "output_type": "stream",
     "text": [
      "(  grid_id\n",
      "0       1\n",
      "1       2\n",
      "2       3\n",
      "3       4\n",
      "4       5,      grid_id\n",
      "1260    1261\n",
      "1261    1262\n",
      "1262    1263\n",
      "1263    1264\n",
      "1264    1265)\n"
     ]
    }
   ],
   "source": [
    "# create grid id 1 to 230 and save as type string\n",
    "grid_id = pd.DataFrame(data = np.arange(1, 1266, 1).T).astype('str')\n",
    "grid_id.columns = ['grid_id'] \n",
    "# head and tail\n",
    "print(grid_id.head(), grid_id.tail())"
   ]
  },
  {
   "cell_type": "markdown",
   "metadata": {},
   "source": [
    "Binding/concatenating grid id variable with lon and lat coordinates."
   ]
  },
  {
   "cell_type": "code",
   "execution_count": 29,
   "metadata": {
    "ExecuteTime": {
     "end_time": "2018-06-26T00:37:56.339084Z",
     "start_time": "2018-06-26T00:37:56.320484Z"
    },
    "scrolled": true
   },
   "outputs": [
    {
     "data": {
      "text/html": [
       "<div>\n",
       "<style>\n",
       "    .dataframe thead tr:only-child th {\n",
       "        text-align: right;\n",
       "    }\n",
       "\n",
       "    .dataframe thead th {\n",
       "        text-align: left;\n",
       "    }\n",
       "\n",
       "    .dataframe tbody tr th {\n",
       "        vertical-align: top;\n",
       "    }\n",
       "</style>\n",
       "<table border=\"1\" class=\"dataframe\">\n",
       "  <thead>\n",
       "    <tr style=\"text-align: right;\">\n",
       "      <th></th>\n",
       "      <th>grid_id</th>\n",
       "      <th>lon</th>\n",
       "      <th>lat</th>\n",
       "    </tr>\n",
       "  </thead>\n",
       "  <tbody>\n",
       "    <tr>\n",
       "      <th>0</th>\n",
       "      <td>1</td>\n",
       "      <td>-125.0</td>\n",
       "      <td>27.5</td>\n",
       "    </tr>\n",
       "    <tr>\n",
       "      <th>1</th>\n",
       "      <td>2</td>\n",
       "      <td>-124.0</td>\n",
       "      <td>27.5</td>\n",
       "    </tr>\n",
       "    <tr>\n",
       "      <th>2</th>\n",
       "      <td>3</td>\n",
       "      <td>-123.0</td>\n",
       "      <td>27.5</td>\n",
       "    </tr>\n",
       "    <tr>\n",
       "      <th>3</th>\n",
       "      <td>4</td>\n",
       "      <td>-122.0</td>\n",
       "      <td>27.5</td>\n",
       "    </tr>\n",
       "    <tr>\n",
       "      <th>4</th>\n",
       "      <td>5</td>\n",
       "      <td>-121.0</td>\n",
       "      <td>27.5</td>\n",
       "    </tr>\n",
       "  </tbody>\n",
       "</table>\n",
       "</div>"
      ],
      "text/plain": [
       "  grid_id    lon   lat\n",
       "0       1 -125.0  27.5\n",
       "1       2 -124.0  27.5\n",
       "2       3 -123.0  27.5\n",
       "3       4 -122.0  27.5\n",
       "4       5 -121.0  27.5"
      ]
     },
     "execution_count": 29,
     "metadata": {},
     "output_type": "execute_result"
    }
   ],
   "source": [
    "# create grid dataframe from coordinate array\n",
    "grid_df = pd.DataFrame(data = us_grid)\n",
    "# name columns\n",
    "grid_df.columns = ['lon', 'lat']\n",
    "# concat dataframes\n",
    "grid_df = pd.concat([grid_id, grid_df], axis=1)\n",
    "# view first rows\n",
    "grid_df.head()\n",
    "# write grid coords\n",
    "#grid_df.to_csv('./data/temp_grid.csv')"
   ]
  },
  {
   "cell_type": "code",
   "execution_count": 30,
   "metadata": {
    "ExecuteTime": {
     "end_time": "2018-06-26T00:38:14.936502Z",
     "start_time": "2018-06-26T00:38:14.920073Z"
    },
    "scrolled": true
   },
   "outputs": [
    {
     "data": {
      "text/html": [
       "<div>\n",
       "<style>\n",
       "    .dataframe thead tr:only-child th {\n",
       "        text-align: right;\n",
       "    }\n",
       "\n",
       "    .dataframe thead th {\n",
       "        text-align: left;\n",
       "    }\n",
       "\n",
       "    .dataframe tbody tr th {\n",
       "        vertical-align: top;\n",
       "    }\n",
       "</style>\n",
       "<table border=\"1\" class=\"dataframe\">\n",
       "  <thead>\n",
       "    <tr style=\"text-align: right;\">\n",
       "      <th></th>\n",
       "      <th>grid_id</th>\n",
       "      <th>lon</th>\n",
       "      <th>lat</th>\n",
       "    </tr>\n",
       "  </thead>\n",
       "  <tbody>\n",
       "    <tr>\n",
       "      <th>1260</th>\n",
       "      <td>1261</td>\n",
       "      <td>-75.0</td>\n",
       "      <td>49.5</td>\n",
       "    </tr>\n",
       "    <tr>\n",
       "      <th>1261</th>\n",
       "      <td>1262</td>\n",
       "      <td>-74.0</td>\n",
       "      <td>49.5</td>\n",
       "    </tr>\n",
       "    <tr>\n",
       "      <th>1262</th>\n",
       "      <td>1263</td>\n",
       "      <td>-73.0</td>\n",
       "      <td>49.5</td>\n",
       "    </tr>\n",
       "    <tr>\n",
       "      <th>1263</th>\n",
       "      <td>1264</td>\n",
       "      <td>-72.0</td>\n",
       "      <td>49.5</td>\n",
       "    </tr>\n",
       "    <tr>\n",
       "      <th>1264</th>\n",
       "      <td>1265</td>\n",
       "      <td>-71.0</td>\n",
       "      <td>49.5</td>\n",
       "    </tr>\n",
       "  </tbody>\n",
       "</table>\n",
       "</div>"
      ],
      "text/plain": [
       "     grid_id   lon   lat\n",
       "1260    1261 -75.0  49.5\n",
       "1261    1262 -74.0  49.5\n",
       "1262    1263 -73.0  49.5\n",
       "1263    1264 -72.0  49.5\n",
       "1264    1265 -71.0  49.5"
      ]
     },
     "execution_count": 30,
     "metadata": {},
     "output_type": "execute_result"
    }
   ],
   "source": [
    "# check tail\n",
    "grid_df.tail()"
   ]
  },
  {
   "cell_type": "markdown",
   "metadata": {},
   "source": [
    "Assigning year and month as column header for precipitation values."
   ]
  },
  {
   "cell_type": "code",
   "execution_count": 32,
   "metadata": {
    "ExecuteTime": {
     "end_time": "2018-06-26T00:39:04.811492Z",
     "start_time": "2018-06-26T00:39:04.792267Z"
    }
   },
   "outputs": [
    {
     "name": "stdout",
     "output_type": "stream",
     "text": [
      "(1948-01-01   1948-01-01\n",
      "1948-02-01   1948-02-01\n",
      "1948-03-01   1948-03-01\n",
      "1948-04-01   1948-04-01\n",
      "1948-05-01   1948-05-01\n",
      "dtype: datetime64[ns], 2017-12-01   2017-12-01\n",
      "2018-01-01   2018-01-01\n",
      "2018-02-01   2018-02-01\n",
      "2018-03-01   2018-03-01\n",
      "2018-04-01   2018-04-01\n",
      "dtype: datetime64[ns])\n"
     ]
    }
   ],
   "source": [
    "from datetime import datetime\n",
    "# extract date times from nc file; define units\n",
    "date = nc.num2date(time, 'hours since 1800-01-01 00:00:0.0')\n",
    "# ts\n",
    "ts = pd.Series(date, index = date)\n",
    "# view first couple observations\n",
    "print(ts.head(), ts.tail())"
   ]
  },
  {
   "cell_type": "markdown",
   "metadata": {},
   "source": [
    "Convert precipitation array to dataframe."
   ]
  },
  {
   "cell_type": "code",
   "execution_count": 33,
   "metadata": {
    "ExecuteTime": {
     "end_time": "2018-06-26T00:39:50.214895Z",
     "start_time": "2018-06-26T00:39:50.198479Z"
    },
    "collapsed": true,
    "scrolled": true
   },
   "outputs": [],
   "source": [
    "# array to dataframe\n",
    "prec_df = pd.DataFrame(data = us_prec)\n",
    "# add name\n",
    "prec_df.columns = ts.dt.date"
   ]
  },
  {
   "cell_type": "markdown",
   "metadata": {},
   "source": [
    "Bind precipitation values to coordinate and grid id and then melt/gather columns to row."
   ]
  },
  {
   "cell_type": "code",
   "execution_count": 34,
   "metadata": {
    "ExecuteTime": {
     "end_time": "2018-06-26T00:40:25.427779Z",
     "start_time": "2018-06-26T00:40:25.389351Z"
    }
   },
   "outputs": [
    {
     "data": {
      "text/html": [
       "<div>\n",
       "<style>\n",
       "    .dataframe thead tr:only-child th {\n",
       "        text-align: right;\n",
       "    }\n",
       "\n",
       "    .dataframe thead th {\n",
       "        text-align: left;\n",
       "    }\n",
       "\n",
       "    .dataframe tbody tr th {\n",
       "        vertical-align: top;\n",
       "    }\n",
       "</style>\n",
       "<table border=\"1\" class=\"dataframe\">\n",
       "  <thead>\n",
       "    <tr style=\"text-align: right;\">\n",
       "      <th></th>\n",
       "      <th>grid_id</th>\n",
       "      <th>lon</th>\n",
       "      <th>lat</th>\n",
       "      <th>1948-01-01</th>\n",
       "      <th>1948-02-01</th>\n",
       "      <th>1948-03-01</th>\n",
       "      <th>1948-04-01</th>\n",
       "      <th>1948-05-01</th>\n",
       "      <th>1948-06-01</th>\n",
       "      <th>1948-07-01</th>\n",
       "      <th>...</th>\n",
       "      <th>2017-07-01</th>\n",
       "      <th>2017-08-01</th>\n",
       "      <th>2017-09-01</th>\n",
       "      <th>2017-10-01</th>\n",
       "      <th>2017-11-01</th>\n",
       "      <th>2017-12-01</th>\n",
       "      <th>2018-01-01</th>\n",
       "      <th>2018-02-01</th>\n",
       "      <th>2018-03-01</th>\n",
       "      <th>2018-04-01</th>\n",
       "    </tr>\n",
       "  </thead>\n",
       "  <tbody>\n",
       "    <tr>\n",
       "      <th>0</th>\n",
       "      <td>1</td>\n",
       "      <td>-125.0</td>\n",
       "      <td>27.5</td>\n",
       "      <td>10.483224</td>\n",
       "      <td>7.719310</td>\n",
       "      <td>8.116448</td>\n",
       "      <td>8.284335</td>\n",
       "      <td>13.522258</td>\n",
       "      <td>18.429333</td>\n",
       "      <td>18.633549</td>\n",
       "      <td>...</td>\n",
       "      <td>16.408871</td>\n",
       "      <td>17.406450</td>\n",
       "      <td>18.480000</td>\n",
       "      <td>12.555647</td>\n",
       "      <td>11.666669</td>\n",
       "      <td>9.559678</td>\n",
       "      <td>11.826612</td>\n",
       "      <td>8.472322</td>\n",
       "      <td>8.513710</td>\n",
       "      <td>9.965834</td>\n",
       "    </tr>\n",
       "    <tr>\n",
       "      <th>1</th>\n",
       "      <td>2</td>\n",
       "      <td>-124.0</td>\n",
       "      <td>27.5</td>\n",
       "      <td>9.570420</td>\n",
       "      <td>7.099259</td>\n",
       "      <td>7.293138</td>\n",
       "      <td>7.908143</td>\n",
       "      <td>13.197092</td>\n",
       "      <td>17.607729</td>\n",
       "      <td>17.508149</td>\n",
       "      <td>...</td>\n",
       "      <td>15.167670</td>\n",
       "      <td>16.267673</td>\n",
       "      <td>17.387723</td>\n",
       "      <td>11.844602</td>\n",
       "      <td>11.071812</td>\n",
       "      <td>8.949821</td>\n",
       "      <td>11.162736</td>\n",
       "      <td>7.764403</td>\n",
       "      <td>8.078946</td>\n",
       "      <td>9.311263</td>\n",
       "    </tr>\n",
       "    <tr>\n",
       "      <th>2</th>\n",
       "      <td>3</td>\n",
       "      <td>-123.0</td>\n",
       "      <td>27.5</td>\n",
       "      <td>8.778687</td>\n",
       "      <td>6.568684</td>\n",
       "      <td>6.624942</td>\n",
       "      <td>7.623624</td>\n",
       "      <td>12.922004</td>\n",
       "      <td>16.949778</td>\n",
       "      <td>16.553248</td>\n",
       "      <td>...</td>\n",
       "      <td>14.086579</td>\n",
       "      <td>15.360612</td>\n",
       "      <td>16.400645</td>\n",
       "      <td>11.228768</td>\n",
       "      <td>10.511423</td>\n",
       "      <td>8.417975</td>\n",
       "      <td>10.541044</td>\n",
       "      <td>7.175934</td>\n",
       "      <td>7.704925</td>\n",
       "      <td>8.761582</td>\n",
       "    </tr>\n",
       "    <tr>\n",
       "      <th>3</th>\n",
       "      <td>4</td>\n",
       "      <td>-122.0</td>\n",
       "      <td>27.5</td>\n",
       "      <td>8.084807</td>\n",
       "      <td>6.110858</td>\n",
       "      <td>6.079917</td>\n",
       "      <td>7.400668</td>\n",
       "      <td>12.676305</td>\n",
       "      <td>16.430395</td>\n",
       "      <td>15.748014</td>\n",
       "      <td>...</td>\n",
       "      <td>13.166814</td>\n",
       "      <td>14.650359</td>\n",
       "      <td>15.495123</td>\n",
       "      <td>10.679424</td>\n",
       "      <td>9.972212</td>\n",
       "      <td>7.920734</td>\n",
       "      <td>9.943308</td>\n",
       "      <td>6.662139</td>\n",
       "      <td>7.356915</td>\n",
       "      <td>8.281352</td>\n",
       "    </tr>\n",
       "    <tr>\n",
       "      <th>4</th>\n",
       "      <td>5</td>\n",
       "      <td>-121.0</td>\n",
       "      <td>27.5</td>\n",
       "      <td>7.465563</td>\n",
       "      <td>5.709055</td>\n",
       "      <td>5.626121</td>\n",
       "      <td>7.209163</td>\n",
       "      <td>12.439309</td>\n",
       "      <td>16.024496</td>\n",
       "      <td>15.071618</td>\n",
       "      <td>...</td>\n",
       "      <td>12.409592</td>\n",
       "      <td>14.102006</td>\n",
       "      <td>14.647512</td>\n",
       "      <td>10.167849</td>\n",
       "      <td>9.440890</td>\n",
       "      <td>7.414695</td>\n",
       "      <td>9.351295</td>\n",
       "      <td>6.178241</td>\n",
       "      <td>7.000184</td>\n",
       "      <td>7.835137</td>\n",
       "    </tr>\n",
       "  </tbody>\n",
       "</table>\n",
       "<p>5 rows × 847 columns</p>\n",
       "</div>"
      ],
      "text/plain": [
       "  grid_id    lon   lat  1948-01-01  1948-02-01  1948-03-01  1948-04-01  \\\n",
       "0       1 -125.0  27.5   10.483224    7.719310    8.116448    8.284335   \n",
       "1       2 -124.0  27.5    9.570420    7.099259    7.293138    7.908143   \n",
       "2       3 -123.0  27.5    8.778687    6.568684    6.624942    7.623624   \n",
       "3       4 -122.0  27.5    8.084807    6.110858    6.079917    7.400668   \n",
       "4       5 -121.0  27.5    7.465563    5.709055    5.626121    7.209163   \n",
       "\n",
       "   1948-05-01  1948-06-01  1948-07-01     ...      2017-07-01  2017-08-01  \\\n",
       "0   13.522258   18.429333   18.633549     ...       16.408871   17.406450   \n",
       "1   13.197092   17.607729   17.508149     ...       15.167670   16.267673   \n",
       "2   12.922004   16.949778   16.553248     ...       14.086579   15.360612   \n",
       "3   12.676305   16.430395   15.748014     ...       13.166814   14.650359   \n",
       "4   12.439309   16.024496   15.071618     ...       12.409592   14.102006   \n",
       "\n",
       "   2017-09-01  2017-10-01  2017-11-01  2017-12-01  2018-01-01  2018-02-01  \\\n",
       "0   18.480000   12.555647   11.666669    9.559678   11.826612    8.472322   \n",
       "1   17.387723   11.844602   11.071812    8.949821   11.162736    7.764403   \n",
       "2   16.400645   11.228768   10.511423    8.417975   10.541044    7.175934   \n",
       "3   15.495123   10.679424    9.972212    7.920734    9.943308    6.662139   \n",
       "4   14.647512   10.167849    9.440890    7.414695    9.351295    6.178241   \n",
       "\n",
       "   2018-03-01  2018-04-01  \n",
       "0    8.513710    9.965834  \n",
       "1    8.078946    9.311263  \n",
       "2    7.704925    8.761582  \n",
       "3    7.356915    8.281352  \n",
       "4    7.000184    7.835137  \n",
       "\n",
       "[5 rows x 847 columns]"
      ]
     },
     "execution_count": 34,
     "metadata": {},
     "output_type": "execute_result"
    }
   ],
   "source": [
    "# concat grid id and temp\n",
    "prec_wide_df = pd.concat([grid_df, prec_df], axis = 1)\n",
    "prec_wide_df.head()"
   ]
  },
  {
   "cell_type": "code",
   "execution_count": 35,
   "metadata": {
    "ExecuteTime": {
     "end_time": "2018-06-26T00:41:43.577195Z",
     "start_time": "2018-06-26T00:41:43.400596Z"
    }
   },
   "outputs": [
    {
     "data": {
      "text/html": [
       "<div>\n",
       "<style>\n",
       "    .dataframe thead tr:only-child th {\n",
       "        text-align: right;\n",
       "    }\n",
       "\n",
       "    .dataframe thead th {\n",
       "        text-align: left;\n",
       "    }\n",
       "\n",
       "    .dataframe tbody tr th {\n",
       "        vertical-align: top;\n",
       "    }\n",
       "</style>\n",
       "<table border=\"1\" class=\"dataframe\">\n",
       "  <thead>\n",
       "    <tr style=\"text-align: right;\">\n",
       "      <th></th>\n",
       "      <th>grid_id</th>\n",
       "      <th>lon</th>\n",
       "      <th>lat</th>\n",
       "      <th>date</th>\n",
       "      <th>prec_kgm2</th>\n",
       "    </tr>\n",
       "  </thead>\n",
       "  <tbody>\n",
       "    <tr>\n",
       "      <th>0</th>\n",
       "      <td>1</td>\n",
       "      <td>-125.0</td>\n",
       "      <td>27.5</td>\n",
       "      <td>1948-01-01</td>\n",
       "      <td>10.483224</td>\n",
       "    </tr>\n",
       "    <tr>\n",
       "      <th>1</th>\n",
       "      <td>2</td>\n",
       "      <td>-124.0</td>\n",
       "      <td>27.5</td>\n",
       "      <td>1948-01-01</td>\n",
       "      <td>9.570420</td>\n",
       "    </tr>\n",
       "    <tr>\n",
       "      <th>2</th>\n",
       "      <td>3</td>\n",
       "      <td>-123.0</td>\n",
       "      <td>27.5</td>\n",
       "      <td>1948-01-01</td>\n",
       "      <td>8.778687</td>\n",
       "    </tr>\n",
       "    <tr>\n",
       "      <th>3</th>\n",
       "      <td>4</td>\n",
       "      <td>-122.0</td>\n",
       "      <td>27.5</td>\n",
       "      <td>1948-01-01</td>\n",
       "      <td>8.084807</td>\n",
       "    </tr>\n",
       "    <tr>\n",
       "      <th>4</th>\n",
       "      <td>5</td>\n",
       "      <td>-121.0</td>\n",
       "      <td>27.5</td>\n",
       "      <td>1948-01-01</td>\n",
       "      <td>7.465563</td>\n",
       "    </tr>\n",
       "  </tbody>\n",
       "</table>\n",
       "</div>"
      ],
      "text/plain": [
       "  grid_id    lon   lat        date  prec_kgm2\n",
       "0       1 -125.0  27.5  1948-01-01  10.483224\n",
       "1       2 -124.0  27.5  1948-01-01   9.570420\n",
       "2       3 -123.0  27.5  1948-01-01   8.778687\n",
       "3       4 -122.0  27.5  1948-01-01   8.084807\n",
       "4       5 -121.0  27.5  1948-01-01   7.465563"
      ]
     },
     "execution_count": 35,
     "metadata": {},
     "output_type": "execute_result"
    }
   ],
   "source": [
    "# wide to long\n",
    "prec_long_df = pd.melt(prec_wide_df, id_vars = ['grid_id', 'lon', 'lat'],\n",
    "                      var_name = \"date\", value_name = \"prec_kgm2\")\n",
    "# view head of final row-wise dataset\n",
    "prec_long_df.head()"
   ]
  },
  {
   "cell_type": "code",
   "execution_count": 36,
   "metadata": {
    "ExecuteTime": {
     "end_time": "2018-06-26T00:42:04.370868Z",
     "start_time": "2018-06-26T00:42:04.146076Z"
    }
   },
   "outputs": [
    {
     "data": {
      "text/html": [
       "<div>\n",
       "<style>\n",
       "    .dataframe thead tr:only-child th {\n",
       "        text-align: right;\n",
       "    }\n",
       "\n",
       "    .dataframe thead th {\n",
       "        text-align: left;\n",
       "    }\n",
       "\n",
       "    .dataframe tbody tr th {\n",
       "        vertical-align: top;\n",
       "    }\n",
       "</style>\n",
       "<table border=\"1\" class=\"dataframe\">\n",
       "  <thead>\n",
       "    <tr style=\"text-align: right;\">\n",
       "      <th></th>\n",
       "      <th>lon</th>\n",
       "      <th>lat</th>\n",
       "      <th>prec_kgm2</th>\n",
       "    </tr>\n",
       "  </thead>\n",
       "  <tbody>\n",
       "    <tr>\n",
       "      <th>count</th>\n",
       "      <td>1.067660e+06</td>\n",
       "      <td>1.067660e+06</td>\n",
       "      <td>1.067660e+06</td>\n",
       "    </tr>\n",
       "    <tr>\n",
       "      <th>mean</th>\n",
       "      <td>-9.800000e+01</td>\n",
       "      <td>3.850000e+01</td>\n",
       "      <td>1.699604e+01</td>\n",
       "    </tr>\n",
       "    <tr>\n",
       "      <th>std</th>\n",
       "      <td>1.587452e+01</td>\n",
       "      <td>6.633253e+00</td>\n",
       "      <td>9.454317e+00</td>\n",
       "    </tr>\n",
       "    <tr>\n",
       "      <th>min</th>\n",
       "      <td>-1.250000e+02</td>\n",
       "      <td>2.750000e+01</td>\n",
       "      <td>1.672208e+00</td>\n",
       "    </tr>\n",
       "    <tr>\n",
       "      <th>25%</th>\n",
       "      <td>-1.120000e+02</td>\n",
       "      <td>3.250000e+01</td>\n",
       "      <td>9.382856e+00</td>\n",
       "    </tr>\n",
       "    <tr>\n",
       "      <th>50%</th>\n",
       "      <td>-9.800000e+01</td>\n",
       "      <td>3.850000e+01</td>\n",
       "      <td>1.497848e+01</td>\n",
       "    </tr>\n",
       "    <tr>\n",
       "      <th>75%</th>\n",
       "      <td>-8.400000e+01</td>\n",
       "      <td>4.450000e+01</td>\n",
       "      <td>2.262324e+01</td>\n",
       "    </tr>\n",
       "    <tr>\n",
       "      <th>max</th>\n",
       "      <td>-7.100000e+01</td>\n",
       "      <td>4.950000e+01</td>\n",
       "      <td>5.267440e+01</td>\n",
       "    </tr>\n",
       "  </tbody>\n",
       "</table>\n",
       "</div>"
      ],
      "text/plain": [
       "                lon           lat     prec_kgm2\n",
       "count  1.067660e+06  1.067660e+06  1.067660e+06\n",
       "mean  -9.800000e+01  3.850000e+01  1.699604e+01\n",
       "std    1.587452e+01  6.633253e+00  9.454317e+00\n",
       "min   -1.250000e+02  2.750000e+01  1.672208e+00\n",
       "25%   -1.120000e+02  3.250000e+01  9.382856e+00\n",
       "50%   -9.800000e+01  3.850000e+01  1.497848e+01\n",
       "75%   -8.400000e+01  4.450000e+01  2.262324e+01\n",
       "max   -7.100000e+01  4.950000e+01  5.267440e+01"
      ]
     },
     "execution_count": 36,
     "metadata": {},
     "output_type": "execute_result"
    }
   ],
   "source": [
    "# describe dataframe\n",
    "prec_long_df.describe()"
   ]
  },
  {
   "cell_type": "code",
   "execution_count": 37,
   "metadata": {
    "ExecuteTime": {
     "end_time": "2018-06-26T00:43:42.299348Z",
     "start_time": "2018-06-26T00:43:42.113600Z"
    }
   },
   "outputs": [
    {
     "name": "stdout",
     "output_type": "stream",
     "text": [
      "(datetime.date(1948, 1, 1), datetime.date(2018, 4, 1))\n"
     ]
    }
   ],
   "source": [
    "# print min and max date\n",
    "print(prec_long_df['date'].min(), prec_long_df['date'].max())"
   ]
  },
  {
   "cell_type": "markdown",
   "metadata": {},
   "source": [
    "Saving long monthly precipitation for regrided US grid to csv."
   ]
  },
  {
   "cell_type": "code",
   "execution_count": 38,
   "metadata": {
    "ExecuteTime": {
     "end_time": "2018-06-26T00:49:25.694023Z",
     "start_time": "2018-06-26T00:49:22.566796Z"
    },
    "collapsed": true
   },
   "outputs": [],
   "source": [
    "# commented out to not write again\n",
    "#prec_long_df.to_csv('../data/1948-2018_mon_pr_wtr_us.csv')"
   ]
  },
  {
   "cell_type": "markdown",
   "metadata": {},
   "source": [
    "#### Summary Plot"
   ]
  },
  {
   "cell_type": "code",
   "execution_count": 40,
   "metadata": {
    "ExecuteTime": {
     "end_time": "2018-06-26T00:50:53.532447Z",
     "start_time": "2018-06-26T00:50:53.227051Z"
    },
    "scrolled": true
   },
   "outputs": [
    {
     "data": {
      "text/plain": [
       "<matplotlib.axes._subplots.AxesSubplot at 0x7fec19df4690>"
      ]
     },
     "execution_count": 40,
     "metadata": {},
     "output_type": "execute_result"
    },
    {
     "data": {
      "image/png": "[encoded data removed]",
      "text/plain": [
       "<matplotlib.figure.Figure at 0x7fec19def2d0>"
      ]
     },
     "metadata": {},
     "output_type": "display_data"
    }
   ],
   "source": [
    "# mean US temperature grid time series\n",
    "mean_pr = prec_long_df.groupby(['date'])['prec_kgm2'].mean()\n",
    "# mean plot\n",
    "mean_pr.plot(x='date', y='prec_kgm2')"
   ]
  }
 ],
 "metadata": {
  "kernelspec": {
   "display_name": "py3",
   "language": "python",
   "name": "py3"
  },
  "language_info": {
   "codemirror_mode": {
    "name": "ipython",
    "version": 2
   },
   "file_extension": ".py",
   "mimetype": "text/x-python",
   "name": "python",
   "nbconvert_exporter": "python",
   "pygments_lexer": "ipython2",
   "version": "2.7.15"
  },
  "latex_envs": {
   "LaTeX_envs_menu_present": true,
   "autoclose": false,
   "autocomplete": true,
   "bibliofile": "biblio.bib",
   "cite_by": "apalike",
   "current_citInitial": 1,
   "eqLabelWithNumbers": true,
   "eqNumInitial": 1,
   "hotkeys": {
    "equation": "Ctrl-E",
    "itemize": "Ctrl-I"
   },
   "labels_anchors": false,
   "latex_user_defs": false,
   "report_style_numbering": false,
   "user_envs_cfg": false
  },
  "varInspector": {
   "cols": {
    "lenName": 16,
    "lenType": 16,
    "lenVar": 40
   },
   "kernels_config": {
    "python": {
     "delete_cmd_postfix": "",
     "delete_cmd_prefix": "del ",
     "library": "var_list.py",
     "varRefreshCmd": "print(var_dic_list())"
    },
    "r": {
     "delete_cmd_postfix": ") ",
     "delete_cmd_prefix": "rm(",
     "library": "var_list.r",
     "varRefreshCmd": "cat(var_dic_list()) "
    }
   },
   "types_to_exclude": [
    "module",
    "function",
    "builtin_function_or_method",
    "instance",
    "_Feature"
   ],
   "window_display": false
  }
 },
 "nbformat": 4,
 "nbformat_minor": 2
}
