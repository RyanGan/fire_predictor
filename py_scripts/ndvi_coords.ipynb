{
 "cells": [
  {
   "cell_type": "markdown",
   "metadata": {},
   "source": [
    "### Extracting Monthly Temperature Data from Array\n",
    "<b>Author: Ryan Gan</b>\n",
    "\n",
    "<b>Date: 2018-05-28</b>\n",
    "\n",
    "Extracting gridded temperature values to North American region. First attempt with Python."
   ]
  },
  {
   "cell_type": "code",
   "execution_count": 1,
   "metadata": {
    "ExecuteTime": {
     "end_time": "2018-06-19T20:51:29.174741Z",
     "start_time": "2018-06-19T20:51:26.654830Z"
    }
   },
   "outputs": [],
   "source": [
    "# import dataset from netCDF as nc_open; array storage system\n",
    "import netCDF4 as nc\n",
    "from netCDF4 import Dataset as nc_open\n",
    "# import numpy as np; for working with array data\n",
    "import numpy as np\n",
    "# import pandas as pd; working with data.frames\n",
    "import pandas as pd\n",
    "# Matplotlib for additional customization\n",
    "from matplotlib import pyplot as plt \n",
    "%matplotlib inline\n",
    "#import mpl_toolkits # i'd like basemap but doesn't seem to be available for py3\n",
    "# Seaborn for plotting and styling\n",
    "import seaborn as sns"
   ]
  },
  {
   "cell_type": "markdown",
   "metadata": {},
   "source": [
    "Open connection to NDVI."
   ]
  },
  {
   "cell_type": "code",
   "execution_count": 4,
   "metadata": {
    "ExecuteTime": {
     "end_time": "2018-06-19T20:53:06.715534Z",
     "start_time": "2018-06-19T20:53:06.647692Z"
    }
   },
   "outputs": [],
   "source": [
    "ndvi_nc = nc_open(\"./data/AVHRR-Land_v004_AVH13C1_NOAA-07_19810624_c20130815112445.nc\")"
   ]
  },
  {
   "cell_type": "markdown",
   "metadata": {},
   "source": [
    "Print out summary stats."
   ]
  },
  {
   "cell_type": "code",
   "execution_count": 5,
   "metadata": {
    "ExecuteTime": {
     "end_time": "2018-06-19T20:53:43.028562Z",
     "start_time": "2018-06-19T20:53:43.003171Z"
    },
    "scrolled": true
   },
   "outputs": [
    {
     "name": "stdout",
     "output_type": "stream",
     "text": [
      "<class 'netCDF4._netCDF4.Dataset'>\n",
      "root group (NETCDF4 data model, file format HDF5):\n",
      "    title: Normalized Difference Vegetation Index parameters derived from NOAA-07 GAC data for day 1981/175\n",
      "    institution: NASA/GSFC/SED/ESD/HBSL/TIS/MODIS-LAND > MODIS Land Science Team, Terrestrial Information Systems,  Hydrospheric and Biospheric Science Laboratory, Earth Sciences Division, Science and Exploration Directorate, Goddard Space Flight Center, NASA\n",
      "    Conventions: CF-1.6\n",
      "    Metadata_Conventions: CF-1.6, Unidata Dataset Discovery v1.0\n",
      "    standard_name_vocabulary: CF Standard Name Table (v25, 05 July 2013)\n",
      "    naming_authority: gov.noaa.ncdc\n",
      "    license: No constraints on data access or use\n",
      "    cdm_data_type: Grid\n",
      "    time_coverage_start: 1981-06-24T00:00:00Z\n",
      "    time_coverage_end: 1981-06-24T23:59:00Z\n",
      "    product_version: v4r0\n",
      "    platform: NOAA-4 > National Oceanic & Atmospheric Administration-4\n",
      "    sensor: AVHRR > Advanced Very High Resolution Radiometer\n",
      "    keywords_vocabulary: NASA Global Change Master Directory (GCMD) Earth Science Keywords, Version 8.0\n",
      "    keywords: EARTH SCIENCE > BIOSPHERE > VEGETATION > VEGETATION INDEX\n",
      "    source: NSS.GHRR.NC.D81175.S2204.E2351.B0002122.GC, NSS.GHRR.NC.D81175.S2346.E0134.B0002223.GC, NCEP_REANALYSIS_SURFACE_1981175.hdf, NCEP_REANALYSIS_SURFACE_1981175.hdf, TOMS_1981175.hdf, GLOBAL_LAND_SEA.4KM, ephemeris.ccar.23Oct2007\n",
      "    date_created: 2013-08-15T11:24:45Z\n",
      "    spatial_resolution: 0.050000 degrees per pixel\n",
      "    geospatial_lat_min: -90.0\n",
      "    geospatial_lat_max: 90.0\n",
      "    geospatial_lon_min: -180.0\n",
      "    geospatial_lon_max: 180.0\n",
      "    metadata_link: gov.noaa.ncdc:C00813\n",
      "    cdr_program: NOAA Climate Data Record Program for satellites\n",
      "    cdr_variable: NDVI\n",
      "    Process: LTDR_GAPS\n",
      "    PostProcessingVersion: 2.3\n",
      "    PFIIVersion: 3.5.28\n",
      "    Satellite: NOAA-07\n",
      "    Instrument: AVHRR\n",
      "    InputDataType: GAC\n",
      "    summary: AVHRR GAC data from NOAA-07 for 1981, days 175 to 175, processed by the Long-Term Land Data Record (LTDR) project (v3.5.28) into normalized difference vegetation index (NDVI) and quality-control flags\n",
      "    ProductionDate: 2013-08-15T11:24:45.000000Z\n",
      "    grid_mapping_name: latitude_longitudeg\n",
      "    ESDT: AVH13C1\n",
      "    LocalGranuleId: AVHRR-Land_v004_AVH13C1_NOAA-07_19810624_c20130815112445.nc\n",
      "    id: AVHRR-Land_v004_AVH13C1_NOAA-07_19810624_c20130815112445.nc\n",
      "    RangeBeginningDate: 1981-175\n",
      "    RangeBeginningTime: 00:00:00.0000\n",
      "    RangeEndingDate: 1981-175\n",
      "    RangeEndingTime: 23:59:59.9999\n",
      "    PercentMissingData: 83.86\n",
      "    PercentValidDaytimeData: 22.08\n",
      "    PercentValidDaytimeLand: 22.08\n",
      "    PercentValidClearDaytimeLand: 1.83\n",
      "    PercentValidDaytimeLandInCloudShadow: 1.47\n",
      "    PercentValidClearDaytimeWater: 0.00\n",
      "    PercentValidDaytimeWaterInCloudShadow: 0.00\n",
      "    dimensions(sizes): latitude(3600), longitude(7200), time(1)\n",
      "    variables(dimensions): float32 \u001b[4mlatitude\u001b[0m(latitude), float32 \u001b[4mlongitude\u001b[0m(longitude), float32 \u001b[4mtime\u001b[0m(time), int16 \u001b[4mNDVI\u001b[0m(time,latitude,longitude), int16 \u001b[4mTIMEOFDAY\u001b[0m(time,latitude,longitude), int16 \u001b[4mQA\u001b[0m(time,latitude,longitude)\n",
      "    groups: \n",
      "\n",
      "<class 'netCDF4._netCDF4.Variable'>\n",
      "float32 latitude(latitude)\n",
      "    units: degrees_north\n",
      "    long_name: latitude\n",
      "    axis: Y\n",
      "    standard_name: latitude\n",
      "unlimited dimensions: \n",
      "current shape = (3600,)\n",
      "filling on, default _FillValue of 9.969209968386869e+36 used\n",
      "\n",
      "<class 'netCDF4._netCDF4.Variable'>\n",
      "float32 longitude(longitude)\n",
      "    units: degrees_east\n",
      "    long_name: longitude\n",
      "    axis: X\n",
      "    standard_name: longitude\n",
      "unlimited dimensions: \n",
      "current shape = (7200,)\n",
      "filling on, default _FillValue of 9.969209968386869e+36 used\n",
      "\n",
      "<class 'netCDF4._netCDF4.Variable'>\n",
      "float32 time(time)\n",
      "    units: days since 1981-01-01 00:00:00\n",
      "    long_name: time\n",
      "    axis: T\n",
      "    standard_name: time\n",
      "    calendar: gregoriancalendar\n",
      "unlimited dimensions: \n",
      "current shape = (1,)\n",
      "filling on, default _FillValue of 9.969209968386869e+36 used\n",
      "\n",
      "<class 'netCDF4._netCDF4.Variable'>\n",
      "int16 NDVI(time, latitude, longitude)\n",
      "    scale_factor: 0.0001\n",
      "    add_offset: 0.0\n",
      "    long_name: NOAA Climate Data Record of Normalized Difference Vegetation Index\n",
      "    units: 1\n",
      "    valid_range: [-1000 10000]\n",
      "    _FillValue: -9999\n",
      "    standard_name: normalized_difference_vegetation_index\n",
      "unlimited dimensions: \n",
      "current shape = (1, 3600, 7200)\n",
      "filling on\n",
      "<class 'netCDF4._netCDF4.Variable'>\n",
      "int16 TIMEOFDAY(time, latitude, longitude)\n",
      "    scale_factor: 0.01\n",
      "    add_offset: 0.0\n",
      "    long_name: Time since Start of Data Day\n",
      "    units: h since 1981-06-24 00:00:00\n",
      "    valid_range: [   0 2399]\n",
      "    _FillValue: -9999\n",
      "unlimited dimensions: \n",
      "current shape = (1, 3600, 7200)\n",
      "filling on\n",
      "<class 'netCDF4._netCDF4.Variable'>\n",
      "int16 QA(time, latitude, longitude)\n",
      "    flag_masks: [     2      4      8     16     32     64    128    256    512   1024\n",
      "   2048   4096   8192  16384 -32768]\n",
      "    flag_meanings: cloudy cloud_shadow water sunglint dense_dark_vegetation night ch1_to_5_valid ch1_invalid ch2_invalid ch3_invalid ch4_invalid ch5_invalid rho3_invalid BRDF_corr_problem polar_flag\n",
      "    long_name: Quality Assurance\n",
      "unlimited dimensions: \n",
      "current shape = (1, 3600, 7200)\n",
      "filling on, default _FillValue of -32767 used\n",
      "\n"
     ]
    }
   ],
   "source": [
    "print(ndvi_nc)\n",
    "# print out details of each variable\n",
    "for v in ndvi_nc.variables:\n",
    "    print(ndvi_nc.variables[v])"
   ]
  },
  {
   "cell_type": "markdown",
   "metadata": {
    "ExecuteTime": {
     "end_time": "2018-06-19T20:59:21.268181Z",
     "start_time": "2018-06-19T20:59:21.261377Z"
    }
   },
   "source": [
    "Extract variables."
   ]
  },
  {
   "cell_type": "code",
   "execution_count": 11,
   "metadata": {
    "ExecuteTime": {
     "end_time": "2018-06-19T21:02:22.213372Z",
     "start_time": "2018-06-19T21:02:21.093020Z"
    }
   },
   "outputs": [
    {
     "data": {
      "text/plain": [
       "(3600, 7200)"
      ]
     },
     "execution_count": 11,
     "metadata": {},
     "output_type": "execute_result"
    }
   ],
   "source": [
    "# extract latitude\n",
    "lat = ndvi_nc.variables['latitude'][:]\n",
    "# extract longitude\n",
    "lon = ndvi_nc.variables['longitude'][:]\n",
    "# extract time\n",
    "time = ndvi_nc.variables['time'][:]\n",
    "# 1st temperature values\n",
    "ndvi = ndvi_nc.variables['NDVI'][0,:,:]\n",
    "# check dimension of shape\n",
    "np.shape(ndvi)"
   ]
  },
  {
   "cell_type": "markdown",
   "metadata": {},
   "source": [
    "Print out min, mean, and max."
   ]
  },
  {
   "cell_type": "code",
   "execution_count": 12,
   "metadata": {
    "ExecuteTime": {
     "end_time": "2018-06-19T21:02:25.679049Z",
     "start_time": "2018-06-19T21:02:24.885613Z"
    }
   },
   "outputs": [
    {
     "name": "stdout",
     "output_type": "stream",
     "text": [
      "-0.1 0.16735139135462823 0.9211\n"
     ]
    }
   ],
   "source": [
    "print(np.min(ndvi), np.mean(ndvi), np.max(ndvi))"
   ]
  },
  {
   "cell_type": "code",
   "execution_count": 15,
   "metadata": {
    "ExecuteTime": {
     "end_time": "2018-06-19T21:08:00.674927Z",
     "start_time": "2018-06-19T21:06:49.697195Z"
    }
   },
   "outputs": [
    {
     "data": {
      "text/plain": [
       "<matplotlib.axes._subplots.AxesSubplot at 0x1a1deeb048>"
      ]
     },
     "execution_count": 15,
     "metadata": {},
     "output_type": "execute_result"
    },
    {
     "data": {
      "image/png": "[encoded data removed]",
      "text/plain": [
       "<Figure size 432x288 with 2 Axes>"
      ]
     },
     "metadata": {},
     "output_type": "display_data"
    }
   ],
   "source": [
    "sns.heatmap(ndvi, vmin = -0.1, vmax = 0.95)"
   ]
  },
  {
   "cell_type": "markdown",
   "metadata": {},
   "source": [
    "Subset array to bounding box of the US."
   ]
  },
  {
   "cell_type": "code",
   "execution_count": 19,
   "metadata": {
    "ExecuteTime": {
     "end_time": "2018-06-19T21:14:35.237869Z",
     "start_time": "2018-06-19T21:14:35.231805Z"
    }
   },
   "outputs": [
    {
     "data": {
      "text/plain": [
       "(-180.0, 179.96277)"
      ]
     },
     "execution_count": 19,
     "metadata": {},
     "output_type": "execute_result"
    }
   ],
   "source": [
    "np.min(lon), np.max(lon)"
   ]
  },
  {
   "cell_type": "code",
   "execution_count": 20,
   "metadata": {
    "ExecuteTime": {
     "end_time": "2018-06-19T21:14:47.861884Z",
     "start_time": "2018-06-19T21:14:47.849881Z"
    }
   },
   "outputs": [
    {
     "name": "stdout",
     "output_type": "stream",
     "text": [
      "812 1312 1104 2262\n"
     ]
    }
   ],
   "source": [
    "# lat and lon bounds\n",
    "latbounds = [24.4, 49.4]\n",
    "# lon bounds need to be converted from easterling to westerling to get US\n",
    "lonbounds = [-124.8, -66.9]\n",
    "\n",
    "# latitude lower and upper bounds\n",
    "lat_ui = np.argmin(np.abs(lat - latbounds[0]))\n",
    "lat_li = np.argmin(np.abs(lat - latbounds[1]))\n",
    "\n",
    "# longitude lower and upper boudns\n",
    "lon_li = np.argmin(np.abs(lon - lonbounds[0]))\n",
    "lon_ui = np.argmin(np.abs(lon - lonbounds[1]))\n",
    "# print index\n",
    "print(lat_li, lat_ui, lon_li, lon_ui)"
   ]
  },
  {
   "cell_type": "markdown",
   "metadata": {},
   "source": [
    "Subset US NDVI."
   ]
  },
  {
   "cell_type": "code",
   "execution_count": 21,
   "metadata": {
    "ExecuteTime": {
     "end_time": "2018-06-19T21:14:53.465384Z",
     "start_time": "2018-06-19T21:14:53.459070Z"
    }
   },
   "outputs": [
    {
     "name": "stdout",
     "output_type": "stream",
     "text": [
      "-484.79663 -426.9431 24.44902 49.39864\n"
     ]
    }
   ],
   "source": [
    "# subset us lon\n",
    "lon_us = lon[lon_li:lon_ui]-360\n",
    "# subset us lat\n",
    "lat_us = lat[lat_li:lat_ui]\n",
    "# print dimensions\n",
    "print(np.min(lon_us), np.max(lon_us), np.min(lat_us), np.max(lat_us))"
   ]
  },
  {
   "cell_type": "code",
   "execution_count": 22,
   "metadata": {
    "ExecuteTime": {
     "end_time": "2018-06-19T21:15:23.582620Z",
     "start_time": "2018-06-19T21:15:19.704758Z"
    },
    "scrolled": true
   },
   "outputs": [
    {
     "data": {
      "image/png": "[encoded data removed]",
      "text/plain": [
       "<Figure size 432x288 with 1 Axes>"
      ]
     },
     "metadata": {},
     "output_type": "display_data"
    }
   ],
   "source": [
    "# extract lonlat grid\n",
    "lons, lats = np.meshgrid(lon_us, lat_us)\n",
    "# plot\n",
    "plt.plot(lons, lats, marker='.', color='k', linestyle='none')\n",
    "plt.show()"
   ]
  },
  {
   "cell_type": "code",
   "execution_count": 24,
   "metadata": {
    "ExecuteTime": {
     "end_time": "2018-06-19T21:17:10.773858Z",
     "start_time": "2018-06-19T21:17:10.673343Z"
    }
   },
   "outputs": [
    {
     "data": {
      "text/plain": [
       "(500, 1158)"
      ]
     },
     "execution_count": 24,
     "metadata": {},
     "output_type": "execute_result"
    }
   ],
   "source": [
    "# subset ndvi to us\n",
    "ndvi_us = ndvi_nc.variables['NDVI'][0, lat_li:lat_ui, lon_li:lon_ui]\n",
    "np.shape(ndvi_us)"
   ]
  },
  {
   "cell_type": "code",
   "execution_count": 26,
   "metadata": {
    "ExecuteTime": {
     "end_time": "2018-06-19T21:18:18.481049Z",
     "start_time": "2018-06-19T21:18:16.437390Z"
    }
   },
   "outputs": [
    {
     "data": {
      "text/plain": [
       "<matplotlib.axes._subplots.AxesSubplot at 0x1a1e038f98>"
      ]
     },
     "execution_count": 26,
     "metadata": {},
     "output_type": "execute_result"
    },
    {
     "data": {
      "image/png": "[encoded data removed]",
      "text/plain": [
       "<Figure size 432x288 with 2 Axes>"
      ]
     },
     "metadata": {},
     "output_type": "display_data"
    }
   ],
   "source": [
    "sns.heatmap(ndvi_us, vmin = -1, vmax=1)"
   ]
  },
  {
   "cell_type": "markdown",
   "metadata": {},
   "source": [
    "Note I suspect a lot of the US is flagged because of when this data was collected (i.e. night-time on the east coast)."
   ]
  }
 ],
 "metadata": {
  "kernelspec": {
   "display_name": "Python 3",
   "language": "python",
   "name": "python3"
  },
  "language_info": {
   "codemirror_mode": {
    "name": "ipython",
    "version": 3
   },
   "file_extension": ".py",
   "mimetype": "text/x-python",
   "name": "python",
   "nbconvert_exporter": "python",
   "pygments_lexer": "ipython3",
   "version": "3.6.5"
  },
  "latex_envs": {
   "LaTeX_envs_menu_present": true,
   "autoclose": false,
   "autocomplete": true,
   "bibliofile": "biblio.bib",
   "cite_by": "apalike",
   "current_citInitial": 1,
   "eqLabelWithNumbers": true,
   "eqNumInitial": 1,
   "hotkeys": {
    "equation": "Ctrl-E",
    "itemize": "Ctrl-I"
   },
   "labels_anchors": false,
   "latex_user_defs": false,
   "report_style_numbering": false,
   "user_envs_cfg": false
  },
  "varInspector": {
   "cols": {
    "lenName": 16,
    "lenType": 16,
    "lenVar": 40
   },
   "kernels_config": {
    "python": {
     "delete_cmd_postfix": "",
     "delete_cmd_prefix": "del ",
     "library": "var_list.py",
     "varRefreshCmd": "print(var_dic_list())"
    },
    "r": {
     "delete_cmd_postfix": ") ",
     "delete_cmd_prefix": "rm(",
     "library": "var_list.r",
     "varRefreshCmd": "cat(var_dic_list()) "
    }
   },
   "types_to_exclude": [
    "module",
    "function",
    "builtin_function_or_method",
    "instance",
    "_Feature"
   ],
   "window_display": false
  }
 },
 "nbformat": 4,
 "nbformat_minor": 2
}
