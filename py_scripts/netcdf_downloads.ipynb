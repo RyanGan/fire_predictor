{
 "cells": [
  {
   "cell_type": "markdown",
   "metadata": {},
   "source": [
    "### NOAA NetCDF data download\n",
    "<b> Author: Ryan Gan </b>\n",
    "<b> Date Created: 2018-06-18 </b>\n",
    "\n",
    "This script downloads netCDF files from NOAA. Loading my python 3 environment that contains packages for python 3. I probably shouldn't have named it python 3."
   ]
  }
 ],
 "metadata": {
  "kernelspec": {
   "display_name": "python 3",
   "language": "python",
   "name": "py3"
  },
  "language_info": {
   "codemirror_mode": {
    "name": "ipython",
    "version": 3
   },
   "file_extension": ".py",
   "mimetype": "text/x-python",
   "name": "python",
   "nbconvert_exporter": "python",
   "pygments_lexer": "ipython3",
   "version": "3.6.2"
  }
 },
 "nbformat": 4,
 "nbformat_minor": 2
}
