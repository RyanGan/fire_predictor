{
 "cells": [
  {
   "cell_type": "markdown",
   "metadata": {},
   "source": [
    "### NOAA NetCDF data download\n",
    "<b> Author: Ryan Gan </b>\n",
    "<b> Date Created: 2018-06-18 </b>\n",
    "\n",
    "This script downloads netCDF files from NOAA. Loading my python 3 environment that contains packages for python 3. I probably shouldn't have named it python 3."
   ]
  },
  {
   "cell_type": "markdown",
   "metadata": {},
   "source": [
    "I will work on vegetation index in a separate script. I may also limit to 2000 to 2018. \n",
    "\n",
    "Temperature: \n",
    "\n",
    "Monthly Precipitation: https://www.esrl.noaa.gov/psd/data/gridded/data.cmap.html\n",
    "\n",
    "2.5 x 2.5 degrees.\n",
    "\n",
    "\n",
    "Monthly Drought Index: https://www.esrl.noaa.gov/psd/data/gridded/data.pdsi.html\n",
    "Consider if you want this in the model because I can't find current gridded drought estimates and may not be very helpful for the app.\n",
    "\n",
    "\n",
    "https://www.esrl.noaa.gov/psd/data/gridded/data.ncep.reanalysis.surface.html"
   ]
  }
 ],
 "metadata": {
  "kernelspec": {
   "display_name": "py3",
   "language": "python",
   "name": "py3"
  },
  "language_info": {
   "codemirror_mode": {
    "name": "ipython",
    "version": 3
   },
   "file_extension": ".py",
   "mimetype": "text/x-python",
   "name": "python",
   "nbconvert_exporter": "python",
   "pygments_lexer": "ipython3",
   "version": "3.6.2"
  },
  "latex_envs": {
   "LaTeX_envs_menu_present": true,
   "autoclose": false,
   "autocomplete": true,
   "bibliofile": "biblio.bib",
   "cite_by": "apalike",
   "current_citInitial": 1,
   "eqLabelWithNumbers": true,
   "eqNumInitial": 1,
   "hotkeys": {
    "equation": "Ctrl-E",
    "itemize": "Ctrl-I"
   },
   "labels_anchors": false,
   "latex_user_defs": false,
   "report_style_numbering": false,
   "user_envs_cfg": false
  },
  "varInspector": {
   "cols": {
    "lenName": 16,
    "lenType": 16,
    "lenVar": 40
   },
   "kernels_config": {
    "python": {
     "delete_cmd_postfix": "",
     "delete_cmd_prefix": "del ",
     "library": "var_list.py",
     "varRefreshCmd": "print(var_dic_list())"
    },
    "r": {
     "delete_cmd_postfix": ") ",
     "delete_cmd_prefix": "rm(",
     "library": "var_list.r",
     "varRefreshCmd": "cat(var_dic_list()) "
    }
   },
   "types_to_exclude": [
    "module",
    "function",
    "builtin_function_or_method",
    "instance",
    "_Feature"
   ],
   "window_display": false
  }
 },
 "nbformat": 4,
 "nbformat_minor": 2
}
