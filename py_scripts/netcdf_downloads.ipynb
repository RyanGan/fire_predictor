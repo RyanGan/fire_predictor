{
 "cells": [
  {
   "cell_type": "markdown",
   "metadata": {},
   "source": [
    "### NOAA NetCDF data download\n",
    "<b> Author: Ryan Gan </b>\n",
    "<b> Date Created: 2018-06-18 </b>\n",
    "\n",
    "This script downloads netCDF files from NOAA. Loading my python 3 environment that contains packages for python 3. I probably shouldn't have named it python 3."
   ]
  },
  {
   "cell_type": "markdown",
   "metadata": {},
   "source": [
    "I will work on vegetation index in a separate script. I may also limit to 2000 to 2018. \n",
    "\n",
    "Temperature: \n",
    "\n",
    "Monthly Precipitation: https://www.esrl.noaa.gov/psd/data/gridded/data.cmap.html\n",
    "\n",
    "2.5 x 2.5 degrees.\n",
    "\n",
    "\n",
    "Monthly Drought Index: https://www.esrl.noaa.gov/psd/data/gridded/data.pdsi.html\n",
    "Consider if you want this in the model because I can't find current gridded drought estimates and may not be very helpful for the app.\n",
    "\n",
    "\n",
    "https://www.esrl.noaa.gov/psd/data/gridded/data.ncep.reanalysis.surface.html"
   ]
  }
 ],
 "metadata": {
  "kernelspec": {
   "display_name": "py3",
   "language": "python",
   "name": "py3"
  },
  "language_info": {
   "codemirror_mode": {
    "name": "ipython",
    "version": 2
   },
   "file_extension": ".py",
   "mimetype": "text/x-python",
   "name": "python",
   "nbconvert_exporter": "python",
   "pygments_lexer": "ipython2",
   "version": "2.7.15"
  }
 },
 "nbformat": 4,
 "nbformat_minor": 2
}
