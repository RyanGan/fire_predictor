{
 "cells": [
  {
   "cell_type": "markdown",
   "metadata": {},
   "source": [
    "## Extracting Monthly Temperature Data from Array\n",
    "\n",
    "### Author: Ryan Gan\n",
    "### Date: 2018-05-28\n",
    "\n",
    "Extracting gridded temperature values to North American region. First attempt with Python. Dates appear to be every from 1980 to 2018."
   ]
  },
  {
   "cell_type": "code",
   "execution_count": 1,
   "metadata": {
    "ExecuteTime": {
     "end_time": "2018-06-28T02:17:02.366484Z",
     "start_time": "2018-06-28T02:17:01.606762Z"
    },
    "collapsed": true
   },
   "outputs": [],
   "source": [
    "# import dataset from netCDF as nc_open; array storage system\n",
    "import netCDF4 as nc\n",
    "# import dataset\n",
    "from netCDF4 import Dataset \n",
    "# interpolate griddate\n",
    "from scipy import interpolate\n",
    "# import numpy as np; for working with array data\n",
    "import numpy as np\n",
    "# import pandas as pd; working with data.frames\n",
    "import pandas as pd\n",
    "# Matplotlib for additional customization\n",
    "from matplotlib import pyplot as plt \n",
    "%matplotlib inline\n",
    "#import mpl_toolkits # i'd like basemap but doesn't seem to be available for py3\n",
    "# Seaborn for plotting and styling\n",
    "import seaborn as sns"
   ]
  },
  {
   "cell_type": "markdown",
   "metadata": {},
   "source": [
    "Open connection to monthly temperature netCDF file."
   ]
  },
  {
   "cell_type": "code",
   "execution_count": 2,
   "metadata": {
    "ExecuteTime": {
     "end_time": "2018-06-28T02:17:02.374914Z",
     "start_time": "2018-06-28T02:17:02.368300Z"
    },
    "collapsed": true
   },
   "outputs": [],
   "source": [
    "# open temp nc\n",
    "temp_nc = Dataset(\"../data/nc/air.mon.mean.nc\")"
   ]
  },
  {
   "cell_type": "markdown",
   "metadata": {},
   "source": [
    "Print out summary of temperature NetCDF file. It looks like x/lon = 144, y/lat = 73, and 843 months."
   ]
  },
  {
   "cell_type": "code",
   "execution_count": 3,
   "metadata": {
    "ExecuteTime": {
     "end_time": "2018-06-28T02:17:02.383067Z",
     "start_time": "2018-06-28T02:17:02.376920Z"
    }
   },
   "outputs": [
    {
     "name": "stdout",
     "output_type": "stream",
     "text": [
      "<class 'netCDF4._netCDF4.Dataset'>\n",
      "root group (NETCDF4_CLASSIC data model, file format HDF5):\n",
      "    description: Data from NCEP initialized reanalysis (4x/day).  These are the 0.9950 sigma level values\n",
      "    platform: Model\n",
      "    Conventions: COARDS\n",
      "    NCO: 20121012\n",
      "    history: Thu May  4 20:11:16 2000: ncrcat -d time,0,623 /Datasets/ncep.reanalysis.derived/surface/air.mon.mean.nc air.mon.mean.nc\n",
      "Thu May  4 18:11:50 2000: ncrcat -d time,0,622 /Datasets/ncep.reanalysis.derived/surface/air.mon.mean.nc ./surface/air.mon.mean.nc\n",
      "Mon Jul  5 23:47:18 1999: ncrcat ./air.mon.mean.nc /Datasets/ncep.reanalysis.derived/surface/air.mon.mean.nc /dm/dmwork/nmc.rean.ingest/combinedMMs/surface/air.mon.mean.nc\n",
      "/home/hoop/crdc/cpreanjuke2farm/cpreanjuke2farm Mon Oct 23 21:04:20 1995 from air.sfc.gauss.85.nc\n",
      "created 95/03/13 by Hoop (netCDF2.3)\n",
      "Converted to chunked, deflated non-packed NetCDF4 2014/09\n",
      "    title: monthly mean air.sig995 from the NCEP Reanalysis\n",
      "    References: http://www.esrl.noaa.gov/psd/data/gridded/data.ncep.reanalysis.derived.html\n",
      "    dataset_title: NCEP-NCAR Reanalysis 1\n",
      "    dimensions(sizes): lat(73), lon(144), time(843)\n",
      "    variables(dimensions): float32 \u001b[4mlat\u001b[0m(lat), float32 \u001b[4mlon\u001b[0m(lon), float64 \u001b[4mtime\u001b[0m(time), float32 \u001b[4mair\u001b[0m(time,lat,lon)\n",
      "    groups: \n",
      "\n",
      "<class 'netCDF4._netCDF4.Variable'>\n",
      "float32 lat(lat)\n",
      "    units: degrees_north\n",
      "    actual_range: [ 90. -90.]\n",
      "    long_name: Latitude\n",
      "    standard_name: latitude\n",
      "    axis: Y\n",
      "unlimited dimensions: \n",
      "current shape = (73,)\n",
      "filling on, default _FillValue of 9.969209968386869e+36 used\n",
      "\n",
      "<class 'netCDF4._netCDF4.Variable'>\n",
      "float32 lon(lon)\n",
      "    units: degrees_east\n",
      "    long_name: Longitude\n",
      "    actual_range: [  0.  357.5]\n",
      "    standard_name: longitude\n",
      "    axis: X\n",
      "unlimited dimensions: \n",
      "current shape = (144,)\n",
      "filling on, default _FillValue of 9.969209968386869e+36 used\n",
      "\n",
      "<class 'netCDF4._netCDF4.Variable'>\n",
      "float64 time(time)\n",
      "    long_name: Time\n",
      "    delta_t: 0000-01-00 00:00:00\n",
      "    avg_period: 0000-01-00 00:00:00\n",
      "    prev_avg_period: 0000-00-01 00:00:00\n",
      "    standard_name: time\n",
      "    axis: T\n",
      "    units: hours since 1800-01-01 00:00:0.0\n",
      "    actual_range: [1297320. 1912368.]\n",
      "unlimited dimensions: time\n",
      "current shape = (843,)\n",
      "filling on, default _FillValue of 9.969209968386869e+36 used\n",
      "\n",
      "<class 'netCDF4._netCDF4.Variable'>\n",
      "float32 air(time, lat, lon)\n",
      "    long_name: Monthly Mean Air Temperature at sigma level 0.995\n",
      "    valid_range: [-2000.  2000.]\n",
      "    units: degC\n",
      "    add_offset: 0.0\n",
      "    scale_factor: 1.0\n",
      "    missing_value: -9.96921e+36\n",
      "    precision: 1\n",
      "    least_significant_digit: 0\n",
      "    var_desc: Air Temperature\n",
      "    level_desc: Surface\n",
      "    statistic: Mean\n",
      "    parent_stat: Individual Obs\n",
      "    dataset: NCEP Reanalysis Derived Products\n",
      "    actual_range: [-73.78001  42.14595]\n",
      "unlimited dimensions: time\n",
      "current shape = (843, 73, 144)\n",
      "filling on, default _FillValue of 9.969209968386869e+36 used\n",
      "\n"
     ]
    }
   ],
   "source": [
    "print(temp_nc)\n",
    "# print out details of each variable\n",
    "for v in temp_nc.variables:\n",
    "    print(temp_nc.variables[v])"
   ]
  },
  {
   "cell_type": "markdown",
   "metadata": {},
   "source": [
    "### Extracting Grid Locations of Temperature Grid\n",
    "\n",
    "I'm going to see if I can output the grid locations and plot it."
   ]
  },
  {
   "cell_type": "code",
   "execution_count": 4,
   "metadata": {
    "ExecuteTime": {
     "end_time": "2018-06-28T02:17:02.399051Z",
     "start_time": "2018-06-28T02:17:02.384690Z"
    }
   },
   "outputs": [
    {
     "data": {
      "text/plain": [
       "(73, 144)"
      ]
     },
     "execution_count": 4,
     "metadata": {},
     "output_type": "execute_result"
    }
   ],
   "source": [
    "# extract latitude\n",
    "lat = temp_nc.variables['lat'][:]\n",
    "# extract longitude\n",
    "lon = temp_nc.variables['lon'][:]\n",
    "# extract time\n",
    "time = temp_nc.variables['time'][:]\n",
    "# 1st temperature values\n",
    "temp = temp_nc.variables['air'][1,:,:]\n",
    "# check dimension of shape\n",
    "np.shape(temp)"
   ]
  },
  {
   "cell_type": "markdown",
   "metadata": {},
   "source": [
    "Print out min, mean, max of temperature vector."
   ]
  },
  {
   "cell_type": "code",
   "execution_count": 5,
   "metadata": {
    "ExecuteTime": {
     "end_time": "2018-06-28T02:17:02.404684Z",
     "start_time": "2018-06-28T02:17:02.400996Z"
    }
   },
   "outputs": [
    {
     "name": "stdout",
     "output_type": "stream",
     "text": [
      "-44.23103 2.1757681 35.399654\n"
     ]
    }
   ],
   "source": [
    "print(np.min(temp), np.mean(temp), np.max(temp))"
   ]
  },
  {
   "cell_type": "markdown",
   "metadata": {},
   "source": [
    "Using Seaborn to print out a heatmap the first matrix of temperature. I notice the outline of the continents based on the temperature. You can see the Rocky mountains and the Andes mountains running down the left side of the Americas. The Poles are much colder. The Australian outback looks hot too."
   ]
  },
  {
   "cell_type": "code",
   "execution_count": 6,
   "metadata": {
    "ExecuteTime": {
     "end_time": "2018-06-28T02:17:02.751484Z",
     "start_time": "2018-06-28T02:17:02.406731Z"
    }
   },
   "outputs": [
    {
     "data": {
      "text/plain": [
       "<matplotlib.axes._subplots.AxesSubplot at 0x7ffb075ae400>"
      ]
     },
     "execution_count": 6,
     "metadata": {},
     "output_type": "execute_result"
    },
    {
     "data": {
      "image/png": "[encoded data removed]",
      "text/plain": [
       "<Figure size 432x288 with 2 Axes>"
      ]
     },
     "metadata": {},
     "output_type": "display_data"
    }
   ],
   "source": [
    "sns.heatmap(temp)"
   ]
  },
  {
   "cell_type": "markdown",
   "metadata": {},
   "source": [
    "I want to subset the array to the spatial extent of the continental United States.  The longitude bounds should be  -124.848974 to -66.885444. I will need to add 180 degrees to these degrees west to match the convert from degrees east of the nc file. The latitude bounds should be 24.396308 to 49.384358."
   ]
  },
  {
   "cell_type": "code",
   "execution_count": 7,
   "metadata": {
    "ExecuteTime": {
     "end_time": "2018-06-28T02:17:02.758735Z",
     "start_time": "2018-06-28T02:17:02.753337Z"
    }
   },
   "outputs": [
    {
     "name": "stdout",
     "output_type": "stream",
     "text": [
      "16 26 94 117\n"
     ]
    }
   ],
   "source": [
    "# lat and lon bounds\n",
    "latbounds = [24.4, 49.4]\n",
    "# lon bounds need to be converted from easterling to westerling to get US\n",
    "lonbounds = [-124.8 + 360, -66.9 + 360]\n",
    "\n",
    "# latitude lower and upper bounds\n",
    "lat_ui = np.argmin(np.abs(lat - latbounds[0]))\n",
    "lat_li = np.argmin(np.abs(lat - latbounds[1]))\n",
    "\n",
    "# longitude lower and upper boudns\n",
    "lon_li = np.argmin(np.abs(lon - lonbounds[0]))\n",
    "lon_ui = np.argmin(np.abs(lon - lonbounds[1]))\n",
    "# print index\n",
    "print(lat_li, lat_ui, lon_li, lon_ui)"
   ]
  },
  {
   "cell_type": "markdown",
   "metadata": {},
   "source": [
    "Subset latitude and longitude grid points."
   ]
  },
  {
   "cell_type": "code",
   "execution_count": 8,
   "metadata": {
    "ExecuteTime": {
     "end_time": "2018-06-28T02:17:02.766585Z",
     "start_time": "2018-06-28T02:17:02.761162Z"
    }
   },
   "outputs": [
    {
     "name": "stdout",
     "output_type": "stream",
     "text": [
      "-125.0 -70.0 27.5 50.0\n"
     ]
    }
   ],
   "source": [
    "# subset us lon\n",
    "lon_us = lon[lon_li:lon_ui]-360\n",
    "# subset us lat\n",
    "lat_us = lat[lat_li:lat_ui]\n",
    "# print dimensions\n",
    "print(np.min(lon_us), np.max(lon_us), np.min(lat_us), np.max(lat_us))"
   ]
  },
  {
   "cell_type": "markdown",
   "metadata": {},
   "source": [
    "Print points over US."
   ]
  },
  {
   "cell_type": "code",
   "execution_count": 9,
   "metadata": {
    "ExecuteTime": {
     "end_time": "2018-06-28T02:17:02.881483Z",
     "start_time": "2018-06-28T02:17:02.768766Z"
    }
   },
   "outputs": [
    {
     "data": {
      "image/png": "[encoded data removed]",
      "text/plain": [
       "<Figure size 432x288 with 1 Axes>"
      ]
     },
     "metadata": {},
     "output_type": "display_data"
    }
   ],
   "source": [
    "# extract lonlat grid\n",
    "lons, lats = np.meshgrid(lon_us, lat_us)\n",
    "# plot\n",
    "plt.plot(lons, lats, marker='.', color='k', linestyle='none')\n",
    "plt.show()"
   ]
  },
  {
   "cell_type": "code",
   "execution_count": 10,
   "metadata": {
    "ExecuteTime": {
     "end_time": "2018-06-28T02:17:02.889040Z",
     "start_time": "2018-06-28T02:17:02.883795Z"
    }
   },
   "outputs": [
    {
     "data": {
      "text/plain": [
       "(10, 23)"
      ]
     },
     "execution_count": 10,
     "metadata": {},
     "output_type": "execute_result"
    }
   ],
   "source": [
    "# subset temp to us\n",
    "temp_us = temp_nc.variables['air'][1, lat_li:lat_ui, lon_li:lon_ui]\n",
    "np.shape(temp_us)"
   ]
  },
  {
   "cell_type": "markdown",
   "metadata": {},
   "source": [
    "Plot heatmap of US temperature to make sure subset looks right."
   ]
  },
  {
   "cell_type": "code",
   "execution_count": 11,
   "metadata": {
    "ExecuteTime": {
     "end_time": "2018-06-28T02:17:03.143014Z",
     "start_time": "2018-06-28T02:17:02.890621Z"
    }
   },
   "outputs": [
    {
     "data": {
      "text/plain": [
       "<matplotlib.axes._subplots.AxesSubplot at 0x7ffb0713bf60>"
      ]
     },
     "execution_count": 11,
     "metadata": {},
     "output_type": "execute_result"
    },
    {
     "data": {
      "image/png": "[encoded data removed]",
      "text/plain": [
       "<Figure size 432x288 with 2 Axes>"
      ]
     },
     "metadata": {},
     "output_type": "display_data"
    }
   ],
   "source": [
    "sns.heatmap(temp_us)"
   ]
  },
  {
   "cell_type": "markdown",
   "metadata": {},
   "source": [
    "### Binary Interpolation of Temperature to Finer Grid Resolution\n",
    "\n",
    "Using interpolation to estimate temperature to a finer grid. Testing out with one array first. Creating a 1x1 degree grid."
   ]
  },
  {
   "cell_type": "code",
   "execution_count": 12,
   "metadata": {
    "ExecuteTime": {
     "end_time": "2018-06-28T02:17:03.148206Z",
     "start_time": "2018-06-28T02:17:03.144734Z"
    },
    "collapsed": true
   },
   "outputs": [],
   "source": [
    "# custom grids for every degree\n",
    "# vectors\n",
    "grid_lat = np.arange(np.min(lat_us), np.max(lat_us), 1)\n",
    "grid_lon = np.arange(np.min(lon_us), np.max(lon_us), 1)\n",
    "# mesh grid array\n",
    "glons, glats = np.meshgrid(grid_lon, grid_lat)"
   ]
  },
  {
   "cell_type": "markdown",
   "metadata": {},
   "source": [
    "Plotting new grid to check shape."
   ]
  },
  {
   "cell_type": "code",
   "execution_count": 13,
   "metadata": {
    "ExecuteTime": {
     "end_time": "2018-06-28T02:17:03.317029Z",
     "start_time": "2018-06-28T02:17:03.149828Z"
    },
    "scrolled": true
   },
   "outputs": [
    {
     "data": {
      "image/png": "[encoded data removed]",
      "text/plain": [
       "<Figure size 432x288 with 1 Axes>"
      ]
     },
     "metadata": {},
     "output_type": "display_data"
    }
   ],
   "source": [
    "# plot new grid\n",
    "plt.plot(glons, glats, marker='.', color='k', linestyle='none')\n",
    "plt.show()"
   ]
  },
  {
   "cell_type": "markdown",
   "metadata": {},
   "source": [
    "Set up interpoloation spline using RectBivariateSpline, which is faster than interp2D if it's a regular grid (which it is). Lats and Lons need to be sorted and the dimensions need to match shape of value array (ndvi)."
   ]
  },
  {
   "cell_type": "code",
   "execution_count": 14,
   "metadata": {
    "ExecuteTime": {
     "end_time": "2018-06-28T02:17:03.323148Z",
     "start_time": "2018-06-28T02:17:03.319291Z"
    },
    "collapsed": true
   },
   "outputs": [],
   "source": [
    "# set up interp spline, coordinates need to be 1D arrays, and match the shape of the 3d array.\n",
    "interp_spline = interpolate.RectBivariateSpline(sorted(lat_us), lon_us, temp_us)"
   ]
  },
  {
   "cell_type": "markdown",
   "metadata": {},
   "source": [
    "Interpolate the temp values from the find grid to coarse grid."
   ]
  },
  {
   "cell_type": "code",
   "execution_count": 15,
   "metadata": {
    "ExecuteTime": {
     "end_time": "2018-06-28T02:17:03.328084Z",
     "start_time": "2018-06-28T02:17:03.325291Z"
    },
    "collapsed": true
   },
   "outputs": [],
   "source": [
    "# interpolate to new grid\n",
    "temp_fine = interp_spline(grid_lat, grid_lon)"
   ]
  },
  {
   "cell_type": "markdown",
   "metadata": {},
   "source": [
    "Check shape of new coarse grid."
   ]
  },
  {
   "cell_type": "code",
   "execution_count": 16,
   "metadata": {
    "ExecuteTime": {
     "end_time": "2018-06-28T02:17:03.335199Z",
     "start_time": "2018-06-28T02:17:03.330344Z"
    }
   },
   "outputs": [
    {
     "data": {
      "text/plain": [
       "(23, 55)"
      ]
     },
     "execution_count": 16,
     "metadata": {},
     "output_type": "execute_result"
    }
   ],
   "source": [
    "# shape of coarse grid\n",
    "np.shape(temp_fine)"
   ]
  },
  {
   "cell_type": "markdown",
   "metadata": {},
   "source": [
    "Plot the new heatmap of the reshaped grid."
   ]
  },
  {
   "cell_type": "code",
   "execution_count": 17,
   "metadata": {
    "ExecuteTime": {
     "end_time": "2018-06-28T02:17:03.581530Z",
     "start_time": "2018-06-28T02:17:03.336995Z"
    }
   },
   "outputs": [
    {
     "data": {
      "text/plain": [
       "<matplotlib.axes._subplots.AxesSubplot at 0x7ffb06feaa90>"
      ]
     },
     "execution_count": 17,
     "metadata": {},
     "output_type": "execute_result"
    },
    {
     "data": {
      "image/png": "[encoded data removed]",
      "text/plain": [
       "<Figure size 432x288 with 2 Axes>"
      ]
     },
     "metadata": {},
     "output_type": "display_data"
    }
   ],
   "source": [
    "sns.heatmap(temp_fine)"
   ]
  },
  {
   "cell_type": "markdown",
   "metadata": {},
   "source": [
    "Create custom function to interpolate over each date of array."
   ]
  },
  {
   "cell_type": "code",
   "execution_count": 18,
   "metadata": {
    "ExecuteTime": {
     "end_time": "2018-06-28T02:17:03.810452Z",
     "start_time": "2018-06-28T02:17:03.583670Z"
    },
    "collapsed": true
   },
   "outputs": [],
   "source": [
    "# extract full monthly grid\n",
    "temp_us_full = temp_nc.variables['air'][:, lat_li:lat_ui, lon_li:lon_ui]"
   ]
  },
  {
   "cell_type": "code",
   "execution_count": 19,
   "metadata": {
    "ExecuteTime": {
     "end_time": "2018-06-28T02:17:03.816899Z",
     "start_time": "2018-06-28T02:17:03.812641Z"
    }
   },
   "outputs": [
    {
     "data": {
      "text/plain": [
       "(843, 10, 23)"
      ]
     },
     "execution_count": 19,
     "metadata": {},
     "output_type": "execute_result"
    }
   ],
   "source": [
    "# check shape\n",
    "np.shape(temp_us_full)"
   ]
  },
  {
   "cell_type": "code",
   "execution_count": 20,
   "metadata": {
    "ExecuteTime": {
     "end_time": "2018-06-28T02:17:03.933851Z",
     "start_time": "2018-06-28T02:17:03.819024Z"
    },
    "collapsed": true
   },
   "outputs": [],
   "source": [
    "# create empty numpy array of 843 days and 23 lon by 55 lat \n",
    "temp_fine = np.zeros((843, 23, 55))\n",
    "\n",
    "# interpolate for each month to new grid\n",
    "for i in range(843):\n",
    "    # extract temp element\n",
    "    temp_mon = temp_us_full[i]\n",
    "    # create interpolate \n",
    "    interp_spline = interpolate.RectBivariateSpline(sorted(lat_us), lon_us, temp_mon)\n",
    "    # interpolate to new grid\n",
    "    temp_fine[i] = interp_spline(grid_lat, grid_lon)"
   ]
  },
  {
   "cell_type": "code",
   "execution_count": 21,
   "metadata": {
    "ExecuteTime": {
     "end_time": "2018-06-28T02:17:03.940592Z",
     "start_time": "2018-06-28T02:17:03.935868Z"
    }
   },
   "outputs": [
    {
     "data": {
      "text/plain": [
       "(843, 23, 55)"
      ]
     },
     "execution_count": 21,
     "metadata": {},
     "output_type": "execute_result"
    }
   ],
   "source": [
    "# check shape of empty grid\n",
    "np.shape(temp_fine)"
   ]
  },
  {
   "cell_type": "markdown",
   "metadata": {},
   "source": [
    "#### Flatten Regrided Array"
   ]
  },
  {
   "cell_type": "code",
   "execution_count": 22,
   "metadata": {
    "ExecuteTime": {
     "end_time": "2018-06-28T02:17:03.946887Z",
     "start_time": "2018-06-28T02:17:03.942322Z"
    }
   },
   "outputs": [
    {
     "data": {
      "text/plain": [
       "(1265, 2)"
      ]
     },
     "execution_count": 22,
     "metadata": {},
     "output_type": "execute_result"
    }
   ],
   "source": [
    "# coordinates to a 2 dimension array\n",
    "us_grid = np.array(np.meshgrid(grid_lon, grid_lat)).reshape(2, -1).T\n",
    "# check dimensions\n",
    "np.shape(us_grid)"
   ]
  },
  {
   "cell_type": "code",
   "execution_count": 23,
   "metadata": {
    "ExecuteTime": {
     "end_time": "2018-06-28T02:17:03.954000Z",
     "start_time": "2018-06-28T02:17:03.949142Z"
    }
   },
   "outputs": [
    {
     "data": {
      "text/plain": [
       "(1265, 843)"
      ]
     },
     "execution_count": 23,
     "metadata": {},
     "output_type": "execute_result"
    }
   ],
   "source": [
    "# extract temp grid as a 843 by n matrix\n",
    "us_temp = temp_fine.reshape(843,1265).T #.T is for transpose\n",
    "# check shape\n",
    "np.shape(us_temp)"
   ]
  },
  {
   "cell_type": "markdown",
   "metadata": {},
   "source": [
    "Creating data frame of us temp and coordinates using pandas. I'm going to create a sequential numeric vector to indicate grid cell id."
   ]
  },
  {
   "cell_type": "code",
   "execution_count": 24,
   "metadata": {
    "ExecuteTime": {
     "end_time": "2018-06-28T02:17:03.966197Z",
     "start_time": "2018-06-28T02:17:03.955722Z"
    }
   },
   "outputs": [
    {
     "name": "stdout",
     "output_type": "stream",
     "text": [
      "  grid_id\n",
      "0       1\n",
      "1       2\n",
      "2       3\n",
      "3       4\n",
      "4       5      grid_id\n",
      "1260    1261\n",
      "1261    1262\n",
      "1262    1263\n",
      "1263    1264\n",
      "1264    1265\n"
     ]
    }
   ],
   "source": [
    "# create grid id 1 to 230 and save as type string\n",
    "grid_id = pd.DataFrame(data = np.arange(1, 1266, 1).T).astype('str')\n",
    "grid_id.columns = ['grid_id'] \n",
    "# head and tail\n",
    "print(grid_id.head(), grid_id.tail())"
   ]
  },
  {
   "cell_type": "markdown",
   "metadata": {},
   "source": [
    "Binding/concatenating grid id variable with lon and lat coordinates."
   ]
  },
  {
   "cell_type": "code",
   "execution_count": 25,
   "metadata": {
    "ExecuteTime": {
     "end_time": "2018-06-28T02:17:03.979585Z",
     "start_time": "2018-06-28T02:17:03.967982Z"
    },
    "scrolled": true
   },
   "outputs": [
    {
     "data": {
      "text/html": [
       "<div>\n",
       "<style scoped>\n",
       "    .dataframe tbody tr th:only-of-type {\n",
       "        vertical-align: middle;\n",
       "    }\n",
       "\n",
       "    .dataframe tbody tr th {\n",
       "        vertical-align: top;\n",
       "    }\n",
       "\n",
       "    .dataframe thead th {\n",
       "        text-align: right;\n",
       "    }\n",
       "</style>\n",
       "<table border=\"1\" class=\"dataframe\">\n",
       "  <thead>\n",
       "    <tr style=\"text-align: right;\">\n",
       "      <th></th>\n",
       "      <th>grid_id</th>\n",
       "      <th>lon</th>\n",
       "      <th>lat</th>\n",
       "    </tr>\n",
       "  </thead>\n",
       "  <tbody>\n",
       "    <tr>\n",
       "      <th>0</th>\n",
       "      <td>1</td>\n",
       "      <td>-125.0</td>\n",
       "      <td>27.5</td>\n",
       "    </tr>\n",
       "    <tr>\n",
       "      <th>1</th>\n",
       "      <td>2</td>\n",
       "      <td>-124.0</td>\n",
       "      <td>27.5</td>\n",
       "    </tr>\n",
       "    <tr>\n",
       "      <th>2</th>\n",
       "      <td>3</td>\n",
       "      <td>-123.0</td>\n",
       "      <td>27.5</td>\n",
       "    </tr>\n",
       "    <tr>\n",
       "      <th>3</th>\n",
       "      <td>4</td>\n",
       "      <td>-122.0</td>\n",
       "      <td>27.5</td>\n",
       "    </tr>\n",
       "    <tr>\n",
       "      <th>4</th>\n",
       "      <td>5</td>\n",
       "      <td>-121.0</td>\n",
       "      <td>27.5</td>\n",
       "    </tr>\n",
       "  </tbody>\n",
       "</table>\n",
       "</div>"
      ],
      "text/plain": [
       "  grid_id    lon   lat\n",
       "0       1 -125.0  27.5\n",
       "1       2 -124.0  27.5\n",
       "2       3 -123.0  27.5\n",
       "3       4 -122.0  27.5\n",
       "4       5 -121.0  27.5"
      ]
     },
     "execution_count": 25,
     "metadata": {},
     "output_type": "execute_result"
    }
   ],
   "source": [
    "# create grid dataframe from coordinate array\n",
    "grid_df = pd.DataFrame(data = us_grid)\n",
    "# name columns\n",
    "grid_df.columns = ['lon', 'lat']\n",
    "# concat dataframes\n",
    "grid_df = pd.concat([grid_id, grid_df], axis=1)\n",
    "# view first rows\n",
    "grid_df.head()\n",
    "# write grid coords\n",
    "#grid_df.to_csv('./data/temp_grid.csv')"
   ]
  },
  {
   "cell_type": "code",
   "execution_count": 26,
   "metadata": {
    "ExecuteTime": {
     "end_time": "2018-06-28T02:17:03.992085Z",
     "start_time": "2018-06-28T02:17:03.981730Z"
    },
    "scrolled": true
   },
   "outputs": [
    {
     "data": {
      "text/html": [
       "<div>\n",
       "<style scoped>\n",
       "    .dataframe tbody tr th:only-of-type {\n",
       "        vertical-align: middle;\n",
       "    }\n",
       "\n",
       "    .dataframe tbody tr th {\n",
       "        vertical-align: top;\n",
       "    }\n",
       "\n",
       "    .dataframe thead th {\n",
       "        text-align: right;\n",
       "    }\n",
       "</style>\n",
       "<table border=\"1\" class=\"dataframe\">\n",
       "  <thead>\n",
       "    <tr style=\"text-align: right;\">\n",
       "      <th></th>\n",
       "      <th>grid_id</th>\n",
       "      <th>lon</th>\n",
       "      <th>lat</th>\n",
       "    </tr>\n",
       "  </thead>\n",
       "  <tbody>\n",
       "    <tr>\n",
       "      <th>1260</th>\n",
       "      <td>1261</td>\n",
       "      <td>-75.0</td>\n",
       "      <td>49.5</td>\n",
       "    </tr>\n",
       "    <tr>\n",
       "      <th>1261</th>\n",
       "      <td>1262</td>\n",
       "      <td>-74.0</td>\n",
       "      <td>49.5</td>\n",
       "    </tr>\n",
       "    <tr>\n",
       "      <th>1262</th>\n",
       "      <td>1263</td>\n",
       "      <td>-73.0</td>\n",
       "      <td>49.5</td>\n",
       "    </tr>\n",
       "    <tr>\n",
       "      <th>1263</th>\n",
       "      <td>1264</td>\n",
       "      <td>-72.0</td>\n",
       "      <td>49.5</td>\n",
       "    </tr>\n",
       "    <tr>\n",
       "      <th>1264</th>\n",
       "      <td>1265</td>\n",
       "      <td>-71.0</td>\n",
       "      <td>49.5</td>\n",
       "    </tr>\n",
       "  </tbody>\n",
       "</table>\n",
       "</div>"
      ],
      "text/plain": [
       "     grid_id   lon   lat\n",
       "1260    1261 -75.0  49.5\n",
       "1261    1262 -74.0  49.5\n",
       "1262    1263 -73.0  49.5\n",
       "1263    1264 -72.0  49.5\n",
       "1264    1265 -71.0  49.5"
      ]
     },
     "execution_count": 26,
     "metadata": {},
     "output_type": "execute_result"
    }
   ],
   "source": [
    "# check tail\n",
    "grid_df.tail()"
   ]
  },
  {
   "cell_type": "markdown",
   "metadata": {},
   "source": [
    "Assigning year and month as column header for temperature values."
   ]
  },
  {
   "cell_type": "code",
   "execution_count": 27,
   "metadata": {
    "ExecuteTime": {
     "end_time": "2018-06-28T02:17:04.022311Z",
     "start_time": "2018-06-28T02:17:03.994754Z"
    }
   },
   "outputs": [
    {
     "data": {
      "text/plain": [
       "1948-01-01   1948-01-01\n",
       "1948-02-01   1948-02-01\n",
       "1948-03-01   1948-03-01\n",
       "1948-04-01   1948-04-01\n",
       "1948-05-01   1948-05-01\n",
       "dtype: datetime64[ns]"
      ]
     },
     "execution_count": 27,
     "metadata": {},
     "output_type": "execute_result"
    }
   ],
   "source": [
    "from datetime import datetime\n",
    "# extract date times from nc file; define units\n",
    "date = nc.num2date(time, 'hours since 1800-01-01 00:00:0.0')\n",
    "# ts\n",
    "ts = pd.Series(date, index = date)\n",
    "# view first couple observations\n",
    "ts.head()"
   ]
  },
  {
   "cell_type": "markdown",
   "metadata": {},
   "source": [
    "Convert temperature array to dataframe."
   ]
  },
  {
   "cell_type": "code",
   "execution_count": 28,
   "metadata": {
    "ExecuteTime": {
     "end_time": "2018-06-28T02:17:04.030047Z",
     "start_time": "2018-06-28T02:17:04.024847Z"
    },
    "collapsed": true,
    "scrolled": true
   },
   "outputs": [],
   "source": [
    "# array to dataframe\n",
    "temp_df = pd.DataFrame(data = us_temp)\n",
    "# add name\n",
    "temp_df.columns = ts.dt.date"
   ]
  },
  {
   "cell_type": "markdown",
   "metadata": {},
   "source": [
    "Bind temperature values to coordinate and grid id and then melt/gather columns to row."
   ]
  },
  {
   "cell_type": "code",
   "execution_count": 29,
   "metadata": {
    "ExecuteTime": {
     "end_time": "2018-06-28T02:17:04.079851Z",
     "start_time": "2018-06-28T02:17:04.032542Z"
    }
   },
   "outputs": [
    {
     "data": {
      "text/html": [
       "<div>\n",
       "<style scoped>\n",
       "    .dataframe tbody tr th:only-of-type {\n",
       "        vertical-align: middle;\n",
       "    }\n",
       "\n",
       "    .dataframe tbody tr th {\n",
       "        vertical-align: top;\n",
       "    }\n",
       "\n",
       "    .dataframe thead th {\n",
       "        text-align: right;\n",
       "    }\n",
       "</style>\n",
       "<table border=\"1\" class=\"dataframe\">\n",
       "  <thead>\n",
       "    <tr style=\"text-align: right;\">\n",
       "      <th></th>\n",
       "      <th>grid_id</th>\n",
       "      <th>lon</th>\n",
       "      <th>lat</th>\n",
       "      <th>1948-01-01</th>\n",
       "      <th>1948-02-01</th>\n",
       "      <th>1948-03-01</th>\n",
       "      <th>1948-04-01</th>\n",
       "      <th>1948-05-01</th>\n",
       "      <th>1948-06-01</th>\n",
       "      <th>1948-07-01</th>\n",
       "      <th>...</th>\n",
       "      <th>2017-06-01</th>\n",
       "      <th>2017-07-01</th>\n",
       "      <th>2017-08-01</th>\n",
       "      <th>2017-09-01</th>\n",
       "      <th>2017-10-01</th>\n",
       "      <th>2017-11-01</th>\n",
       "      <th>2017-12-01</th>\n",
       "      <th>2018-01-01</th>\n",
       "      <th>2018-02-01</th>\n",
       "      <th>2018-03-01</th>\n",
       "    </tr>\n",
       "  </thead>\n",
       "  <tbody>\n",
       "    <tr>\n",
       "      <th>0</th>\n",
       "      <td>1</td>\n",
       "      <td>-125.0</td>\n",
       "      <td>27.5</td>\n",
       "      <td>-0.177099</td>\n",
       "      <td>-2.077586</td>\n",
       "      <td>-0.239029</td>\n",
       "      <td>2.191003</td>\n",
       "      <td>7.611294</td>\n",
       "      <td>13.192339</td>\n",
       "      <td>12.858393</td>\n",
       "      <td>...</td>\n",
       "      <td>10.256660</td>\n",
       "      <td>11.999190</td>\n",
       "      <td>14.542734</td>\n",
       "      <td>12.675834</td>\n",
       "      <td>7.008055</td>\n",
       "      <td>2.904991</td>\n",
       "      <td>0.984665</td>\n",
       "      <td>2.214507</td>\n",
       "      <td>-0.944651</td>\n",
       "      <td>1.861282</td>\n",
       "    </tr>\n",
       "    <tr>\n",
       "      <th>1</th>\n",
       "      <td>2</td>\n",
       "      <td>-124.0</td>\n",
       "      <td>27.5</td>\n",
       "      <td>-1.932245</td>\n",
       "      <td>-3.795196</td>\n",
       "      <td>-1.796666</td>\n",
       "      <td>1.195695</td>\n",
       "      <td>7.367382</td>\n",
       "      <td>13.487704</td>\n",
       "      <td>12.898592</td>\n",
       "      <td>...</td>\n",
       "      <td>10.312289</td>\n",
       "      <td>12.313272</td>\n",
       "      <td>15.073903</td>\n",
       "      <td>12.335163</td>\n",
       "      <td>5.715469</td>\n",
       "      <td>1.537424</td>\n",
       "      <td>-1.071836</td>\n",
       "      <td>0.948643</td>\n",
       "      <td>-2.802670</td>\n",
       "      <td>0.641493</td>\n",
       "    </tr>\n",
       "    <tr>\n",
       "      <th>2</th>\n",
       "      <td>3</td>\n",
       "      <td>-123.0</td>\n",
       "      <td>27.5</td>\n",
       "      <td>-3.540723</td>\n",
       "      <td>-5.320706</td>\n",
       "      <td>-3.199798</td>\n",
       "      <td>0.287343</td>\n",
       "      <td>7.055917</td>\n",
       "      <td>13.506609</td>\n",
       "      <td>12.850537</td>\n",
       "      <td>...</td>\n",
       "      <td>10.344660</td>\n",
       "      <td>12.867927</td>\n",
       "      <td>15.699352</td>\n",
       "      <td>12.060615</td>\n",
       "      <td>4.622518</td>\n",
       "      <td>0.376322</td>\n",
       "      <td>-2.861392</td>\n",
       "      <td>-0.128779</td>\n",
       "      <td>-4.354234</td>\n",
       "      <td>-0.400468</td>\n",
       "    </tr>\n",
       "    <tr>\n",
       "      <th>3</th>\n",
       "      <td>4</td>\n",
       "      <td>-122.0</td>\n",
       "      <td>27.5</td>\n",
       "      <td>-4.988208</td>\n",
       "      <td>-6.661686</td>\n",
       "      <td>-4.465336</td>\n",
       "      <td>-0.522655</td>\n",
       "      <td>6.702666</td>\n",
       "      <td>13.301166</td>\n",
       "      <td>12.724995</td>\n",
       "      <td>...</td>\n",
       "      <td>10.354967</td>\n",
       "      <td>13.583203</td>\n",
       "      <td>16.331797</td>\n",
       "      <td>11.831486</td>\n",
       "      <td>3.734005</td>\n",
       "      <td>-0.599246</td>\n",
       "      <td>-4.400763</td>\n",
       "      <td>-1.043431</td>\n",
       "      <td>-5.653933</td>\n",
       "      <td>-1.275197</td>\n",
       "    </tr>\n",
       "    <tr>\n",
       "      <th>4</th>\n",
       "      <td>5</td>\n",
       "      <td>-121.0</td>\n",
       "      <td>27.5</td>\n",
       "      <td>-6.260375</td>\n",
       "      <td>-7.825707</td>\n",
       "      <td>-5.610193</td>\n",
       "      <td>-1.222901</td>\n",
       "      <td>6.333396</td>\n",
       "      <td>12.923484</td>\n",
       "      <td>12.532735</td>\n",
       "      <td>...</td>\n",
       "      <td>10.344403</td>\n",
       "      <td>14.379145</td>\n",
       "      <td>16.883956</td>\n",
       "      <td>11.627070</td>\n",
       "      <td>3.054733</td>\n",
       "      <td>-1.410213</td>\n",
       "      <td>-5.706706</td>\n",
       "      <td>-1.820983</td>\n",
       "      <td>-6.756352</td>\n",
       "      <td>-1.993287</td>\n",
       "    </tr>\n",
       "  </tbody>\n",
       "</table>\n",
       "<p>5 rows × 846 columns</p>\n",
       "</div>"
      ],
      "text/plain": [
       "  grid_id    lon   lat  1948-01-01  1948-02-01  1948-03-01  1948-04-01  \\\n",
       "0       1 -125.0  27.5   -0.177099   -2.077586   -0.239029    2.191003   \n",
       "1       2 -124.0  27.5   -1.932245   -3.795196   -1.796666    1.195695   \n",
       "2       3 -123.0  27.5   -3.540723   -5.320706   -3.199798    0.287343   \n",
       "3       4 -122.0  27.5   -4.988208   -6.661686   -4.465336   -0.522655   \n",
       "4       5 -121.0  27.5   -6.260375   -7.825707   -5.610193   -1.222901   \n",
       "\n",
       "   1948-05-01  1948-06-01  1948-07-01     ...      2017-06-01  2017-07-01  \\\n",
       "0    7.611294   13.192339   12.858393     ...       10.256660   11.999190   \n",
       "1    7.367382   13.487704   12.898592     ...       10.312289   12.313272   \n",
       "2    7.055917   13.506609   12.850537     ...       10.344660   12.867927   \n",
       "3    6.702666   13.301166   12.724995     ...       10.354967   13.583203   \n",
       "4    6.333396   12.923484   12.532735     ...       10.344403   14.379145   \n",
       "\n",
       "   2017-08-01  2017-09-01  2017-10-01  2017-11-01  2017-12-01  2018-01-01  \\\n",
       "0   14.542734   12.675834    7.008055    2.904991    0.984665    2.214507   \n",
       "1   15.073903   12.335163    5.715469    1.537424   -1.071836    0.948643   \n",
       "2   15.699352   12.060615    4.622518    0.376322   -2.861392   -0.128779   \n",
       "3   16.331797   11.831486    3.734005   -0.599246   -4.400763   -1.043431   \n",
       "4   16.883956   11.627070    3.054733   -1.410213   -5.706706   -1.820983   \n",
       "\n",
       "   2018-02-01  2018-03-01  \n",
       "0   -0.944651    1.861282  \n",
       "1   -2.802670    0.641493  \n",
       "2   -4.354234   -0.400468  \n",
       "3   -5.653933   -1.275197  \n",
       "4   -6.756352   -1.993287  \n",
       "\n",
       "[5 rows x 846 columns]"
      ]
     },
     "execution_count": 29,
     "metadata": {},
     "output_type": "execute_result"
    }
   ],
   "source": [
    "# concat grid id and temp\n",
    "temp_wide_df = pd.concat([grid_df, temp_df], axis = 1)\n",
    "temp_wide_df.head()"
   ]
  },
  {
   "cell_type": "code",
   "execution_count": 30,
   "metadata": {
    "ExecuteTime": {
     "end_time": "2018-06-28T02:17:04.316920Z",
     "start_time": "2018-06-28T02:17:04.082592Z"
    }
   },
   "outputs": [
    {
     "data": {
      "text/html": [
       "<div>\n",
       "<style scoped>\n",
       "    .dataframe tbody tr th:only-of-type {\n",
       "        vertical-align: middle;\n",
       "    }\n",
       "\n",
       "    .dataframe tbody tr th {\n",
       "        vertical-align: top;\n",
       "    }\n",
       "\n",
       "    .dataframe thead th {\n",
       "        text-align: right;\n",
       "    }\n",
       "</style>\n",
       "<table border=\"1\" class=\"dataframe\">\n",
       "  <thead>\n",
       "    <tr style=\"text-align: right;\">\n",
       "      <th></th>\n",
       "      <th>grid_id</th>\n",
       "      <th>lon</th>\n",
       "      <th>lat</th>\n",
       "      <th>date</th>\n",
       "      <th>temp_c</th>\n",
       "    </tr>\n",
       "  </thead>\n",
       "  <tbody>\n",
       "    <tr>\n",
       "      <th>0</th>\n",
       "      <td>1</td>\n",
       "      <td>-125.0</td>\n",
       "      <td>27.5</td>\n",
       "      <td>1948-01-01</td>\n",
       "      <td>-0.177099</td>\n",
       "    </tr>\n",
       "    <tr>\n",
       "      <th>1</th>\n",
       "      <td>2</td>\n",
       "      <td>-124.0</td>\n",
       "      <td>27.5</td>\n",
       "      <td>1948-01-01</td>\n",
       "      <td>-1.932245</td>\n",
       "    </tr>\n",
       "    <tr>\n",
       "      <th>2</th>\n",
       "      <td>3</td>\n",
       "      <td>-123.0</td>\n",
       "      <td>27.5</td>\n",
       "      <td>1948-01-01</td>\n",
       "      <td>-3.540723</td>\n",
       "    </tr>\n",
       "    <tr>\n",
       "      <th>3</th>\n",
       "      <td>4</td>\n",
       "      <td>-122.0</td>\n",
       "      <td>27.5</td>\n",
       "      <td>1948-01-01</td>\n",
       "      <td>-4.988208</td>\n",
       "    </tr>\n",
       "    <tr>\n",
       "      <th>4</th>\n",
       "      <td>5</td>\n",
       "      <td>-121.0</td>\n",
       "      <td>27.5</td>\n",
       "      <td>1948-01-01</td>\n",
       "      <td>-6.260375</td>\n",
       "    </tr>\n",
       "  </tbody>\n",
       "</table>\n",
       "</div>"
      ],
      "text/plain": [
       "  grid_id    lon   lat        date    temp_c\n",
       "0       1 -125.0  27.5  1948-01-01 -0.177099\n",
       "1       2 -124.0  27.5  1948-01-01 -1.932245\n",
       "2       3 -123.0  27.5  1948-01-01 -3.540723\n",
       "3       4 -122.0  27.5  1948-01-01 -4.988208\n",
       "4       5 -121.0  27.5  1948-01-01 -6.260375"
      ]
     },
     "execution_count": 30,
     "metadata": {},
     "output_type": "execute_result"
    }
   ],
   "source": [
    "# wide to long\n",
    "temp_long_df = pd.melt(temp_wide_df, id_vars = ['grid_id', 'lon', 'lat'],\n",
    "                      var_name = \"date\", value_name = \"temp_c\")\n",
    "# view head of final row-wise dataset\n",
    "temp_long_df.head()"
   ]
  },
  {
   "cell_type": "code",
   "execution_count": 31,
   "metadata": {
    "ExecuteTime": {
     "end_time": "2018-06-28T02:17:04.569008Z",
     "start_time": "2018-06-28T02:17:04.319615Z"
    }
   },
   "outputs": [
    {
     "data": {
      "text/html": [
       "<div>\n",
       "<style scoped>\n",
       "    .dataframe tbody tr th:only-of-type {\n",
       "        vertical-align: middle;\n",
       "    }\n",
       "\n",
       "    .dataframe tbody tr th {\n",
       "        vertical-align: top;\n",
       "    }\n",
       "\n",
       "    .dataframe thead th {\n",
       "        text-align: right;\n",
       "    }\n",
       "</style>\n",
       "<table border=\"1\" class=\"dataframe\">\n",
       "  <thead>\n",
       "    <tr style=\"text-align: right;\">\n",
       "      <th></th>\n",
       "      <th>lon</th>\n",
       "      <th>lat</th>\n",
       "      <th>temp_c</th>\n",
       "    </tr>\n",
       "  </thead>\n",
       "  <tbody>\n",
       "    <tr>\n",
       "      <th>count</th>\n",
       "      <td>1.066395e+06</td>\n",
       "      <td>1.066395e+06</td>\n",
       "      <td>1.066395e+06</td>\n",
       "    </tr>\n",
       "    <tr>\n",
       "      <th>mean</th>\n",
       "      <td>-9.800000e+01</td>\n",
       "      <td>3.850000e+01</td>\n",
       "      <td>1.164131e+01</td>\n",
       "    </tr>\n",
       "    <tr>\n",
       "      <th>std</th>\n",
       "      <td>1.587452e+01</td>\n",
       "      <td>6.633253e+00</td>\n",
       "      <td>1.050460e+01</td>\n",
       "    </tr>\n",
       "    <tr>\n",
       "      <th>min</th>\n",
       "      <td>-1.250000e+02</td>\n",
       "      <td>2.750000e+01</td>\n",
       "      <td>-2.723936e+01</td>\n",
       "    </tr>\n",
       "    <tr>\n",
       "      <th>25%</th>\n",
       "      <td>-1.120000e+02</td>\n",
       "      <td>3.250000e+01</td>\n",
       "      <td>4.237419e+00</td>\n",
       "    </tr>\n",
       "    <tr>\n",
       "      <th>50%</th>\n",
       "      <td>-9.800000e+01</td>\n",
       "      <td>3.850000e+01</td>\n",
       "      <td>1.367412e+01</td>\n",
       "    </tr>\n",
       "    <tr>\n",
       "      <th>75%</th>\n",
       "      <td>-8.400000e+01</td>\n",
       "      <td>4.450000e+01</td>\n",
       "      <td>1.963818e+01</td>\n",
       "    </tr>\n",
       "    <tr>\n",
       "      <th>max</th>\n",
       "      <td>-7.100000e+01</td>\n",
       "      <td>4.950000e+01</td>\n",
       "      <td>3.398248e+01</td>\n",
       "    </tr>\n",
       "  </tbody>\n",
       "</table>\n",
       "</div>"
      ],
      "text/plain": [
       "                lon           lat        temp_c\n",
       "count  1.066395e+06  1.066395e+06  1.066395e+06\n",
       "mean  -9.800000e+01  3.850000e+01  1.164131e+01\n",
       "std    1.587452e+01  6.633253e+00  1.050460e+01\n",
       "min   -1.250000e+02  2.750000e+01 -2.723936e+01\n",
       "25%   -1.120000e+02  3.250000e+01  4.237419e+00\n",
       "50%   -9.800000e+01  3.850000e+01  1.367412e+01\n",
       "75%   -8.400000e+01  4.450000e+01  1.963818e+01\n",
       "max   -7.100000e+01  4.950000e+01  3.398248e+01"
      ]
     },
     "execution_count": 31,
     "metadata": {},
     "output_type": "execute_result"
    }
   ],
   "source": [
    "# describe dataframe\n",
    "temp_long_df.describe()"
   ]
  },
  {
   "cell_type": "code",
   "execution_count": 32,
   "metadata": {
    "ExecuteTime": {
     "end_time": "2018-06-28T02:17:04.843182Z",
     "start_time": "2018-06-28T02:17:04.571412Z"
    }
   },
   "outputs": [
    {
     "name": "stdout",
     "output_type": "stream",
     "text": [
      "1948-01-01 2018-03-01\n"
     ]
    }
   ],
   "source": [
    "# print min and max date\n",
    "print(temp_long_df['date'].min(), temp_long_df['date'].max())"
   ]
  },
  {
   "cell_type": "markdown",
   "metadata": {},
   "source": [
    "Saving long monthly temperature for regrided US grid to csv."
   ]
  },
  {
   "cell_type": "code",
   "execution_count": 33,
   "metadata": {
    "ExecuteTime": {
     "end_time": "2018-06-28T02:17:04.848524Z",
     "start_time": "2018-06-28T02:17:04.845425Z"
    },
    "collapsed": true
   },
   "outputs": [],
   "source": [
    "# commented out to not write again\n",
    "#temp_long_df.to_csv('../data/1948-2018_mon_temp_us.csv')"
   ]
  },
  {
   "cell_type": "code",
   "execution_count": 34,
   "metadata": {
    "ExecuteTime": {
     "end_time": "2018-06-28T02:17:05.103576Z",
     "start_time": "2018-06-28T02:17:04.850706Z"
    },
    "scrolled": false
   },
   "outputs": [
    {
     "data": {
      "text/plain": [
       "<matplotlib.axes._subplots.AxesSubplot at 0x7ffb06687c18>"
      ]
     },
     "execution_count": 34,
     "metadata": {},
     "output_type": "execute_result"
    },
    {
     "data": {
      "image/png": "[encoded data removed]",
      "text/plain": [
       "<Figure size 432x288 with 1 Axes>"
      ]
     },
     "metadata": {},
     "output_type": "display_data"
    }
   ],
   "source": [
    "# mean US temperature grid time series\n",
    "mean_temp = temp_long_df.groupby(['date'])['temp_c'].mean()\n",
    "# mean plot\n",
    "mean_temp.plot(x='date', y='temp_c')"
   ]
  },
  {
   "cell_type": "code",
   "execution_count": 39,
   "metadata": {
    "ExecuteTime": {
     "end_time": "2018-06-28T02:21:16.388096Z",
     "start_time": "2018-06-28T02:21:16.373871Z"
    }
   },
   "outputs": [
    {
     "data": {
      "text/html": [
       "<div>\n",
       "<style scoped>\n",
       "    .dataframe tbody tr th:only-of-type {\n",
       "        vertical-align: middle;\n",
       "    }\n",
       "\n",
       "    .dataframe tbody tr th {\n",
       "        vertical-align: top;\n",
       "    }\n",
       "\n",
       "    .dataframe thead th {\n",
       "        text-align: right;\n",
       "    }\n",
       "</style>\n",
       "<table border=\"1\" class=\"dataframe\">\n",
       "  <thead>\n",
       "    <tr style=\"text-align: right;\">\n",
       "      <th></th>\n",
       "      <th>grid_id</th>\n",
       "      <th>lon</th>\n",
       "      <th>lat</th>\n",
       "      <th>date</th>\n",
       "      <th>temp_c</th>\n",
       "    </tr>\n",
       "  </thead>\n",
       "  <tbody>\n",
       "    <tr>\n",
       "      <th>0</th>\n",
       "      <td>1</td>\n",
       "      <td>-125.0</td>\n",
       "      <td>27.5</td>\n",
       "      <td>1948-01-01</td>\n",
       "      <td>-0.177099</td>\n",
       "    </tr>\n",
       "    <tr>\n",
       "      <th>1</th>\n",
       "      <td>2</td>\n",
       "      <td>-124.0</td>\n",
       "      <td>27.5</td>\n",
       "      <td>1948-01-01</td>\n",
       "      <td>-1.932245</td>\n",
       "    </tr>\n",
       "    <tr>\n",
       "      <th>2</th>\n",
       "      <td>3</td>\n",
       "      <td>-123.0</td>\n",
       "      <td>27.5</td>\n",
       "      <td>1948-01-01</td>\n",
       "      <td>-3.540723</td>\n",
       "    </tr>\n",
       "    <tr>\n",
       "      <th>3</th>\n",
       "      <td>4</td>\n",
       "      <td>-122.0</td>\n",
       "      <td>27.5</td>\n",
       "      <td>1948-01-01</td>\n",
       "      <td>-4.988208</td>\n",
       "    </tr>\n",
       "    <tr>\n",
       "      <th>4</th>\n",
       "      <td>5</td>\n",
       "      <td>-121.0</td>\n",
       "      <td>27.5</td>\n",
       "      <td>1948-01-01</td>\n",
       "      <td>-6.260375</td>\n",
       "    </tr>\n",
       "  </tbody>\n",
       "</table>\n",
       "</div>"
      ],
      "text/plain": [
       "  grid_id    lon   lat        date    temp_c\n",
       "0       1 -125.0  27.5  1948-01-01 -0.177099\n",
       "1       2 -124.0  27.5  1948-01-01 -1.932245\n",
       "2       3 -123.0  27.5  1948-01-01 -3.540723\n",
       "3       4 -122.0  27.5  1948-01-01 -4.988208\n",
       "4       5 -121.0  27.5  1948-01-01 -6.260375"
      ]
     },
     "execution_count": 39,
     "metadata": {},
     "output_type": "execute_result"
    }
   ],
   "source": [
    "temp_long_df.head()"
   ]
  },
  {
   "cell_type": "code",
   "execution_count": 48,
   "metadata": {
    "ExecuteTime": {
     "end_time": "2018-06-28T02:25:30.477750Z",
     "start_time": "2018-06-28T02:25:30.396741Z"
    }
   },
   "outputs": [],
   "source": [
    "# convert to datetime\n",
    "temp_long_df['date'] = pd.to_datetime(temp_long_df['date'])\n",
    "# create year variable and plot average temperature by year\n",
    "temp_long_df['year'] = temp_long_df['date'].dt.year\n",
    "# group by year\n",
    "mean_temp = temp_long_df.groupby(['year'])['temp_c'].mean().reset_index()\n",
    "# filter out outliers\n",
    "mean_temp = mean_temp[mean_temp['temp_c'] > 8]"
   ]
  },
  {
   "cell_type": "code",
   "execution_count": 46,
   "metadata": {
    "ExecuteTime": {
     "end_time": "2018-06-28T02:23:47.431705Z",
     "start_time": "2018-06-28T02:23:47.419408Z"
    }
   },
   "outputs": [
    {
     "data": {
      "text/html": [
       "<div>\n",
       "<style scoped>\n",
       "    .dataframe tbody tr th:only-of-type {\n",
       "        vertical-align: middle;\n",
       "    }\n",
       "\n",
       "    .dataframe tbody tr th {\n",
       "        vertical-align: top;\n",
       "    }\n",
       "\n",
       "    .dataframe thead th {\n",
       "        text-align: right;\n",
       "    }\n",
       "</style>\n",
       "<table border=\"1\" class=\"dataframe\">\n",
       "  <thead>\n",
       "    <tr style=\"text-align: right;\">\n",
       "      <th></th>\n",
       "      <th>year</th>\n",
       "      <th>temp_c</th>\n",
       "    </tr>\n",
       "  </thead>\n",
       "  <tbody>\n",
       "    <tr>\n",
       "      <th>0</th>\n",
       "      <td>1948</td>\n",
       "      <td>11.633685</td>\n",
       "    </tr>\n",
       "    <tr>\n",
       "      <th>1</th>\n",
       "      <td>1949</td>\n",
       "      <td>11.930278</td>\n",
       "    </tr>\n",
       "    <tr>\n",
       "      <th>2</th>\n",
       "      <td>1950</td>\n",
       "      <td>11.601530</td>\n",
       "    </tr>\n",
       "    <tr>\n",
       "      <th>3</th>\n",
       "      <td>1951</td>\n",
       "      <td>11.483088</td>\n",
       "    </tr>\n",
       "    <tr>\n",
       "      <th>4</th>\n",
       "      <td>1952</td>\n",
       "      <td>12.242225</td>\n",
       "    </tr>\n",
       "  </tbody>\n",
       "</table>\n",
       "</div>"
      ],
      "text/plain": [
       "   year     temp_c\n",
       "0  1948  11.633685\n",
       "1  1949  11.930278\n",
       "2  1950  11.601530\n",
       "3  1951  11.483088\n",
       "4  1952  12.242225"
      ]
     },
     "execution_count": 46,
     "metadata": {},
     "output_type": "execute_result"
    }
   ],
   "source": [
    "mean_temp.head()"
   ]
  },
  {
   "cell_type": "code",
   "execution_count": 54,
   "metadata": {
    "ExecuteTime": {
     "end_time": "2018-06-28T02:31:09.121979Z",
     "start_time": "2018-06-28T02:31:08.963382Z"
    }
   },
   "outputs": [
    {
     "data": {
      "text/plain": [
       "<seaborn.axisgrid.FacetGrid at 0x7ffb0622aa90>"
      ]
     },
     "execution_count": 54,
     "metadata": {},
     "output_type": "execute_result"
    },
    {
     "data": {
      "image/png": "[encoded data removed]",
      "text/plain": [
       "<Figure size 360x360 with 1 Axes>"
      ]
     },
     "metadata": {},
     "output_type": "display_data"
    }
   ],
   "source": [
    "ax = sns.lmplot(x='year', y='temp_c', fit_reg= False, data = mean_temp)\n",
    "ax.set(xlabel = 'Year', ylabel = 'Yearly Average Temperature C')"
   ]
  }
 ],
 "metadata": {
  "kernelspec": {
   "display_name": "py3",
   "language": "python",
   "name": "py3"
  },
  "language_info": {
   "codemirror_mode": {
    "name": "ipython",
    "version": 3
   },
   "file_extension": ".py",
   "mimetype": "text/x-python",
   "name": "python",
   "nbconvert_exporter": "python",
   "pygments_lexer": "ipython3",
   "version": "3.6.2"
  },
  "latex_envs": {
   "LaTeX_envs_menu_present": true,
   "autoclose": false,
   "autocomplete": true,
   "bibliofile": "biblio.bib",
   "cite_by": "apalike",
   "current_citInitial": 1,
   "eqLabelWithNumbers": true,
   "eqNumInitial": 1,
   "hotkeys": {
    "equation": "Ctrl-E",
    "itemize": "Ctrl-I"
   },
   "labels_anchors": false,
   "latex_user_defs": false,
   "report_style_numbering": false,
   "user_envs_cfg": false
  },
  "varInspector": {
   "cols": {
    "lenName": 16,
    "lenType": 16,
    "lenVar": 40
   },
   "kernels_config": {
    "python": {
     "delete_cmd_postfix": "",
     "delete_cmd_prefix": "del ",
     "library": "var_list.py",
     "varRefreshCmd": "print(var_dic_list())"
    },
    "r": {
     "delete_cmd_postfix": ") ",
     "delete_cmd_prefix": "rm(",
     "library": "var_list.r",
     "varRefreshCmd": "cat(var_dic_list()) "
    }
   },
   "types_to_exclude": [
    "module",
    "function",
    "builtin_function_or_method",
    "instance",
    "_Feature"
   ],
   "window_display": false
  }
 },
 "nbformat": 4,
 "nbformat_minor": 2
}
