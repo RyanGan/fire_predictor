{
 "cells": [
  {
   "cell_type": "markdown",
   "metadata": {},
   "source": [
    "## Extracting Monthly Temperature Data from Array\n",
    "\n",
    "### Author: Ryan Gan\n",
    "### Date: 2018-05-28\n",
    "\n",
    "Extracting gridded temperature values to North American region. First attempt with Python."
   ]
  },
  {
   "cell_type": "code",
   "execution_count": 1,
   "metadata": {
    "ExecuteTime": {
     "end_time": "2018-06-07T02:48:15.908974Z",
     "start_time": "2018-06-07T02:48:15.896742Z"
    }
   },
   "outputs": [],
   "source": [
    "# import dataset from netCDF as nc_open; array storage system\n",
    "import netCDF4 as nc\n",
    "from netCDF4 import Dataset as nc_open\n",
    "# import numpy as np; for working with array data\n",
    "import numpy as np\n",
    "# import pandas as pd; working with data.frames\n",
    "import pandas as pd\n",
    "# Matplotlib for additional customization\n",
    "from matplotlib import pyplot as plt \n",
    "%matplotlib inline\n",
    "#import mpl_toolkits # i'd like basemap but doesn't seem to be available for py3\n",
    "# Seaborn for plotting and styling\n",
    "import seaborn as sns"
   ]
  },
  {
   "cell_type": "markdown",
   "metadata": {},
   "source": [
    "Open connection to monthly temperature netCDF file."
   ]
  },
  {
   "cell_type": "code",
   "execution_count": 2,
   "metadata": {
    "ExecuteTime": {
     "end_time": "2018-06-07T02:48:22.551609Z",
     "start_time": "2018-06-07T02:48:22.530017Z"
    }
   },
   "outputs": [
    {
     "ename": "IOError",
     "evalue": "No such file or directory",
     "output_type": "error",
     "traceback": [
      "\u001b[0;31m---------------------------------------------------------------------------\u001b[0m",
      "\u001b[0;31mIOError\u001b[0m                                   Traceback (most recent call last)",
      "\u001b[0;32m<ipython-input-2-2fe7b06b20d9>\u001b[0m in \u001b[0;36m<module>\u001b[0;34m()\u001b[0m\n\u001b[0;32m----> 1\u001b[0;31m \u001b[0mtemp_nc\u001b[0m \u001b[0;34m=\u001b[0m \u001b[0mnc_open\u001b[0m\u001b[0;34m(\u001b[0m\u001b[0;34m\"./data/air.mon.mean.nc\"\u001b[0m\u001b[0;34m)\u001b[0m\u001b[0;34m\u001b[0m\u001b[0m\n\u001b[0m",
      "\u001b[0;32mnetCDF4/_netCDF4.pyx\u001b[0m in \u001b[0;36mnetCDF4._netCDF4.Dataset.__init__ (netCDF4/_netCDF4.c:13231)\u001b[0;34m()\u001b[0m\n",
      "\u001b[0;31mIOError\u001b[0m: No such file or directory"
     ]
    }
   ],
   "source": [
    "temp_nc = nc_open(\"./data/air.mon.mean.nc\")"
   ]
  },
  {
   "cell_type": "markdown",
   "metadata": {},
   "source": [
    "Print out summary of temperature NetCDF file. It looks like x/lon = 144, y/lat = 73, and 843 months."
   ]
  },
  {
   "cell_type": "code",
   "execution_count": null,
   "metadata": {
    "ExecuteTime": {
     "end_time": "2018-06-07T02:48:25.644060Z",
     "start_time": "2018-06-07T02:48:25.630809Z"
    }
   },
   "outputs": [],
   "source": [
    "print(temp_nc)\n",
    "# print out details of each variable\n",
    "for v in temp_nc.variables:\n",
    "    print(temp_nc.variables[v])"
   ]
  },
  {
   "cell_type": "markdown",
   "metadata": {},
   "source": [
    "### Extracting Grid Locations of Temperature Grid\n",
    "\n",
    "I'm going to see if I can output the grid locations and plot it."
   ]
  },
  {
   "cell_type": "code",
   "execution_count": null,
   "metadata": {
    "ExecuteTime": {
     "end_time": "2018-06-07T02:48:31.107057Z",
     "start_time": "2018-06-07T02:48:31.034482Z"
    }
   },
   "outputs": [],
   "source": [
    "# extract latitude\n",
    "lat = temp_nc.variables['lat'][:]\n",
    "# extract longitude\n",
    "lon = temp_nc.variables['lon'][:]\n",
    "# extract time\n",
    "time = temp_nc.variables['time'][:]\n",
    "# 1st temperature values\n",
    "temp = temp_nc.variables['air'][1,:,:]\n",
    "# check dimension of shape\n",
    "np.shape(temp)"
   ]
  },
  {
   "cell_type": "markdown",
   "metadata": {},
   "source": [
    "Print out min, mean, max of temperature vector."
   ]
  },
  {
   "cell_type": "code",
   "execution_count": null,
   "metadata": {
    "ExecuteTime": {
     "end_time": "2018-06-07T02:48:33.416703Z",
     "start_time": "2018-06-07T02:48:33.402298Z"
    }
   },
   "outputs": [],
   "source": [
    "print(np.min(temp), np.mean(temp), np.max(temp))"
   ]
  },
  {
   "cell_type": "markdown",
   "metadata": {},
   "source": [
    "Using Seaborn to print out a heatmap the first matrix of temperature. I notice the outline of the continents based on the temperature. You can see the Rocky mountains and the Andes mountains running down the left side of the Americas. The Poles are much colder. The Australian outback looks hot too."
   ]
  },
  {
   "cell_type": "code",
   "execution_count": null,
   "metadata": {
    "ExecuteTime": {
     "end_time": "2018-06-07T02:48:36.336532Z",
     "start_time": "2018-06-07T02:48:35.690391Z"
    }
   },
   "outputs": [],
   "source": [
    "sns.heatmap(temp)"
   ]
  },
  {
   "cell_type": "markdown",
   "metadata": {},
   "source": [
    "I want to subset the array to the spatial extent of the continental United States.  The longitude bounds should be  -124.848974 to -66.885444. I will need to add 180 degrees to these degrees west to match the convert from degrees east of the nc file. The latitude bounds should be 24.396308 to 49.384358."
   ]
  },
  {
   "cell_type": "code",
   "execution_count": null,
   "metadata": {
    "ExecuteTime": {
     "end_time": "2018-06-07T02:48:42.227676Z",
     "start_time": "2018-06-07T02:48:42.219392Z"
    }
   },
   "outputs": [],
   "source": [
    "# lat and lon bounds\n",
    "latbounds = [24.4, 49.4]\n",
    "# lon bounds need to be converted from easterling to westerling to get US\n",
    "lonbounds = [-124.8 + 360, -66.9 + 360]\n",
    "\n",
    "# latitude lower and upper bounds\n",
    "lat_ui = np.argmin(np.abs(lat - latbounds[0]))\n",
    "lat_li = np.argmin(np.abs(lat - latbounds[1]))\n",
    "\n",
    "# longitude lower and upper boudns\n",
    "lon_li = np.argmin(np.abs(lon - lonbounds[0]))\n",
    "lon_ui = np.argmin(np.abs(lon - lonbounds[1]))\n",
    "# print index\n",
    "print(lat_li, lat_ui, lon_li, lon_ui)"
   ]
  },
  {
   "cell_type": "markdown",
   "metadata": {},
   "source": [
    "Subset latitude and longitude grid points."
   ]
  },
  {
   "cell_type": "code",
   "execution_count": null,
   "metadata": {
    "ExecuteTime": {
     "end_time": "2018-06-07T02:49:06.194201Z",
     "start_time": "2018-06-07T02:49:06.182695Z"
    }
   },
   "outputs": [],
   "source": [
    "# subset us lon\n",
    "lon_us = lon[lon_li:lon_ui]-360\n",
    "# subset us lat\n",
    "lat_us = lat[lat_li:lat_ui]\n",
    "# print dimensions\n",
    "print(np.min(lon_us), np.max(lon_us), np.min(lat_us), np.max(lat_us))"
   ]
  },
  {
   "cell_type": "markdown",
   "metadata": {},
   "source": [
    "Print points over US."
   ]
  },
  {
   "cell_type": "code",
   "execution_count": null,
   "metadata": {
    "ExecuteTime": {
     "end_time": "2018-06-07T02:49:09.033068Z",
     "start_time": "2018-06-07T02:49:08.849958Z"
    }
   },
   "outputs": [],
   "source": [
    "# extract lonlat grid\n",
    "lons, lats = np.meshgrid(lon_us, lat_us)\n",
    "# plot\n",
    "plt.plot(lons, lats, marker='.', color='k', linestyle='none')\n",
    "plt.show()"
   ]
  },
  {
   "cell_type": "code",
   "execution_count": null,
   "metadata": {
    "ExecuteTime": {
     "end_time": "2018-06-07T02:49:18.430936Z",
     "start_time": "2018-06-07T02:49:18.423798Z"
    }
   },
   "outputs": [],
   "source": [
    "# subset temp to us\n",
    "temp_us = temp_nc.variables['air'][1, lat_li:lat_ui, lon_li:lon_ui]\n",
    "np.shape(temp_us)"
   ]
  },
  {
   "cell_type": "markdown",
   "metadata": {},
   "source": [
    "Plot heatmap of US temperature to make sure subset looks right."
   ]
  },
  {
   "cell_type": "code",
   "execution_count": null,
   "metadata": {
    "ExecuteTime": {
     "end_time": "2018-06-07T02:49:23.494625Z",
     "start_time": "2018-06-07T02:49:23.104823Z"
    }
   },
   "outputs": [],
   "source": [
    "sns.heatmap(temp_us)"
   ]
  },
  {
   "cell_type": "markdown",
   "metadata": {},
   "source": [
    "Attempt to extract lat-lon grid."
   ]
  },
  {
   "cell_type": "code",
   "execution_count": null,
   "metadata": {
    "ExecuteTime": {
     "end_time": "2018-06-07T02:49:26.568318Z",
     "start_time": "2018-06-07T02:49:26.562076Z"
    }
   },
   "outputs": [],
   "source": [
    "# coordinates to a 2 dimension array\n",
    "us_grid = np.array(np.meshgrid(lon_us, lat_us)).reshape(2, 230).T\n",
    "# check dimensions\n",
    "np.shape(us_grid)"
   ]
  },
  {
   "cell_type": "code",
   "execution_count": null,
   "metadata": {
    "ExecuteTime": {
     "end_time": "2018-06-07T02:49:29.556679Z",
     "start_time": "2018-06-07T02:49:29.154751Z"
    }
   },
   "outputs": [],
   "source": [
    "# extract temp grid as a 230 by n matrix\n",
    "us_temp = np.array(temp_nc.variables['air']\n",
    "    [:, lat_li:lat_ui, lon_li:lon_ui]).reshape(843,230).T #.T is for transpose\n",
    "np.shape(us_temp)"
   ]
  },
  {
   "cell_type": "markdown",
   "metadata": {},
   "source": [
    "Creating data frame of us temp and coordinates using pandas. I'm going to create a sequential numeric vector to indicate grid cell id."
   ]
  },
  {
   "cell_type": "code",
   "execution_count": null,
   "metadata": {
    "ExecuteTime": {
     "end_time": "2018-06-07T02:49:33.437575Z",
     "start_time": "2018-06-07T02:49:33.419485Z"
    }
   },
   "outputs": [],
   "source": [
    "# create grid id 1 to 230 and save as type string\n",
    "grid_id = pd.DataFrame(data = np.arange(1, 231, 1).T).astype('str')\n",
    "grid_id.columns = ['grid_id'] \n",
    "# head and tail\n",
    "print(grid_id.head(), grid_id.tail())"
   ]
  },
  {
   "cell_type": "markdown",
   "metadata": {},
   "source": [
    "Binding/concatenating grid id variable with lon and lat coordinates."
   ]
  },
  {
   "cell_type": "code",
   "execution_count": null,
   "metadata": {
    "ExecuteTime": {
     "end_time": "2018-06-07T02:54:50.520414Z",
     "start_time": "2018-06-07T02:54:50.507989Z"
    }
   },
   "outputs": [],
   "source": [
    "# create grid dataframe from coordinate array\n",
    "grid_df = pd.DataFrame(data = us_grid)\n",
    "# name columns\n",
    "grid_df.columns = ['lon', 'lat']\n",
    "# concat dataframes\n",
    "grid_df = pd.concat([grid_id, grid_df], axis=1)\n",
    "# view first rows\n",
    "grid_df.head()\n",
    "# write grid coords\n",
    "#grid_df.to_csv('./data/temp_grid.csv')"
   ]
  },
  {
   "cell_type": "markdown",
   "metadata": {},
   "source": [
    "Assigning year and month as column header for temperature values."
   ]
  },
  {
   "cell_type": "code",
   "execution_count": null,
   "metadata": {
    "ExecuteTime": {
     "end_time": "2018-06-02T21:45:01.930245Z",
     "start_time": "2018-06-02T21:45:01.900504Z"
    }
   },
   "outputs": [],
   "source": [
    "from datetime import datetime\n",
    "# extract date times from nc file; define units\n",
    "date = nc.num2date(time, 'hours since 1800-01-01 00:00:0.0')\n",
    "# ts\n",
    "ts = pd.Series(date, index = date)\n",
    "# view first couple observations\n",
    "ts.head()"
   ]
  },
  {
   "cell_type": "markdown",
   "metadata": {},
   "source": [
    "Convert temperature array to dataframe."
   ]
  },
  {
   "cell_type": "code",
   "execution_count": null,
   "metadata": {
    "ExecuteTime": {
     "end_time": "2018-06-02T21:45:04.170056Z",
     "start_time": "2018-06-02T21:45:04.125462Z"
    }
   },
   "outputs": [],
   "source": [
    "# array to dataframe\n",
    "temp_df = pd.DataFrame(data = us_temp)\n",
    "# dim of temp dataframe\n",
    "print(temp_df.shape)\n",
    "# add name\n",
    "temp_df.columns = ts.dt.date\n",
    "temp_df.head()"
   ]
  },
  {
   "cell_type": "markdown",
   "metadata": {},
   "source": [
    "Bind temperature values to coordinate and grid id and then melt/gather columns to row."
   ]
  },
  {
   "cell_type": "code",
   "execution_count": null,
   "metadata": {
    "ExecuteTime": {
     "end_time": "2018-06-02T21:45:10.222746Z",
     "start_time": "2018-06-02T21:45:10.188980Z"
    }
   },
   "outputs": [],
   "source": [
    "# concat grid id and temp\n",
    "temp_wide_df = pd.concat([grid_df, temp_df], axis = 1)\n",
    "temp_wide_df.head()"
   ]
  },
  {
   "cell_type": "code",
   "execution_count": null,
   "metadata": {
    "ExecuteTime": {
     "end_time": "2018-06-02T21:45:13.349737Z",
     "start_time": "2018-06-02T21:45:13.291885Z"
    }
   },
   "outputs": [],
   "source": [
    "# wide to long\n",
    "temp_long_df = pd.melt(temp_wide_df, id_vars = ['grid_id', 'lon', 'lat'],\n",
    "                      var_name = \"date\", value_name = \"temp_c\")\n",
    "# view head of final row-wise dataset\n",
    "temp_long_df.head()"
   ]
  },
  {
   "cell_type": "code",
   "execution_count": null,
   "metadata": {
    "ExecuteTime": {
     "end_time": "2018-06-02T21:48:46.873132Z",
     "start_time": "2018-06-02T21:48:46.818705Z"
    }
   },
   "outputs": [],
   "source": [
    "# describe dataframe\n",
    "temp_long_df.describe()"
   ]
  },
  {
   "cell_type": "code",
   "execution_count": null,
   "metadata": {
    "ExecuteTime": {
     "end_time": "2018-06-02T21:55:26.469631Z",
     "start_time": "2018-06-02T21:55:26.339972Z"
    }
   },
   "outputs": [],
   "source": [
    "# print min and max date\n",
    "print(temp_long_df['date'].min(), temp_long_df['date'].max())"
   ]
  }
 ],
 "metadata": {
  "kernelspec": {
   "display_name": "Python 2",
   "language": "python",
   "name": "python2"
  },
  "language_info": {
   "codemirror_mode": {
    "name": "ipython",
    "version": 2
   },
   "file_extension": ".py",
   "mimetype": "text/x-python",
   "name": "python",
   "nbconvert_exporter": "python",
   "pygments_lexer": "ipython2",
   "version": "2.7.15"
  },
  "latex_envs": {
   "LaTeX_envs_menu_present": true,
   "autoclose": false,
   "autocomplete": true,
   "bibliofile": "biblio.bib",
   "cite_by": "apalike",
   "current_citInitial": 1,
   "eqLabelWithNumbers": true,
   "eqNumInitial": 1,
   "hotkeys": {
    "equation": "Ctrl-E",
    "itemize": "Ctrl-I"
   },
   "labels_anchors": false,
   "latex_user_defs": false,
   "report_style_numbering": false,
   "user_envs_cfg": false
  },
  "varInspector": {
   "cols": {
    "lenName": 16,
    "lenType": 16,
    "lenVar": 40
   },
   "kernels_config": {
    "python": {
     "delete_cmd_postfix": "",
     "delete_cmd_prefix": "del ",
     "library": "var_list.py",
     "varRefreshCmd": "print(var_dic_list())"
    },
    "r": {
     "delete_cmd_postfix": ") ",
     "delete_cmd_prefix": "rm(",
     "library": "var_list.r",
     "varRefreshCmd": "cat(var_dic_list()) "
    }
   },
   "types_to_exclude": [
    "module",
    "function",
    "builtin_function_or_method",
    "instance",
    "_Feature"
   ],
   "window_display": false
  }
 },
 "nbformat": 4,
 "nbformat_minor": 2
}
